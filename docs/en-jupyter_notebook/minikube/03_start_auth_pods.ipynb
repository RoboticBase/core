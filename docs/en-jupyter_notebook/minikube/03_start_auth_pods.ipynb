{
 "cells": [
  {
   "cell_type": "markdown",
   "metadata": {},
   "source": [
    "# 3 start auth pods on minikube"
   ]
  },
  {
   "cell_type": "markdown",
   "metadata": {},
   "source": [
    "change ${PJ_ROOT} to your directory."
   ]
  },
  {
   "cell_type": "code",
   "execution_count": null,
   "metadata": {},
   "outputs": [],
   "source": [
    "export PJ_ROOT=\"${HOME}/core\"\n",
    "cd ${PJ_ROOT};pwd"
   ]
  },
  {
   "cell_type": "markdown",
   "metadata": {},
   "source": [
    "example)\n",
    "```\n",
    "/Users/user/core\n",
    "```"
   ]
  },
  {
   "cell_type": "markdown",
   "metadata": {},
   "source": [
    "## load environment variables"
   ]
  },
  {
   "cell_type": "code",
   "execution_count": null,
   "metadata": {},
   "outputs": [],
   "source": [
    "source ${PJ_ROOT}/docs/environments/minikube/env"
   ]
  },
  {
   "cell_type": "markdown",
   "metadata": {},
   "source": [
    "## start authorization & authentication service on minikube"
   ]
  },
  {
   "cell_type": "markdown",
   "metadata": {},
   "source": [
    "### create `secrets/auth-tokens.json`"
   ]
  },
  {
   "cell_type": "markdown",
   "metadata": {},
   "source": [
    "example)\n",
    "```json\n",
    "[\n",
    "    {\n",
    "        \"host\": \".*\",\n",
    "        \"settings\": {\n",
    "            \"bearer_tokens\": [\n",
    "                {\n",
    "                    \"token\": \"1IqNHfjQsD84mPHvciATObXM3ozfHmX1\",\n",
    "                    \"allowed_paths\": [\"^/orion/.*$\", \"^/idas/.*$\", \"^/comet/.*$\"]\n",
    "                }\n",
    "            ],\n",
    "            \"basic_auths\": [],\n",
    "            \"no_auths\": {\n",
    "                \"allowed_paths\": []\n",
    "            }\n",
    "        }\n",
    "    }\n",
    "]\n",
    "```"
   ]
  },
  {
   "cell_type": "markdown",
   "metadata": {},
   "source": [
    "#### for macOS"
   ]
  },
  {
   "cell_type": "code",
   "execution_count": null,
   "metadata": {},
   "outputs": [],
   "source": [
    "cat << __EOS__ > secrets/auth-tokens.json\n",
    "[\n",
    "    {\n",
    "        \"host\": \".*\",\n",
    "        \"settings\": {\n",
    "            \"bearer_tokens\": [\n",
    "                {\n",
    "                    \"token\": \"$(cat /dev/urandom | LC_CTYPE=C tr -dc 'a-zA-Z0-9' | head -c 32)\",\n",
    "                    \"allowed_paths\": [\"^/orion/.*$\", \"^/idas/.*$\", \"^/comet/.*$\"]\n",
    "                }\n",
    "            ],\n",
    "            \"basic_auths\": [],\n",
    "            \"no_auths\": {\n",
    "                \"allowed_paths\": []\n",
    "            }\n",
    "        }\n",
    "    }\n",
    "]\n",
    "__EOS__"
   ]
  },
  {
   "cell_type": "markdown",
   "metadata": {},
   "source": [
    "#### for Ubuntu"
   ]
  },
  {
   "cell_type": "code",
   "execution_count": null,
   "metadata": {},
   "outputs": [],
   "source": [
    "cat << __EOS__ > secrets/auth-tokens.json\n",
    "[\n",
    "    {\n",
    "        \"host\": \".*\",\n",
    "        \"settings\": {\n",
    "            \"bearer_tokens\": [\n",
    "                {\n",
    "                    \"token\": \"$(cat /dev/urandom 2>/dev/null | head -n 40 | tr -cd 'a-zA-Z0-9' | head -c 32)\",\n",
    "                    \"allowed_paths\": [\"^/orion/.*$\", \"^/idas/.*$\", \"^/comet/.*$\"]\n",
    "                }\n",
    "            ],\n",
    "            \"basic_auths\": [],\n",
    "            \"no_auths\": {\n",
    "                \"allowed_paths\": []\n",
    "            }\n",
    "        }\n",
    "    }\n",
    "]\n",
    "__EOS__"
   ]
  },
  {
   "cell_type": "markdown",
   "metadata": {},
   "source": [
    "### register auth-tokens to kubernetes secrets"
   ]
  },
  {
   "cell_type": "code",
   "execution_count": null,
   "metadata": {},
   "outputs": [],
   "source": [
    "kubectl create secret generic auth-tokens --from-file=./secrets/auth-tokens.json"
   ]
  },
  {
   "cell_type": "markdown",
   "metadata": {},
   "source": [
    "### start auth service"
   ]
  },
  {
   "cell_type": "code",
   "execution_count": null,
   "metadata": {},
   "outputs": [],
   "source": [
    "kubectl apply -f auth/auth-service.yaml"
   ]
  },
  {
   "cell_type": "code",
   "execution_count": null,
   "metadata": {},
   "outputs": [],
   "source": [
    "kubectl apply -f auth/auth-deployment.yaml"
   ]
  },
  {
   "cell_type": "code",
   "execution_count": null,
   "metadata": {
    "scrolled": true
   },
   "outputs": [],
   "source": [
    "kubectl get pods -l app=auth"
   ]
  },
  {
   "cell_type": "markdown",
   "metadata": {},
   "source": [
    "example)\n",
    "```\n",
    "NAME                    READY   STATUS    RESTARTS   AGE\n",
    "auth-67ff6bd94b-7sxt2   1/1     Running   0          15s\n",
    "auth-67ff6bd94b-98svn   1/1     Running   0          15s\n",
    "auth-67ff6bd94b-xrfpz   1/1     Running   0          15s\n",
    "```"
   ]
  },
  {
   "cell_type": "code",
   "execution_count": null,
   "metadata": {},
   "outputs": [],
   "source": [
    "kubectl get services -l app=auth"
   ]
  },
  {
   "cell_type": "markdown",
   "metadata": {},
   "source": [
    "example)\n",
    "```\n",
    "NAME   TYPE        CLUSTER-IP      EXTERNAL-IP   PORT(S)    AGE\n",
    "auth   ClusterIP   10.99.182.149   <none>        3000/TCP   41s\n",
    "```"
   ]
  }
 ],
 "metadata": {
  "kernelspec": {
   "display_name": "Bash",
   "language": "bash",
   "name": "bash"
  },
  "language_info": {
   "codemirror_mode": "shell",
   "file_extension": ".sh",
   "mimetype": "text/x-sh",
   "name": "bash"
  }
 },
 "nbformat": 4,
 "nbformat_minor": 2
}
