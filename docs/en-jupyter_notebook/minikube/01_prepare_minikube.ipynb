{
 "cells": [
  {
   "cell_type": "markdown",
   "metadata": {},
   "source": [
    "# 1 perpare minikube"
   ]
  },
  {
   "cell_type": "markdown",
   "metadata": {},
   "source": [
    "## load environment variables"
   ]
  },
  {
   "cell_type": "markdown",
   "metadata": {},
   "source": [
    "change ${PJ_ROOT} to your directory."
   ]
  },
  {
   "cell_type": "code",
   "execution_count": null,
   "metadata": {},
   "outputs": [],
   "source": [
    "export PJ_ROOT=\"${HOME}/core\"\n",
    "cd ${PJ_ROOT};pwd"
   ]
  },
  {
   "cell_type": "markdown",
   "metadata": {},
   "source": [
    "example)\n",
    "```\n",
    "/Users/user/core\n",
    "```"
   ]
  },
  {
   "cell_type": "code",
   "execution_count": null,
   "metadata": {
    "scrolled": true
   },
   "outputs": [],
   "source": [
    "source ${PJ_ROOT}/docs/environments/minikube/env"
   ]
  },
  {
   "cell_type": "markdown",
   "metadata": {},
   "source": [
    "## start minikube"
   ]
  },
  {
   "cell_type": "code",
   "execution_count": null,
   "metadata": {},
   "outputs": [],
   "source": [
    "export CPU_CORE_NUM=\"4\"\n",
    "export MEMORY_MB=8192\n",
    "export K8S_VERSION=\"v1.14.1\"\n",
    "minikube start --cpus ${CPU_CORE_NUM} --memory ${MEMORY_MB} --kubernetes-version ${K8S_VERSION} --bootstrapper=kubeadm --extra-config=kubelet.authentication-token-webhook=true --extra-config=kubelet.authorization-mode=Webhook --extra-config=scheduler.address=0.0.0.0 --extra-config=controller-manager.address=0.0.0.0 --profile ${MINIKUBE_NAME}"
   ]
  },
  {
   "cell_type": "markdown",
   "metadata": {},
   "source": [
    "expected)\n",
    "```\n",
    "😄  minikube v1.0.0 on darwin (amd64)\n",
    "🤹  Downloading Kubernetes v1.14.1 images in the background ...\n",
    "🔥  Creating virtualbox VM (CPUs=4, Memory=8192MB, Disk=20000MB) ...\n",
    "💿  Downloading Minikube ISO ...\n",
    " 142.88 MB / 142.88 MB [============================================] 100.00% 0s\n",
    "📶  \"minikube\" IP address is 192.168.99.100\n",
    "🐳  Configuring Docker as the container runtime ...\n",
    "🐳  Version of container runtime is 18.06.2-ce\n",
    "⌛  Waiting for image downloads to complete ...\n",
    "✨  Preparing Kubernetes environment ...\n",
    "    ▪ kubelet.authentication-token-webhook=true\n",
    "    ▪ kubelet.authorization-mode=Webhook\n",
    "    ▪ scheduler.address=0.0.0.0\n",
    "    ▪ controller-manager.address=0.0.0.0\n",
    "🚜  Pulling images required by Kubernetes v1.14.1 ...\n",
    "🚀  Launching Kubernetes v1.14.1 using kubeadm ... \n",
    "⌛  Waiting for pods: apiserver proxy etcd scheduler controller dns\n",
    "🔑  Configuring cluster permissions ...\n",
    "🤔  Verifying component health .....\n",
    "💗  kubectl is now configured to use \"minikube\"\n",
    "🏄  Done! Thank you for using minikube!\n",
    "```"
   ]
  },
  {
   "cell_type": "markdown",
   "metadata": {},
   "source": [
    "## check network configuration of minikube"
   ]
  },
  {
   "cell_type": "markdown",
   "metadata": {},
   "source": [
    "#### for macOS"
   ]
  },
  {
   "cell_type": "code",
   "execution_count": null,
   "metadata": {},
   "outputs": [],
   "source": [
    "NWNAME=$(VBoxManage showvminfo ${MINIKUBE_NAME} | grep \"Host-only Interface\" | awk 'match($0, /vboxnet[0-9]+/){print substr($0,RSTART,RLENGTH)}');echo ${NWNAME}"
   ]
  },
  {
   "cell_type": "markdown",
   "metadata": {},
   "source": [
    "example)\n",
    "```\n",
    "vboxnet0\n",
    "```"
   ]
  },
  {
   "cell_type": "code",
   "execution_count": null,
   "metadata": {},
   "outputs": [],
   "source": [
    "export HOST_IPADDR=$(ifconfig ${NWNAME} | awk '/inet / {print $2}')\n",
    "sed -i '' -e \"s/<<HOST_IPADDR>>/${HOST_IPADDR}/\" ${PJ_ROOT}/docs/environments/minikube/env\n",
    "echo ${HOST_IPADDR}"
   ]
  },
  {
   "cell_type": "markdown",
   "metadata": {},
   "source": [
    "example)\n",
    "```\n",
    "192.168.99.1\n",
    "```"
   ]
  },
  {
   "cell_type": "code",
   "execution_count": null,
   "metadata": {},
   "outputs": [],
   "source": [
    "NETMASK_HEX=$(ifconfig ${NWNAME} | awk '/netmask / {print $4}')\n",
    "export NETMASK=$(echo \"${NETMASK_HEX:2}\" | perl -pe '$_ = unpack(\"B32\", pack(\"H*\", $_)); s/0+$//g; $_ = length')\n",
    "echo ${NETMASK}"
   ]
  },
  {
   "cell_type": "markdown",
   "metadata": {},
   "source": [
    "example)\n",
    "```\n",
    "24\n",
    "```"
   ]
  },
  {
   "cell_type": "markdown",
   "metadata": {},
   "source": [
    "#### for Ubuntu"
   ]
  },
  {
   "cell_type": "code",
   "execution_count": null,
   "metadata": {},
   "outputs": [],
   "source": [
    "NWNAME=$(VBoxManage showvminfo ${MINIKUBE_NAME} | grep \"Host-only Interface\" | awk 'match($0, /vboxnet[0-9]+/){print substr($0,RSTART,RLENGTH)}');echo ${NWNAME}"
   ]
  },
  {
   "cell_type": "markdown",
   "metadata": {},
   "source": [
    "example)\n",
    "```\n",
    "vboxnet0\n",
    "```"
   ]
  },
  {
   "cell_type": "code",
   "execution_count": null,
   "metadata": {},
   "outputs": [],
   "source": [
    "export HOST_IPADDR=$(ifconfig ${NWNAME}  | awk '/inet / {print $2}' | cut -d: -f2)\n",
    "sed -i -e \"s/<<HOST_IPADDR>>/${HOST_IPADDR}/\" ${PJ_ROOT}/docs/environments/minikube/env\n",
    "echo ${HOST_IPADDR}"
   ]
  },
  {
   "cell_type": "markdown",
   "metadata": {},
   "source": [
    "example)\n",
    "```\n",
    "192.168.99.1\n",
    "```"
   ]
  },
  {
   "cell_type": "code",
   "execution_count": null,
   "metadata": {},
   "outputs": [],
   "source": [
    "NETMASK_IP=$(ifconfig ${NWNAME} | awk '/Mask/ {print $4}' | cut -d: -f2)\n",
    "export NETMASK=$(ipcalc ${HOST_IPADDR} ${NETMASK_IP} | awk '/Netmask: / {print $4}')\n",
    "echo ${NETMASK}"
   ]
  },
  {
   "cell_type": "markdown",
   "metadata": {},
   "source": [
    "example)\n",
    "```\n",
    "24\n",
    "```"
   ]
  },
  {
   "cell_type": "markdown",
   "metadata": {},
   "source": [
    "## edit configuration of minikube"
   ]
  },
  {
   "cell_type": "markdown",
   "metadata": {},
   "source": [
    "Edit `InsecureRegistry` of minikube in order to access local registory."
   ]
  },
  {
   "cell_type": "code",
   "execution_count": null,
   "metadata": {},
   "outputs": [],
   "source": [
    "if [ -f ${HOME}/.minikube/machines/${MINIKUBE_NAME}/config.json.org ]; then cp ${HOME}/.minikube/machines/${MINIKUBE_NAME}/config.json.org ${HOME}/.minikube/machines/${MINIKUBE_NAME}/config.json; else cp ${HOME}/.minikube/machines/${MINIKUBE_NAME}/config.json ${HOME}/.minikube/machines/${MINIKUBE_NAME}/config.json.org; fi\n",
    "cat ${HOME}/.minikube/machines/${MINIKUBE_NAME}/config.json | perl -pse 's/\"InsecureRegistry\": \\[/\"InsecureRegistry\": [\\n                \"$h\\/$m\",/g;' -- -h=${HOST_IPADDR} -m=${NETMASK} > /tmp/config.json\n",
    "mv /tmp/config.json ${HOME}/.minikube/machines/${MINIKUBE_NAME}/config.json\n",
    "diff -u ${HOME}/.minikube/machines/${MINIKUBE_NAME}/config.json.org ${HOME}/.minikube/machines/${MINIKUBE_NAME}/config.json"
   ]
  },
  {
   "cell_type": "markdown",
   "metadata": {},
   "source": [
    "example)\n",
    "```diff\n",
    "--- /Users/nmatsui/.minikube/machines/${MINIKUBE_NAME}/config.json.org\t2018-07-23 11:26:27.000000000 +0900\n",
    "+++ /Users/nmatsui/.minikube/machines/${MINIKUBE_NAME}/config.json\t2018-07-23 11:35:25.000000000 +0900\n",
    "@@ -41,6 +41,7 @@\n",
    "             \"Env\": null,\n",
    "             \"Ipv6\": false,\n",
    "             \"InsecureRegistry\": [\n",
    "+                \"192.168.99.1/24\",\n",
    "                 \"10.96.0.0/12\"\n",
    "             ],\n",
    "             \"Labels\": null,\n",
    "             ```"
   ]
  },
  {
   "cell_type": "markdown",
   "metadata": {},
   "source": [
    "## restart minikube"
   ]
  },
  {
   "cell_type": "code",
   "execution_count": null,
   "metadata": {
    "scrolled": false
   },
   "outputs": [],
   "source": [
    "minikube stop --profile ${MINIKUBE_NAME}\n",
    "minikube start --cpus ${CPU_CORE_NUM} --memory ${MEMORY_MB} --kubernetes-version ${K8S_VERSION} --bootstrapper=kubeadm --extra-config=kubelet.authentication-token-webhook=true --extra-config=kubelet.authorization-mode=Webhook --extra-config=scheduler.address=0.0.0.0 --extra-config=controller-manager.address=0.0.0.0 --profile ${MINIKUBE_NAME}"
   ]
  },
  {
   "cell_type": "markdown",
   "metadata": {},
   "source": [
    "example)\n",
    "```\n",
    "✋  Stopping \"minikube\" in virtualbox ...\n",
    "🛑  \"minikube\" stopped.\n",
    "😄  minikube v1.0.0 on darwin (amd64)\n",
    "🤹  Downloading Kubernetes v1.14.1 images in the background ...\n",
    "💡  Tip: Use 'minikube start -p <name>' to create a new cluster, or 'minikube delete' to delete this one.\n",
    "🔄  Restarting existing virtualbox VM for \"minikube\" ...\n",
    "⌛  Waiting for SSH access ...\n",
    "📶  \"minikube\" IP address is 192.168.99.100\n",
    "🐳  Configuring Docker as the container runtime ...\n",
    "🐳  Version of container runtime is 18.06.2-ce\n",
    "⌛  Waiting for image downloads to complete ...\n",
    "✨  Preparing Kubernetes environment ...\n",
    "    ▪ kubelet.authentication-token-webhook=true\n",
    "    ▪ kubelet.authorization-mode=Webhook\n",
    "    ▪ scheduler.address=0.0.0.0\n",
    "    ▪ controller-manager.address=0.0.0.0\n",
    "🚜  Pulling images required by Kubernetes v1.14.1 ...\n",
    "🔄  Relaunching Kubernetes v1.14.1 using kubeadm ... \n",
    "⌛  Waiting for pods: apiserver proxy etcd scheduler controller dns\n",
    "📯  Updating kube-proxy configuration ...\n",
    "🤔  Verifying component health ......\n",
    "💗  kubectl is now configured to use \"minikube\"\n",
    "🏄  Done! Thank you for using minikube!\n",
    "```"
   ]
  },
  {
   "cell_type": "markdown",
   "metadata": {},
   "source": [
    "### confirm nodes"
   ]
  },
  {
   "cell_type": "code",
   "execution_count": null,
   "metadata": {},
   "outputs": [],
   "source": [
    "kubectl get nodes"
   ]
  },
  {
   "cell_type": "markdown",
   "metadata": {},
   "source": [
    "example)\n",
    "```\n",
    "NAME       STATUS   ROLES    AGE    VERSION\n",
    "minikube   Ready    master   6m6s   v1.14.1\n",
    "```"
   ]
  },
  {
   "cell_type": "markdown",
   "metadata": {},
   "source": [
    "## start local registry on hostOS"
   ]
  },
  {
   "cell_type": "markdown",
   "metadata": {},
   "source": [
    "Edit `InsecureRegistry` of local docker daemon in order to accept minikube."
   ]
  },
  {
   "cell_type": "markdown",
   "metadata": {},
   "source": [
    "#### for macOS"
   ]
  },
  {
   "cell_type": "markdown",
   "metadata": {},
   "source": [
    "**Docker for mac > Preference > Daemon > Advanced**\n",
    "\n",
    "```diff\n",
    "diff -u /tmp/docker-mac-configuration.json.org /tmp/docker-mac-configuration.json\n",
    "--- /tmp/docker-mac-configuration.json.org\t2018-05-15 09:41:37.000000000 +0900\n",
    "+++ /tmp/docker-mac-configuration.json\t2018-05-15 09:42:39.000000000 +0900\n",
    "@@ -1,4 +1,7 @@\n",
    " {\n",
    "   \"debug\" : true,\n",
    "-  \"experimental\" : true\n",
    "+  \"experimental\" : true,\n",
    "+  \"insecure-registries\" : [\n",
    "+    \"192.168.99.0/24\"\n",
    "+  ]\n",
    " }\n",
    "```"
   ]
  },
  {
   "cell_type": "markdown",
   "metadata": {},
   "source": [
    "#### for Ubuntu"
   ]
  },
  {
   "cell_type": "markdown",
   "metadata": {},
   "source": [
    "**edit /etc/docker/daemon.json**\n",
    "\n",
    "```cat\n",
    "sudo cat /etc/docker/daemon.json\n",
    "{ \"insecure-registries\":[\"192.168.99.0/24\"] }\n",
    "```"
   ]
  },
  {
   "cell_type": "code",
   "execution_count": null,
   "metadata": {},
   "outputs": [],
   "source": [
    "systemctl daemon-reload\n",
    "systemctl restart docker"
   ]
  },
  {
   "cell_type": "markdown",
   "metadata": {},
   "source": [
    "### start local registry"
   ]
  },
  {
   "cell_type": "markdown",
   "metadata": {},
   "source": [
    "#### for macOS"
   ]
  },
  {
   "cell_type": "code",
   "execution_count": null,
   "metadata": {},
   "outputs": [],
   "source": [
    "docker run --name registry -p 5000:5000 -d registry:2.7.1"
   ]
  },
  {
   "cell_type": "code",
   "execution_count": null,
   "metadata": {},
   "outputs": [],
   "source": [
    "export REPOSITORY=${HOST_IPADDR}:5000\n",
    "sed -i '' -e \"s/<<REPOSITORY>>/${REPOSITORY}/\" ${PJ_ROOT}/docs/environments/minikube/env\n",
    "echo ${REPOSITORY}"
   ]
  },
  {
   "cell_type": "markdown",
   "metadata": {},
   "source": [
    "#### for Ubuntu"
   ]
  },
  {
   "cell_type": "code",
   "execution_count": null,
   "metadata": {},
   "outputs": [],
   "source": [
    "docker run --name registry -p 5000:5000 -d registry:2.7.1"
   ]
  },
  {
   "cell_type": "code",
   "execution_count": null,
   "metadata": {},
   "outputs": [],
   "source": [
    "export REPOSITORY=${HOST_IPADDR}:5000\n",
    "sed -i -e \"s/<<REPOSITORY>>/${REPOSITORY}/\" ${PJ_ROOT}/docs/environments/minikube/env\n",
    "echo ${REPOSITORY}"
   ]
  },
  {
   "cell_type": "markdown",
   "metadata": {},
   "source": [
    "### setup rbac"
   ]
  },
  {
   "cell_type": "code",
   "execution_count": null,
   "metadata": {},
   "outputs": [],
   "source": [
    "kubectl apply -f rbac/tiller-rbac.yaml"
   ]
  },
  {
   "cell_type": "code",
   "execution_count": null,
   "metadata": {},
   "outputs": [],
   "source": [
    "kubectl get serviceaccounts -n kube-system | grep tiller"
   ]
  },
  {
   "cell_type": "markdown",
   "metadata": {},
   "source": [
    "expected)\n",
    "```\n",
    "tiller                               1         1m\n",
    "```"
   ]
  },
  {
   "cell_type": "code",
   "execution_count": null,
   "metadata": {},
   "outputs": [],
   "source": [
    "kubectl apply -f rbac/default-rbac.yaml"
   ]
  },
  {
   "cell_type": "code",
   "execution_count": null,
   "metadata": {},
   "outputs": [],
   "source": [
    "kubectl get clusterroles | grep default-read"
   ]
  },
  {
   "cell_type": "markdown",
   "metadata": {},
   "source": [
    "expected)\n",
    "```\n",
    "default-read                                                           1m\n",
    "```"
   ]
  },
  {
   "cell_type": "code",
   "execution_count": null,
   "metadata": {},
   "outputs": [],
   "source": [
    "kubectl get clusterrolebindings | grep default"
   ]
  },
  {
   "cell_type": "markdown",
   "metadata": {},
   "source": [
    "expected)\n",
    "```\n",
    "default                                                2m\n",
    "```"
   ]
  },
  {
   "cell_type": "markdown",
   "metadata": {},
   "source": [
    "## setup helm"
   ]
  },
  {
   "cell_type": "code",
   "execution_count": null,
   "metadata": {},
   "outputs": [],
   "source": [
    "helm version --client"
   ]
  },
  {
   "cell_type": "markdown",
   "metadata": {},
   "source": [
    "expected)\n",
    "```\n",
    "Client: &version.Version{SemVer:\"v2.13.1\", GitCommit:\"618447cbf203d147601b4b9bd7f8c37a5d39fbb4\", GitTreeState:\"clean\"}\n",
    "```"
   ]
  },
  {
   "cell_type": "code",
   "execution_count": null,
   "metadata": {},
   "outputs": [],
   "source": [
    "helm init --service-account tiller"
   ]
  },
  {
   "cell_type": "code",
   "execution_count": null,
   "metadata": {},
   "outputs": [],
   "source": [
    "helm repo update"
   ]
  },
  {
   "cell_type": "code",
   "execution_count": null,
   "metadata": {},
   "outputs": [],
   "source": [
    "kubectl get pods --all-namespaces | grep tiller"
   ]
  },
  {
   "cell_type": "markdown",
   "metadata": {},
   "source": [
    "expected)\n",
    "```\n",
    "kube-system   tiller-deploy-7ccf99cd64-gkn7t          1/1       Running   0          1m\n",
    "```"
   ]
  },
  {
   "cell_type": "code",
   "execution_count": null,
   "metadata": {},
   "outputs": [],
   "source": [
    "helm version"
   ]
  },
  {
   "cell_type": "markdown",
   "metadata": {},
   "source": [
    "expected)\n",
    "```\n",
    "Client: &version.Version{SemVer:\"v2.13.1\", GitCommit:\"618447cbf203d147601b4b9bd7f8c37a5d39fbb4\", GitTreeState:\"clean\"}\n",
    "Server: &version.Version{SemVer:\"v2.13.1\", GitCommit:\"618447cbf203d147601b4b9bd7f8c37a5d39fbb4\", GitTreeState:\"clean\"}\n",
    "```"
   ]
  }
 ],
 "metadata": {
  "kernelspec": {
   "display_name": "Bash",
   "language": "bash",
   "name": "bash"
  },
  "language_info": {
   "codemirror_mode": "shell",
   "file_extension": ".sh",
   "mimetype": "text/x-sh",
   "name": "bash"
  }
 },
 "nbformat": 4,
 "nbformat_minor": 2
}
