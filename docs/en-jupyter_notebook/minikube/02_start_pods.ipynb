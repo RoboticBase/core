{
 "cells": [
  {
   "cell_type": "markdown",
   "metadata": {},
   "source": [
    "# 2 start pods on minikube"
   ]
  },
  {
   "cell_type": "markdown",
   "metadata": {},
   "source": [
    "change ${PJ_ROOT} to your directory."
   ]
  },
  {
   "cell_type": "code",
   "execution_count": null,
   "metadata": {},
   "outputs": [],
   "source": [
    "export PJ_ROOT=\"${HOME}/core\"\n",
    "cd ${PJ_ROOT};pwd"
   ]
  },
  {
   "cell_type": "markdown",
   "metadata": {},
   "source": [
    "example)\n",
    "```\n",
    "/Users/user/core\n",
    "```"
   ]
  },
  {
   "cell_type": "markdown",
   "metadata": {},
   "source": [
    "## load environment variables"
   ]
  },
  {
   "cell_type": "code",
   "execution_count": null,
   "metadata": {},
   "outputs": [],
   "source": [
    "source ${PJ_ROOT}/docs/environments/minikube/env"
   ]
  },
  {
   "cell_type": "markdown",
   "metadata": {},
   "source": [
    "## start RabbitMQ cluster on minikube\n",
    "[rabbitmq](https://www.rabbitmq.com/)"
   ]
  },
  {
   "cell_type": "markdown",
   "metadata": {},
   "source": [
    "### start RabbitMQ"
   ]
  },
  {
   "cell_type": "code",
   "execution_count": null,
   "metadata": {},
   "outputs": [],
   "source": [
    "kubectl apply -f rabbitmq/rabbitmq-rbac.yaml"
   ]
  },
  {
   "cell_type": "code",
   "execution_count": null,
   "metadata": {},
   "outputs": [],
   "source": [
    "kubectl apply -f rabbitmq/rabbitmq-minikube-services.yaml"
   ]
  },
  {
   "cell_type": "code",
   "execution_count": null,
   "metadata": {},
   "outputs": [],
   "source": [
    "kubectl apply -f rabbitmq/rabbitmq-minikube-statefulset.yaml"
   ]
  },
  {
   "cell_type": "code",
   "execution_count": null,
   "metadata": {},
   "outputs": [],
   "source": [
    "kubectl get pods -l app=rabbitmq"
   ]
  },
  {
   "cell_type": "markdown",
   "metadata": {},
   "source": [
    "example)\n",
    "\n",
    "```\n",
    "NAME         READY     STATUS    RESTARTS   AGE\n",
    "rabbitmq-0   1/1       Running   0          6m\n",
    "rabbitmq-1   1/1       Running   0          5m\n",
    "rabbitmq-2   1/1       Running   0          4m\n",
    "```"
   ]
  },
  {
   "cell_type": "code",
   "execution_count": null,
   "metadata": {},
   "outputs": [],
   "source": [
    "kubectl exec rabbitmq-0 -- rabbitmqctl cluster_status"
   ]
  },
  {
   "cell_type": "markdown",
   "metadata": {},
   "source": [
    "example)\n",
    "```\n",
    "Cluster status of node rabbit@rabbitmq-0.rabbitmq.default.svc.cluster.local ...\n",
    "[{nodes,[{disc,['rabbit@rabbitmq-0.rabbitmq.default.svc.cluster.local',\n",
    "                'rabbit@rabbitmq-1.rabbitmq.default.svc.cluster.local',\n",
    "                'rabbit@rabbitmq-2.rabbitmq.default.svc.cluster.local']}]},\n",
    " {running_nodes,['rabbit@rabbitmq-2.rabbitmq.default.svc.cluster.local',\n",
    "                 'rabbit@rabbitmq-1.rabbitmq.default.svc.cluster.local',\n",
    "                 'rabbit@rabbitmq-0.rabbitmq.default.svc.cluster.local']},\n",
    " {cluster_name,<<\"rabbit@rabbitmq-0.rabbitmq.default.svc.cluster.local\">>},\n",
    " {partitions,[]},\n",
    " {alarms,[{'rabbit@rabbitmq-2.rabbitmq.default.svc.cluster.local',[]},\n",
    "          {'rabbit@rabbitmq-1.rabbitmq.default.svc.cluster.local',[]},\n",
    "          {'rabbit@rabbitmq-0.rabbitmq.default.svc.cluster.local',[]}]}]\n",
    "```"
   ]
  },
  {
   "cell_type": "markdown",
   "metadata": {},
   "source": [
    "### change password of `guest`"
   ]
  },
  {
   "cell_type": "markdown",
   "metadata": {},
   "source": [
    "#### for macOS"
   ]
  },
  {
   "cell_type": "code",
   "execution_count": null,
   "metadata": {},
   "outputs": [],
   "source": [
    "kubectl exec rabbitmq-0 -- rabbitmqctl change_password guest $(cat /dev/urandom | LC_CTYPE=C tr -dc 'a-zA-Z0-9' | head -c 32)"
   ]
  },
  {
   "cell_type": "markdown",
   "metadata": {},
   "source": [
    "#### for Ubuntu"
   ]
  },
  {
   "cell_type": "code",
   "execution_count": null,
   "metadata": {},
   "outputs": [],
   "source": [
    "kubectl exec rabbitmq-0 -- rabbitmqctl change_password guest $(cat /dev/urandom 2>/dev/null | head -n 40 | tr -cd 'a-zA-Z0-9' | head -c 32)"
   ]
  },
  {
   "cell_type": "markdown",
   "metadata": {},
   "source": [
    "### register users to RabbitMQ"
   ]
  },
  {
   "cell_type": "code",
   "execution_count": null,
   "metadata": {},
   "outputs": [],
   "source": [
    "for e in $(env); do\n",
    "  if [[ \"${e}\" =~ ^MQTT__([[:alnum:]_-]+)=([[:alnum:]_-]+)$ ]]; then\n",
    "    username=${BASH_REMATCH[1]}\n",
    "    password=${BASH_REMATCH[2]}\n",
    "    \n",
    "    kubectl exec rabbitmq-0 -- rabbitmqctl add_user ${username} ${password}\n",
    "    kubectl exec rabbitmq-0 -- rabbitmqctl set_permissions -p / ${username} \".*\" \".*\" \".*\"\n",
    "  fi\n",
    "done"
   ]
  },
  {
   "cell_type": "code",
   "execution_count": null,
   "metadata": {},
   "outputs": [],
   "source": [
    "kubectl exec rabbitmq-0 -- rabbitmqctl list_users"
   ]
  },
  {
   "cell_type": "markdown",
   "metadata": {},
   "source": [
    "example)\n",
    "```\n",
    "Listing users ...\n",
    "guest\t[administrator]\n",
    "iotagent\t[]\n",
    "```"
   ]
  },
  {
   "cell_type": "code",
   "execution_count": null,
   "metadata": {
    "scrolled": true
   },
   "outputs": [],
   "source": [
    "kubectl get services -l app=rabbitmq"
   ]
  },
  {
   "cell_type": "markdown",
   "metadata": {},
   "source": [
    "expected)\n",
    "```\n",
    "NAME            TYPE        CLUSTER-IP       EXTERNAL-IP   PORT(S)              AGE\n",
    "rabbitmq        ClusterIP   None             <none>        5672/TCP             4m\n",
    "rabbitmq-amqp   ClusterIP   10.107.253.173   <none>        15672/TCP,5672/TCP   4m\n",
    "rabbitmq-mqtt   NodePort    10.102.140.44    <none>        1883:31186/TCP       4m\n",
    "```"
   ]
  },
  {
   "cell_type": "markdown",
   "metadata": {},
   "source": [
    "### nat MQTT port "
   ]
  },
  {
   "cell_type": "code",
   "execution_count": null,
   "metadata": {},
   "outputs": [],
   "source": [
    "export MQTT_PORT=$(kubectl describe service rabbitmq-mqtt | grep \"NodePort:\" | awk '{print $3}' | awk -F'/' '{print $1}');echo ${MQTT_PORT}"
   ]
  },
  {
   "cell_type": "code",
   "execution_count": null,
   "metadata": {},
   "outputs": [],
   "source": [
    "VBoxManage controlvm \"${MINIKUBE_NAME}\" natpf1 \"mqtt,tcp,0.0.0.0,1883,,${MQTT_PORT}\"\n",
    "VBoxManage showvminfo \"${MINIKUBE_NAME}\"| grep ${MQTT_PORT}"
   ]
  },
  {
   "cell_type": "markdown",
   "metadata": {},
   "source": [
    "example)\n",
    "```\n",
    "NIC 1 Rule(0):   name = mqtt, protocol = tcp, host ip = 0.0.0.0, host port = 1883, guest ip = , guest port = 30382\n",
    "```"
   ]
  },
  {
   "cell_type": "markdown",
   "metadata": {},
   "source": [
    "### confirm to connect MQTT broker"
   ]
  },
  {
   "cell_type": "code",
   "execution_count": null,
   "metadata": {},
   "outputs": [],
   "source": [
    "mosquitto_pub -h ${HOST_IPADDR} -p 1883  -d -u iotagent -P ${MQTT__iotagent} -t /test -m \"test\""
   ]
  },
  {
   "cell_type": "markdown",
   "metadata": {},
   "source": [
    "example)\n",
    "```\n",
    "Client mosqpub|52150-Nobuyukin sending CONNECT\n",
    "Client mosqpub|52150-Nobuyukin received CONNACK\n",
    "Client mosqpub|52150-Nobuyukin sending PUBLISH (d0, q0, r0, m1, '/test', ... (4 bytes))\n",
    "Client mosqpub|52150-Nobuyukin sending DISCONNECT\n",
    "```"
   ]
  },
  {
   "cell_type": "markdown",
   "metadata": {},
   "source": [
    "## start mondodb cluster on minikube\n",
    "[mongodb](https://www.mongodb.com/)"
   ]
  },
  {
   "cell_type": "markdown",
   "metadata": {},
   "source": [
    "create 'mongodb' takes a few minutes."
   ]
  },
  {
   "cell_type": "code",
   "execution_count": null,
   "metadata": {},
   "outputs": [],
   "source": [
    "helm install --name mongodb -f mongodb/mongodb-replicaset-values-minikube.yaml stable/mongodb-replicaset"
   ]
  },
  {
   "cell_type": "code",
   "execution_count": null,
   "metadata": {},
   "outputs": [],
   "source": [
    "kubectl get statefulsets -l release=mongodb -l app=mongodb-replicaset"
   ]
  },
  {
   "cell_type": "markdown",
   "metadata": {},
   "source": [
    "example)\n",
    "```\n",
    "NAME      READY   AGE\n",
    "mongodb   3/3     106s\n",
    "```"
   ]
  },
  {
   "cell_type": "code",
   "execution_count": null,
   "metadata": {},
   "outputs": [],
   "source": [
    "kubectl get pods -l release=mongodb -l app=mongodb-replicaset"
   ]
  },
  {
   "cell_type": "markdown",
   "metadata": {},
   "source": [
    "example)\n",
    "```\n",
    "NAME        READY   STATUS    RESTARTS   AGE\n",
    "mongodb-0   1/1     Running   0          105s\n",
    "mongodb-1   1/1     Running   0          38s\n",
    "mongodb-2   1/1     Running   0          24s\n",
    "```"
   ]
  },
  {
   "cell_type": "code",
   "execution_count": null,
   "metadata": {},
   "outputs": [],
   "source": [
    "kubectl get services -l release=mongodb -l app=mongodb-replicaset"
   ]
  },
  {
   "cell_type": "markdown",
   "metadata": {},
   "source": [
    "example)\n",
    "```\n",
    "NAME             TYPE        CLUSTER-IP   EXTERNAL-IP   PORT(S)     AGE\n",
    "mongodb          ClusterIP   None         <none>        27017/TCP   2m21s\n",
    "mongodb-client   ClusterIP   None         <none>        27017/TCP   2m21s\n",
    "```"
   ]
  },
  {
   "cell_type": "code",
   "execution_count": null,
   "metadata": {},
   "outputs": [],
   "source": [
    "kubectl exec mongodb-0 -c mongodb-replicaset -- mongo --eval 'printjson(rs.status().members.map(function(e) {return {name: e.name, stateStr:e.stateStr};}))'"
   ]
  },
  {
   "cell_type": "markdown",
   "metadata": {},
   "source": [
    "expected)\n",
    "```\n",
    "MongoDB shell version v4.1.10\n",
    "connecting to: mongodb://127.0.0.1:27017/?compressors=disabled&gssapiServiceName=mongodb\n",
    "Implicit session: session { \"id\" : UUID(\"a896564f-0038-4621-8b26-e7e403e9c89c\") }\n",
    "MongoDB server version: 4.1.10\n",
    "[\n",
    "\t{\n",
    "\t\t\"name\" : \"mongodb-0.mongodb.default.svc.cluster.local:27017\",\n",
    "\t\t\"stateStr\" : \"PRIMARY\"\n",
    "\t},\n",
    "\t{\n",
    "\t\t\"name\" : \"mongodb-1.mongodb.default.svc.cluster.local:27017\",\n",
    "\t\t\"stateStr\" : \"SECONDARY\"\n",
    "\t},\n",
    "\t{\n",
    "\t\t\"name\" : \"mongodb-2.mongodb.default.svc.cluster.local:27017\",\n",
    "\t\t\"stateStr\" : \"SECONDARY\"\n",
    "\t}\n",
    "]\n",
    "```"
   ]
  },
  {
   "cell_type": "markdown",
   "metadata": {},
   "source": [
    "## start ambassador on minikube\n",
    "\n",
    "[ambassador](https://www.getambassador.io/)"
   ]
  },
  {
   "cell_type": "markdown",
   "metadata": {},
   "source": [
    "### start ambassador"
   ]
  },
  {
   "cell_type": "code",
   "execution_count": null,
   "metadata": {},
   "outputs": [],
   "source": [
    "kubectl apply -f ambassador/ambassador-minikube-service.yaml"
   ]
  },
  {
   "cell_type": "code",
   "execution_count": null,
   "metadata": {},
   "outputs": [],
   "source": [
    "kubectl apply -f ambassador/ambassador-deployment.yaml"
   ]
  },
  {
   "cell_type": "code",
   "execution_count": null,
   "metadata": {},
   "outputs": [],
   "source": [
    "kubectl get pods -l app=ambassador"
   ]
  },
  {
   "cell_type": "markdown",
   "metadata": {},
   "source": [
    "example)\n",
    "```\n",
    "NAME                         READY     STATUS    RESTARTS   AGE\n",
    "ambassador-cf99ff6bb-45jpl   2/2       Running   0          39s\n",
    "ambassador-cf99ff6bb-8kht7   2/2       Running   0          39s\n",
    "ambassador-cf99ff6bb-lv2tk   2/2       Running   0          39s\n",
    "```"
   ]
  },
  {
   "cell_type": "code",
   "execution_count": null,
   "metadata": {},
   "outputs": [],
   "source": [
    "kubectl get services -l app=ambassador"
   ]
  },
  {
   "cell_type": "markdown",
   "metadata": {},
   "source": [
    "example)\n",
    "```\n",
    "NAME         TYPE       CLUSTER-IP      EXTERNAL-IP   PORT(S)        AGE\n",
    "ambassador   NodePort   10.98.181.146   <none>        80:31807/TCP   1m\n",
    "```"
   ]
  },
  {
   "cell_type": "markdown",
   "metadata": {},
   "source": [
    "### nat HTTP port"
   ]
  },
  {
   "cell_type": "code",
   "execution_count": null,
   "metadata": {},
   "outputs": [],
   "source": [
    "HTTP_PORT=$(kubectl describe service ambassador | grep \"NodePort:\" | awk '{print $3}' | awk -F'/' '{print $1}');echo ${HTTP_PORT}"
   ]
  },
  {
   "cell_type": "code",
   "execution_count": null,
   "metadata": {},
   "outputs": [],
   "source": [
    "VBoxManage controlvm \"${MINIKUBE_NAME}\" natpf1 \"http,tcp,0.0.0.0,8080,,${HTTP_PORT}\"\n",
    "VBoxManage showvminfo \"${MINIKUBE_NAME}\" | grep ${HTTP_PORT}"
   ]
  },
  {
   "cell_type": "code",
   "execution_count": null,
   "metadata": {},
   "outputs": [],
   "source": [
    "curl -i http://${HOST_IPADDR}:8080"
   ]
  },
  {
   "cell_type": "markdown",
   "metadata": {},
   "source": [
    "expected)\n",
    "```\n",
    "HTTP/1.1 404 Not Found\n",
    "date: Fri, 25 May 2018 00:47:41 GMT\n",
    "server: envoy\n",
    "content-length: 0\n",
    "```"
   ]
  },
  {
   "cell_type": "markdown",
   "metadata": {},
   "source": [
    "## start authorization & authentication service on minikube"
   ]
  },
  {
   "cell_type": "markdown",
   "metadata": {},
   "source": [
    "### create `secrets/auth-tokens.json`"
   ]
  },
  {
   "cell_type": "markdown",
   "metadata": {},
   "source": [
    "example)\n",
    "```json\n",
    "[\n",
    "    {\n",
    "        \"host\": \".*\",\n",
    "        \"settings\": {\n",
    "            \"bearer_tokens\": [\n",
    "                {\n",
    "                    \"token\": \"1IqNHfjQsD84mPHvciATObXM3ozfHmX1\",\n",
    "                    \"allowed_paths\": [\"^/orion/.*$\", \"^/idas/.*$\"]\n",
    "                }, {\n",
    "                    \"token\": \"mgMVtijGi6JWX9HT2PFXkZ6xqSdOZVVd\",\n",
    "                    \"allowed_paths\": [\"^/visualizer/positions/$\"]\n",
    "                }\n",
    "            ],\n",
    "            \"basic_auths\": [\n",
    "                {\n",
    "                    \"username\": \"user1\",\n",
    "                    \"password\": \"NJRZ8HJrtfbkoeUt\",\n",
    "                    \"allowed_paths\": [\"/controller/web/\"]\n",
    "                }, {\n",
    "                    \"username\": \"visualizer\",\n",
    "                    \"password\": \"wvLZLJOjOBm7xsjr\",\n",
    "                    \"allowed_paths\": [\"/visualizer/locus/\"]\n",
    "                }\n",
    "            ],\n",
    "            \"no_auths\": {\n",
    "                \"allowed_paths\": [\"^.*/static/.*$\"]\n",
    "            }\n",
    "        }\n",
    "    }\n",
    "]\n",
    "```"
   ]
  },
  {
   "cell_type": "markdown",
   "metadata": {},
   "source": [
    "#### for macOS"
   ]
  },
  {
   "cell_type": "code",
   "execution_count": null,
   "metadata": {},
   "outputs": [],
   "source": [
    "cat << __EOS__ > secrets/auth-tokens.json\n",
    "[\n",
    "    {\n",
    "        \"host\": \".*\",\n",
    "        \"settings\": {\n",
    "            \"bearer_tokens\": [\n",
    "                {\n",
    "                    \"token\": \"$(cat /dev/urandom | LC_CTYPE=C tr -dc 'a-zA-Z0-9' | head -c 32)\",\n",
    "                    \"allowed_paths\": [\"^/orion/.*$\", \"^/idas/.*$\"]\n",
    "                }, {\n",
    "                    \"token\": \"$(cat /dev/urandom | LC_CTYPE=C tr -dc 'a-zA-Z0-9' | head -c 32)\",\n",
    "                    \"allowed_paths\": [\"^/visualizer/positions/$\"]\n",
    "                }\n",
    "            ],\n",
    "            \"basic_auths\": [\n",
    "                {\n",
    "                    \"username\": \"user1\",\n",
    "                    \"password\": \"$(cat /dev/urandom | LC_CTYPE=C tr -dc 'a-zA-Z0-9' | head -c 16)\",\n",
    "                    \"allowed_paths\": [\"/controller/web/\"]\n",
    "                }, {\n",
    "                    \"username\": \"visualizer\",\n",
    "                    \"password\": \"$(cat /dev/urandom | LC_CTYPE=C tr -dc 'a-zA-Z0-9' | head -c 16)\",\n",
    "                    \"allowed_paths\": [\"/visualizer/locus/\"]\n",
    "                }\n",
    "            ],\n",
    "            \"no_auths\": {\n",
    "                \"allowed_paths\": [\"^.*/static/.*$\"]\n",
    "            }\n",
    "        }\n",
    "    }\n",
    "]\n",
    "__EOS__"
   ]
  },
  {
   "cell_type": "markdown",
   "metadata": {},
   "source": [
    "#### for Ubuntu"
   ]
  },
  {
   "cell_type": "code",
   "execution_count": null,
   "metadata": {},
   "outputs": [],
   "source": [
    "cat << __EOS__ > secrets/auth-tokens.json\n",
    "[\n",
    "    {\n",
    "        \"host\": \".*\",\n",
    "        \"settings\": {\n",
    "            \"bearer_tokens\": [\n",
    "                {\n",
    "                    \"token\": \"$(cat /dev/urandom 2>/dev/null | head -n 40 | tr -cd 'a-zA-Z0-9' | head -c 32)\",\n",
    "                    \"allowed_paths\": [\"^/orion/.*$\", \"^/idas/.*$\"]\n",
    "                }, {\n",
    "                    \"token\": \"$(cat /dev/urandom 2>/dev/null | head -n 40 | tr -cd 'a-zA-Z0-9' | head -c 32)\",\n",
    "                    \"allowed_paths\": [\"^/visualizer/positions/$\"]\n",
    "                }\n",
    "            ],\n",
    "            \"basic_auths\": [\n",
    "                {\n",
    "                    \"username\": \"user1\",\n",
    "                    \"password\": \"$(cat /dev/urandom 2>/dev/null | head -n 40 | tr -cd 'a-zA-Z0-9' | head -c 16)\",\n",
    "                    \"allowed_paths\": [\"/controller/web/\"]\n",
    "                }, {\n",
    "                    \"username\": \"visualizer\",\n",
    "                    \"password\": \"$(cat /dev/urandom 2>/dev/null | head -n 40 | tr -cd 'a-zA-Z0-9' | head -c 16)\",\n",
    "                    \"allowed_paths\": [\"/visualizer/locus/\"]\n",
    "                }\n",
    "            ],\n",
    "            \"no_auths\": {\n",
    "                \"allowed_paths\": [\"^.*/static/.*$\"]\n",
    "            }\n",
    "        }\n",
    "    }\n",
    "]\n",
    "__EOS__"
   ]
  },
  {
   "cell_type": "markdown",
   "metadata": {},
   "source": [
    "### register auth-tokens to kubernetes secrets"
   ]
  },
  {
   "cell_type": "code",
   "execution_count": null,
   "metadata": {},
   "outputs": [],
   "source": [
    "kubectl create secret generic auth-tokens --from-file=./secrets/auth-tokens.json"
   ]
  },
  {
   "cell_type": "markdown",
   "metadata": {},
   "source": [
    "### start auth service"
   ]
  },
  {
   "cell_type": "code",
   "execution_count": null,
   "metadata": {},
   "outputs": [],
   "source": [
    "kubectl apply -f auth/auth-service.yaml"
   ]
  },
  {
   "cell_type": "code",
   "execution_count": null,
   "metadata": {},
   "outputs": [],
   "source": [
    "kubectl apply -f auth/auth-deployment.yaml"
   ]
  },
  {
   "cell_type": "code",
   "execution_count": null,
   "metadata": {
    "scrolled": true
   },
   "outputs": [],
   "source": [
    "kubectl get pods -l app=auth"
   ]
  },
  {
   "cell_type": "markdown",
   "metadata": {},
   "source": [
    "example)\n",
    "```\n",
    "NAME                    READY   STATUS    RESTARTS   AGE\n",
    "auth-67ff6bd94b-7sxt2   1/1     Running   0          15s\n",
    "auth-67ff6bd94b-98svn   1/1     Running   0          15s\n",
    "auth-67ff6bd94b-xrfpz   1/1     Running   0          15s\n",
    "```"
   ]
  },
  {
   "cell_type": "code",
   "execution_count": null,
   "metadata": {},
   "outputs": [],
   "source": [
    "kubectl get services -l app=auth"
   ]
  },
  {
   "cell_type": "markdown",
   "metadata": {},
   "source": [
    "example)\n",
    "```\n",
    "NAME   TYPE        CLUSTER-IP      EXTERNAL-IP   PORT(S)    AGE\n",
    "auth   ClusterIP   10.99.182.149   <none>        3000/TCP   41s\n",
    "```"
   ]
  },
  {
   "cell_type": "markdown",
   "metadata": {},
   "source": [
    "## start fiware orion on minikube\n",
    "[fiware orion](https://catalogue-server.fiware.org/enablers/publishsubscribe-context-broker-orion-context-broker)"
   ]
  },
  {
   "cell_type": "code",
   "execution_count": null,
   "metadata": {},
   "outputs": [],
   "source": [
    "kubectl apply -f orion/orion-minikube-service.yaml"
   ]
  },
  {
   "cell_type": "code",
   "execution_count": null,
   "metadata": {},
   "outputs": [],
   "source": [
    "kubectl apply -f orion/orion-deployment.yaml"
   ]
  },
  {
   "cell_type": "code",
   "execution_count": null,
   "metadata": {},
   "outputs": [],
   "source": [
    "kubectl get pods -l app=orion"
   ]
  },
  {
   "cell_type": "markdown",
   "metadata": {},
   "source": [
    "example)\n",
    "```\n",
    "NAME                     READY     STATUS    RESTARTS   AGE\n",
    "orion-54f5cdcb5d-d2pt5   1/1       Running   0          56s\n",
    "orion-54f5cdcb5d-hv274   1/1       Running   0          56s\n",
    "orion-54f5cdcb5d-xbnx2   1/1       Running   0          56s\n",
    "```"
   ]
  },
  {
   "cell_type": "code",
   "execution_count": null,
   "metadata": {},
   "outputs": [],
   "source": [
    "kubectl get services -l app=orion"
   ]
  },
  {
   "cell_type": "markdown",
   "metadata": {},
   "source": [
    "example)\n",
    "```\n",
    "NAME      TYPE        CLUSTER-IP    EXTERNAL-IP   PORT(S)    AGE\n",
    "orion     ClusterIP   10.0.44.126   <none>        1026/TCP   1m\n",
    "```"
   ]
  },
  {
   "cell_type": "code",
   "execution_count": null,
   "metadata": {},
   "outputs": [],
   "source": [
    "curl -i http://${HOST_IPADDR}:8080/orion/v2/entities/"
   ]
  },
  {
   "cell_type": "markdown",
   "metadata": {},
   "source": [
    "example)\n",
    "```\n",
    "HTTP/1.1 401 Unauthorized\n",
    "content-type: text/plain\n",
    "www-authenticate: Bearer realm=\"token_required\"\n",
    "content-length: 60\n",
    "date: Wed, 24 Apr 2019 04:49:06 GMT\n",
    "server: envoy\n",
    "\n",
    "{\"authorized\":false,\"error\":\"missing Header: authorization\"}\n",
    "```"
   ]
  },
  {
   "cell_type": "code",
   "execution_count": null,
   "metadata": {},
   "outputs": [],
   "source": [
    "TOKEN=$(cat ${PJ_ROOT}/secrets/auth-tokens.json | jq '.[0].settings.bearer_tokens[0].token' -r)\n",
    "curl -i -H \"Authorization: bearer ${TOKEN}\" http://${HOST_IPADDR}:8080/orion/v2/entities/"
   ]
  },
  {
   "cell_type": "markdown",
   "metadata": {},
   "source": [
    "example)\n",
    "```\n",
    "HTTP/1.1 200 OK\n",
    "content-length: 2\n",
    "content-type: application/json\n",
    "fiware-correlator: 6018211e-664c-11e9-b8f7-0242ac110013\n",
    "date: Wed, 24 Apr 2019 04:49:42 GMT\n",
    "x-envoy-upstream-service-time: 1\n",
    "server: envoy\n",
    "\n",
    "[]\n",
    "```"
   ]
  },
  {
   "cell_type": "markdown",
   "metadata": {},
   "source": [
    "**If you can't get 200 OK, please restart all ambassador's pods like \"ambassador-cf99ff6bb-45jpl\", \"ambassador-cf99ff6bb-8kht7\" and \"ambassador-cf99ff6bb-lv2tk\"**"
   ]
  },
  {
   "cell_type": "markdown",
   "metadata": {},
   "source": [
    "## start fiware idas(iotagent-ul) on minikube\n",
    "[fiware IDAS(iotagent-ul)](https://catalogue-server.fiware.org/enablers/backend-device-management-idas)"
   ]
  },
  {
   "cell_type": "markdown",
   "metadata": {},
   "source": [
    "### start idas"
   ]
  },
  {
   "cell_type": "code",
   "execution_count": null,
   "metadata": {},
   "outputs": [],
   "source": [
    "env IOTA_PASSWORD=${MQTT__iotagent} envsubst < idas/rb-config.js > /tmp/rb-config.js\n",
    "kubectl create secret generic iotagent-config --from-file /tmp/rb-config.js\n",
    "rm /tmp/rb-config.js"
   ]
  },
  {
   "cell_type": "code",
   "execution_count": null,
   "metadata": {},
   "outputs": [],
   "source": [
    "kubectl apply -f idas/iotagent-ul-minikube-service.yaml"
   ]
  },
  {
   "cell_type": "code",
   "execution_count": null,
   "metadata": {},
   "outputs": [],
   "source": [
    "kubectl apply -f idas/iotagent-ul-deployment.yaml"
   ]
  },
  {
   "cell_type": "code",
   "execution_count": null,
   "metadata": {},
   "outputs": [],
   "source": [
    "kubectl get pods -l app=iotagent-ul"
   ]
  },
  {
   "cell_type": "markdown",
   "metadata": {},
   "source": [
    "example)\n",
    "```\n",
    "NAME                           READY     STATUS    RESTARTS   AGE\n",
    "iotagent-ul-79685b64bf-8krps   1/1       Running   0          3m\n",
    "iotagent-ul-79685b64bf-m6nlg   1/1       Running   0          3m\n",
    "iotagent-ul-79685b64bf-mjpbl   1/1       Running   0          3m\n",
    "```"
   ]
  },
  {
   "cell_type": "code",
   "execution_count": null,
   "metadata": {},
   "outputs": [],
   "source": [
    "kubectl get services -l app=iotagent-ul"
   ]
  },
  {
   "cell_type": "markdown",
   "metadata": {},
   "source": [
    "example)\n",
    "```\n",
    "NAME          TYPE        CLUSTER-IP     EXTERNAL-IP   PORT(S)             AGE\n",
    "iotagent-ul   ClusterIP   10.0.180.155   <none>        4041/TCP,7896/TCP   43s\n",
    "```"
   ]
  },
  {
   "cell_type": "code",
   "execution_count": null,
   "metadata": {},
   "outputs": [],
   "source": [
    "TOKEN=$(cat ${PJ_ROOT}/secrets/auth-tokens.json | jq '.[0].settings.bearer_tokens[0].token' -r)\n",
    "curl -i -H \"Authorization: bearer ${TOKEN}\" -H \"Fiware-Service: test\" -H \"Fiware-Servicepath: /*\" http://${HOST_IPADDR}:8080/idas/ul20/manage/iot/services/"
   ]
  },
  {
   "cell_type": "markdown",
   "metadata": {},
   "source": [
    "example)\n",
    "```\n",
    "HTTP/1.1 200 OK\n",
    "x-powered-by: Express\n",
    "fiware-correlator: ba082601-9ed9-4c2a-8fca-4d05ef30edb4\n",
    "content-type: application/json; charset=utf-8\n",
    "content-length: 25\n",
    "etag: W/\"19-WMYe0U6ocKhQjp+oaVnMHLdbylc\"\n",
    "date: Wed, 24 Apr 2019 04:50:37 GMT\n",
    "x-envoy-upstream-service-time: 12\n",
    "server: envoy\n",
    "\n",
    "{\"count\":0,\"services\":[]}\n",
    "```"
   ]
  },
  {
   "cell_type": "markdown",
   "metadata": {},
   "source": [
    "**If you can't get 200 OK, please restart all ambassador's pods like \"ambassador-cf99ff6bb-45jpl\", \"ambassador-cf99ff6bb-8kht7\" and \"ambassador-cf99ff6bb-lv2tk\"**"
   ]
  },
  {
   "cell_type": "markdown",
   "metadata": {},
   "source": [
    "## start fiware cygnus (mongodb sink) on minikube\n",
    "[fiware cygnus](https://catalogue-server.fiware.org/enablers/cygnus)"
   ]
  },
  {
   "cell_type": "markdown",
   "metadata": {},
   "source": [
    "### start cygnus-mongo"
   ]
  },
  {
   "cell_type": "code",
   "execution_count": null,
   "metadata": {},
   "outputs": [],
   "source": [
    "kubectl apply -f cygnus/cygnus-mongo-service.yaml"
   ]
  },
  {
   "cell_type": "code",
   "execution_count": null,
   "metadata": {},
   "outputs": [],
   "source": [
    "kubectl apply -f cygnus/cygnus-mongo-deployment.yaml"
   ]
  },
  {
   "cell_type": "code",
   "execution_count": null,
   "metadata": {},
   "outputs": [],
   "source": [
    "kubectl get pods -l app=cygnus-mongo"
   ]
  },
  {
   "cell_type": "markdown",
   "metadata": {},
   "source": [
    "example)\n",
    "```\n",
    "NAME                           READY     STATUS    RESTARTS   AGE\n",
    "cygnus-mongo-9fc8d65d5-288hj   1/1       Running   0          1m\n",
    "cygnus-mongo-9fc8d65d5-c6q5t   1/1       Running   0          1m\n",
    "cygnus-mongo-9fc8d65d5-gnfjh   1/1       Running   0          1m\n",
    "```"
   ]
  },
  {
   "cell_type": "code",
   "execution_count": null,
   "metadata": {},
   "outputs": [],
   "source": [
    "kubectl get services -l app=cygnus-mongo"
   ]
  },
  {
   "cell_type": "markdown",
   "metadata": {},
   "source": [
    "example)\n",
    "```\n",
    "NAME            TYPE        CLUSTER-IP       EXTERNAL-IP   PORT(S)             AGE\n",
    "cygnus-mongo    ClusterIP   10.103.255.240   <none>        5050/TCP,8081/TCP   1m\n",
    "```"
   ]
  }
 ],
 "metadata": {
  "kernelspec": {
   "display_name": "Bash",
   "language": "bash",
   "name": "bash"
  },
  "language_info": {
   "codemirror_mode": "shell",
   "file_extension": ".sh",
   "mimetype": "text/x-sh",
   "name": "bash"
  }
 },
 "nbformat": 4,
 "nbformat_minor": 2
}
