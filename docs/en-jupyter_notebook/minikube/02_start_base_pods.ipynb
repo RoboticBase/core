{
 "cells": [
  {
   "cell_type": "markdown",
   "metadata": {},
   "source": [
    "# 2 start base pods on minikube"
   ]
  },
  {
   "cell_type": "markdown",
   "metadata": {},
   "source": [
    "change ${PJ_ROOT} to your directory."
   ]
  },
  {
   "cell_type": "code",
   "execution_count": null,
   "metadata": {},
   "outputs": [],
   "source": [
    "export PJ_ROOT=\"${HOME}/core\"\n",
    "cd ${PJ_ROOT};pwd"
   ]
  },
  {
   "cell_type": "markdown",
   "metadata": {},
   "source": [
    "example)\n",
    "```\n",
    "/Users/user/core\n",
    "```"
   ]
  },
  {
   "cell_type": "markdown",
   "metadata": {},
   "source": [
    "## load environment variables"
   ]
  },
  {
   "cell_type": "code",
   "execution_count": null,
   "metadata": {},
   "outputs": [],
   "source": [
    "source ${PJ_ROOT}/docs/environments/minikube/env"
   ]
  },
  {
   "cell_type": "markdown",
   "metadata": {},
   "source": [
    "## setup alias"
   ]
  },
  {
   "cell_type": "code",
   "execution_count": null,
   "metadata": {},
   "outputs": [],
   "source": [
    "if [ \"$(uname)\" == 'Darwin' ]; then\n",
    "  alias randomstr32='cat /dev/urandom | LC_CTYPE=C tr -dc 'a-zA-Z0-9' | head -c 32'\n",
    "elif [ \"$(expr substr $(uname -s) 1 5)\" == 'Linux' ]; then\n",
    "  alias randomstr32='cat /dev/urandom 2>/dev/null | head -n 40 | tr -cd 'a-zA-Z0-9' | head -c 32'\n",
    "else\n",
    "  echo \"Your platform ($(uname -a)) is not supported.\"\n",
    "  exit 1\n",
    "fi"
   ]
  },
  {
   "cell_type": "markdown",
   "metadata": {},
   "source": [
    "## start RabbitMQ cluster on minikube\n",
    "[rabbitmq](https://www.rabbitmq.com/)"
   ]
  },
  {
   "cell_type": "markdown",
   "metadata": {},
   "source": [
    "### start RabbitMQ"
   ]
  },
  {
   "cell_type": "code",
   "execution_count": null,
   "metadata": {},
   "outputs": [],
   "source": [
    "kubectl apply -f rabbitmq/rabbitmq-rbac.yaml"
   ]
  },
  {
   "cell_type": "code",
   "execution_count": null,
   "metadata": {},
   "outputs": [],
   "source": [
    "kubectl apply -f rabbitmq/rabbitmq-minikube-services.yaml"
   ]
  },
  {
   "cell_type": "code",
   "execution_count": null,
   "metadata": {},
   "outputs": [],
   "source": [
    "kubectl apply -f rabbitmq/rabbitmq-minikube-statefulset.yaml"
   ]
  },
  {
   "cell_type": "code",
   "execution_count": null,
   "metadata": {},
   "outputs": [],
   "source": [
    "kubectl get pods -l app=rabbitmq"
   ]
  },
  {
   "cell_type": "markdown",
   "metadata": {},
   "source": [
    "example)\n",
    "\n",
    "```\n",
    "NAME         READY     STATUS    RESTARTS   AGE\n",
    "rabbitmq-0   1/1       Running   0          6m\n",
    "rabbitmq-1   1/1       Running   0          5m\n",
    "rabbitmq-2   1/1       Running   0          4m\n",
    "```"
   ]
  },
  {
   "cell_type": "code",
   "execution_count": null,
   "metadata": {},
   "outputs": [],
   "source": [
    "kubectl exec rabbitmq-0 -- rabbitmqctl cluster_status"
   ]
  },
  {
   "cell_type": "markdown",
   "metadata": {},
   "source": [
    "example)\n",
    "```\n",
    "Cluster status of node rabbit@rabbitmq-0.rabbitmq.default.svc.cluster.local ...\n",
    "[{nodes,[{disc,['rabbit@rabbitmq-0.rabbitmq.default.svc.cluster.local',\n",
    "                'rabbit@rabbitmq-1.rabbitmq.default.svc.cluster.local',\n",
    "                'rabbit@rabbitmq-2.rabbitmq.default.svc.cluster.local']}]},\n",
    " {running_nodes,['rabbit@rabbitmq-2.rabbitmq.default.svc.cluster.local',\n",
    "                 'rabbit@rabbitmq-1.rabbitmq.default.svc.cluster.local',\n",
    "                 'rabbit@rabbitmq-0.rabbitmq.default.svc.cluster.local']},\n",
    " {cluster_name,<<\"rabbit@rabbitmq-0.rabbitmq.default.svc.cluster.local\">>},\n",
    " {partitions,[]},\n",
    " {alarms,[{'rabbit@rabbitmq-2.rabbitmq.default.svc.cluster.local',[]},\n",
    "          {'rabbit@rabbitmq-1.rabbitmq.default.svc.cluster.local',[]},\n",
    "          {'rabbit@rabbitmq-0.rabbitmq.default.svc.cluster.local',[]}]}]\n",
    "```"
   ]
  },
  {
   "cell_type": "markdown",
   "metadata": {},
   "source": [
    "### change password of `guest`"
   ]
  },
  {
   "cell_type": "code",
   "execution_count": null,
   "metadata": {},
   "outputs": [],
   "source": [
    "kubectl exec rabbitmq-0 -- rabbitmqctl change_password guest $(randomstr32)"
   ]
  },
  {
   "cell_type": "markdown",
   "metadata": {},
   "source": [
    "### register users to RabbitMQ"
   ]
  },
  {
   "cell_type": "code",
   "execution_count": null,
   "metadata": {},
   "outputs": [],
   "source": [
    "for e in $(env); do\n",
    "  if [[ \"${e}\" =~ ^MQTT__([[:alnum:]_-]+)=([[:alnum:]_-]+)$ ]]; then\n",
    "    username=${BASH_REMATCH[1]}\n",
    "    password=${BASH_REMATCH[2]}\n",
    "    \n",
    "    kubectl exec rabbitmq-0 -- rabbitmqctl add_user ${username} ${password}\n",
    "    kubectl exec rabbitmq-0 -- rabbitmqctl set_permissions -p / ${username} \".*\" \".*\" \".*\"\n",
    "  fi\n",
    "done"
   ]
  },
  {
   "cell_type": "code",
   "execution_count": null,
   "metadata": {},
   "outputs": [],
   "source": [
    "kubectl exec rabbitmq-0 -- rabbitmqctl list_users"
   ]
  },
  {
   "cell_type": "markdown",
   "metadata": {},
   "source": [
    "example)\n",
    "```\n",
    "Listing users ...\n",
    "guest\t[administrator]\n",
    "iotagent\t[]\n",
    "```"
   ]
  },
  {
   "cell_type": "code",
   "execution_count": null,
   "metadata": {
    "scrolled": true
   },
   "outputs": [],
   "source": [
    "kubectl get services -l app=rabbitmq"
   ]
  },
  {
   "cell_type": "markdown",
   "metadata": {},
   "source": [
    "expected)\n",
    "```\n",
    "NAME            TYPE        CLUSTER-IP       EXTERNAL-IP   PORT(S)              AGE\n",
    "rabbitmq        ClusterIP   None             <none>        5672/TCP             4m\n",
    "rabbitmq-amqp   ClusterIP   10.107.253.173   <none>        15672/TCP,5672/TCP   4m\n",
    "rabbitmq-mqtt   NodePort    10.102.140.44    <none>        1883:31186/TCP       4m\n",
    "```"
   ]
  },
  {
   "cell_type": "markdown",
   "metadata": {},
   "source": [
    "### nat MQTT port "
   ]
  },
  {
   "cell_type": "code",
   "execution_count": null,
   "metadata": {},
   "outputs": [],
   "source": [
    "export MQTT_PORT=$(kubectl describe service rabbitmq-mqtt | grep \"NodePort:\" | awk '{print $3}' | awk -F'/' '{print $1}');echo ${MQTT_PORT}"
   ]
  },
  {
   "cell_type": "code",
   "execution_count": null,
   "metadata": {},
   "outputs": [],
   "source": [
    "VBoxManage controlvm \"${MINIKUBE_NAME}\" natpf1 \"mqtt,tcp,0.0.0.0,1883,,${MQTT_PORT}\"\n",
    "VBoxManage showvminfo \"${MINIKUBE_NAME}\"| grep ${MQTT_PORT}"
   ]
  },
  {
   "cell_type": "markdown",
   "metadata": {},
   "source": [
    "example)\n",
    "```\n",
    "NIC 1 Rule(0):   name = mqtt, protocol = tcp, host ip = 0.0.0.0, host port = 1883, guest ip = , guest port = 30382\n",
    "```"
   ]
  },
  {
   "cell_type": "code",
   "execution_count": null,
   "metadata": {},
   "outputs": [],
   "source": [
    "export WEB_MQTT_PORT=$(kubectl describe service rabbitmq-web-mqtt | grep \"NodePort:\" | awk '{print $3}' | awk -F'/' '{print $1}');echo ${WEB_MQTT_PORT}"
   ]
  },
  {
   "cell_type": "code",
   "execution_count": null,
   "metadata": {},
   "outputs": [],
   "source": [
    "VBoxManage controlvm \"${MINIKUBE_NAME}\" natpf1 \"web-mqtt,tcp,0.0.0.0,15675,,${WEB_MQTT_PORT}\"\n",
    "VBoxManage showvminfo \"${MINIKUBE_NAME}\"| grep ${WEB_MQTT_PORT}"
   ]
  },
  {
   "cell_type": "markdown",
   "metadata": {},
   "source": [
    "### confirm to connect MQTT broker"
   ]
  },
  {
   "cell_type": "code",
   "execution_count": null,
   "metadata": {},
   "outputs": [],
   "source": [
    "mosquitto_pub -h ${HOST_IPADDR} -p 1883  -d -u iotagent -P ${MQTT__iotagent} -t /test -m \"test\""
   ]
  },
  {
   "cell_type": "markdown",
   "metadata": {},
   "source": [
    "example)\n",
    "```\n",
    "Client mosqpub|52150-Nobuyukin sending CONNECT\n",
    "Client mosqpub|52150-Nobuyukin received CONNACK\n",
    "Client mosqpub|52150-Nobuyukin sending PUBLISH (d0, q0, r0, m1, '/test', ... (4 bytes))\n",
    "Client mosqpub|52150-Nobuyukin sending DISCONNECT\n",
    "```"
   ]
  },
  {
   "cell_type": "markdown",
   "metadata": {},
   "source": [
    "## start mondodb cluster on minikube\n",
    "[mongodb](https://www.mongodb.com/)"
   ]
  },
  {
   "cell_type": "markdown",
   "metadata": {},
   "source": [
    "create 'mongodb' takes a few minutes."
   ]
  },
  {
   "cell_type": "code",
   "execution_count": null,
   "metadata": {},
   "outputs": [],
   "source": [
    "helm install --name mongodb -f mongodb/mongodb-replicaset-values-minikube.yaml stable/mongodb-replicaset"
   ]
  },
  {
   "cell_type": "code",
   "execution_count": null,
   "metadata": {},
   "outputs": [],
   "source": [
    "kubectl get statefulsets -l release=mongodb -l app=mongodb-replicaset"
   ]
  },
  {
   "cell_type": "markdown",
   "metadata": {},
   "source": [
    "example)\n",
    "```\n",
    "NAME      READY   AGE\n",
    "mongodb   3/3     106s\n",
    "```"
   ]
  },
  {
   "cell_type": "code",
   "execution_count": null,
   "metadata": {},
   "outputs": [],
   "source": [
    "kubectl get pods -l release=mongodb -l app=mongodb-replicaset"
   ]
  },
  {
   "cell_type": "markdown",
   "metadata": {},
   "source": [
    "example)\n",
    "```\n",
    "NAME        READY   STATUS    RESTARTS   AGE\n",
    "mongodb-0   1/1     Running   0          105s\n",
    "mongodb-1   1/1     Running   0          38s\n",
    "mongodb-2   1/1     Running   0          24s\n",
    "```"
   ]
  },
  {
   "cell_type": "code",
   "execution_count": null,
   "metadata": {},
   "outputs": [],
   "source": [
    "kubectl get services -l release=mongodb -l app=mongodb-replicaset"
   ]
  },
  {
   "cell_type": "markdown",
   "metadata": {},
   "source": [
    "example)\n",
    "```\n",
    "NAME             TYPE        CLUSTER-IP   EXTERNAL-IP   PORT(S)     AGE\n",
    "mongodb          ClusterIP   None         <none>        27017/TCP   2m21s\n",
    "mongodb-client   ClusterIP   None         <none>        27017/TCP   2m21s\n",
    "```"
   ]
  },
  {
   "cell_type": "code",
   "execution_count": null,
   "metadata": {},
   "outputs": [],
   "source": [
    "kubectl exec mongodb-0 -c mongodb-replicaset -- mongo --eval 'printjson(rs.status().members.map(function(e) {return {name: e.name, stateStr:e.stateStr};}))'"
   ]
  },
  {
   "cell_type": "markdown",
   "metadata": {},
   "source": [
    "expected)\n",
    "```\n",
    "MongoDB shell version v4.1.13\n",
    "connecting to: mongodb://127.0.0.1:27017/?compressors=disabled&gssapiServiceName=mongodb\n",
    "Implicit session: session { \"id\" : UUID(\"21eaa109-63dd-4b65-88b4-e6ba9f8bb338\") }\n",
    "MongoDB server version: 4.1.13\n",
    "[\n",
    "\t{\n",
    "\t\t\"name\" : \"mongodb-0.mongodb.default.svc.cluster.local:27017\",\n",
    "\t\t\"stateStr\" : \"PRIMARY\"\n",
    "\t},\n",
    "\t{\n",
    "\t\t\"name\" : \"mongodb-1.mongodb.default.svc.cluster.local:27017\",\n",
    "\t\t\"stateStr\" : \"SECONDARY\"\n",
    "\t},\n",
    "\t{\n",
    "\t\t\"name\" : \"mongodb-2.mongodb.default.svc.cluster.local:27017\",\n",
    "\t\t\"stateStr\" : \"SECONDARY\"\n",
    "\t}\n",
    "]\n",
    "```"
   ]
  },
  {
   "cell_type": "markdown",
   "metadata": {},
   "source": [
    "## start ambassador on minikube\n",
    "\n",
    "[ambassador](https://www.getambassador.io/)"
   ]
  },
  {
   "cell_type": "markdown",
   "metadata": {},
   "source": [
    "### start ambassador"
   ]
  },
  {
   "cell_type": "code",
   "execution_count": null,
   "metadata": {},
   "outputs": [],
   "source": [
    "kubectl apply -f ambassador/ambassador-minikube-service.yaml"
   ]
  },
  {
   "cell_type": "code",
   "execution_count": null,
   "metadata": {},
   "outputs": [],
   "source": [
    "kubectl apply -f ambassador/ambassador-deployment.yaml"
   ]
  },
  {
   "cell_type": "code",
   "execution_count": null,
   "metadata": {},
   "outputs": [],
   "source": [
    "kubectl get pods -l app=ambassador"
   ]
  },
  {
   "cell_type": "markdown",
   "metadata": {},
   "source": [
    "example)\n",
    "```\n",
    "NAME                         READY     STATUS    RESTARTS   AGE\n",
    "ambassador-cf99ff6bb-45jpl   1/1       Running   0          39s\n",
    "ambassador-cf99ff6bb-8kht7   1/1       Running   0          39s\n",
    "ambassador-cf99ff6bb-lv2tk   1/1       Running   0          39s\n",
    "```"
   ]
  },
  {
   "cell_type": "code",
   "execution_count": null,
   "metadata": {},
   "outputs": [],
   "source": [
    "kubectl get services -l app=ambassador"
   ]
  },
  {
   "cell_type": "markdown",
   "metadata": {},
   "source": [
    "example)\n",
    "```\n",
    "NAME         TYPE       CLUSTER-IP      EXTERNAL-IP   PORT(S)        AGE\n",
    "ambassador   NodePort   10.98.181.146   <none>        80:31807/TCP   1m\n",
    "```"
   ]
  },
  {
   "cell_type": "markdown",
   "metadata": {},
   "source": [
    "### nat HTTP port"
   ]
  },
  {
   "cell_type": "code",
   "execution_count": null,
   "metadata": {},
   "outputs": [],
   "source": [
    "HTTP_PORT=$(kubectl describe service ambassador | grep \"NodePort:\" | awk '{print $3}' | awk -F'/' '{print $1}');echo ${HTTP_PORT}"
   ]
  },
  {
   "cell_type": "code",
   "execution_count": null,
   "metadata": {},
   "outputs": [],
   "source": [
    "VBoxManage controlvm \"${MINIKUBE_NAME}\" natpf1 \"http,tcp,0.0.0.0,8080,,${HTTP_PORT}\"\n",
    "VBoxManage showvminfo \"${MINIKUBE_NAME}\" | grep ${HTTP_PORT}"
   ]
  },
  {
   "cell_type": "code",
   "execution_count": null,
   "metadata": {},
   "outputs": [],
   "source": [
    "curl -i http://${HOST_IPADDR}:8080"
   ]
  },
  {
   "cell_type": "markdown",
   "metadata": {},
   "source": [
    "expected)\n",
    "```\n",
    "HTTP/1.1 404 Not Found\n",
    "date: Fri, 25 May 2018 00:47:41 GMT\n",
    "server: envoy\n",
    "content-length: 0\n",
    "```"
   ]
  }
 ],
 "metadata": {
  "kernelspec": {
   "display_name": "Bash",
   "language": "bash",
   "name": "bash"
  },
  "language_info": {
   "codemirror_mode": "shell",
   "file_extension": ".sh",
   "mimetype": "text/x-sh",
   "name": "bash"
  }
 },
 "nbformat": 4,
 "nbformat_minor": 2
}
