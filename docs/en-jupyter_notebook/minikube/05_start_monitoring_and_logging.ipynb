{
 "cells": [
  {
   "cell_type": "markdown",
   "metadata": {},
   "source": [
    "# 5 start monitoring & logging on minikube"
   ]
  },
  {
   "cell_type": "markdown",
   "metadata": {},
   "source": [
    "change ${PJ_ROOT} to your directory."
   ]
  },
  {
   "cell_type": "code",
   "execution_count": null,
   "metadata": {},
   "outputs": [],
   "source": [
    "export PJ_ROOT=\"${HOME}/core\"\n",
    "cd ${PJ_ROOT};pwd"
   ]
  },
  {
   "cell_type": "markdown",
   "metadata": {},
   "source": [
    "example)\n",
    "```\n",
    "/Users/user/core\n",
    "```"
   ]
  },
  {
   "cell_type": "markdown",
   "metadata": {},
   "source": [
    "## load environment variables"
   ]
  },
  {
   "cell_type": "code",
   "execution_count": null,
   "metadata": {},
   "outputs": [],
   "source": [
    "source ${PJ_ROOT}/docs/environments/minikube/env"
   ]
  },
  {
   "cell_type": "markdown",
   "metadata": {},
   "source": [
    "## start fiware cygnus for elasticsearch"
   ]
  },
  {
   "cell_type": "code",
   "execution_count": null,
   "metadata": {},
   "outputs": [],
   "source": [
    "kubectl apply -f cygnus/cygnus-elasticsearch-service.yaml"
   ]
  },
  {
   "cell_type": "code",
   "execution_count": null,
   "metadata": {},
   "outputs": [],
   "source": [
    "kubectl apply -f cygnus/cygnus-elasticsearch-deployment.yaml"
   ]
  },
  {
   "cell_type": "code",
   "execution_count": null,
   "metadata": {},
   "outputs": [],
   "source": [
    "kubectl get pods -l app=cygnus-elasticsearch"
   ]
  },
  {
   "cell_type": "markdown",
   "metadata": {},
   "source": [
    "example)\n",
    "```\n",
    "NAME                                   READY     STATUS    RESTARTS   AGE\n",
    "cygnus-elasticsearch-69f5cd7dc-766pp   1/1     Running   0          109s\n",
    "cygnus-elasticsearch-69f5cd7dc-crw8w   1/1     Running   0          109s\n",
    "cygnus-elasticsearch-69f5cd7dc-d9ggb   1/1     Running   0          109s\n",
    "```"
   ]
  },
  {
   "cell_type": "code",
   "execution_count": null,
   "metadata": {},
   "outputs": [],
   "source": [
    "kubectl get services -l app=cygnus-elasticsearch"
   ]
  },
  {
   "cell_type": "markdown",
   "metadata": {},
   "source": [
    "example)\n",
    "```\n",
    "NAME                    TYPE        CLUSTER-IP       EXTERNAL-IP   PORT(S)             AGE\n",
    "cygnus-elasticsearch    ClusterIP   10.103.255.240   <none>        5050/TCP,8081/TCP   1m\n",
    "```"
   ]
  },
  {
   "cell_type": "markdown",
   "metadata": {},
   "source": [
    "## start prometheus & grafana"
   ]
  },
  {
   "cell_type": "markdown",
   "metadata": {},
   "source": [
    "### install coreos/prometheus-operator"
   ]
  },
  {
   "cell_type": "code",
   "execution_count": null,
   "metadata": {
    "scrolled": false
   },
   "outputs": [],
   "source": [
    "helm install stable/prometheus-operator --name po --namespace monitoring -f monitoring/prometheus-operator-minikube.yaml"
   ]
  },
  {
   "cell_type": "code",
   "execution_count": null,
   "metadata": {},
   "outputs": [],
   "source": [
    "kubectl --namespace monitoring get pods -l \"app=prometheus-operator-operator,release=po\""
   ]
  },
  {
   "cell_type": "markdown",
   "metadata": {},
   "source": [
    "example)\n",
    "```\n",
    "NAME                                               READY   STATUS    RESTARTS   AGE\n",
    "po-prometheus-operator-operator-7cf7c5cc97-78h9g   1/1     Running   0          2m28s\n",
    "```"
   ]
  },
  {
   "cell_type": "code",
   "execution_count": null,
   "metadata": {},
   "outputs": [],
   "source": [
    "kubectl get daemonsets --namespace monitoring"
   ]
  },
  {
   "cell_type": "markdown",
   "metadata": {},
   "source": [
    "example)\n",
    "```\n",
    "NAME                          DESIRED   CURRENT   READY   UP-TO-DATE   AVAILABLE   NODE SELECTOR   AGE\n",
    "po-prometheus-node-exporter   1         1         1       1            1           <none>          3m47s\n",
    "```"
   ]
  },
  {
   "cell_type": "code",
   "execution_count": null,
   "metadata": {},
   "outputs": [],
   "source": [
    "kubectl get deployments --namespace monitoring"
   ]
  },
  {
   "cell_type": "markdown",
   "metadata": {},
   "source": [
    "example)\n",
    "```\n",
    "NAME                              READY   UP-TO-DATE   AVAILABLE   AGE\n",
    "po-grafana                        1/1     1            1           4m27s\n",
    "po-kube-state-metrics             1/1     1            1           4m27s\n",
    "po-prometheus-operator-operator   1/1     1            1           4m27s\n",
    "```"
   ]
  },
  {
   "cell_type": "code",
   "execution_count": null,
   "metadata": {},
   "outputs": [],
   "source": [
    "kubectl get statefulsets --namespace monitoring"
   ]
  },
  {
   "cell_type": "markdown",
   "metadata": {},
   "source": [
    "example)\n",
    "```\n",
    "NAME                                               READY   AGE\n",
    "alertmanager-po-prometheus-operator-alertmanager   1/1     4m42s\n",
    "prometheus-po-prometheus-operator-prometheus       1/1     4m32s\n",
    "```"
   ]
  },
  {
   "cell_type": "code",
   "execution_count": null,
   "metadata": {},
   "outputs": [],
   "source": [
    "kubectl get pods --namespace monitoring"
   ]
  },
  {
   "cell_type": "markdown",
   "metadata": {},
   "source": [
    "example)\n",
    "```\n",
    "NAME                                                 READY   STATUS    RESTARTS   AGE\n",
    "alertmanager-po-prometheus-operator-alertmanager-0   2/2     Running   0          5m10s\n",
    "po-grafana-594865f85-rqdcs                           2/2     Running   0          5m39s\n",
    "po-kube-state-metrics-844bd6548c-xdzb4               1/1     Running   0          5m39s\n",
    "po-prometheus-node-exporter-9gpwj                    1/1     Running   0          5m39s\n",
    "po-prometheus-operator-operator-6984bb6db6-8cwft     1/1     Running   0          5m39s\n",
    "prometheus-po-prometheus-operator-prometheus-0       3/3     Running   1          5m\n",
    "```"
   ]
  },
  {
   "cell_type": "code",
   "execution_count": null,
   "metadata": {},
   "outputs": [],
   "source": [
    "kubectl get services --namespace monitoring"
   ]
  },
  {
   "cell_type": "markdown",
   "metadata": {},
   "source": [
    "example)\n",
    "```\n",
    "NAME                                  TYPE        CLUSTER-IP       EXTERNAL-IP   PORT(S)             AGE\n",
    "alertmanager-operated                 ClusterIP   None             <none>        9093/TCP,6783/TCP   5m46s\n",
    "po-grafana                            ClusterIP   10.106.85.127    <none>        80/TCP              6m16s\n",
    "po-kube-state-metrics                 ClusterIP   10.106.251.12    <none>        8080/TCP            6m16s\n",
    "po-prometheus-node-exporter           ClusterIP   10.97.49.161     <none>        9100/TCP            6m16s\n",
    "po-prometheus-operator-alertmanager   ClusterIP   10.97.209.186    <none>        9093/TCP            6m16s\n",
    "po-prometheus-operator-operator       ClusterIP   10.108.31.165    <none>        8080/TCP            6m15s\n",
    "po-prometheus-operator-prometheus     ClusterIP   10.101.223.201   <none>        9090/TCP            6m15s\n",
    "prometheus-operated                   ClusterIP   None             <none>        9090/TCP            5m36s\n",
    "```"
   ]
  },
  {
   "cell_type": "markdown",
   "metadata": {},
   "source": [
    "### edit some prometheus rules"
   ]
  },
  {
   "cell_type": "code",
   "execution_count": null,
   "metadata": {},
   "outputs": [],
   "source": [
    "echo 'kubectl edit --namespace=monitoring prometheusrules po-prometheus-operator-general.rules'"
   ]
  },
  {
   "cell_type": "markdown",
   "metadata": {},
   "source": [
    "```diff\n",
    "       for: 10m\n",
    "       labels:\n",
    "         severity: warning\n",
    "-    - alert: Watchdog\n",
    "-      annotations:\n",
    "-        message: |\n",
    "-          This is an alert meant to ensure that the entire alerting pipeline is functional.\n",
    "-          This alert is always firing, therefore it should always be firing in Alertmanager\n",
    "-          and always fire against a receiver. There are integrations with various notification\n",
    "-          mechanisms that send a notification when this alert is not firing. For example the\n",
    "-          \"DeadMansSnitch\" integration in PagerDuty.\n",
    "-      expr: vector(1)\n",
    "-      labels:\n",
    "-        severity: none\n",
    "```"
   ]
  },
  {
   "cell_type": "markdown",
   "metadata": {},
   "source": [
    "### confirm prometheus"
   ]
  },
  {
   "cell_type": "code",
   "execution_count": null,
   "metadata": {},
   "outputs": [],
   "source": [
    "echo 'kubectl --namespace monitoring port-forward $(kubectl get pod --namespace monitoring -l prometheus=kube-prometheus -l app=prometheus -o template --template \"{{(index .items 0).metadata.name}}\") 9090:9090'"
   ]
  },
  {
   "cell_type": "markdown",
   "metadata": {},
   "source": [
    "#### for macOS"
   ]
  },
  {
   "cell_type": "code",
   "execution_count": null,
   "metadata": {},
   "outputs": [],
   "source": [
    "open http://localhost:9090"
   ]
  },
  {
   "cell_type": "markdown",
   "metadata": {},
   "source": [
    "#### for Ubuntu"
   ]
  },
  {
   "cell_type": "code",
   "execution_count": null,
   "metadata": {},
   "outputs": [],
   "source": [
    "xdg-open http://localhost:9090"
   ]
  },
  {
   "cell_type": "markdown",
   "metadata": {},
   "source": [
    "1. confirm Prometheus\n",
    "    * no `Target` is down.\n",
    "    * no `Alert` is fired except CPU or Memory resources."
   ]
  },
  {
   "cell_type": "markdown",
   "metadata": {},
   "source": [
    "### setup grafana"
   ]
  },
  {
   "cell_type": "code",
   "execution_count": null,
   "metadata": {},
   "outputs": [],
   "source": [
    "echo 'kubectl --namespace monitoring port-forward $(kubectl get pod --namespace monitoring -l app=grafana,release=po -o template --template \"{{(index .items 0).metadata.name}}\") 3000:3000'"
   ]
  },
  {
   "cell_type": "markdown",
   "metadata": {},
   "source": [
    "#### for macOS"
   ]
  },
  {
   "cell_type": "code",
   "execution_count": null,
   "metadata": {},
   "outputs": [],
   "source": [
    "open http://localhost:3000/login"
   ]
  },
  {
   "cell_type": "markdown",
   "metadata": {},
   "source": [
    "#### for Ubuntu"
   ]
  },
  {
   "cell_type": "code",
   "execution_count": null,
   "metadata": {},
   "outputs": [],
   "source": [
    "xdg-open http://localhost:3000/login"
   ]
  },
  {
   "cell_type": "markdown",
   "metadata": {},
   "source": [
    "1. login grafana\n",
    "    * At the first, a admin user (`admin`/`prom-operator`) is available.\n",
    "2. change the admin's password"
   ]
  },
  {
   "cell_type": "markdown",
   "metadata": {},
   "source": [
    "## start Elasticsearch, fluentd and Kibana"
   ]
  },
  {
   "cell_type": "markdown",
   "metadata": {},
   "source": [
    "### start Elasticsearch"
   ]
  },
  {
   "cell_type": "code",
   "execution_count": null,
   "metadata": {},
   "outputs": [],
   "source": [
    "kubectl apply -f logging/elasticsearch-minikube-service.yaml"
   ]
  },
  {
   "cell_type": "code",
   "execution_count": null,
   "metadata": {},
   "outputs": [],
   "source": [
    "kubectl apply -f logging/elasticsearch-minikube-deployment.yaml"
   ]
  },
  {
   "cell_type": "code",
   "execution_count": null,
   "metadata": {},
   "outputs": [],
   "source": [
    "kubectl get statefulsets --namespace monitoring -l k8s-app=elasticsearch-logging"
   ]
  },
  {
   "cell_type": "markdown",
   "metadata": {},
   "source": [
    "example)\n",
    "```\n",
    "NAME                    READY   AGE\n",
    "elasticsearch-logging   2/2     3m20s\n",
    "```"
   ]
  },
  {
   "cell_type": "code",
   "execution_count": null,
   "metadata": {},
   "outputs": [],
   "source": [
    "kubectl get pods --namespace monitoring -l k8s-app=elasticsearch-logging"
   ]
  },
  {
   "cell_type": "markdown",
   "metadata": {},
   "source": [
    "example)\n",
    "```\n",
    "NAME                      READY   STATUS    RESTARTS   AGE\n",
    "elasticsearch-logging-0   1/1     Running   0          3m30s\n",
    "elasticsearch-logging-1   1/1     Running   0          2m27s\n",
    "```"
   ]
  },
  {
   "cell_type": "code",
   "execution_count": null,
   "metadata": {},
   "outputs": [],
   "source": [
    "kubectl get services --namespace monitoring -l k8s-app=elasticsearch-logging"
   ]
  },
  {
   "cell_type": "markdown",
   "metadata": {},
   "source": [
    "example)\n",
    "```\n",
    "NAME                    TYPE        CLUSTER-IP       EXTERNAL-IP   PORT(S)    AGE\n",
    "elasticsearch-logging   ClusterIP   10.100.232.146   <none>        9200/TCP   3m40s\n",
    "```"
   ]
  },
  {
   "cell_type": "code",
   "execution_count": null,
   "metadata": {},
   "outputs": [],
   "source": [
    "kubectl exec -it elasticsearch-logging-0 --namespace monitoring -- curl -H \"Content-Type: application/json\" -X PUT http://elasticsearch-logging:9200/_cluster/settings -d '{\"transient\": {\"cluster.routing.allocation.enable\":\"all\"}}'"
   ]
  },
  {
   "cell_type": "markdown",
   "metadata": {},
   "source": [
    "### start fluentd"
   ]
  },
  {
   "cell_type": "code",
   "execution_count": null,
   "metadata": {},
   "outputs": [],
   "source": [
    "kubectl apply -f logging/fluentd-es-configmap.yaml"
   ]
  },
  {
   "cell_type": "code",
   "execution_count": null,
   "metadata": {},
   "outputs": [],
   "source": [
    "kubectl apply -f logging/fluentd-es-ds.yaml"
   ]
  },
  {
   "cell_type": "code",
   "execution_count": null,
   "metadata": {},
   "outputs": [],
   "source": [
    "kubectl get daemonsets --namespace monitoring -l k8s-app=fluentd-es"
   ]
  },
  {
   "cell_type": "markdown",
   "metadata": {},
   "source": [
    "example)\n",
    "```\n",
    "NAME                DESIRED   CURRENT   READY   UP-TO-DATE   AVAILABLE   NODE SELECTOR   AGE\n",
    "fluentd-es-v2.4.0   1         1         1       1            1           <none>          88s\n",
    "```"
   ]
  },
  {
   "cell_type": "code",
   "execution_count": null,
   "metadata": {},
   "outputs": [],
   "source": [
    "kubectl get pods --namespace monitoring -l k8s-app=fluentd-es"
   ]
  },
  {
   "cell_type": "markdown",
   "metadata": {},
   "source": [
    "example)\n",
    "```\n",
    "NAME                      READY   STATUS    RESTARTS   AGE\n",
    "fluentd-es-v2.4.0-ltcxj   1/1     Running   0          2m48s\n",
    "```"
   ]
  },
  {
   "cell_type": "markdown",
   "metadata": {},
   "source": [
    "### start Kibana"
   ]
  },
  {
   "cell_type": "code",
   "execution_count": null,
   "metadata": {},
   "outputs": [],
   "source": [
    "kubectl apply -f logging/kibana-service.yaml"
   ]
  },
  {
   "cell_type": "code",
   "execution_count": null,
   "metadata": {},
   "outputs": [],
   "source": [
    "kubectl apply -f logging/kibana-deployment.yaml"
   ]
  },
  {
   "cell_type": "code",
   "execution_count": null,
   "metadata": {},
   "outputs": [],
   "source": [
    "kubectl get pods --namespace monitoring -l k8s-app=kibana-logging"
   ]
  },
  {
   "cell_type": "markdown",
   "metadata": {},
   "source": [
    "example)\n",
    "```\n",
    "NAME                              READY     STATUS    RESTARTS   AGE\n",
    "kibana-logging-7fd755b6dc-4x8ln   1/1       Running   0          40s\n",
    "```"
   ]
  },
  {
   "cell_type": "markdown",
   "metadata": {},
   "source": [
    "### start curator"
   ]
  },
  {
   "cell_type": "code",
   "execution_count": null,
   "metadata": {},
   "outputs": [],
   "source": [
    "kubectl apply -f logging/curator-configmap.yaml"
   ]
  },
  {
   "cell_type": "code",
   "execution_count": null,
   "metadata": {},
   "outputs": [],
   "source": [
    "kubectl apply -f logging/curator-cronjob.yaml"
   ]
  },
  {
   "cell_type": "code",
   "execution_count": null,
   "metadata": {},
   "outputs": [],
   "source": [
    "kubectl get cronjobs --namespace monitoring -l k8s-app=elasticsearch-curator"
   ]
  },
  {
   "cell_type": "markdown",
   "metadata": {},
   "source": [
    "example)\n",
    "```\n",
    "NAME                    SCHEDULE     SUSPEND   ACTIVE    LAST SCHEDULE   AGE\n",
    "elasticsearch-curator   0 18 * * *   False     0         <none>          9s\n",
    "```"
   ]
  },
  {
   "cell_type": "markdown",
   "metadata": {},
   "source": [
    "### setup Kibana"
   ]
  },
  {
   "cell_type": "code",
   "execution_count": null,
   "metadata": {},
   "outputs": [],
   "source": [
    "echo 'kubectl --namespace monitoring port-forward $(kubectl get pod -l k8s-app=kibana-logging --namespace monitoring -o template --template \"{{(index .items 0).metadata.name}}\") 5601:5601'"
   ]
  },
  {
   "cell_type": "markdown",
   "metadata": {},
   "source": [
    "#### for macOS"
   ]
  },
  {
   "cell_type": "code",
   "execution_count": null,
   "metadata": {},
   "outputs": [],
   "source": [
    "open http://localhost:5601/"
   ]
  },
  {
   "cell_type": "markdown",
   "metadata": {},
   "source": [
    "#### for Ubuntu"
   ]
  },
  {
   "cell_type": "code",
   "execution_count": null,
   "metadata": {},
   "outputs": [],
   "source": [
    "xdg-open http://localhost:5601/"
   ]
  },
  {
   "cell_type": "markdown",
   "metadata": {},
   "source": [
    "1. show `Management -> Index Patterns`\n",
    "2. set `logstash-*` as Index Pattern, and push `Next step`\n",
    "3. set `@timestamp` as Time Filter field name, and push `Create index pattern`"
   ]
  },
  {
   "cell_type": "markdown",
   "metadata": {},
   "source": [
    "### setup grafana"
   ]
  },
  {
   "cell_type": "code",
   "execution_count": null,
   "metadata": {},
   "outputs": [],
   "source": [
    "echo 'kubectl --namespace monitoring port-forward $(kubectl get pod --namespace monitoring -l app=grafana,release=po -o template --template \"{{(index .items 0).metadata.name}}\") 3000:3000'"
   ]
  },
  {
   "cell_type": "markdown",
   "metadata": {},
   "source": [
    "#### for macOS"
   ]
  },
  {
   "cell_type": "code",
   "execution_count": null,
   "metadata": {},
   "outputs": [],
   "source": [
    "open http://localhost:3000/login"
   ]
  },
  {
   "cell_type": "markdown",
   "metadata": {},
   "source": [
    "#### for Ubuntu"
   ]
  },
  {
   "cell_type": "code",
   "execution_count": null,
   "metadata": {},
   "outputs": [],
   "source": [
    "xdg-open http://localhost:3000/login"
   ]
  },
  {
   "cell_type": "markdown",
   "metadata": {},
   "source": [
    "### add `elasticsearch` dashboard to grafana"
   ]
  },
  {
   "cell_type": "markdown",
   "metadata": {},
   "source": [
    "1. add a new Data Source (ElasticSearch)\n",
    "    * Name: `elasticsearch`\n",
    "    * URL: `http://elasticsearch-logging:9200`\n",
    "    * Access: `Server(Default)`\n",
    "    * Index name: `logstash-*`\n",
    "    * Time field name: `@timestamp`\n",
    "    * Version: `6.0+`\n",
    "2. import `monitoring/dashboard_elasticsearch.json`"
   ]
  }
 ],
 "metadata": {
  "kernelspec": {
   "display_name": "Bash",
   "language": "bash",
   "name": "bash"
  },
  "language_info": {
   "codemirror_mode": "shell",
   "file_extension": ".sh",
   "mimetype": "text/x-sh",
   "name": "bash"
  }
 },
 "nbformat": 4,
 "nbformat_minor": 2
}
