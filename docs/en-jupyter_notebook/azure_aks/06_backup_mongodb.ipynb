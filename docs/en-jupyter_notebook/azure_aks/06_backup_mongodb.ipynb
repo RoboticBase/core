{
 "cells": [
  {
   "cell_type": "markdown",
   "metadata": {},
   "source": [
    "# 6 setup a cronjob to back up mongodb"
   ]
  },
  {
   "cell_type": "markdown",
   "metadata": {},
   "source": [
    "change ${PJ_ROOT} to your directory."
   ]
  },
  {
   "cell_type": "code",
   "execution_count": null,
   "metadata": {},
   "outputs": [],
   "source": [
    "export PJ_ROOT=\"${HOME}/core\"\n",
    "cd ${PJ_ROOT};pwd"
   ]
  },
  {
   "cell_type": "markdown",
   "metadata": {},
   "source": [
    "example)\n",
    "```\n",
    "/Users/user/core\n",
    "```"
   ]
  },
  {
   "cell_type": "markdown",
   "metadata": {},
   "source": [
    "## load environment variables"
   ]
  },
  {
   "cell_type": "code",
   "execution_count": null,
   "metadata": {},
   "outputs": [],
   "source": [
    "source ${PJ_ROOT}/docs/environments/azure_aks/env"
   ]
  },
  {
   "cell_type": "markdown",
   "metadata": {},
   "source": [
    "## create a storage account"
   ]
  },
  {
   "cell_type": "code",
   "execution_count": null,
   "metadata": {},
   "outputs": [],
   "source": [
    "az storage account create --name ${STORAGE_ACCOUNT} --resource-group ${AKS_RG} --location ${REGION} --sku Standard_LRS --encryption blob"
   ]
  },
  {
   "cell_type": "code",
   "execution_count": null,
   "metadata": {},
   "outputs": [],
   "source": [
    "export ACCOUNT_KEY=$(az storage account keys list --account-name ${STORAGE_ACCOUNT} --resource-group ${AKS_RG} --output json | jq .[0].value -r)"
   ]
  },
  {
   "cell_type": "markdown",
   "metadata": {},
   "source": [
    "## create storage container of Azure Blob Storage"
   ]
  },
  {
   "cell_type": "code",
   "execution_count": null,
   "metadata": {},
   "outputs": [],
   "source": [
    "az storage container create --name ${STORAGE_CONTAINER} --account-name ${STORAGE_ACCOUNT} --account-key ${ACCOUNT_KEY}"
   ]
  },
  {
   "cell_type": "code",
   "execution_count": null,
   "metadata": {
    "scrolled": false
   },
   "outputs": [],
   "source": [
    "az storage blob list --container-name ${STORAGE_CONTAINER} --account-name ${STORAGE_ACCOUNT} --account-key ${ACCOUNT_KEY}"
   ]
  },
  {
   "cell_type": "markdown",
   "metadata": {},
   "source": [
    "example)\n",
    "```json\n",
    "[]\n",
    "```"
   ]
  },
  {
   "cell_type": "markdown",
   "metadata": {},
   "source": [
    "## start backup job to check the environment"
   ]
  },
  {
   "cell_type": "code",
   "execution_count": null,
   "metadata": {},
   "outputs": [],
   "source": [
    "envsubst < mongodb/simple-dump-job.yaml | kubectl apply -f -"
   ]
  },
  {
   "cell_type": "code",
   "execution_count": null,
   "metadata": {},
   "outputs": [],
   "source": [
    "kubectl get jobs -l job=simple-dump-job"
   ]
  },
  {
   "cell_type": "markdown",
   "metadata": {},
   "source": [
    "example)\n",
    "```\n",
    "NAME              COMPLETIONS   DURATION   AGE\n",
    "simple-dump-job   1/1           5s         27s\n",
    "```"
   ]
  },
  {
   "cell_type": "code",
   "execution_count": null,
   "metadata": {},
   "outputs": [],
   "source": [
    "kubectl get pods -l job=simple-dump-job"
   ]
  },
  {
   "cell_type": "markdown",
   "metadata": {},
   "source": [
    "example)\n",
    "```\n",
    "NAME                    READY   STATUS      RESTARTS   AGE\n",
    "simple-dump-job-7td2x   0/1     Completed   0          45s\n",
    "```"
   ]
  },
  {
   "cell_type": "code",
   "execution_count": null,
   "metadata": {},
   "outputs": [],
   "source": [
    "kubectl logs $(kubectl get pods -l job=simple-dump-job -o template --template \"{{(index .items 0).metadata.name}}\")"
   ]
  },
  {
   "cell_type": "markdown",
   "metadata": {},
   "source": [
    "example)\n",
    "```\n",
    "2019/06/07 08:48:32 [   INFO] __main__ - start main\n",
    "2019/06/07 08:48:32 [   INFO] src.mongodb - start dump, endpoint=rs0/mongodb-client:27017\n",
    "2019/06/07 08:48:32 [   INFO] src.mongodb - exec dump command, dump_dir=/opt/mongodump_20190607174832JST\n",
    "2019/06/07 08:48:33 [   INFO] src.mongodb - \n",
    "2019/06/07 08:48:33 [   INFO] src.mongodb - 2019-06-07T08:48:33.758+0000\twriting admin.system.version to \n",
    "2019-06-07T08:48:33.760+0000\tdone dumping admin.system.version (1 document)\n",
    "2019-06-07T08:48:33.760+0000\twriting iotagentul.groups to \n",
    "2019-06-07T08:48:33.760+0000\twriting orion.entities to \n",
    "2019-06-07T08:48:33.761+0000\tdone dumping iotagentul.groups (0 documents)\n",
    "2019-06-07T08:48:33.761+0000\tdone dumping orion.entities (0 documents)\n",
    "\n",
    "2019/06/07 08:48:33 [   INFO] src.mongodb - compress dump dir, dump_dir=/opt/mongodump_20190607174832JST\n",
    "2019/06/07 08:48:33 [   INFO] src.mongodb - finish dump, dump_file=/opt/mongodump_20190607174832JST.tar.gz\n",
    "2019/06/07 08:48:33 [   INFO] src.azure_blob_storage - start upload, container=mongodump, file=/opt/mongodump_20190607174832JST.tar.gz\n",
    "2019/06/07 08:48:33 [   INFO] azure.storage.common.storageclient - Client-Request-ID=083ca8f2-8901-11e9-b537-a6ad4145284e Outgoing request: Method=PUT, Path=/mongodump/mongodump_20190607174832JST.tar.gz, Query={'timeout': None}, Headers={'x-ms-blob-type': 'BlockBlob', 'x-ms-lease-id': None, 'If-Modified-Since': None, 'If-Unmodified-Since': None, 'If-Match': None, 'If-None-Match': None, 'Content-Length': '700', 'x-ms-version': '2018-11-09', 'User-Agent': 'Azure-Storage/2.0.0-2.0.1 (Python CPython 3.7.3; Linux 4.15.0-1045-azure)', 'x-ms-client-request-id': '083ca8f2-8901-11e9-b537-a6ad4145284e', 'x-ms-date': 'Fri, 07 Jun 2019 08:48:33 GMT', 'Authorization': 'REDACTED'}.\n",
    "2019/06/07 08:48:33 [   INFO] azure.storage.common.storageclient - Client-Request-ID=083ca8f2-8901-11e9-b537-a6ad4145284e Receiving Response: Server-Timestamp=Fri, 07 Jun 2019 08:48:33 GMT, Server-Request-ID=6829bef5-e01e-003f-760d-1d20d7000000, HTTP Status Code=201, Message=Created, Headers={'content-length': '0', 'content-md5': 'jLwedUl693uDUHgfnlyUyg==', 'last-modified': 'Fri, 07 Jun 2019 08:48:33 GMT', 'etag': '\"0x8D6EB24EC81FEAC\"', 'server': 'Windows-Azure-Blob/1.0 Microsoft-HTTPAPI/2.0', 'x-ms-request-id': '6829bef5-e01e-003f-760d-1d20d7000000', 'x-ms-version': '2018-11-09', 'x-ms-request-server-encrypted': 'true', 'date': 'Fri, 07 Jun 2019 08:48:33 GMT'}.\n",
    "2019/06/07 08:48:33 [   INFO] src.azure_blob_storage - finish upload, last_modified=2019-06-07 08:48:33+00:00\n",
    "2019/06/07 08:48:33 [   INFO] __main__ - finish main\n",
    "```"
   ]
  },
  {
   "cell_type": "code",
   "execution_count": null,
   "metadata": {},
   "outputs": [],
   "source": [
    "az storage blob list --container-name ${STORAGE_CONTAINER} --account-name ${STORAGE_ACCOUNT} --account-key ${ACCOUNT_KEY} -o table"
   ]
  },
  {
   "cell_type": "markdown",
   "metadata": {},
   "source": [
    "example)\n",
    "```\n",
    "Name                                Blob Type    Blob Tier    Length    Content Type              Last Modified              Snapshot\n",
    "----------------------------------  -----------  -----------  --------  ------------------------  -------------------------  ----------\n",
    "mongodump_20190607174832JST.tar.gz  BlockBlob                 700       application/octet-stream  2019-06-07T08:48:33+00:00\n",
    "```"
   ]
  },
  {
   "cell_type": "code",
   "execution_count": null,
   "metadata": {},
   "outputs": [],
   "source": [
    "kubectl delete job simple-dump-job"
   ]
  },
  {
   "cell_type": "markdown",
   "metadata": {},
   "source": [
    "## start cronjob"
   ]
  },
  {
   "cell_type": "code",
   "execution_count": null,
   "metadata": {},
   "outputs": [],
   "source": [
    "envsubst < mongodb/simple-dump-cronjob.yaml | kubectl apply -f -"
   ]
  },
  {
   "cell_type": "code",
   "execution_count": null,
   "metadata": {},
   "outputs": [],
   "source": [
    "kubectl get cronjobs -l job=simple-dump-cronjob"
   ]
  },
  {
   "cell_type": "markdown",
   "metadata": {},
   "source": [
    "example)\n",
    "```\n",
    "NAME                  SCHEDULE         SUSPEND   ACTIVE   LAST SCHEDULE   AGE\n",
    "simple-dump-cornjob   0 0-23/3 * * *   False     0        <none>          12s\n",
    "```"
   ]
  },
  {
   "cell_type": "markdown",
   "metadata": {},
   "source": [
    "**the backup job will start every day at 00:00, 03:00, 06:00, 09:00, 12:00, 15:00, 18:00, 21:00**"
   ]
  }
 ],
 "metadata": {
  "kernelspec": {
   "display_name": "Bash",
   "language": "bash",
   "name": "bash"
  },
  "language_info": {
   "codemirror_mode": "shell",
   "file_extension": ".sh",
   "mimetype": "text/x-sh",
   "name": "bash"
  }
 },
 "nbformat": 4,
 "nbformat_minor": 2
}
