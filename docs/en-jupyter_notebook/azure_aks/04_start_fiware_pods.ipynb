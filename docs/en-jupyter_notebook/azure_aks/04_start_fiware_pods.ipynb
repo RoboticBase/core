{
 "cells": [
  {
   "cell_type": "markdown",
   "metadata": {},
   "source": [
    "# 4 start FIWARE pods on Azure AKS"
   ]
  },
  {
   "cell_type": "markdown",
   "metadata": {},
   "source": [
    "change ${PJ_ROOT} to your directory."
   ]
  },
  {
   "cell_type": "code",
   "execution_count": null,
   "metadata": {},
   "outputs": [],
   "source": [
    "export PJ_ROOT=\"${HOME}/core\"\n",
    "cd ${PJ_ROOT};pwd"
   ]
  },
  {
   "cell_type": "markdown",
   "metadata": {},
   "source": [
    "example)\n",
    "```\n",
    "/Users/user/core\n",
    "```"
   ]
  },
  {
   "cell_type": "markdown",
   "metadata": {},
   "source": [
    "## load environment variables"
   ]
  },
  {
   "cell_type": "code",
   "execution_count": null,
   "metadata": {},
   "outputs": [],
   "source": [
    "source ${PJ_ROOT}/docs/environments/azure_aks/env"
   ]
  },
  {
   "cell_type": "markdown",
   "metadata": {},
   "source": [
    "## start fiware orion on AKS\n",
    "[fiware orion](https://catalogue-server.fiware.org/enablers/publishsubscribe-context-broker-orion-context-broker)"
   ]
  },
  {
   "cell_type": "code",
   "execution_count": null,
   "metadata": {},
   "outputs": [],
   "source": [
    "kubectl apply -f orion/orion-service.yaml"
   ]
  },
  {
   "cell_type": "code",
   "execution_count": null,
   "metadata": {},
   "outputs": [],
   "source": [
    "kubectl apply -f orion/orion-deployment.yaml"
   ]
  },
  {
   "cell_type": "code",
   "execution_count": null,
   "metadata": {},
   "outputs": [],
   "source": [
    "kubectl get pods -l app=orion"
   ]
  },
  {
   "cell_type": "markdown",
   "metadata": {},
   "source": [
    "example)\n",
    "```\n",
    "NAME                     READY     STATUS    RESTARTS   AGE\n",
    "orion-54f5cdcb5d-d2pt5   1/1       Running   0          56s\n",
    "orion-54f5cdcb5d-hv274   1/1       Running   0          56s\n",
    "orion-54f5cdcb5d-xbnx2   1/1       Running   0          56s\n",
    "```"
   ]
  },
  {
   "cell_type": "code",
   "execution_count": null,
   "metadata": {},
   "outputs": [],
   "source": [
    "kubectl get services -l app=orion"
   ]
  },
  {
   "cell_type": "markdown",
   "metadata": {},
   "source": [
    "example)\n",
    "```\n",
    "NAME      TYPE        CLUSTER-IP    EXTERNAL-IP   PORT(S)    AGE\n",
    "orion     ClusterIP   10.0.44.126   <none>        1026/TCP   1m\n",
    "```"
   ]
  },
  {
   "cell_type": "code",
   "execution_count": null,
   "metadata": {},
   "outputs": [],
   "source": [
    "curl -i https://api.${DOMAIN}/orion/v2/entities/"
   ]
  },
  {
   "cell_type": "markdown",
   "metadata": {},
   "source": [
    "example)\n",
    "```\n",
    "HTTP/1.1 401 Unauthorized\n",
    "content-length: 60\n",
    "content-type: text/plain\n",
    "www-authenticate: Bearer realm=\"token_required\"\n",
    "date: Thu, 14 Feb 2019 06:32:37 GMT\n",
    "server: envoy\n",
    "\n",
    "{\"authorized\":false,\"error\":\"missing Header: authorization\"}\n",
    "```"
   ]
  },
  {
   "cell_type": "code",
   "execution_count": null,
   "metadata": {},
   "outputs": [],
   "source": [
    "TOKEN=$(cat ${PJ_ROOT}/secrets/auth-tokens.json | jq '.[0].settings.bearer_tokens[0].token' -r)\n",
    "curl -i -H \"Authorization: bearer ${TOKEN}\" https://api.${DOMAIN}/orion/v2/entities/"
   ]
  },
  {
   "cell_type": "markdown",
   "metadata": {},
   "source": [
    "example)\n",
    "```\n",
    "HTTP/1.1 200 OK\n",
    "content-length: 2\n",
    "content-type: application/json\n",
    "fiware-correlator: 4731eb48-4dc1-11e8-b1a2-0a580af4010a\n",
    "date: Wed, 02 May 2018 04:28:35 GMT\n",
    "x-envoy-upstream-service-time: 5\n",
    "server: envoy\n",
    "\n",
    "[]\n",
    "```"
   ]
  },
  {
   "cell_type": "markdown",
   "metadata": {},
   "source": [
    "**If you can't get 200 OK, please restart all ambassador's pods like \"ambassador-cf99ff6bb-45jpl\", \"ambassador-cf99ff6bb-8kht7\" and \"ambassador-cf99ff6bb-lv2tk\"**"
   ]
  },
  {
   "cell_type": "markdown",
   "metadata": {},
   "source": [
    "## start fiware idas on AKS\n",
    "[fiware IDAS](https://catalogue-server.fiware.org/enablers/backend-device-management-idas)"
   ]
  },
  {
   "cell_type": "markdown",
   "metadata": {},
   "source": [
    "**Please choose whether you want to use [iotagent-ul](https://github.com/telefonicaid/iotagent-ul) or [iotagent-json](https://github.com/telefonicaid/iotagent-json), and start the one you chose.**"
   ]
  },
  {
   "cell_type": "markdown",
   "metadata": {},
   "source": [
    "### option 1: start iotagent-ul"
   ]
  },
  {
   "cell_type": "code",
   "execution_count": null,
   "metadata": {},
   "outputs": [],
   "source": [
    "env IOTA_PASSWORD=${MQTT__iotagent} envsubst < idas/rb-config-ul.js > /tmp/rb-config-ul.js\n",
    "kubectl create secret generic iotagent-ul-config --from-file /tmp/rb-config-ul.js\n",
    "rm /tmp/rb-config-ul.js"
   ]
  },
  {
   "cell_type": "code",
   "execution_count": null,
   "metadata": {},
   "outputs": [],
   "source": [
    "kubectl apply -f idas/iotagent-ul-service.yaml"
   ]
  },
  {
   "cell_type": "code",
   "execution_count": null,
   "metadata": {},
   "outputs": [],
   "source": [
    "kubectl apply -f idas/iotagent-ul-deployment.yaml"
   ]
  },
  {
   "cell_type": "code",
   "execution_count": null,
   "metadata": {},
   "outputs": [],
   "source": [
    "kubectl get pods -l app=iotagent-ul"
   ]
  },
  {
   "cell_type": "markdown",
   "metadata": {},
   "source": [
    "example)\n",
    "```\n",
    "NAME                           READY     STATUS    RESTARTS   AGE\n",
    "iotagent-ul-79685b64bf-8krps   1/1       Running   0          3m\n",
    "iotagent-ul-79685b64bf-m6nlg   1/1       Running   0          3m\n",
    "iotagent-ul-79685b64bf-mjpbl   1/1       Running   0          3m\n",
    "```"
   ]
  },
  {
   "cell_type": "code",
   "execution_count": null,
   "metadata": {},
   "outputs": [],
   "source": [
    "kubectl get services -l app=iotagent-ul"
   ]
  },
  {
   "cell_type": "markdown",
   "metadata": {},
   "source": [
    "example)\n",
    "```\n",
    "NAME          TYPE        CLUSTER-IP     EXTERNAL-IP   PORT(S)             AGE\n",
    "iotagent-ul   ClusterIP   10.0.180.155   <none>        4041/TCP,7896/TCP   43s\n",
    "```"
   ]
  },
  {
   "cell_type": "code",
   "execution_count": null,
   "metadata": {},
   "outputs": [],
   "source": [
    "TOKEN=$(cat ${PJ_ROOT}/secrets/auth-tokens.json | jq '.[0].settings.bearer_tokens[0].token' -r)\n",
    "curl -i -H \"Authorization: bearer ${TOKEN}\" -H \"Fiware-Service: test\" -H \"Fiware-Servicepath: /*\" https://api.${DOMAIN}/idas/ul20/manage/iot/services/"
   ]
  },
  {
   "cell_type": "markdown",
   "metadata": {},
   "source": [
    "example)\n",
    "```\n",
    "HTTP/1.1 200 OK\n",
    "x-powered-by: Express\n",
    "fiware-correlator: c114fc5e-b4a2-40f6-b7fe-1d68369784e5\n",
    "content-type: application/json; charset=utf-8\n",
    "content-length: 25\n",
    "etag: W/\"19-WMYe0U6ocKhQjp+oaVnMHLdbylc\"\n",
    "date: Wed, 02 May 2018 06:16:18 GMT\n",
    "x-envoy-upstream-service-time: 9\n",
    "server: envoy\n",
    "\n",
    "{\"count\":0,\"services\":[]}\n",
    "```"
   ]
  },
  {
   "cell_type": "markdown",
   "metadata": {},
   "source": [
    "**If you can't get 200 OK, please restart all ambassador's pods like \"ambassador-cf99ff6bb-45jpl\", \"ambassador-cf99ff6bb-8kht7\" and \"ambassador-cf99ff6bb-lv2tk\"**"
   ]
  },
  {
   "cell_type": "markdown",
   "metadata": {},
   "source": [
    "### option 2: start iotagent-json"
   ]
  },
  {
   "cell_type": "code",
   "execution_count": null,
   "metadata": {},
   "outputs": [],
   "source": [
    "env IOTA_PASSWORD=${MQTT__iotagent} envsubst < idas/rb-config-json.js > /tmp/rb-config-json.js\n",
    "kubectl create secret generic iotagent-json-config --from-file /tmp/rb-config-json.js\n",
    "rm /tmp/rb-config-json.js"
   ]
  },
  {
   "cell_type": "code",
   "execution_count": null,
   "metadata": {},
   "outputs": [],
   "source": [
    "kubectl apply -f idas/iotagent-json-service.yaml"
   ]
  },
  {
   "cell_type": "code",
   "execution_count": null,
   "metadata": {},
   "outputs": [],
   "source": [
    "kubectl apply -f idas/iotagent-json-deployment.yaml"
   ]
  },
  {
   "cell_type": "code",
   "execution_count": null,
   "metadata": {},
   "outputs": [],
   "source": [
    "kubectl get pods -l app=iotagent-json"
   ]
  },
  {
   "cell_type": "markdown",
   "metadata": {},
   "source": [
    "example)\n",
    "```\n",
    "NAME                             READY   STATUS    RESTARTS   AGE\n",
    "iotagent-json-65879f88b4-2h2hx   1/1     Running   0          53s\n",
    "iotagent-json-65879f88b4-r9sv2   1/1     Running   0          53s\n",
    "iotagent-json-65879f88b4-xx9dl   1/1     Running   0          53s\n",
    "```"
   ]
  },
  {
   "cell_type": "code",
   "execution_count": null,
   "metadata": {},
   "outputs": [],
   "source": [
    "kubectl get services -l app=iotagent-json"
   ]
  },
  {
   "cell_type": "markdown",
   "metadata": {},
   "source": [
    "example)\n",
    "```\n",
    "NAME            TYPE        CLUSTER-IP     EXTERNAL-IP   PORT(S)             AGE\n",
    "iotagent-json   ClusterIP   10.111.43.11   <none>        4041/TCP,7896/TCP   2m\n",
    "```"
   ]
  },
  {
   "cell_type": "code",
   "execution_count": null,
   "metadata": {},
   "outputs": [],
   "source": [
    "TOKEN=$(cat ${PJ_ROOT}/secrets/auth-tokens.json | jq '.[0].settings.bearer_tokens[0].token' -r)\n",
    "curl -i -H \"Authorization: bearer ${TOKEN}\" -H \"Fiware-Service: test\" -H \"Fiware-Servicepath: /*\" https://api.${DOMAIN}/idas/json/manage/iot/services/"
   ]
  },
  {
   "cell_type": "markdown",
   "metadata": {},
   "source": [
    "example)\n",
    "```\n",
    "HTTP/1.1 200 OK\n",
    "x-powered-by: Express\n",
    "fiware-correlator: ba082601-9ed9-4c2a-8fca-4d05ef30edb4\n",
    "content-type: application/json; charset=utf-8\n",
    "content-length: 25\n",
    "etag: W/\"19-WMYe0U6ocKhQjp+oaVnMHLdbylc\"\n",
    "date: Wed, 24 Apr 2019 04:50:37 GMT\n",
    "x-envoy-upstream-service-time: 12\n",
    "server: envoy\n",
    "\n",
    "{\"count\":0,\"services\":[]}\n",
    "```"
   ]
  },
  {
   "cell_type": "markdown",
   "metadata": {},
   "source": [
    "**If you can't get 200 OK, please restart all ambassador's pods like \"ambassador-cf99ff6bb-45jpl\", \"ambassador-cf99ff6bb-8kht7\" and \"ambassador-cf99ff6bb-lv2tk\"**"
   ]
  },
  {
   "cell_type": "markdown",
   "metadata": {},
   "source": [
    "## start fiware cygnus (mongodb sink) on AKS\n",
    "[fiware cygnus](https://catalogue-server.fiware.org/enablers/cygnus)"
   ]
  },
  {
   "cell_type": "markdown",
   "metadata": {},
   "source": [
    "### start cygnus-mongo"
   ]
  },
  {
   "cell_type": "code",
   "execution_count": null,
   "metadata": {},
   "outputs": [],
   "source": [
    "kubectl apply -f cygnus/cygnus-mongo-service.yaml"
   ]
  },
  {
   "cell_type": "code",
   "execution_count": null,
   "metadata": {},
   "outputs": [],
   "source": [
    "kubectl apply -f cygnus/cygnus-mongo-deployment.yaml"
   ]
  },
  {
   "cell_type": "code",
   "execution_count": null,
   "metadata": {},
   "outputs": [],
   "source": [
    "kubectl get pods -l app=cygnus-mongo"
   ]
  },
  {
   "cell_type": "markdown",
   "metadata": {},
   "source": [
    "example)\n",
    "```\n",
    "NAME                            READY     STATUS    RESTARTS   AGE\n",
    "cygnus-mongo-588cb8cb46-42bcn   1/1       Running   0          1m\n",
    "cygnus-mongo-588cb8cb46-k9cr2   1/1       Running   0          1m\n",
    "cygnus-mongo-588cb8cb46-phvst   1/1       Running   0          1m\n",
    "```"
   ]
  },
  {
   "cell_type": "code",
   "execution_count": null,
   "metadata": {},
   "outputs": [],
   "source": [
    "kubectl get services -l app=cygnus-mongo"
   ]
  },
  {
   "cell_type": "markdown",
   "metadata": {},
   "source": [
    "example)\n",
    "```\n",
    "NAME           TYPE        CLUSTER-IP   EXTERNAL-IP   PORT(S)             AGE\n",
    "cygnus-mongo   ClusterIP   10.0.10.63   <none>        5050/TCP,8081/TCP   1m\n",
    "```"
   ]
  },
  {
   "cell_type": "markdown",
   "metadata": {},
   "source": [
    "## start fiware sth-comet on AKS\n",
    "[fiware sth-comet](https://catalogue-server.fiware.org/enablers/sth-comet)"
   ]
  },
  {
   "cell_type": "markdown",
   "metadata": {},
   "source": [
    "### start sth-comet"
   ]
  },
  {
   "cell_type": "code",
   "execution_count": null,
   "metadata": {},
   "outputs": [],
   "source": [
    "kubectl apply -f comet/comet-service.yaml"
   ]
  },
  {
   "cell_type": "code",
   "execution_count": null,
   "metadata": {},
   "outputs": [],
   "source": [
    "kubectl apply -f comet/comet-deployment.yaml"
   ]
  },
  {
   "cell_type": "code",
   "execution_count": null,
   "metadata": {},
   "outputs": [],
   "source": [
    "kubectl get pods -l app=comet"
   ]
  },
  {
   "cell_type": "markdown",
   "metadata": {},
   "source": [
    "example)\n",
    "```\n",
    "NAME                    READY   STATUS    RESTARTS   AGE\n",
    "comet-7fb8b9554-bfrwl   1/1     Running   0          26s\n",
    "comet-7fb8b9554-hbmkx   1/1     Running   0          26s\n",
    "comet-7fb8b9554-ms94m   1/1     Running   0          26s\n",
    "```"
   ]
  },
  {
   "cell_type": "code",
   "execution_count": null,
   "metadata": {},
   "outputs": [],
   "source": [
    "kubectl get services -l app=comet"
   ]
  },
  {
   "cell_type": "markdown",
   "metadata": {},
   "source": [
    "example)\n",
    "```\n",
    "NAME    TYPE        CLUSTER-IP     EXTERNAL-IP   PORT(S)    AGE\n",
    "comet   ClusterIP   10.0.120.142   <none>        8666/TCP   67s\n",
    "```"
   ]
  },
  {
   "cell_type": "code",
   "execution_count": null,
   "metadata": {},
   "outputs": [],
   "source": [
    "TOKEN=$(cat ${PJ_ROOT}/secrets/auth-tokens.json | jq '.[0].settings.bearer_tokens[0].token' -r)\n",
    "curl -i -H \"Authorization: bearer ${TOKEN}\" -H \"Fiware-Service: test\" -H \"Fiware-Servicepath: /*\" https://api.${DOMAIN}/comet/STH/v1/contextEntities/"
   ]
  },
  {
   "cell_type": "markdown",
   "metadata": {},
   "source": [
    "example)\n",
    "```\n",
    "HTTP/1.1 404 Not Found\n",
    "fiware-correlator: 7db06a49-57a2-465f-a4ef-714d8e773637\n",
    "content-type: application/json; charset=utf-8\n",
    "cache-control: no-cache\n",
    "content-length: 38\n",
    "vary: accept-encoding\n",
    "date: Tue, 18 Jun 2019 03:55:17 GMT\n",
    "x-envoy-upstream-service-time: 4\n",
    "server: envoy\n",
    "\n",
    "{\"statusCode\":404,\"error\":\"Not Found\"}\n",
    "```"
   ]
  }
 ],
 "metadata": {
  "kernelspec": {
   "display_name": "Bash",
   "language": "bash",
   "name": "bash"
  },
  "language_info": {
   "codemirror_mode": "shell",
   "file_extension": ".sh",
   "mimetype": "text/x-sh",
   "name": "bash"
  }
 },
 "nbformat": 4,
 "nbformat_minor": 2
}
