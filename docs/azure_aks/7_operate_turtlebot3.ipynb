{
 "cells": [
  {
   "cell_type": "markdown",
   "metadata": {},
   "source": [
    "# 7 operate turtlebot3 using gamepad and web controller"
   ]
  },
  {
   "cell_type": "markdown",
   "metadata": {},
   "source": [
    "## prepare turlebot3\n",
    "You can use either `turtlebot3_simulator` (A.) or actual `turtlebot3` robot (B.)."
   ]
  },
  {
   "cell_type": "markdown",
   "metadata": {},
   "source": [
    "### A. use \"turtlebot3 simulator\" on Ubuntu desktop"
   ]
  },
  {
   "cell_type": "markdown",
   "metadata": {},
   "source": [
    "#### prepare Ubuntu desktop as a turlebot3 simulator "
   ]
  },
  {
   "cell_type": "markdown",
   "metadata": {},
   "source": [
    "1. install `telepresence`\n",
    "\n",
    "```bash\n",
    "turtlebot3@turtlebot3-fake:~$ curl -s https://packagecloud.io/install/repositories/datawireio/telepresence/script.deb.sh | sudo bash\n",
    "turtlebot3@turtlebot3-fake:~$ sudo apt install --no-install-recommends telepresence\n",
    "```\n",
    "\n",
    "```bash\n",
    "turtlebot3@turtlebot3-fake:~$ telepresence --version\n",
    "0.92\n",
    "```"
   ]
  },
  {
   "cell_type": "markdown",
   "metadata": {},
   "source": [
    "#### launch turtlebot3 simulator"
   ]
  },
  {
   "cell_type": "markdown",
   "metadata": {},
   "source": [
    "1. start a terminal on Ubuntu Desktop.\n",
    "2. start port-forward to `ros-master`\n",
    "\n",
    "```bash\n",
    "turtlebot3@turtlebot3-fake:~/ros_ws$ kubectl port-forward $(kubectl get pods -l app=ros-master -o template --template \"{{(index .items 0).metadata.name}}\") 11311:11311\n",
    "```\n",
    "3. run telepresence shell\n",
    "\n",
    "```bash\n",
    "turtlebot3@turtlebot3-fake:~/ros_ws$ telepresence --run-shell\n",
    "```\n",
    "4. set `ROS_MASTER_URI` and `ROS_HOSTNAME`\n",
    "\n",
    "```bash\n",
    "@minikube|bash-4.3$ export ROS_MASTER_URI=http://localhost:11311\n",
    "@minikube|bash-4.3$ export ROS_HOSTNAME=$(minikube ip)\n",
    "```\n",
    "5. launch turtlebot3_fake on telepresence shell\n",
    "\n",
    "```bash\n",
    "@minikube|bash-4.3$ roslaunch turtlebot3_fake turtlebot3_fake.launch\n",
    "```"
   ]
  },
  {
   "cell_type": "markdown",
   "metadata": {},
   "source": [
    "### B. use actual \"turtlebot3\" robot"
   ]
  },
  {
   "cell_type": "markdown",
   "metadata": {},
   "source": [
    "#### prepare Ubuntu desktop as a turlebot3 simulator"
   ]
  },
  {
   "cell_type": "markdown",
   "metadata": {},
   "source": [
    "1. prepare turtlebot3\n",
    "1. clone repositories for this demo from github.\n",
    "    * https://github.com/tech-sketch/fiware_ros_turtlebot3_bridge.git\n",
    "    * https://github.com/tech-sketch/fiware_ros_turtlebot3_operator.git\n",
    "1. make repositories using `catkin_make`."
   ]
  },
  {
   "cell_type": "markdown",
   "metadata": {},
   "source": [
    "#### setup cert file to connect MQTT broker of fiware"
   ]
  },
  {
   "cell_type": "markdown",
   "metadata": {},
   "source": [
    "1. copy the `ca.crt` from local to Ubuntu desktop\n",
    "\n",
    "```bash\n",
    "$ scp ${PJ_ROOT}/secrets/ca.crt ${user}@${Ubuntu_desktop}:${ROS_WS}/src/fiware_ros_turtlebot3_bridge/secrets/ca.crt\n",
    "```"
   ]
  },
  {
   "cell_type": "markdown",
   "metadata": {},
   "source": [
    "#### setup the parameters of MQTT broker"
   ]
  },
  {
   "cell_type": "markdown",
   "metadata": {},
   "source": [
    "1. ssh to turtlebot3.\n",
    "1. setup `mqtt.yaml`\n",
    "\n",
    "```bash\n",
    "ros:$ cp src/fiware_ros_turtlebot3_bridge/config/mqtt.yaml.template src/fiware_ros_turtlebot3_bridge/config/mqtt.yaml\n",
    "ros:$ vi src/fiware_ros_turtlebot3_bridge/config/mqtt.yaml\n",
    "```"
   ]
  },
  {
   "cell_type": "markdown",
   "metadata": {},
   "source": [
    "#### install python libraries for bridge node"
   ]
  },
  {
   "cell_type": "markdown",
   "metadata": {},
   "source": [
    "1. ssh to turtlebot3.\n",
    "1. install python libraries for bridge node\n",
    "\n",
    "```bash\n",
    "ros:$ pip install -r src/fiware_ros_turtlebot3_bridge/requirements/common.txt\n",
    "```"
   ]
  },
  {
   "cell_type": "markdown",
   "metadata": {},
   "source": [
    "#### run roscore"
   ]
  },
  {
   "cell_type": "markdown",
   "metadata": {},
   "source": [
    "1. ssh to turtlebot3.\n",
    "1. run `roscore`.\n",
    "\n",
    "```bash\n",
    "ros:$ roscore\n",
    "```"
   ]
  },
  {
   "cell_type": "markdown",
   "metadata": {},
   "source": [
    "#### launch node to bridge fiware and ROS"
   ]
  },
  {
   "cell_type": "markdown",
   "metadata": {},
   "source": [
    "1. ssh to turtlebot3.\n",
    "1. launch bridge node.\n",
    "\n",
    "```bash\n",
    "ros:$ roslaunch fiware_ros_turtlebot3_bridge fiware_ros_turtlebot3_bridge.launch\n",
    "```\n",
    "\n",
    "* confirm that the bridge node connected MQTT broker successfully.\n",
    "\n",
    "```\n",
    "[INFO] [1531975302.196302]: [fiware_ros_turtlebot3_bridge.base:CmdBridge._on_connect] connected to mqtt broker, status=0\n",
    "[INFO] [1531975302.204255]: [fiware_ros_turtlebot3_bridge.base:AttrsBridge._on_connect] connected to mqtt broker, status=0\n",
    "```\n",
    "\n",
    "if `status` is not 0, `mqtt.yaml` and/or `ca.crt` is invalid."
   ]
  },
  {
   "cell_type": "markdown",
   "metadata": {},
   "source": [
    "#### launch node to operate turtlebot3"
   ]
  },
  {
   "cell_type": "markdown",
   "metadata": {},
   "source": [
    "1. ssh to turtlebot3.\n",
    "1. launch operator node.\n",
    "\n",
    "```bash\n",
    "ros:$ roslaunch fiware_ros_turtlebot3_operator fiware_ros_turtlebot3_operator.launch\n",
    "```"
   ]
  },
  {
   "cell_type": "markdown",
   "metadata": {},
   "source": [
    "#### start turtlebot3"
   ]
  },
  {
   "cell_type": "markdown",
   "metadata": {},
   "source": [
    "1. ssh to turtlebot3.\n",
    "1. launch turtlebot3 robot\n",
    "\n",
    "```bash\n",
    "ros:$ roslaunch turtlebot3_bringup turtlebot3_robot.launch\n",
    "```"
   ]
  },
  {
   "cell_type": "markdown",
   "metadata": {},
   "source": [
    "## operate turtlebot3 using gamepad"
   ]
  },
  {
   "cell_type": "markdown",
   "metadata": {},
   "source": [
    "#### prepare raspberry pi connected to gamepad"
   ]
  },
  {
   "cell_type": "markdown",
   "metadata": {},
   "source": [
    "1. ssh to raspberry pi connected to gamepad.\n",
    "1. clone repositories of gamepad controller from github.\n",
    "    * https://github.com/tech-sketch/fiware-gamepad-controller.git"
   ]
  },
  {
   "cell_type": "markdown",
   "metadata": {},
   "source": [
    "#### setup cert file to connect MQTT broker of fiware"
   ]
  },
  {
   "cell_type": "markdown",
   "metadata": {},
   "source": [
    "1. copy the `ca.crt` from local to raspberry pi\n",
    "\n",
    "```bash\n",
    "$ scp ${PJ_ROOT}/secrets/ca.crt ${user}@${raspberry_pi}:${repogitory_root}/secrets/ca.crt\n",
    "```"
   ]
  },
  {
   "cell_type": "markdown",
   "metadata": {},
   "source": [
    "#### setup the parameters of MQTT broker"
   ]
  },
  {
   "cell_type": "markdown",
   "metadata": {},
   "source": [
    "1. start a terminal on Ubuntu desktop.\n",
    "1. setup `mqtt.yaml`\n",
    "\n",
    "```bash\n",
    "raspberrypi:$ ls conf/pxkwcr-azure.yaml.template conf/pxkwcr-azure.yaml\n",
    "raspberrypi:$ vi conf/pxkwcr-azure.yaml\n",
    "```"
   ]
  },
  {
   "cell_type": "markdown",
   "metadata": {},
   "source": [
    "#### install python libraries for bridge node"
   ]
  },
  {
   "cell_type": "markdown",
   "metadata": {},
   "source": [
    "1. install python libraries for bridge node\n",
    "\n",
    "```bash\n",
    "raspoberypi:$ pip install -r requirements/common.txt\n",
    "```"
   ]
  },
  {
   "cell_type": "markdown",
   "metadata": {},
   "source": [
    "#### run main program"
   ]
  },
  {
   "cell_type": "markdown",
   "metadata": {},
   "source": [
    "1. run program\n",
    "\n",
    "```bash\n",
    "raspberrypi$ ./main.py pxkwcr-azure\n",
    "```\n",
    "\n",
    "* confirm that the raspberry pi connected MQTT broker successfully.\n",
    "\n",
    "```\n",
    "2018/07/19 14:20:12 [   INFO] src.controller - connected mqtt broker[mqtt.cloudconductor.jp:8883], response_code=0\n",
    "```\n",
    "\n",
    "if `response_code` is not 0, `pxkwcr-azure.yaml` and/or `ca.crt` is invalid."
   ]
  },
  {
   "cell_type": "markdown",
   "metadata": {},
   "source": [
    "#### control turtlebot3"
   ]
  },
  {
   "cell_type": "markdown",
   "metadata": {},
   "source": [
    "1. press any button of gamepad.\n",
    "1. turtlebot3 should move according the pressed button."
   ]
  },
  {
   "cell_type": "markdown",
   "metadata": {},
   "source": [
    "## operate turtlebot3 using web controller"
   ]
  },
  {
   "cell_type": "markdown",
   "metadata": {},
   "source": [
    "#### open web controller\n",
    "change ${PJ_ROOT} to your directory."
   ]
  },
  {
   "cell_type": "code",
   "execution_count": null,
   "metadata": {},
   "outputs": [],
   "source": [
    "export PJ_ROOT=\"${HOME}/container-centric-fiware-demonstration\"\n",
    "cd ${PJ_ROOT};pwd"
   ]
  },
  {
   "cell_type": "markdown",
   "metadata": {},
   "source": [
    "example)\n",
    "```\n",
    "/Users/user/container-centric-fiware-demonstration\n",
    "```"
   ]
  },
  {
   "cell_type": "code",
   "execution_count": null,
   "metadata": {},
   "outputs": [],
   "source": [
    "source ${PJ_ROOT}/docs/azure_aks/env"
   ]
  },
  {
   "cell_type": "code",
   "execution_count": null,
   "metadata": {},
   "outputs": [],
   "source": [
    "open https://api.${DOMAIN}/controller/web/"
   ]
  },
  {
   "cell_type": "markdown",
   "metadata": {},
   "source": [
    "#### confirm basic auth username & password"
   ]
  },
  {
   "cell_type": "code",
   "execution_count": null,
   "metadata": {},
   "outputs": [],
   "source": [
    "cat ${PJ_ROOT}/secrets/auth-tokens.json | jq '.basic_auths | map(select(.allowed_paths[] | contains (\"/controller/web\"))) | .[0].username' -r"
   ]
  },
  {
   "cell_type": "code",
   "execution_count": null,
   "metadata": {},
   "outputs": [],
   "source": [
    "cat ${PJ_ROOT}/secrets/auth-tokens.json | jq '.basic_auths | map(select(.allowed_paths[] | contains (\"/controller/web\"))) | .[0].password' -r"
   ]
  },
  {
   "cell_type": "markdown",
   "metadata": {},
   "source": [
    "#### control turtlebot3"
   ]
  },
  {
   "cell_type": "markdown",
   "metadata": {},
   "source": [
    "1. login the opened page using above user & password.\n",
    "1. press any button of web controller.\n",
    "1. turtlebot3 should move according the pressed button."
   ]
  }
 ],
 "metadata": {
  "kernelspec": {
   "display_name": "Bash",
   "language": "bash",
   "name": "bash"
  },
  "language_info": {
   "codemirror_mode": "shell",
   "file_extension": ".sh",
   "mimetype": "text/x-sh",
   "name": "bash"
  }
 },
 "nbformat": 4,
 "nbformat_minor": 2
}
