{
 "cells": [
  {
   "cell_type": "markdown",
   "metadata": {},
   "source": [
    "# 7 operate turtlebot3 using gamepad and web controller"
   ]
  },
  {
   "cell_type": "markdown",
   "metadata": {},
   "source": [
    "## operate turtlebot3 using gamepad"
   ]
  },
  {
   "cell_type": "markdown",
   "metadata": {},
   "source": [
    "#### prepare raspberry pi connected to gamepad"
   ]
  },
  {
   "cell_type": "markdown",
   "metadata": {},
   "source": [
    "1. ssh to raspberry pi connected to gamepad.\n",
    "1. clone repositories of gamepad controller from github.\n",
    "    * https://github.com/tech-sketch/fiware-gamepad-controller.git"
   ]
  },
  {
   "cell_type": "markdown",
   "metadata": {},
   "source": [
    "#### setup cert file to connect MQTT broker of fiware"
   ]
  },
  {
   "cell_type": "markdown",
   "metadata": {},
   "source": [
    "1. copy the `ca.crt` from local to raspberry pi\n",
    "\n",
    "```bash\n",
    "$ scp ${PJ_ROOT}/secrets/ca.crt ${user}@${raspberry_pi}:${repogitory_root}/secrets/ca.crt\n",
    "```"
   ]
  },
  {
   "cell_type": "markdown",
   "metadata": {},
   "source": [
    "#### setup the parameters of MQTT broker"
   ]
  },
  {
   "cell_type": "markdown",
   "metadata": {},
   "source": [
    "1. start a terminal on Ubuntu desktop.\n",
    "1. setup `mqtt.yaml`\n",
    "\n",
    "```bash\n",
    "raspberrypi:$ ls conf/pxkwcr-azure.yaml.template conf/pxkwcr-azure.yaml\n",
    "raspberrypi:$ vi conf/pxkwcr-azure.yaml\n",
    "```"
   ]
  },
  {
   "cell_type": "markdown",
   "metadata": {},
   "source": [
    "#### install python libraries for bridge node"
   ]
  },
  {
   "cell_type": "markdown",
   "metadata": {},
   "source": [
    "1. install python libraries for bridge node\n",
    "\n",
    "```bash\n",
    "raspoberypi:$ pip install -r requirements/common.txt\n",
    "```"
   ]
  },
  {
   "cell_type": "markdown",
   "metadata": {},
   "source": [
    "#### run main program"
   ]
  },
  {
   "cell_type": "markdown",
   "metadata": {},
   "source": [
    "1. run program\n",
    "\n",
    "```bash\n",
    "raspberrypi$ ./main.py pxkwcr-azure\n",
    "```\n",
    "\n",
    "* confirm that the raspberry pi connected MQTT broker successfully.\n",
    "\n",
    "```\n",
    "2018/07/19 14:20:12 [   INFO] src.controller - connected mqtt broker[mqtt.cloudconductor.jp:8883], response_code=0\n",
    "```\n",
    "\n",
    "if `response_code` is not 0, `pxkwcr-azure.yaml` and/or `ca.crt` is invalid."
   ]
  },
  {
   "cell_type": "markdown",
   "metadata": {},
   "source": [
    "#### control turtlebot3"
   ]
  },
  {
   "cell_type": "markdown",
   "metadata": {},
   "source": [
    "1. press any button of gamepad.\n",
    "1. turtlebot3 should move according the pressed button."
   ]
  },
  {
   "cell_type": "markdown",
   "metadata": {},
   "source": [
    "## operate turtlebot3 using web controller"
   ]
  },
  {
   "cell_type": "markdown",
   "metadata": {},
   "source": [
    "#### open web controller\n",
    "change ${PJ_ROOT} to your directory."
   ]
  },
  {
   "cell_type": "code",
   "execution_count": null,
   "metadata": {},
   "outputs": [],
   "source": [
    "export PJ_ROOT=\"${HOME}/container-centric-fiware-demonstration\"\n",
    "cd ${PJ_ROOT};pwd"
   ]
  },
  {
   "cell_type": "markdown",
   "metadata": {},
   "source": [
    "example)\n",
    "```\n",
    "/Users/user/container-centric-fiware-demonstration\n",
    "```"
   ]
  },
  {
   "cell_type": "code",
   "execution_count": null,
   "metadata": {},
   "outputs": [],
   "source": [
    "source ${PJ_ROOT}/docs/azure_aks/env"
   ]
  },
  {
   "cell_type": "code",
   "execution_count": null,
   "metadata": {},
   "outputs": [],
   "source": [
    "open https://api.${DOMAIN}/controller/web/"
   ]
  },
  {
   "cell_type": "markdown",
   "metadata": {},
   "source": [
    "#### confirm basic auth username & password"
   ]
  },
  {
   "cell_type": "code",
   "execution_count": null,
   "metadata": {},
   "outputs": [],
   "source": [
    "cat ${PJ_ROOT}/secrets/auth-tokens.json | jq '.basic_auths | map(select(.allowed_paths[] | contains (\"/controller/web\"))) | .[0].username' -r"
   ]
  },
  {
   "cell_type": "code",
   "execution_count": null,
   "metadata": {},
   "outputs": [],
   "source": [
    "cat ${PJ_ROOT}/secrets/auth-tokens.json | jq '.basic_auths | map(select(.allowed_paths[] | contains (\"/controller/web\"))) | .[0].password' -r"
   ]
  },
  {
   "cell_type": "markdown",
   "metadata": {},
   "source": [
    "#### control turtlebot3"
   ]
  },
  {
   "cell_type": "markdown",
   "metadata": {},
   "source": [
    "1. login the opened page using above user & password.\n",
    "1. press any button of web controller.\n",
    "1. turtlebot3 should move according the pressed button."
   ]
  }
 ],
 "metadata": {
  "kernelspec": {
   "display_name": "Bash",
   "language": "bash",
   "name": "bash"
  },
  "language_info": {
   "codemirror_mode": "shell",
   "file_extension": ".sh",
   "mimetype": "text/x-sh",
   "name": "bash"
  }
 },
 "nbformat": 4,
 "nbformat_minor": 2
}
