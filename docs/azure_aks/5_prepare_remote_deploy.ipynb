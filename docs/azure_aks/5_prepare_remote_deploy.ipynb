{
 "cells": [
  {
   "cell_type": "markdown",
   "metadata": {},
   "source": [
    "# 5 prepare remote deploy"
   ]
  },
  {
   "cell_type": "markdown",
   "metadata": {},
   "source": [
    "## prepare turtlebot3\n",
    "You can use either turtlebot3_simulator (A.) or actual turtlebot3 robot (B.)."
   ]
  },
  {
   "cell_type": "markdown",
   "metadata": {},
   "source": [
    "### A. use \"turtlebot3 simulator\" on Ubuntu desktop"
   ]
  },
  {
   "cell_type": "markdown",
   "metadata": {},
   "source": [
    "#### prepare Ubuntu desktop as a turlebot3 simulator "
   ]
  },
  {
   "cell_type": "markdown",
   "metadata": {},
   "source": [
    "1. prepare Ubuntu 16.04 desktop\n",
    "    * If you use a virtual machine on VirtualBox as Ubuntu desktop, confirm below:\n",
    "        * \"3d acceralation\" of display is \"OFF\"\n",
    "        * set `export LIBGL_ALWAYS_SOFTWARE=1` to your .bashrc\n",
    "1. set `export TURTLEBOT3_MODEL=waffle` to your .bashrc\n",
    "1. install `ros-kinetic-desktop-full` and `ros-kinetic-rqt-*` using `apt`.\n",
    "1. create ROS workspace.\n",
    "1. clone repositories of turtlebot3_simulator from github.\n",
    "    * https://github.com/ROBOTIS-GIT/turtlebot3.git\n",
    "    * https://github.com/ROBOTIS-GIT/turtlebot3_msgs.git\n",
    "    * https://github.com/ROBOTIS-GIT/turtlebot3_simulations.git\n",
    "1. make repositories using `catkin_make`."
   ]
  },
  {
   "cell_type": "markdown",
   "metadata": {},
   "source": [
    "### B. use actual \"turtlebot3\" robot"
   ]
  },
  {
   "cell_type": "markdown",
   "metadata": {},
   "source": [
    "#### prepare Ubuntu desktop as a turlebot3 simulator"
   ]
  },
  {
   "cell_type": "markdown",
   "metadata": {},
   "source": [
    "1. prepare turtlebot3\n",
    "1. make repositories using `catkin_make`."
   ]
  },
  {
   "cell_type": "markdown",
   "metadata": {},
   "source": [
    "## change ${PJ_ROOT} to your directory."
   ]
  },
  {
   "cell_type": "code",
   "execution_count": null,
   "metadata": {},
   "outputs": [],
   "source": [
    "export PJ_ROOT=\"${HOME}/container-centric-fiware-demonstration\"\n",
    "cd ${PJ_ROOT};pwd"
   ]
  },
  {
   "cell_type": "markdown",
   "metadata": {},
   "source": [
    "example)\n",
    "```\n",
    "/Users/user/container-centric-fiware-demonstration\n",
    "```"
   ]
  },
  {
   "cell_type": "markdown",
   "metadata": {},
   "source": [
    "## load environment variables"
   ]
  },
  {
   "cell_type": "code",
   "execution_count": null,
   "metadata": {},
   "outputs": [],
   "source": [
    "source ${PJ_ROOT}/docs/azure_aks/env"
   ]
  },
  {
   "cell_type": "code",
   "execution_count": null,
   "metadata": {},
   "outputs": [],
   "source": [
    "export TURTLEBOT3_USER=turtlebot3\n",
    "export TURTLEBOT3_HOST=turtlebot3.local"
   ]
  },
  {
   "cell_type": "markdown",
   "metadata": {},
   "source": [
    "## setup cert file to connect MQTT broker of fiware"
   ]
  },
  {
   "cell_type": "markdown",
   "metadata": {},
   "source": [
    "### prepare a command to scp cafile to Ubuntu Desktop and/or turtlebot3"
   ]
  },
  {
   "cell_type": "code",
   "execution_count": null,
   "metadata": {},
   "outputs": [],
   "source": [
    "echo \"scp ${PJ_ROOT}/secrets/ca.crt ${TURTLEBOT3_USER}@${TURTLEBOT3_HOST}:/tmp/ca.crt\""
   ]
  },
  {
   "cell_type": "markdown",
   "metadata": {},
   "source": [
    "### set up cert file"
   ]
  },
  {
   "cell_type": "markdown",
   "metadata": {},
   "source": [
    "1. create a directory\n",
    "\n",
    "```bash\n",
    "turtlebot3@turtlebot3:~$ sudo mkdir /etc/mqtt-kube-operator\n",
    "```\n",
    "2. scp the `ca.crt` from local to Ubuntu desktop\n",
    "3. move cert file to the created directory\n",
    "\n",
    "```bash\n",
    "turtlebot3@turtlebot3:~$ sudo mv /tmp/ca.crt /etc/mqtt-kube-operator/\n",
    "```"
   ]
  },
  {
   "cell_type": "markdown",
   "metadata": {},
   "source": [
    "## setup docker"
   ]
  },
  {
   "cell_type": "markdown",
   "metadata": {},
   "source": [
    "1. install required packages\n",
    "\n",
    "```bash\n",
    "turtlebot3@turtlebot3:~$ sudo apt update\n",
    "turtlebot3@turtlebot3:~$ sudo apt update -y\n",
    "turtlebot3@turtlebot3:~$ sudo apt install apt-transport-https ca-certificates curl software-properties-common\n",
    "  ```\n",
    "2. add Docker’s official GPG key:\n",
    "\n",
    "```bash\n",
    "turtlebot3@turtlebot3:~$ curl -fsSL https://download.docker.com/linux/ubuntu/gpg | sudo apt-key add -\n",
    "```\n",
    "3. set up the stable repository of Docker\n",
    "\n",
    "```bash\n",
    "turtlebot3@turtlebot3:~$ sudo add-apt-repository \"deb [arch=amd64] https://download.docker.com/linux/ubuntu $(lsb_release -cs) stable\"\n",
    "```\n",
    "4. install Docker\n",
    "\n",
    "```bash\n",
    "turtlebot3@turtlebot3:~$ sudo apt update\n",
    "turtlebot3@turtlebot3:~$ sudo apt install docker-ce -y\n",
    "```\n",
    "5. verify instration\n",
    "\n",
    "```bash\n",
    "turtlebot3@turtlebot3:~$ sudo docker run hello-world\n",
    "```"
   ]
  },
  {
   "cell_type": "markdown",
   "metadata": {},
   "source": [
    "## setup minikube"
   ]
  },
  {
   "cell_type": "markdown",
   "metadata": {},
   "source": [
    "1. setup minikube\n",
    "\n",
    "```bash\n",
    "turtlebot3@turtlebot3:~$ curl -Lo minikube https://storage.googleapis.com/minikube/releases/latest/minikube-linux-amd64 && chmod +x minikube && sudo cp minikube /usr/local/bin/ && rm minikube\n",
    "```\n",
    "2. verify instration\n",
    "\n",
    "```bash\n",
    "turtlebot3@turtlebot3:~$ minikube version\n",
    "```"
   ]
  },
  {
   "cell_type": "markdown",
   "metadata": {},
   "source": [
    "## setup kubectl"
   ]
  },
  {
   "cell_type": "markdown",
   "metadata": {},
   "source": [
    "1. setup kubectl\n",
    "\n",
    "```bash\n",
    "turtlebot3@turtlebot3:~$ curl -Lo kubectl https://storage.googleapis.com/kubernetes-release/release/$(curl -s https://storage.googleapis.com/kubernetes-release/release/stable.txt)/bin/linux/amd64/kubectl && chmod +x kubectl && sudo cp kubectl /usr/local/bin/ && rm kubectl\n",
    "```\n",
    "2. verify instration\n",
    "\n",
    "```bash\n",
    "turtlebot3@turtlebot3:~$ kubectl version --client\n",
    "```"
   ]
  },
  {
   "cell_type": "markdown",
   "metadata": {},
   "source": [
    "## setup telepresence"
   ]
  },
  {
   "cell_type": "markdown",
   "metadata": {},
   "source": [
    "1. setup repository\n",
    "\n",
    "```bash\n",
    "turtlebot3@turtlebot3:~$ curl -s https://packagecloud.io/install/repositories/datawireio/telepresence/script.deb.sh | sudo bash\n",
    "```\n",
    "2. install telepresence\n",
    "\n",
    "```bash\n",
    "turtlebot3@turtlebot3:~$ sudo apt install --no-install-recommends telepresence -y\n",
    "```"
   ]
  },
  {
   "cell_type": "markdown",
   "metadata": {},
   "source": [
    "## start minikube without virtualization"
   ]
  },
  {
   "cell_type": "markdown",
   "metadata": {},
   "source": [
    "### start minikube"
   ]
  },
  {
   "cell_type": "markdown",
   "metadata": {},
   "source": [
    "1. create `.kube/config`\n",
    "\n",
    "```bash\n",
    "turtlebot3@turtlebot3:~$ rm -rf ~/.kube/\n",
    "turtlebot3@turtlebot3:~$ mkdir -p $HOME/.kube\n",
    "turtlebot3@turtlebot3:~$ touch $HOME/.kube/config\n",
    "```\n",
    "2. setup environment variables\n",
    "\n",
    "```bash\n",
    "turtlebot3@turtlebot3:~$ export MINIKUBE_HOME=$HOME\n",
    "turtlebot3@turtlebot3:~$ export CHANGE_MINIKUBE_NONE_USER=true\n",
    "turtlebot3@turtlebot3:~$ export KUBECONFIG=$HOME/.kube/config\n",
    "```\n",
    "3. start minikube without virtualization\n",
    "\n",
    "```bash\n",
    "turtlebot3@turtlebot3:~$ sudo -E minikube start --memory 2048 --vm-driver=none\n",
    "```\n",
    "4. verify minikube\n",
    "\n",
    "```bash\n",
    "turtlebot3@turtlebot3:~$ kubectl version\n",
    "turtlebot3@turtlebot3:~$ kubectl get nodes\n",
    "```"
   ]
  },
  {
   "cell_type": "markdown",
   "metadata": {},
   "source": [
    "### confirm the dns settings of minkube"
   ]
  },
  {
   "cell_type": "markdown",
   "metadata": {},
   "source": [
    "1. try to dig `www.google.com`\n",
    "\n",
    "```bash\n",
    "turtlebot3@turtlebot3:~$ kubectl run -it --rm --restart=Never dig --image tutum/dnsutils -- dig www.google.com\n",
    "```\n",
    "2. if you encountered `connection timed out`, you have to setup the additional nameservers to `kube-dns`"
   ]
  },
  {
   "cell_type": "markdown",
   "metadata": {},
   "source": [
    "### setup additional nameservers to `kube-dns`"
   ]
  },
  {
   "cell_type": "markdown",
   "metadata": {},
   "source": [
    "1. prepare `kube-dns-configmap.yaml` like below:\n",
    "\n",
    "```yaml\n",
    "apiVersion: v1\n",
    "kind: ConfigMap\n",
    "metadata:\n",
    "  name: kube-dns\n",
    "  namespace: kube-system\n",
    "  labels:\n",
    "    addonmanager.kubernetes.io/mode: EnsureExists\n",
    "data:\n",
    "  upstreamNameservers: |-\n",
    "    [\"8.8.8.8\", \"8.8.4.4\"]\n",
    "```\n",
    "2. apply `kube-dns-configmap.yaml`\n",
    "\n",
    "```bash\n",
    "turtlebot3@turtlebot3:~$ kubectl apply -f kube-dns-configmap.yaml\n",
    "```\n",
    "3. delete the pod of `kube-dns` (restart `kube-dns` automatically)\n",
    "\n",
    "```bash\n",
    "turtlebot3@turtlebot3:~$ kubectl delete pod -n kube-system $(kubectl get pods -n kube-system -l k8s-app=kube-dns -o template --template \"{{(index .items 0).metadata.name}}\")\n",
    "```\n",
    "4. retry to dig `www.google.com`\n",
    "\n",
    "```bash\n",
    "turtlebot3@turtlebot3:~$ kubectl run -it --rm --restart=Never dig --image tutum/dnsutils -- dig www.google.com\n",
    "```"
   ]
  },
  {
   "cell_type": "markdown",
   "metadata": {},
   "source": [
    "## create Secret to connect MQTT Broker"
   ]
  },
  {
   "cell_type": "markdown",
   "metadata": {},
   "source": [
    "### prepare a command to create Secret of username & password"
   ]
  },
  {
   "cell_type": "code",
   "execution_count": null,
   "metadata": {},
   "outputs": [],
   "source": [
    "echo \"kubectl create secret generic mqtt-username-password --from-literal=mqtt_username=ros --from-literal=mqtt_password=${VERNEMQ__ros}\""
   ]
  },
  {
   "cell_type": "markdown",
   "metadata": {},
   "source": [
    "1. create Secret of username & password using above command\n",
    "2. create Secret of cert file\n",
    "\n",
    "```bash\n",
    "turtlebot3@turtlebot3:~$ kubectl create secret generic mqtt-ca-crt --from-file=/etc/mqtt-kube-operator/ca.crt\n",
    "```"
   ]
  },
  {
   "cell_type": "markdown",
   "metadata": {},
   "source": [
    "### start a pod to operate k8s Resources through MQTT"
   ]
  },
  {
   "cell_type": "markdown",
   "metadata": {},
   "source": [
    "1. preapare `mqtt-kube-operator.yaml` like below:\n",
    "\n",
    "```yaml\n",
    "apiVersion: v1\n",
    "kind: ServiceAccount\n",
    "metadata:\n",
    "  name: mqtt-kube-operator\n",
    "---\n",
    "apiVersion: rbac.authorization.k8s.io/v1\n",
    "kind: Role\n",
    "metadata:\n",
    "  name: mqtt-kube-operator\n",
    "  namespace: default\n",
    "rules:\n",
    "- apiGroups: [\"\"]\n",
    "  resources: [\"services\", \"configmaps\", \"secrets\"]\n",
    "  verbs: [\"get\", \"list\", \"create\", \"update\", \"delete\"]\n",
    "- apiGroups: [\"apps\"]\n",
    "  resources: [\"deployments\"]\n",
    "  verbs: [\"get\", \"list\", \"create\", \"update\", \"delete\"]\n",
    "---\n",
    "apiVersion: rbac.authorization.k8s.io/v1\n",
    "kind: RoleBinding\n",
    "metadata:\n",
    "  name: mqtt-kube-operator\n",
    "  namespace: default\n",
    "roleRef:\n",
    "  apiGroup: rbac.authorization.k8s.io\n",
    "  kind: Role\n",
    "  name: mqtt-kube-operator\n",
    "subjects:\n",
    "- kind: ServiceAccount\n",
    "  name: mqtt-kube-operator\n",
    "  namespace: default\n",
    "---\n",
    "apiVersion: apps/v1\n",
    "kind: Deployment\n",
    "metadata:\n",
    "  name: mqtt-kube-operator\n",
    "spec:\n",
    "  replicas: 1\n",
    "  selector:\n",
    "    matchLabels:\n",
    "      app: mqtt-kube-operator\n",
    "  template:\n",
    "    metadata:\n",
    "      labels:\n",
    "        app: mqtt-kube-operator\n",
    "    spec:\n",
    "      serviceAccountName: mqtt-kube-operator\n",
    "      containers:\n",
    "      - name: mqtt-kube-operator\n",
    "        image: techsketch/mqtt-kube-operator:0.1.0\n",
    "        imagePullPolicy: Always\n",
    "        env:\n",
    "        - name: MQTT_TLS_CA_PATH\n",
    "          value: \"/etc/mqtt/ca.crt\"\n",
    "        - name: MQTT_USERNAME\n",
    "          valueFrom:\n",
    "            secretKeyRef:\n",
    "              name: mqtt-username-password\n",
    "              key: mqtt_username\n",
    "        - name: MQTT_PASSWORD\n",
    "          valueFrom:\n",
    "            secretKeyRef:\n",
    "              name: mqtt-username-password\n",
    "              key: mqtt_password\n",
    "        - name: MQTT_HOST\n",
    "          value: \"<<your mqtt broker host>>\"\n",
    "        - name: MQTT_PORT\n",
    "          value: \"8883\"\n",
    "        - name: MQTT_APPLY_TOPIC\n",
    "          value: \"/mqtt-kube-operator/apply\"\n",
    "        - name: MQTT_DELETE_TOPIC\n",
    "          value: \"/mqtt-kube-operator/delete\"\n",
    "        volumeMounts:\n",
    "        - mountPath: \"/etc/mqtt\"\n",
    "          name: mqtt-ca-crt\n",
    "          readOnly: true\n",
    "      volumes:\n",
    "      - name: mqtt-ca-crt\n",
    "        secret:\n",
    "          secretName: mqtt-ca-crt\n",
    "```\n",
    "2. apply `mqtt-kube-operator.yaml`\n",
    "\n",
    "```bash\n",
    "turtlebot3@turtlebot3:~$ kubectl apply -f mqtt-kube-operator.yaml\n",
    "```\n",
    "3. confirm that `mqtt-kube-operator` connect to MQTT Broker\n",
    "\n",
    "```bash\n",
    "turtlebot3@turtlebot3:~$ kubectl logs $(kubectl get pods -l app=mqtt-kube-operator -o template --template \"{{(index .items 0).metadata.name}}\")\n",
    "```"
   ]
  }
 ],
 "metadata": {
  "kernelspec": {
   "display_name": "Bash",
   "language": "bash",
   "name": "bash"
  },
  "language_info": {
   "codemirror_mode": "shell",
   "file_extension": ".sh",
   "mimetype": "text/x-sh",
   "name": "bash"
  }
 },
 "nbformat": 4,
 "nbformat_minor": 2
}
