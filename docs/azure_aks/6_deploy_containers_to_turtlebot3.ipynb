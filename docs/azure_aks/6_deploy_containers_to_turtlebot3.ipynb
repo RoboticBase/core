{
 "cells": [
  {
   "cell_type": "markdown",
   "metadata": {},
   "source": [
    "# 6 deploy containers to turtlebot3"
   ]
  },
  {
   "cell_type": "markdown",
   "metadata": {},
   "source": [
    "## change ${PJ_ROOT} to your directory."
   ]
  },
  {
   "cell_type": "code",
   "execution_count": null,
   "metadata": {},
   "outputs": [],
   "source": [
    "export PJ_ROOT=\"${HOME}/container-centric-fiware-demonstration\"\n",
    "cd ${PJ_ROOT};pwd"
   ]
  },
  {
   "cell_type": "markdown",
   "metadata": {},
   "source": [
    "example)\n",
    "```\n",
    "/Users/user/container-centric-fiware-demonstration\n",
    "```"
   ]
  },
  {
   "cell_type": "markdown",
   "metadata": {},
   "source": [
    "## load environment variables"
   ]
  },
  {
   "cell_type": "code",
   "execution_count": null,
   "metadata": {},
   "outputs": [],
   "source": [
    "source ${PJ_ROOT}/docs/azure_aks/env"
   ]
  },
  {
   "cell_type": "markdown",
   "metadata": {},
   "source": [
    "## set apply and delete topic"
   ]
  },
  {
   "cell_type": "code",
   "execution_count": null,
   "metadata": {},
   "outputs": [],
   "source": [
    "export MQTT_APPLY_TOPIC=\"/mqtt-kube-operator/apply\"\n",
    "export MQTT_DELETE_TOPIC=\"/mqtt-kube-operator/delete\""
   ]
  },
  {
   "cell_type": "markdown",
   "metadata": {},
   "source": [
    "## set private repository "
   ]
  },
  {
   "cell_type": "code",
   "execution_count": null,
   "metadata": {},
   "outputs": [],
   "source": [
    "export REPOSITORY=$(az acr show --resource-group ${AKS_RG} --name ${ACR_NAME} | jq '.loginServer' -r)\n",
    "sed -i '' -e \"s/<<REPOSITORY>>/${REPOSITORY}/\" ${PJ_ROOT}/docs/azure_aks/env\n",
    "echo ${REPOSITORY}"
   ]
  },
  {
   "cell_type": "markdown",
   "metadata": {},
   "source": [
    "## set private registry to turtlebot3's minikube"
   ]
  },
  {
   "cell_type": "markdown",
   "metadata": {},
   "source": [
    "### create service principal of Azure ACR"
   ]
  },
  {
   "cell_type": "code",
   "execution_count": null,
   "metadata": {},
   "outputs": [],
   "source": [
    "ACR_ID=$(az acr show --resource-group ${AKS_RG} --name ${ACR_NAME} --query \"id\" --output tsv)\n",
    "az ad sp create-for-rbac --scopes ${ACR_ID} --role Reader --name ${ACR_NAME}sp > /tmp/acrsp\n",
    "export ACR_USERNAME=$(cat /tmp/acrsp | jq .appId -r);echo \"ACR_USERNAME=${ACR_USERNAME}\"\n",
    "export ACR_PASSWORD=$(cat /tmp/acrsp | jq .password -r);echo \"ACR_PASSWORD=${ACR_PASSWORD}\"\n",
    "rm /tmp/acrsp"
   ]
  },
  {
   "cell_type": "markdown",
   "metadata": {},
   "source": [
    "* if service principal already exists, delete it"
   ]
  },
  {
   "cell_type": "code",
   "execution_count": null,
   "metadata": {},
   "outputs": [],
   "source": [
    "EXIST_ACR_ID=$(az ad sp list --display-name k8saksacrsp --query \"[0].appId\" -o tsv)\n",
    "az ad sp delete --id ${EXIST_ACR_ID}"
   ]
  },
  {
   "cell_type": "markdown",
   "metadata": {},
   "source": [
    "### set Azure ACR as private registry"
   ]
  },
  {
   "cell_type": "code",
   "execution_count": null,
   "metadata": {},
   "outputs": [],
   "source": [
    "echo \"kubectl create secret docker-registry ${ACR_NAME} --docker-server ${ACR_NAME}.azurecr.io --docker-email ${EMAIL} --docker-username ${ACR_USERNAME} --docker-password ${ACR_PASSWORD}\""
   ]
  },
  {
   "cell_type": "markdown",
   "metadata": {},
   "source": [
    "* create secret to minikube using above command"
   ]
  },
  {
   "cell_type": "markdown",
   "metadata": {},
   "source": [
    "## prepare turtlebot3\n",
    "You have to setup common procedure at first. And then, you have to setup either turtlebot3_simulator (A.) or actual turtlebot3 robot (B.)."
   ]
  },
  {
   "cell_type": "markdown",
   "metadata": {},
   "source": [
    "### common procedure: deploy ros-master"
   ]
  },
  {
   "cell_type": "code",
   "execution_count": null,
   "metadata": {
    "scrolled": false
   },
   "outputs": [],
   "source": [
    "docker build -t ${REPOSITORY}/tech-sketch/ros-master:0.2.0 ros/ros-master"
   ]
  },
  {
   "cell_type": "code",
   "execution_count": null,
   "metadata": {
    "scrolled": false
   },
   "outputs": [],
   "source": [
    "az acr login --name ${ACR_NAME}"
   ]
  },
  {
   "cell_type": "code",
   "execution_count": null,
   "metadata": {
    "scrolled": true
   },
   "outputs": [],
   "source": [
    "docker push ${REPOSITORY}/tech-sketch/ros-master:0.2.0"
   ]
  },
  {
   "cell_type": "markdown",
   "metadata": {},
   "source": [
    "#### apply Service"
   ]
  },
  {
   "cell_type": "code",
   "execution_count": null,
   "metadata": {},
   "outputs": [],
   "source": [
    "mosquitto_pub -h mqtt.${DOMAIN} -p 8883 --cafile ${PJ_ROOT}/secrets/ca.crt -d -u iotagent -P ${VERNEMQ__iotagent} -t ${MQTT_APPLY_TOPIC} -f ${PJ_ROOT}/ros/ros-master/json/service.json"
   ]
  },
  {
   "cell_type": "markdown",
   "metadata": {},
   "source": [
    "* check minikube of turtlebot3\n",
    "\n",
    "```bash\n",
    "turtlebot3@turtlebot3:~$ kubectl get services -l app=ros-master\n",
    "NAME         TYPE        CLUSTER-IP   EXTERNAL-IP   PORT(S)     AGE\n",
    "ros-master   ClusterIP   None         <none>        11311/TCP   2m\n",
    "```"
   ]
  },
  {
   "cell_type": "markdown",
   "metadata": {},
   "source": [
    "#### apply Deployment "
   ]
  },
  {
   "cell_type": "code",
   "execution_count": null,
   "metadata": {},
   "outputs": [],
   "source": [
    "envsubst < ${PJ_ROOT}/ros/ros-master/json/deployment.json.template > /tmp/deployment.json\n",
    "mosquitto_pub -h mqtt.${DOMAIN} -p 8883 --cafile ${PJ_ROOT}/secrets/ca.crt -d -u iotagent -P ${VERNEMQ__iotagent} -t ${MQTT_APPLY_TOPIC} -f /tmp/deployment.json\n",
    "rm /tmp/deployment.json"
   ]
  },
  {
   "cell_type": "markdown",
   "metadata": {},
   "source": [
    "* check minikube of turtlebot3\n",
    "\n",
    "```bash\n",
    "turtlebot3@turtlebot3:~$ kubectl get deployments -l app=ros-master\n",
    "NAME         DESIRED   CURRENT   UP-TO-DATE   AVAILABLE   AGE\n",
    "ros-master   1         1         1            1           20s\n",
    "```\n",
    "\n",
    "```bash\n",
    "turtlebot3@turtlebot3:~$ kubectl get pods -l app=ros-master\n",
    "NAME                         READY     STATUS    RESTARTS   AGE\n",
    "ros-master-b479df4b5-2wq74   1/1       Running   0          22s\n",
    "```"
   ]
  },
  {
   "cell_type": "markdown",
   "metadata": {},
   "source": [
    "### common procedure:  deploy fiware-ros-turtlebot3-bridge"
   ]
  },
  {
   "cell_type": "markdown",
   "metadata": {},
   "source": [
    "#### build container image"
   ]
  },
  {
   "cell_type": "code",
   "execution_count": null,
   "metadata": {
    "scrolled": false
   },
   "outputs": [],
   "source": [
    "docker build -t ${REPOSITORY}/tech-sketch/fiware-ros-turtlebot3-bridge:0.2.0 ros/fiware-ros-turtlebot3-bridge"
   ]
  },
  {
   "cell_type": "code",
   "execution_count": null,
   "metadata": {
    "scrolled": false
   },
   "outputs": [],
   "source": [
    "az acr login --name ${ACR_NAME}"
   ]
  },
  {
   "cell_type": "code",
   "execution_count": null,
   "metadata": {
    "scrolled": true
   },
   "outputs": [],
   "source": [
    "docker push ${REPOSITORY}/tech-sketch/fiware-ros-turtlebot3-bridge:0.2.0"
   ]
  },
  {
   "cell_type": "markdown",
   "metadata": {},
   "source": [
    "#### apply Secret"
   ]
  },
  {
   "cell_type": "code",
   "execution_count": null,
   "metadata": {},
   "outputs": [],
   "source": [
    "export MQTT_YAML_BASE64=$(cat << __EOS__ | envsubst | base64\n",
    "mqtt:\n",
    "  host: \"mqtt.${DOMAIN}\"\n",
    "  port: 8883\n",
    "  username: \"ros\"\n",
    "  password: \"${VERNEMQ__ros}\"\n",
    "  use_ca: true\n",
    "__EOS__)\n",
    "envsubst < ${PJ_ROOT}/ros/fiware-ros-turtlebot3-bridge/json/mqtt-yaml-secret.json.template > /tmp/mqtt-yaml-secret.json\n",
    "mosquitto_pub -h mqtt.${DOMAIN} -p 8883 --cafile ${PJ_ROOT}/secrets/ca.crt -d -u iotagent -P ${VERNEMQ__iotagent} -t ${MQTT_APPLY_TOPIC} -f /tmp/mqtt-yaml-secret.json\n",
    "rm /tmp/mqtt-yaml-secret.json"
   ]
  },
  {
   "cell_type": "markdown",
   "metadata": {},
   "source": [
    "* check minikube of turtlebot3\n",
    "\n",
    "```bash\n",
    "turtlebot3@turtlebot3:~$ kubectl get secrets -l app=ros-bridge\n",
    "NAME                 TYPE      DATA      AGE\n",
    "ros-bridge-secrets   Opaque    1         35m\n",
    "```"
   ]
  },
  {
   "cell_type": "markdown",
   "metadata": {},
   "source": [
    "#### apply ConfigMap"
   ]
  },
  {
   "cell_type": "code",
   "execution_count": null,
   "metadata": {
    "scrolled": true
   },
   "outputs": [],
   "source": [
    "mosquitto_pub -h mqtt.${DOMAIN} -p 8883 --cafile ${PJ_ROOT}/secrets/ca.crt -d -u iotagent -P ${VERNEMQ__iotagent} -t ${MQTT_APPLY_TOPIC} -f ${PJ_ROOT}/ros/fiware-ros-turtlebot3-bridge/json/configmap.json"
   ]
  },
  {
   "cell_type": "markdown",
   "metadata": {},
   "source": [
    "* check minikube of turtlebot3\n",
    "\n",
    "```bash\n",
    "turtlebot3@turtlebot3:~$ kubectl get configmaps -l app=ros-bridge\n",
    "NAME                    DATA      AGE\n",
    "ros-bridge-configmaps   2         33m\n",
    "```"
   ]
  },
  {
   "cell_type": "markdown",
   "metadata": {},
   "source": [
    "#### apply Service"
   ]
  },
  {
   "cell_type": "code",
   "execution_count": null,
   "metadata": {},
   "outputs": [],
   "source": [
    "mosquitto_pub -h mqtt.${DOMAIN} -p 8883 --cafile ${PJ_ROOT}/secrets/ca.crt -d -u iotagent -P ${VERNEMQ__iotagent} -t ${MQTT_APPLY_TOPIC} -f ${PJ_ROOT}/ros/fiware-ros-turtlebot3-bridge/json/service.json"
   ]
  },
  {
   "cell_type": "markdown",
   "metadata": {},
   "source": [
    "* check minikube of turtlebot3\n",
    "\n",
    "```bash\n",
    "turtlebot3@turtlebot3:~$ kubectl get services -l app=ros-bridge\n",
    "NAME         TYPE        CLUSTER-IP   EXTERNAL-IP   PORT(S)     AGE\n",
    "ros-bridge   ClusterIP   None         <none>        11311/TCP   33m\n",
    "```"
   ]
  },
  {
   "cell_type": "markdown",
   "metadata": {},
   "source": [
    "#### apply Deployment"
   ]
  },
  {
   "cell_type": "code",
   "execution_count": null,
   "metadata": {
    "scrolled": false
   },
   "outputs": [],
   "source": [
    "envsubst < ${PJ_ROOT}/ros/fiware-ros-turtlebot3-bridge/json/deployment.json.template > /tmp/deployment.json\n",
    "mosquitto_pub -h mqtt.${DOMAIN} -p 8883 --cafile ${PJ_ROOT}/secrets/ca.crt -d -u iotagent -P ${VERNEMQ__iotagent} -t ${MQTT_APPLY_TOPIC} -f /tmp/deployment.json\n",
    "rm /tmp/deployment.json"
   ]
  },
  {
   "cell_type": "markdown",
   "metadata": {},
   "source": [
    "* check minikube of turtlebot3\n",
    "\n",
    "```bash\n",
    "turtlebot3@turtlebot3:~$ kubectl get deployments -l app=ros-bridge\n",
    "NAME         DESIRED   CURRENT   UP-TO-DATE   AVAILABLE   AGE\n",
    "ros-bridge   1         1         1            1           31m\n",
    "```\n",
    "\n",
    "```bash\n",
    "turtlebot3@turtlebot3:~$ kubectl get pods -l app=ros-bridge\n",
    "NAME                          READY     STATUS    RESTARTS   AGE\n",
    "ros-bridge-7fdcdc7558-j66ng   1/1       Running   0          31m\n",
    "```"
   ]
  },
  {
   "cell_type": "markdown",
   "metadata": {},
   "source": [
    "#### confirm log"
   ]
  },
  {
   "cell_type": "markdown",
   "metadata": {},
   "source": [
    "```bash\n",
    "turtlebot3@turtlebot3:~$ kubectl logs -f $(kubectl get pods -l app=ros-bridge -o template --template \"{{(index .items 0).metadata.name}}\")\n",
    "```"
   ]
  },
  {
   "cell_type": "markdown",
   "metadata": {},
   "source": [
    "### common procedure:  deploy fiware-ros-turtlebot3-operator"
   ]
  },
  {
   "cell_type": "markdown",
   "metadata": {},
   "source": [
    "#### build container image"
   ]
  },
  {
   "cell_type": "code",
   "execution_count": null,
   "metadata": {
    "scrolled": false
   },
   "outputs": [],
   "source": [
    "docker build -t ${REPOSITORY}/tech-sketch/fiware-ros-turtlebot3-operator:0.2.0 ros/fiware-ros-turtlebot3-operator"
   ]
  },
  {
   "cell_type": "code",
   "execution_count": null,
   "metadata": {
    "scrolled": true
   },
   "outputs": [],
   "source": [
    "az acr login --name ${ACR_NAME}"
   ]
  },
  {
   "cell_type": "code",
   "execution_count": null,
   "metadata": {},
   "outputs": [],
   "source": [
    "docker push ${REPOSITORY}/tech-sketch/fiware-ros-turtlebot3-operator:0.2.0"
   ]
  },
  {
   "cell_type": "markdown",
   "metadata": {},
   "source": [
    "#### apply ConfigMap"
   ]
  },
  {
   "cell_type": "code",
   "execution_count": null,
   "metadata": {
    "scrolled": true
   },
   "outputs": [],
   "source": [
    "mosquitto_pub -h mqtt.${DOMAIN} -p 8883 --cafile ${PJ_ROOT}/secrets/ca.crt -d -u iotagent -P ${VERNEMQ__iotagent} -t ${MQTT_APPLY_TOPIC} -f ${PJ_ROOT}/ros/fiware-ros-turtlebot3-operator/json/configmap.json"
   ]
  },
  {
   "cell_type": "markdown",
   "metadata": {},
   "source": [
    "* check minikube of turtlebot3\n",
    "\n",
    "```bash\n",
    "turtlebot3@turtlebot3:~$ kubectl get configmaps -l app=turtlebot3-operator\n",
    "NAME                             DATA      AGE\n",
    "turtlebot3-operator-configmaps   1         18s\n",
    "```"
   ]
  },
  {
   "cell_type": "markdown",
   "metadata": {},
   "source": [
    "#### apply Service"
   ]
  },
  {
   "cell_type": "code",
   "execution_count": null,
   "metadata": {},
   "outputs": [],
   "source": [
    "mosquitto_pub -h mqtt.${DOMAIN} -p 8883 --cafile ${PJ_ROOT}/secrets/ca.crt -d -u iotagent -P ${VERNEMQ__iotagent} -t ${MQTT_APPLY_TOPIC} -f ${PJ_ROOT}/ros/fiware-ros-turtlebot3-operator/json/service.json"
   ]
  },
  {
   "cell_type": "markdown",
   "metadata": {},
   "source": [
    "* check minikube of turtlebot3\n",
    "\n",
    "```bash\n",
    "turtlebot3@turtlebot3:~$ kubectl get services -l app=turtlebot3-operator\n",
    "NAME                  TYPE        CLUSTER-IP   EXTERNAL-IP   PORT(S)     AGE\n",
    "turtlebot3-operator   ClusterIP   None         <none>        11311/TCP   15s\n",
    "```"
   ]
  },
  {
   "cell_type": "markdown",
   "metadata": {},
   "source": [
    "#### apply Deployment "
   ]
  },
  {
   "cell_type": "code",
   "execution_count": null,
   "metadata": {},
   "outputs": [],
   "source": [
    "envsubst < ${PJ_ROOT}/ros/fiware-ros-turtlebot3-operator/json/deployment.json.template > /tmp/deployment.json\n",
    "mosquitto_pub -h mqtt.${DOMAIN} -p 8883 --cafile ${PJ_ROOT}/secrets/ca.crt -d -u iotagent -P ${VERNEMQ__iotagent} -t ${MQTT_APPLY_TOPIC} -f /tmp/deployment.json\n",
    "rm /tmp/deployment.json"
   ]
  },
  {
   "cell_type": "markdown",
   "metadata": {},
   "source": [
    "* check minikube of turtlebot3\n",
    "\n",
    "```bash\n",
    "turtlebot3@turtlebot3:~$ kubectl get deployments -l app=turtlebot3-operator\n",
    "NAME                  DESIRED   CURRENT   UP-TO-DATE   AVAILABLE   AGE\n",
    "turtlebot3-operator   1         1         1            0           1m\n",
    "```\n",
    "\n",
    "```bash\n",
    "turtlebot3@turtlebot3:~$ kubectl get pods -l app=turtlebot3-operator\n",
    "NAME                                   READY     STATUS    RESTARTS   AGE\n",
    "turtlebot3-operator-85b8bbbb88-kwstt   1/1       Running   0          32s\n",
    "```"
   ]
  },
  {
   "cell_type": "markdown",
   "metadata": {},
   "source": [
    "#### confirm log"
   ]
  },
  {
   "cell_type": "markdown",
   "metadata": {},
   "source": [
    "```bash\n",
    "turtlebot3@turtlebot3:~$ kubectl logs -f $(kubectl get pods -l app=turtlebot3-operator -o template --template \"{{(index .items 0).metadata.name}}\")\n",
    "```"
   ]
  },
  {
   "cell_type": "markdown",
   "metadata": {},
   "source": [
    "### B. actual turtlebot3 robot: deploy turtlebot3"
   ]
  },
  {
   "cell_type": "markdown",
   "metadata": {},
   "source": [
    "#### set ROS workspace of turtlebot3"
   ]
  },
  {
   "cell_type": "code",
   "execution_count": null,
   "metadata": {},
   "outputs": [],
   "source": [
    "export TURTLEBOT3_WORKSPACE=/home/turtlebot3/catkin_ws"
   ]
  },
  {
   "cell_type": "markdown",
   "metadata": {},
   "source": [
    "#### build container image"
   ]
  },
  {
   "cell_type": "code",
   "execution_count": null,
   "metadata": {
    "scrolled": false
   },
   "outputs": [],
   "source": [
    "docker build -t ${REPOSITORY}/tech-sketch/turtlebot3-bringup:0.2.0 ros/turtlebot3_bringup"
   ]
  },
  {
   "cell_type": "code",
   "execution_count": null,
   "metadata": {
    "scrolled": true
   },
   "outputs": [],
   "source": [
    "az acr login --name ${ACR_NAME}"
   ]
  },
  {
   "cell_type": "code",
   "execution_count": null,
   "metadata": {},
   "outputs": [],
   "source": [
    "docker push ${REPOSITORY}/tech-sketch/turtlebot3-bringup:0.2.0"
   ]
  },
  {
   "cell_type": "markdown",
   "metadata": {},
   "source": [
    "#### apply Service"
   ]
  },
  {
   "cell_type": "code",
   "execution_count": null,
   "metadata": {},
   "outputs": [],
   "source": [
    "mosquitto_pub -h mqtt.${DOMAIN} -p 8883 --cafile ${PJ_ROOT}/secrets/ca.crt -d -u iotagent -P ${VERNEMQ__iotagent} -t ${MQTT_APPLY_TOPIC} -f ${PJ_ROOT}/ros/turtlebot3_bringup/json/service.json"
   ]
  },
  {
   "cell_type": "markdown",
   "metadata": {},
   "source": [
    "* check minikube of turtlebot3\n",
    "\n",
    "```bash\n",
    "turtlebot3@turtlebot3:~$ kubectl get services -l app=turtlebot3-bringup\n",
    "NAME                 TYPE        CLUSTER-IP   EXTERNAL-IP   PORT(S)     AGE\n",
    "turtlebot3-bringup   ClusterIP   None         <none>        11311/TCP   13s\n",
    "```"
   ]
  },
  {
   "cell_type": "markdown",
   "metadata": {},
   "source": [
    "#### apply Deployment "
   ]
  },
  {
   "cell_type": "code",
   "execution_count": null,
   "metadata": {},
   "outputs": [],
   "source": [
    "envsubst < ${PJ_ROOT}/ros/turtlebot3_bringup/json/deployment.json.template > /tmp/deployment.json\n",
    "mosquitto_pub -h mqtt.${DOMAIN} -p 8883 --cafile ${PJ_ROOT}/secrets/ca.crt -d -u iotagent -P ${VERNEMQ__iotagent} -t ${MQTT_APPLY_TOPIC} -f /tmp/deployment.json\n",
    "rm /tmp/deployment.json"
   ]
  },
  {
   "cell_type": "markdown",
   "metadata": {},
   "source": [
    "* check minikube of turtlebot3\n",
    "\n",
    "```bash\n",
    "turtlebot3@turtlebot3:~$ kubectl get deployments -l app=turtlebot3-operator\n",
    "NAME                  DESIRED   CURRENT   UP-TO-DATE   AVAILABLE   AGE\n",
    "turtlebot3-operator   1         1         1            0           1m\n",
    "```\n",
    "\n",
    "```bash\n",
    "turtlebot3@turtlebot3:~$ kubectl get pods -l app=turtlebot3-operator\n",
    "NAME                                   READY     STATUS    RESTARTS   AGE\n",
    "turtlebot3-operator-85b8bbbb88-kwstt   1/1       Running   0          32s\n",
    "```"
   ]
  },
  {
   "cell_type": "markdown",
   "metadata": {},
   "source": [
    "#### confirm log"
   ]
  },
  {
   "cell_type": "markdown",
   "metadata": {},
   "source": [
    "```bash\n",
    "turtlebot3@turtlebot3:~$ kubectl logs -f $(kubectl get pods -l app=turtlebot3-bringup -o template --template \"{{(index .items 0).metadata.name}}\")\n",
    "```"
   ]
  }
 ],
 "metadata": {
  "kernelspec": {
   "display_name": "Bash",
   "language": "bash",
   "name": "bash"
  },
  "language_info": {
   "codemirror_mode": "shell",
   "file_extension": ".sh",
   "mimetype": "text/x-sh",
   "name": "bash"
  }
 },
 "nbformat": 4,
 "nbformat_minor": 2
}
