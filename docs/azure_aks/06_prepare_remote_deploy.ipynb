{
 "cells": [
  {
   "cell_type": "markdown",
   "metadata": {},
   "source": [
    "# 6 prepare remote deploy"
   ]
  },
  {
   "cell_type": "markdown",
   "metadata": {},
   "source": [
    "## prepare turtlebot3\n",
    "You can use either turtlebot3_simulator (A.) or actual turtlebot3 robot (B.)."
   ]
  },
  {
   "cell_type": "markdown",
   "metadata": {},
   "source": [
    "### A. use \"turtlebot3 simulator\" on Ubuntu desktop"
   ]
  },
  {
   "cell_type": "markdown",
   "metadata": {},
   "source": [
    "#### prepare Ubuntu desktop as a turlebot3 simulator "
   ]
  },
  {
   "cell_type": "markdown",
   "metadata": {},
   "source": [
    "1. prepare Ubuntu 16.04 desktop\n",
    "    * If you use a virtual machine on VirtualBox as Ubuntu desktop, confirm below:\n",
    "        * \"3d acceralation\" of display is \"OFF\"\n",
    "        * set `export LIBGL_ALWAYS_SOFTWARE=1` to your .bashrc\n",
    "1. set `export TURTLEBOT3_MODEL=waffle` to your .bashrc\n",
    "1. install `ros-kinetic-desktop-full` and `ros-kinetic-rqt-*` using `apt`.\n",
    "1. create ROS workspace.\n",
    "1. clone repositories of turtlebot3_simulator from github.\n",
    "    * https://github.com/ROBOTIS-GIT/turtlebot3.git\n",
    "    * https://github.com/ROBOTIS-GIT/turtlebot3_msgs.git\n",
    "    * https://github.com/ROBOTIS-GIT/turtlebot3_simulations.git\n",
    "1. make repositories using `catkin_make`."
   ]
  },
  {
   "cell_type": "markdown",
   "metadata": {},
   "source": [
    "### B. use actual \"turtlebot3\" robot"
   ]
  },
  {
   "cell_type": "markdown",
   "metadata": {},
   "source": [
    "#### prepare Ubuntu desktop as a turlebot3 simulator"
   ]
  },
  {
   "cell_type": "markdown",
   "metadata": {},
   "source": [
    "1. prepare turtlebot3\n",
    "1. make repositories using `catkin_make`."
   ]
  },
  {
   "cell_type": "markdown",
   "metadata": {},
   "source": [
    "change ${PJ_ROOT} to your directory."
   ]
  },
  {
   "cell_type": "code",
   "execution_count": null,
   "metadata": {},
   "outputs": [],
   "source": [
    "export PJ_ROOT=\"${HOME}/roboticbase-core\"\n",
    "cd ${PJ_ROOT};pwd"
   ]
  },
  {
   "cell_type": "markdown",
   "metadata": {},
   "source": [
    "example)\n",
    "```\n",
    "/Users/user/roboticbase-core\n",
    "```"
   ]
  },
  {
   "cell_type": "markdown",
   "metadata": {},
   "source": [
    "## load environment variables"
   ]
  },
  {
   "cell_type": "code",
   "execution_count": null,
   "metadata": {},
   "outputs": [],
   "source": [
    "source ${PJ_ROOT}/docs/azure_aks/env"
   ]
  },
  {
   "cell_type": "markdown",
   "metadata": {},
   "source": [
    "## setup docker"
   ]
  },
  {
   "cell_type": "markdown",
   "metadata": {},
   "source": [
    "1. install required packages\n",
    "\n",
    "```bash\n",
    "turtlebot3@turtlebot3:~$ sudo apt update\n",
    "turtlebot3@turtlebot3:~$ sudo apt update -y\n",
    "turtlebot3@turtlebot3:~$ sudo apt install apt-transport-https ca-certificates curl software-properties-common\n",
    "  ```\n",
    "2. add Docker’s official GPG key:\n",
    "\n",
    "```bash\n",
    "turtlebot3@turtlebot3:~$ curl -fsSL https://download.docker.com/linux/ubuntu/gpg | sudo apt-key add -\n",
    "```\n",
    "3. set up the stable repository of Docker\n",
    "\n",
    "```bash\n",
    "turtlebot3@turtlebot3:~$ sudo add-apt-repository \"deb [arch=amd64] https://download.docker.com/linux/ubuntu $(lsb_release -cs) stable\"\n",
    "```\n",
    "4. install Docker\n",
    "\n",
    "```bash\n",
    "turtlebot3@turtlebot3:~$ sudo apt update\n",
    "turtlebot3@turtlebot3:~$ sudo apt install docker-ce -y\n",
    "```\n",
    "5. verify instration\n",
    "\n",
    "```bash\n",
    "turtlebot3@turtlebot3:~$ sudo docker run hello-world\n",
    "```"
   ]
  },
  {
   "cell_type": "markdown",
   "metadata": {},
   "source": [
    "## setup minikube"
   ]
  },
  {
   "cell_type": "markdown",
   "metadata": {},
   "source": [
    "1. setup minikube\n",
    "\n",
    "```bash\n",
    "turtlebot3@turtlebot3:~$ curl -Lo minikube https://storage.googleapis.com/minikube/releases/latest/minikube-linux-amd64 && chmod +x minikube && sudo cp minikube /usr/local/bin/ && rm minikube\n",
    "```\n",
    "2. verify instration\n",
    "\n",
    "```bash\n",
    "turtlebot3@turtlebot3:~$ minikube version\n",
    "```"
   ]
  },
  {
   "cell_type": "markdown",
   "metadata": {},
   "source": [
    "## setup kubectl"
   ]
  },
  {
   "cell_type": "markdown",
   "metadata": {},
   "source": [
    "1. setup kubectl\n",
    "\n",
    "```bash\n",
    "turtlebot3@turtlebot3:~$ curl -Lo kubectl https://storage.googleapis.com/kubernetes-release/release/$(curl -s https://storage.googleapis.com/kubernetes-release/release/stable.txt)/bin/linux/amd64/kubectl && chmod +x kubectl && sudo cp kubectl /usr/local/bin/ && rm kubectl\n",
    "```\n",
    "2. verify instration\n",
    "\n",
    "```bash\n",
    "turtlebot3@turtlebot3:~$ kubectl version --client\n",
    "```"
   ]
  },
  {
   "cell_type": "markdown",
   "metadata": {},
   "source": [
    "## start minikube without virtualization"
   ]
  },
  {
   "cell_type": "markdown",
   "metadata": {},
   "source": [
    "### start minikube"
   ]
  },
  {
   "cell_type": "markdown",
   "metadata": {},
   "source": [
    "1. delete minikube if already started\n",
    "\n",
    "```bash\n",
    "turtlebot3@turtlebot3:~$ sudo minikube stop\n",
    "turtlebot3@turtlebot3:~$ sudo minikube delete\n",
    "```\n",
    "2. create `.kube/config`\n",
    "\n",
    "```bash\n",
    "turtlebot3@turtlebot3:~$ rm -rf $HOME/.kube/\n",
    "turtlebot3@turtlebot3:~$ mkdir -p $HOME/.kube\n",
    "turtlebot3@turtlebot3:~$ touch $HOME/.kube/config\n",
    "```\n",
    "3. setup environment variables\n",
    "\n",
    "```bash\n",
    "turtlebot3@turtlebot3:~$ export MINIKUBE_HOME=$HOME\n",
    "turtlebot3@turtlebot3:~$ export CHANGE_MINIKUBE_NONE_USER=true\n",
    "turtlebot3@turtlebot3:~$ export KUBECONFIG=$HOME/.kube/config\n",
    "```\n",
    "4. start minikube without virtualization\n",
    "\n",
    "```bash\n",
    "turtlebot3@turtlebot3:~$ sudo -E minikube start --memory 2048 --vm-driver=none\n",
    "```\n",
    "5. verify minikube\n",
    "\n",
    "```bash\n",
    "turtlebot3@turtlebot3:~$ kubectl version\n",
    "turtlebot3@turtlebot3:~$ kubectl get nodes\n",
    "```"
   ]
  },
  {
   "cell_type": "markdown",
   "metadata": {},
   "source": [
    "### confirm the dns settings of minkube"
   ]
  },
  {
   "cell_type": "markdown",
   "metadata": {},
   "source": [
    "1. try to dig `www.google.com`\n",
    "\n",
    "```bash\n",
    "turtlebot3@turtlebot3:~$ kubectl run -it --rm --restart=Never dig --image tutum/dnsutils -- dig www.google.com\n",
    "```\n",
    "2. if you encountered `connection timed out`, you have to setup the additional nameservers to `kube-dns`"
   ]
  },
  {
   "cell_type": "markdown",
   "metadata": {},
   "source": [
    "### setup additional nameservers to `kube-dns`"
   ]
  },
  {
   "cell_type": "markdown",
   "metadata": {},
   "source": [
    "1. prepare `/tmp/kube-dns-configmap.yaml` like below:\n",
    "\n",
    "```yaml\n",
    "apiVersion: v1\n",
    "kind: ConfigMap\n",
    "metadata:\n",
    "  name: kube-dns\n",
    "  namespace: kube-system\n",
    "  labels:\n",
    "    addonmanager.kubernetes.io/mode: EnsureExists\n",
    "data:\n",
    "  upstreamNameservers: |-\n",
    "    [\"8.8.8.8\", \"8.8.4.4\"]\n",
    "```\n",
    "2. apply `/tmp/kube-dns-configmap.yaml`\n",
    "\n",
    "```bash\n",
    "turtlebot3@turtlebot3:~$ kubectl apply -f /tmp/kube-dns-configmap.yaml\n",
    "```\n",
    "3. delete the pod of `kube-dns` (restart `kube-dns` automatically)\n",
    "\n",
    "```bash\n",
    "turtlebot3@turtlebot3:~$ kubectl delete pod -n kube-system $(kubectl get pods -n kube-system -l k8s-app=kube-dns -o template --template \"{{(index .items 0).metadata.name}}\")\n",
    "```\n",
    "4. confirm that `kube-dns` is started\n",
    "\n",
    "```bash\n",
    "turtlebot3@turtlebot3:~$ kubectl get pods -n kube-system -l k8s-app=kube-dns\n",
    "NAME                        READY     STATUS    RESTARTS   AGE\n",
    "kube-dns-86f4d74b45-x7m75   3/3       Running   0          2m\n",
    "```\n",
    "5. retry to dig `www.google.com`\n",
    "\n",
    "```bash\n",
    "turtlebot3@turtlebot3:~$ kubectl run -it --rm --restart=Never dig --image tutum/dnsutils -- dig www.google.com\n",
    "```"
   ]
  },
  {
   "cell_type": "markdown",
   "metadata": {},
   "source": [
    "## register deployer service"
   ]
  },
  {
   "cell_type": "code",
   "execution_count": null,
   "metadata": {},
   "outputs": [],
   "source": [
    "TOKEN=$(cat ${PJ_ROOT}/secrets/auth-tokens.json | jq '.bearer_tokens[0].token' -r)\n",
    "curl -H \"Authorization: bearer ${TOKEN}\" -H \"Fiware-Service: ${FIWARE_SERVICE}\" -H \"Fiware-ServicePath: ${DEPLOYER_SERVICEPATH}\" -H \"Content-Type: application/json\" https://api.${DOMAIN}/idas/ul20/manage/iot/services/ -X POST -d @- <<__EOS__\n",
    "{\n",
    "  \"services\": [\n",
    "    {\n",
    "      \"apikey\": \"${DEPLOYER_TYPE}\",\n",
    "      \"cbroker\": \"http://orion:1026\",\n",
    "      \"resource\": \"/iot/d\",\n",
    "      \"entity_type\": \"${DEPLOYER_TYPE}\"\n",
    "    }\n",
    "  ]\n",
    "}\n",
    "__EOS__"
   ]
  },
  {
   "cell_type": "markdown",
   "metadata": {},
   "source": [
    "expected)\n",
    "```json\n",
    "{}\n",
    "```"
   ]
  },
  {
   "cell_type": "markdown",
   "metadata": {},
   "source": [
    "### confirm registered service"
   ]
  },
  {
   "cell_type": "code",
   "execution_count": null,
   "metadata": {},
   "outputs": [],
   "source": [
    "TOKEN=$(cat ${PJ_ROOT}/secrets/auth-tokens.json | jq '.bearer_tokens[0].token' -r)\n",
    "curl -sS -H \"Authorization: bearer ${TOKEN}\" -H \"Fiware-Service: ${FIWARE_SERVICE}\" -H \"Fiware-Servicepath: ${DEPLOYER_SERVICEPATH}\" https://api.${DOMAIN}/idas/ul20/manage/iot/services/ | jq ."
   ]
  },
  {
   "cell_type": "markdown",
   "metadata": {},
   "source": [
    "example)\n",
    "```bash\n",
    "{\n",
    "  \"count\": 1,\n",
    "  \"services\": [\n",
    "    {\n",
    "      \"_id\": \"5b90ba6c0c4a497125314e7c\",\n",
    "      \"subservice\": \"/deployer\",\n",
    "      \"service\": \"fiwaredemo\",\n",
    "      \"apikey\": \"deployer\",\n",
    "      \"resource\": \"/iot/d\",\n",
    "      \"__v\": 0,\n",
    "      \"attributes\": [],\n",
    "      \"lazy\": [],\n",
    "      \"commands\": [],\n",
    "      \"entity_type\": \"deployer\",\n",
    "      \"internal_attributes\": [],\n",
    "      \"static_attributes\": []\n",
    "    }\n",
    "  ]\n",
    "}\n",
    "```"
   ]
  },
  {
   "cell_type": "markdown",
   "metadata": {},
   "source": [
    "## register deployer device"
   ]
  },
  {
   "cell_type": "code",
   "execution_count": null,
   "metadata": {},
   "outputs": [],
   "source": [
    "TOKEN=$(cat ${PJ_ROOT}/secrets/auth-tokens.json | jq '.bearer_tokens[0].token' -r)\n",
    "curl -H \"Authorization: bearer ${TOKEN}\" -H \"Fiware-Service: ${FIWARE_SERVICE}\" -H \"Fiware-ServicePath: ${DEPLOYER_SERVICEPATH}\" -H \"Content-Type: application/json\" https://api.${DOMAIN}/idas/ul20/manage/iot/devices/ -X POST -d @- <<__EOS__\n",
    "{\n",
    "  \"devices\": [\n",
    "    {\n",
    "      \"device_id\": \"${DEPLOYER_ID}\",\n",
    "      \"entity_name\": \"${DEPLOYER_ID}\",\n",
    "      \"entity_type\": \"${DEPLOYER_TYPE}\",\n",
    "      \"timezone\": \"Asia/Tokyo\",\n",
    "      \"protocol\": \"UL20\",\n",
    "      \"attributes\": [\n",
    "        {\n",
    "          \"name\": \"deployment\",\n",
    "          \"type\": \"string\"\n",
    "        },\n",
    "        {\n",
    "          \"name\": \"label\",\n",
    "          \"type\": \"string\"\n",
    "        },\n",
    "        {\n",
    "          \"name\": \"desired\",\n",
    "          \"type\": \"integer\"\n",
    "        },\n",
    "        {\n",
    "          \"name\": \"current\",\n",
    "          \"type\": \"integer\"\n",
    "        },\n",
    "        {\n",
    "          \"name\": \"updated\",\n",
    "          \"type\": \"integer\"\n",
    "        },\n",
    "        {\n",
    "          \"name\": \"ready\",\n",
    "          \"type\": \"integer\"\n",
    "        },\n",
    "        {\n",
    "          \"name\": \"unavailable\",\n",
    "          \"type\": \"integer\"\n",
    "        },\n",
    "        {\n",
    "          \"name\": \"available\",\n",
    "          \"type\": \"integer\"\n",
    "        }\n",
    "      ],\n",
    "      \"commands\": [\n",
    "        {\n",
    "          \"name\": \"apply\",\n",
    "          \"type\": \"string\"\n",
    "        }, {\n",
    "          \"name\": \"delete\",\n",
    "          \"type\": \"string\"\n",
    "        }\n",
    "      ],\n",
    "      \"transport\": \"AMQP\"\n",
    "    }\n",
    "  ]\n",
    "}\n",
    "__EOS__"
   ]
  },
  {
   "cell_type": "markdown",
   "metadata": {},
   "source": [
    "expected)\n",
    "```json\n",
    "{}\n",
    "```"
   ]
  },
  {
   "cell_type": "markdown",
   "metadata": {},
   "source": [
    "### confirm registered device"
   ]
  },
  {
   "cell_type": "code",
   "execution_count": null,
   "metadata": {},
   "outputs": [],
   "source": [
    "TOKEN=$(cat ${PJ_ROOT}/secrets/auth-tokens.json | jq '.bearer_tokens[0].token' -r)\n",
    "curl -sS -H \"Authorization: bearer ${TOKEN}\" -H \"Fiware-Service: ${FIWARE_SERVICE}\" -H \"Fiware-Servicepath: ${DEPLOYER_SERVICEPATH}\" https://api.${DOMAIN}/idas/ul20/manage/iot/devices/${DEPLOYER_ID}/ | jq ."
   ]
  },
  {
   "cell_type": "markdown",
   "metadata": {},
   "source": [
    "example)\n",
    "```bash\n",
    "{\n",
    "  \"device_id\": \"deployer_01\",\n",
    "  \"service\": \"fiwaredemo\",\n",
    "  \"service_path\": \"/deployer\",\n",
    "  \"entity_name\": \"deployer_01\",\n",
    "  \"entity_type\": \"deployer\",\n",
    "  \"transport\": \"AMQP\",\n",
    "  \"attributes\": [\n",
    "    {\n",
    "      \"object_id\": \"deployment\",\n",
    "      \"name\": \"deployment\",\n",
    "      \"type\": \"string\"\n",
    "    },\n",
    "    {\n",
    "      \"object_id\": \"label\",\n",
    "      \"name\": \"label\",\n",
    "      \"type\": \"string\"\n",
    "    },\n",
    "    {\n",
    "      \"object_id\": \"desired\",\n",
    "      \"name\": \"desired\",\n",
    "      \"type\": \"integer\"\n",
    "    },\n",
    "    {\n",
    "      \"object_id\": \"current\",\n",
    "      \"name\": \"current\",\n",
    "      \"type\": \"integer\"\n",
    "    },\n",
    "    {\n",
    "      \"object_id\": \"updated\",\n",
    "      \"name\": \"updated\",\n",
    "      \"type\": \"integer\"\n",
    "    },\n",
    "    {\n",
    "      \"object_id\": \"ready\",\n",
    "      \"name\": \"ready\",\n",
    "      \"type\": \"integer\"\n",
    "    },\n",
    "    {\n",
    "      \"object_id\": \"unavailable\",\n",
    "      \"name\": \"unavailable\",\n",
    "      \"type\": \"integer\"\n",
    "    },\n",
    "    {\n",
    "      \"object_id\": \"available\",\n",
    "      \"name\": \"available\",\n",
    "      \"type\": \"integer\"\n",
    "    }\n",
    "  ],\n",
    "  \"lazy\": [],\n",
    "  \"commands\": [\n",
    "    {\n",
    "      \"object_id\": \"apply\",\n",
    "      \"name\": \"apply\",\n",
    "      \"type\": \"string\"\n",
    "    },\n",
    "    {\n",
    "      \"object_id\": \"delete\",\n",
    "      \"name\": \"delete\",\n",
    "      \"type\": \"string\"\n",
    "    }\n",
    "  ],\n",
    "  \"static_attributes\": [],\n",
    "  \"protocol\": \"UL20\"\n",
    "}\n",
    "```"
   ]
  },
  {
   "cell_type": "code",
   "execution_count": null,
   "metadata": {
    "scrolled": false
   },
   "outputs": [],
   "source": [
    "TOKEN=$(cat ${PJ_ROOT}/secrets/auth-tokens.json | jq '.bearer_tokens[0].token' -r)\n",
    "curl -sS -H \"Authorization: bearer ${TOKEN}\" -H \"Fiware-Service: ${FIWARE_SERVICE}\" -H \"Fiware-Servicepath: ${DEPLOYER_SERVICEPATH}\" https://api.${DOMAIN}/orion/v2/entities/${DEPLOYER_ID}/ | jq ."
   ]
  },
  {
   "cell_type": "markdown",
   "metadata": {},
   "source": [
    "example)\n",
    "```bash\n",
    "{\n",
    "  \"id\": \"deployer_01\",\n",
    "  \"type\": \"deployer\",\n",
    "  \"TimeInstant\": {\n",
    "    \"type\": \"ISO8601\",\n",
    "    \"value\": \" \",\n",
    "    \"metadata\": {}\n",
    "  },\n",
    "  \"apply_info\": {\n",
    "    \"type\": \"commandResult\",\n",
    "    \"value\": \" \",\n",
    "    \"metadata\": {}\n",
    "  },\n",
    "  \"apply_status\": {\n",
    "    \"type\": \"commandStatus\",\n",
    "    \"value\": \"UNKNOWN\",\n",
    "    \"metadata\": {}\n",
    "  },\n",
    "  \"available\": {\n",
    "    \"type\": \"integer\",\n",
    "    \"value\": \" \",\n",
    "    \"metadata\": {}\n",
    "  },\n",
    "  \"current\": {\n",
    "    \"type\": \"integer\",\n",
    "    \"value\": \" \",\n",
    "    \"metadata\": {}\n",
    "  },\n",
    "  \"delete_info\": {\n",
    "    \"type\": \"commandResult\",\n",
    "    \"value\": \" \",\n",
    "    \"metadata\": {}\n",
    "  },\n",
    "  \"delete_status\": {\n",
    "    \"type\": \"commandStatus\",\n",
    "    \"value\": \"UNKNOWN\",\n",
    "    \"metadata\": {}\n",
    "  },\n",
    "  \"deployment\": {\n",
    "    \"type\": \"string\",\n",
    "    \"value\": \" \",\n",
    "    \"metadata\": {}\n",
    "  },\n",
    "  \"desired\": {\n",
    "    \"type\": \"integer\",\n",
    "    \"value\": \" \",\n",
    "    \"metadata\": {}\n",
    "  },\n",
    "  \"label\": {\n",
    "    \"type\": \"string\",\n",
    "    \"value\": \" \",\n",
    "    \"metadata\": {}\n",
    "  },\n",
    "  \"ready\": {\n",
    "    \"type\": \"integer\",\n",
    "    \"value\": \" \",\n",
    "    \"metadata\": {}\n",
    "  },\n",
    "  \"unavailable\": {\n",
    "    \"type\": \"integer\",\n",
    "    \"value\": \" \",\n",
    "    \"metadata\": {}\n",
    "  },\n",
    "  \"updated\": {\n",
    "    \"type\": \"integer\",\n",
    "    \"value\": \" \",\n",
    "    \"metadata\": {}\n",
    "  },\n",
    "  \"apply\": {\n",
    "    \"type\": \"string\",\n",
    "    \"value\": \"\",\n",
    "    \"metadata\": {}\n",
    "  },\n",
    "  \"delete\": {\n",
    "    \"type\": \"string\",\n",
    "    \"value\": \"\",\n",
    "    \"metadata\": {}\n",
    "  }\n",
    "}\n",
    "```"
   ]
  },
  {
   "cell_type": "markdown",
   "metadata": {},
   "source": [
    "## deploy `deployer` to turtlebot3"
   ]
  },
  {
   "cell_type": "markdown",
   "metadata": {},
   "source": [
    "### prepare a command to create Secret of username & password"
   ]
  },
  {
   "cell_type": "code",
   "execution_count": null,
   "metadata": {},
   "outputs": [],
   "source": [
    "echo \"kubectl create secret generic mqtt-username-password --from-literal=mqtt_username=ros --from-literal=mqtt_password=${MQTT__ros}\""
   ]
  },
  {
   "cell_type": "markdown",
   "metadata": {},
   "source": [
    "1. create Secret of username & password of MQTT Broker using above command"
   ]
  },
  {
   "cell_type": "markdown",
   "metadata": {},
   "source": [
    "### prepare a command to create ConfigMap of mqtt endpoint"
   ]
  },
  {
   "cell_type": "code",
   "execution_count": null,
   "metadata": {},
   "outputs": [],
   "source": [
    "echo \"kubectl create configmap mqtt-config --from-literal=mqtt_use_tls=true --from-literal=mqtt_host=mqtt.${DOMAIN} --from-literal=mqtt_port=8883 --from-literal=device_type=${DEPLOYER_TYPE} --from-literal=device_id=${DEPLOYER_ID}\""
   ]
  },
  {
   "cell_type": "markdown",
   "metadata": {},
   "source": [
    "1. create ConfigMap of host & port & topic to connect MQTT Broker using above command"
   ]
  },
  {
   "cell_type": "markdown",
   "metadata": {},
   "source": [
    "### start `deployer` to operate k8s Resources through MQTT"
   ]
  },
  {
   "cell_type": "markdown",
   "metadata": {},
   "source": [
    "1. prepare `/tmp/mqtt-kube-operator.yaml` like below:\n",
    "\n",
    "```yaml\n",
    "apiVersion: v1\n",
    "kind: ServiceAccount\n",
    "metadata:\n",
    "  name: mqtt-kube-operator\n",
    "---\n",
    "apiVersion: rbac.authorization.k8s.io/v1\n",
    "kind: Role\n",
    "metadata:\n",
    "  name: mqtt-kube-operator\n",
    "  namespace: default\n",
    "rules:\n",
    "- apiGroups: [\"\"]\n",
    "  resources: [\"services\", \"configmaps\", \"secrets\"]\n",
    "  verbs: [\"get\", \"list\", \"create\", \"update\", \"delete\"]\n",
    "- apiGroups: [\"apps\"]\n",
    "  resources: [\"deployments\"]\n",
    "  verbs: [\"get\", \"list\", \"create\", \"update\", \"delete\"]\n",
    "---\n",
    "apiVersion: rbac.authorization.k8s.io/v1\n",
    "kind: RoleBinding\n",
    "metadata:\n",
    "  name: mqtt-kube-operator\n",
    "  namespace: default\n",
    "roleRef:\n",
    "  apiGroup: rbac.authorization.k8s.io\n",
    "  kind: Role\n",
    "  name: mqtt-kube-operator\n",
    "subjects:\n",
    "- kind: ServiceAccount\n",
    "  name: mqtt-kube-operator\n",
    "  namespace: default\n",
    "---\n",
    "apiVersion: apps/v1\n",
    "kind: Deployment\n",
    "metadata:\n",
    "  name: mqtt-kube-operator\n",
    "spec:\n",
    "  replicas: 1\n",
    "  selector:\n",
    "    matchLabels:\n",
    "      app: mqtt-kube-operator\n",
    "  template:\n",
    "    metadata:\n",
    "      labels:\n",
    "        app: mqtt-kube-operator\n",
    "    spec:\n",
    "      serviceAccountName: mqtt-kube-operator\n",
    "      containers:\n",
    "      - name: mqtt-kube-operator\n",
    "        image: techsketch/mqtt-kube-operator:0.2.0\n",
    "        imagePullPolicy: Always\n",
    "        env:\n",
    "        - name: LOG_LEVEL\n",
    "          value: \"info\"\n",
    "        - name: MQTT_USERNAME\n",
    "          valueFrom:\n",
    "            secretKeyRef:\n",
    "              name: mqtt-username-password\n",
    "              key: mqtt_username\n",
    "        - name: MQTT_PASSWORD\n",
    "          valueFrom:\n",
    "            secretKeyRef:\n",
    "              name: mqtt-username-password\n",
    "              key: mqtt_password\n",
    "        - name: MQTT_USE_TLS\n",
    "          valueFrom:\n",
    "            configMapKeyRef:\n",
    "              name: mqtt-config\n",
    "              key: mqtt_use_tls\n",
    "        - name: MQTT_HOST\n",
    "          valueFrom:\n",
    "            configMapKeyRef:\n",
    "              name: mqtt-config\n",
    "              key: mqtt_host\n",
    "        - name: MQTT_PORT\n",
    "          valueFrom:\n",
    "            configMapKeyRef:\n",
    "              name: mqtt-config\n",
    "              key: mqtt_port\n",
    "        - name: DEVICE_TYPE\n",
    "          valueFrom:\n",
    "            configMapKeyRef:\n",
    "              name: mqtt-config\n",
    "              key: device_type\n",
    "        - name: DEVICE_ID\n",
    "          valueFrom:\n",
    "            configMapKeyRef:\n",
    "              name: mqtt-config\n",
    "              key: device_id\n",
    "        - name: REPORT_INTERVAL_SEC\n",
    "          value: \"1\"\n",
    "        - name: USE_DEPLOYMENT_STATE_REPORTER\n",
    "          value: \"true\"\n",
    "        - name: REPORT_TARGET_LABEL_KEY\n",
    "          value: \"report\"\n",
    "```\n",
    "2. apply `/tmp/mqtt-kube-operator.yaml`\n",
    "\n",
    "```bash\n",
    "turtlebot3@turtlebot3:~$ kubectl apply -f /tmp/mqtt-kube-operator.yaml\n",
    "```\n",
    "3. confirm that `mqtt-kube-operator` connect to MQTT Broker\n",
    "\n",
    "```bash\n",
    "turtlebot3@turtlebot3:~$ kubectl logs -f $(kubectl get pods -l app=mqtt-kube-operator -o template --template \"{{(index .items 0).metadata.name}}\")\n",
    "```"
   ]
  },
  {
   "cell_type": "markdown",
   "metadata": {},
   "source": [
    "## test publishing the `apply` command of `deployer`"
   ]
  },
  {
   "cell_type": "markdown",
   "metadata": {},
   "source": [
    "### prepare a command to emulate sending command"
   ]
  },
  {
   "cell_type": "code",
   "execution_count": null,
   "metadata": {},
   "outputs": [],
   "source": [
    "TOKEN=$(cat ${PJ_ROOT}/secrets/auth-tokens.json | jq '.bearer_tokens[0].token' -r)\n",
    "echo -e \"curl -i -H \\\"Authorization: bearer ${TOKEN}\\\" -H \\\"Fiware-Service: ${FIWARE_SERVICE}\\\" -H \\\"Fiware-Servicepath: ${DEPLOYER_SERVICEPATH}\\\" -H \\\"Content-Type: application/json\\\" https://api.${DOMAIN}/orion/v1/updateContext -d @-<<__EOS__\n",
    "{\n",
    "  \\\"contextElements\\\": [\n",
    "    {\n",
    "      \\\"id\\\": \\\"${DEPLOYER_ID}\\\",\n",
    "      \\\"isPattern\\\": \\\"false\\\",\n",
    "      \\\"type\\\": \\\"${DEPLOYER_TYPE}\\\",\n",
    "      \\\"attributes\\\": [\n",
    "        {\n",
    "          \\\"name\\\": \\\"apply\\\",\n",
    "          \\\"value\\\": \\\"{}\\\"\n",
    "        }\n",
    "      ]\n",
    "    }\n",
    "  ],\n",
    "  \\\"updateAction\\\": \\\"UPDATE\\\"\n",
    "}\n",
    "__EOS__\""
   ]
  },
  {
   "cell_type": "markdown",
   "metadata": {},
   "source": [
    "### subscribe all topics"
   ]
  },
  {
   "cell_type": "code",
   "execution_count": null,
   "metadata": {},
   "outputs": [],
   "source": [
    "mosquitto_sub -h mqtt.${DOMAIN} -p 8883 --cafile ${PJ_ROOT}/secrets/DST_Root_CA_X3.pem -d -u iotagent -P ${MQTT__iotagent} -t /#"
   ]
  },
  {
   "cell_type": "markdown",
   "metadata": {},
   "source": [
    "### send message to deployer endpoint"
   ]
  },
  {
   "cell_type": "markdown",
   "metadata": {},
   "source": [
    "_Outside of this notebook_\n",
    "1. open a ternminal.\n",
    "1. run a command displayed `prepare a command to emulate sending command`.\n",
    "1. stop the `subscribe all topics` cell.\n",
    "\n",
    "when executing the command, show below message on subscriber cell.\n",
    "example)\n",
    "```\n",
    "Client mosqsub|70811-MacBook-P received PUBLISH (d0, q0, r0, m0, '/deployer/deployer_01/cmd', ... (20 bytes))\n",
    "deployer_01@apply|{}\n",
    "Client mosqsub|70811-MacBook-P received PUBLISH (d0, q0, r0, m0, '/deployer/deployer_01/cmdexe', ... (50 bytes))\n",
    "deployer_01@apply|ignore format, skip this message\n",
    "```"
   ]
  },
  {
   "cell_type": "markdown",
   "metadata": {},
   "source": [
    "### confirm `deployer` log"
   ]
  },
  {
   "cell_type": "markdown",
   "metadata": {},
   "source": [
    "example)\n",
    "\n",
    "```\n",
    "2018-09-06T23:34:17.369Z\tINFO\thandlers/messageHandler.go:76\treceived message: \"deployer_01@apply|{}\"\n",
    "2018-09-06T23:34:17.369Z\tINFO\thandlers/messageHandler.go:102\tdata: \"{}\"\n",
    "2018-09-06T23:34:17.369Z\tINFO\thandlers/messageHandler.go:133\tignore format, skip this message: Object 'Kind' is missing in '{}'\n",
    "2018-09-06T23:34:17.369Z\tINFO\thandlers/messageHandler.go:85\tsend message: \"deployer_01@apply|ignore format, skip this message\"\n",
    "```"
   ]
  },
  {
   "cell_type": "markdown",
   "metadata": {},
   "source": [
    "### confirm deployer entity"
   ]
  },
  {
   "cell_type": "code",
   "execution_count": null,
   "metadata": {
    "scrolled": false
   },
   "outputs": [],
   "source": [
    "TOKEN=$(cat ${PJ_ROOT}/secrets/auth-tokens.json | jq '.bearer_tokens[0].token' -r)\n",
    "curl -sS -H \"Authorization: bearer ${TOKEN}\" -H \"Fiware-Service: ${FIWARE_SERVICE}\" -H \"Fiware-Servicepath: ${DEPLOYER_SERVICEPATH}\" https://api.${DOMAIN}/orion/v2/entities/${DEPLOYER_ID}/ | jq ."
   ]
  },
  {
   "cell_type": "markdown",
   "metadata": {},
   "source": [
    "example)\n",
    "```bash\n",
    "{\n",
    "  \"id\": \"deployer_01\",\n",
    "  \"type\": \"deployer\",\n",
    "  \"TimeInstant\": {\n",
    "    \"type\": \"ISO8601\",\n",
    "    \"value\": \"2018-09-29T04:30:22.00Z\",\n",
    "    \"metadata\": {}\n",
    "  },\n",
    "  \"apply_info\": {\n",
    "    \"type\": \"commandResult\",\n",
    "    \"value\": \"invalid format, skip this message\",\n",
    "    \"metadata\": {\n",
    "      \"TimeInstant\": {\n",
    "        \"type\": \"ISO8601\",\n",
    "        \"value\": \"2018-09-29T04:29:28.956Z\"\n",
    "      }\n",
    "    }\n",
    "  },\n",
    "  \"apply_status\": {\n",
    "    \"type\": \"commandStatus\",\n",
    "    \"value\": \"OK\",\n",
    "    \"metadata\": {\n",
    "      \"TimeInstant\": {\n",
    "        \"type\": \"ISO8601\",\n",
    "        \"value\": \"2018-09-29T04:29:28.956Z\"\n",
    "      }\n",
    "    }\n",
    "  },\n",
    "  \"available\": {\n",
    "    \"type\": \"integer\",\n",
    "    \"value\": \"1\",\n",
    "    \"metadata\": {\n",
    "      \"TimeInstant\": {\n",
    "        \"type\": \"ISO8601\",\n",
    "        \"value\": \"2018-09-29T04:30:22Z\"\n",
    "      }\n",
    "    }\n",
    "  },\n",
    "  \"current\": {\n",
    "    \"type\": \"integer\",\n",
    "    \"value\": \"1\",\n",
    "    \"metadata\": {\n",
    "      \"TimeInstant\": {\n",
    "        \"type\": \"ISO8601\",\n",
    "        \"value\": \"2018-09-29T04:30:22Z\"\n",
    "      }\n",
    "    }\n",
    "  },\n",
    "  \"delete_info\": {\n",
    "    \"type\": \"commandResult\",\n",
    "    \"value\": \" \",\n",
    "    \"metadata\": {}\n",
    "  },\n",
    "  \"delete_status\": {\n",
    "    \"type\": \"commandStatus\",\n",
    "    \"value\": \"UNKNOWN\",\n",
    "    \"metadata\": {}\n",
    "  },\n",
    "  \"deployment\": {\n",
    "    \"type\": \"string\",\n",
    "    \"value\": \"mqtt-kube-operator\",\n",
    "    \"metadata\": {\n",
    "      \"TimeInstant\": {\n",
    "        \"type\": \"ISO8601\",\n",
    "        \"value\": \"2018-09-29T04:30:22Z\"\n",
    "      }\n",
    "    }\n",
    "  },\n",
    "  \"desired\": {\n",
    "    \"type\": \"integer\",\n",
    "    \"value\": \"1\",\n",
    "    \"metadata\": {\n",
    "      \"TimeInstant\": {\n",
    "        \"type\": \"ISO8601\",\n",
    "        \"value\": \"2018-09-29T04:30:22Z\"\n",
    "      }\n",
    "    }\n",
    "  },\n",
    "  \"ready\": {\n",
    "    \"type\": \"integer\",\n",
    "    \"value\": \"1\",\n",
    "    \"metadata\": {\n",
    "      \"TimeInstant\": {\n",
    "        \"type\": \"ISO8601\",\n",
    "        \"value\": \"2018-09-29T04:30:22Z\"\n",
    "      }\n",
    "    }\n",
    "  },\n",
    "  \"unavailable\": {\n",
    "    \"type\": \"integer\",\n",
    "    \"value\": \"0\",\n",
    "    \"metadata\": {\n",
    "      \"TimeInstant\": {\n",
    "        \"type\": \"ISO8601\",\n",
    "        \"value\": \"2018-09-29T04:30:22Z\"\n",
    "      }\n",
    "    }\n",
    "  },\n",
    "  \"updated\": {\n",
    "    \"type\": \"integer\",\n",
    "    \"value\": \"1\",\n",
    "    \"metadata\": {\n",
    "      \"TimeInstant\": {\n",
    "        \"type\": \"ISO8601\",\n",
    "        \"value\": \"2018-09-29T04:30:22Z\"\n",
    "      }\n",
    "    }\n",
    "  },\n",
    "  \"apply\": {\n",
    "    \"type\": \"string\",\n",
    "    \"value\": \"\",\n",
    "    \"metadata\": {}\n",
    "  },\n",
    "  \"delete\": {\n",
    "    \"type\": \"string\",\n",
    "    \"value\": \"\",\n",
    "    \"metadata\": {}\n",
    "  }\n",
    "}\n",
    "```"
   ]
  },
  {
   "cell_type": "markdown",
   "metadata": {},
   "source": [
    "### register `cygnus-elasticsearch` as a subscriber of deployer device"
   ]
  },
  {
   "cell_type": "code",
   "execution_count": null,
   "metadata": {},
   "outputs": [],
   "source": [
    "TOKEN=$(cat ${PJ_ROOT}/secrets/auth-tokens.json | jq '.bearer_tokens[0].token' -r)\n",
    "curl -i -H \"Authorization: bearer ${TOKEN}\" -H \"Fiware-Service: ${FIWARE_SERVICE}\" -H \"Fiware-Servicepath: ${DEPLOYER_SERVICEPATH}\"  -H \"Content-Type: application/json\" https://api.${DOMAIN}/orion/v2/subscriptions/ -X POST -d @- <<__EOS__\n",
    "{\n",
    "  \"subject\": {\n",
    "    \"entities\": [{\n",
    "      \"idPattern\": \"${DEPLOYER_ID}.*\",\n",
    "      \"type\": \"${DEPLOYER_TYPE}\"\n",
    "    }],\n",
    "    \"condition\": {\n",
    "      \"attrs\": [\"deployment\", \"label\", \"desired\", \"current\", \"updated\", \"ready\", \"unavailable\", \"available\"]\n",
    "    }\n",
    "  },\n",
    "  \"notification\": {\n",
    "    \"http\": {\n",
    "      \"url\": \"http://cygnus-elasticsearch:5050/notify\"\n",
    "    },\n",
    "    \"attrs\": [\"deployment\", \"label\", \"desired\", \"current\", \"updated\", \"ready\", \"unavailable\", \"available\"],\n",
    "    \"attrsFormat\": \"legacy\"\n",
    "  }\n",
    "}\n",
    "__EOS__"
   ]
  },
  {
   "cell_type": "markdown",
   "metadata": {},
   "source": [
    "example)\n",
    "```\n",
    "HTTP/1.1 201 Created\n",
    "content-length: 0\n",
    "location: /v2/subscriptions/5baf010d9970a6a6642afb82\n",
    "fiware-correlator: 159fb0aa-c3a1-11e8-bf68-82ea6d7e02e9\n",
    "date: Sat, 29 Sep 2018 04:35:25 GMT\n",
    "x-envoy-upstream-service-time: 4\n",
    "server: envoy\n",
    "```"
   ]
  },
  {
   "cell_type": "code",
   "execution_count": null,
   "metadata": {},
   "outputs": [],
   "source": [
    "TOKEN=$(cat ${PJ_ROOT}/secrets/auth-tokens.json | jq '.bearer_tokens[0].token' -r)\n",
    "curl -sS -H \"Authorization: bearer ${TOKEN}\" -H \"Fiware-Service: ${FIWARE_SERVICE}\" -H \"Fiware-ServicePath: ${DEPLOYER_SERVICEPATH}\" https://api.${DOMAIN}/orion/v2/subscriptions/ | jq ."
   ]
  },
  {
   "cell_type": "markdown",
   "metadata": {},
   "source": [
    "example)\n",
    "```json\n",
    "[\n",
    "  {\n",
    "    \"id\": \"5bb054b40af338d2b9bff606\",\n",
    "    \"status\": \"active\",\n",
    "    \"subject\": {\n",
    "      \"entities\": [\n",
    "        {\n",
    "          \"idPattern\": \"deployer_01.*\",\n",
    "          \"type\": \"deployer\"\n",
    "        }\n",
    "      ],\n",
    "      \"condition\": {\n",
    "        \"attrs\": [\n",
    "          \"deployment\",\n",
    "          \"label\",\n",
    "          \"desired\",\n",
    "          \"current\",\n",
    "          \"updated\",\n",
    "          \"ready\",\n",
    "          \"unavailable\",\n",
    "          \"available\"\n",
    "        ]\n",
    "      }\n",
    "    },\n",
    "    \"notification\": {\n",
    "      \"timesSent\": 1,\n",
    "      \"lastNotification\": \"2018-09-30T04:44:36.00Z\",\n",
    "      \"attrs\": [\n",
    "        \"deployment\",\n",
    "        \"label\",\n",
    "        \"desired\",\n",
    "        \"current\",\n",
    "        \"updated\",\n",
    "        \"ready\",\n",
    "        \"unavailable\",\n",
    "        \"available\"\n",
    "      ],\n",
    "      \"attrsFormat\": \"legacy\",\n",
    "      \"http\": {\n",
    "        \"url\": \"http://cygnus-elasticsearch:5050/notify\"\n",
    "      }\n",
    "    }\n",
    "  }\n",
    "]\n",
    "```"
   ]
  },
  {
   "cell_type": "markdown",
   "metadata": {},
   "source": [
    "### confirm cygnus-elasticsearch"
   ]
  },
  {
   "cell_type": "markdown",
   "metadata": {},
   "source": [
    "#### set up an index of Kibana"
   ]
  },
  {
   "cell_type": "code",
   "execution_count": null,
   "metadata": {},
   "outputs": [],
   "source": [
    "echo 'kubectl --namespace monitoring port-forward $(kubectl get pod -l k8s-app=kibana-logging --namespace monitoring -o template --template \"{{(index .items 0).metadata.name}}\") 5601:5601'"
   ]
  },
  {
   "cell_type": "code",
   "execution_count": null,
   "metadata": {},
   "outputs": [],
   "source": [
    "open http://localhost:5601/"
   ]
  },
  {
   "cell_type": "markdown",
   "metadata": {},
   "source": [
    "1. show `Management -> Index Patterns`\n",
    "2. set `cygnus-fiwaredemo-deployer-*` as Index Pattern, and push `Next step`\n",
    "3. set `recvTime` as Time Filter field name, and push `Create index pattern`\n",
    "\n",
    "**Index name is like: `<<IndexPrefix of cygnus>>-<<FIWARE_SERVICE>>-<<FIWARE_SERVICEPATH of depoloyer>>-<<yyyy.mm.dd>>`**"
   ]
  },
  {
   "cell_type": "markdown",
   "metadata": {},
   "source": [
    "#### set up a datasource of grafana"
   ]
  },
  {
   "cell_type": "code",
   "execution_count": null,
   "metadata": {},
   "outputs": [],
   "source": [
    "echo 'kubectl --namespace monitoring port-forward $(kubectl get pod --namespace monitoring -l app=kp-grafana -o template --template \"{{(index .items 0).metadata.name}}\") 3000:3000'"
   ]
  },
  {
   "cell_type": "code",
   "execution_count": null,
   "metadata": {},
   "outputs": [],
   "source": [
    "open http://localhost:3000"
   ]
  },
  {
   "cell_type": "markdown",
   "metadata": {},
   "source": [
    "1. add a new Data Source\n",
    "    * Name: `cygnus-fiwaredemo-deployer`\n",
    "    * Type: `Elasticsearch`\n",
    "    * URL: `http://elasticsearch-logging:9200`\n",
    "    * Access: `Server(Default)`\n",
    "    * Index name: `cygnus-fiwaredemo-deployer-*`\n",
    "    * Time field name: `recvTime`\n",
    "    * Version: `5.6+`\n",
    "    \n",
    "**Index name is like: `<<IndexPrefix of cygnus>>-<<FIWARE_SERVICE>>-<<FIWARE_SERVICEPATH of depoloyer>>-<<yyyy.mm.dd>>`**"
   ]
  }
 ],
 "metadata": {
  "kernelspec": {
   "display_name": "Bash",
   "language": "bash",
   "name": "bash"
  },
  "language_info": {
   "codemirror_mode": "shell",
   "file_extension": ".sh",
   "mimetype": "text/x-sh",
   "name": "bash"
  }
 },
 "nbformat": 4,
 "nbformat_minor": 2
}
