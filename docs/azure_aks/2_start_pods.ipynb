{
 "cells": [
  {
   "cell_type": "markdown",
   "metadata": {},
   "source": [
    "# 2 start pods on Azure AKS"
   ]
  },
  {
   "cell_type": "markdown",
   "metadata": {},
   "source": [
    "change ${PJ_ROOT} to your directory."
   ]
  },
  {
   "cell_type": "code",
   "execution_count": null,
   "metadata": {},
   "outputs": [],
   "source": [
    "export PJ_ROOT=\"${HOME}/container-centric-fiware-demonstration\"\n",
    "cd ${PJ_ROOT};pwd"
   ]
  },
  {
   "cell_type": "markdown",
   "metadata": {},
   "source": [
    "example)\n",
    "```\n",
    "/Users/user/container-centric-fiware-demonstration\n",
    "```"
   ]
  },
  {
   "cell_type": "markdown",
   "metadata": {},
   "source": [
    "## load environment variables"
   ]
  },
  {
   "cell_type": "code",
   "execution_count": null,
   "metadata": {},
   "outputs": [],
   "source": [
    "source ${PJ_ROOT}/docs/azure_aks/env"
   ]
  },
  {
   "cell_type": "markdown",
   "metadata": {},
   "source": [
    "## login AKS"
   ]
  },
  {
   "cell_type": "code",
   "execution_count": null,
   "metadata": {},
   "outputs": [],
   "source": [
    "az login --tenant ${TENANT}"
   ]
  },
  {
   "cell_type": "markdown",
   "metadata": {},
   "source": [
    "## start etcd cluster on AKS\n",
    "[etcd](https://github.com/coreos/etcd)"
   ]
  },
  {
   "cell_type": "code",
   "execution_count": null,
   "metadata": {},
   "outputs": [],
   "source": [
    "helm install stable/etcd-operator --name ccfd"
   ]
  },
  {
   "cell_type": "code",
   "execution_count": null,
   "metadata": {},
   "outputs": [],
   "source": [
    "POD=$(kubectl get pods -l app=ccfd-etcd-operator-etcd-operator --namespace default --output name)\n",
    "kubectl logs $POD --namespace=default"
   ]
  },
  {
   "cell_type": "markdown",
   "metadata": {},
   "source": [
    "expected)\n",
    "```\n",
    "time=\"2018-07-11T22:52:48Z\" level=info msg=\"Event(v1.ObjectReference{Kind:\\\"Endpoints\\\", Namespace:\\\"default\\\", Name:\\\"etcd-operator\\\", UID:\\\"21e458f5-855d-11e8-a3b4-026b849f8c40\\\", APIVersion:\\\"v1\\\", ResourceVersion:\\\"1580\\\", FieldPath:\\\"\\\"}): type: 'Normal' reason: 'LeaderElection' ccfd-etcd-operator-etcd-operator-6d5f994f86-2z65g became leader\"\n",
    "```"
   ]
  },
  {
   "cell_type": "code",
   "execution_count": null,
   "metadata": {},
   "outputs": [],
   "source": [
    "kubectl apply -f etcd/etcd-cluster.yaml"
   ]
  },
  {
   "cell_type": "code",
   "execution_count": null,
   "metadata": {},
   "outputs": [],
   "source": [
    "kubectl get pods -l app=etcd"
   ]
  },
  {
   "cell_type": "markdown",
   "metadata": {},
   "source": [
    "example)\n",
    "```\n",
    "NAME                      READY     STATUS    RESTARTS   AGE\n",
    "etcd-cluster-m5mk57c68n   0/1       Running   0          6s\n",
    "etcd-cluster-nl872jt7zs   1/1       Running   0          46s\n",
    "etcd-cluster-xds88qqcjx   1/1       Running   0          22s\n",
    "```"
   ]
  },
  {
   "cell_type": "code",
   "execution_count": null,
   "metadata": {},
   "outputs": [],
   "source": [
    "kubectl get services -l app=etcd"
   ]
  },
  {
   "cell_type": "markdown",
   "metadata": {},
   "source": [
    "example)\n",
    "```\n",
    "NAME                  TYPE        CLUSTER-IP   EXTERNAL-IP   PORT(S)             AGE\n",
    "etcd-cluster          ClusterIP   None         <none>        2379/TCP,2380/TCP   1m\n",
    "etcd-cluster-client   ClusterIP   10.0.68.3    <none>        2379/TCP            1m\n",
    "```"
   ]
  },
  {
   "cell_type": "code",
   "execution_count": null,
   "metadata": {},
   "outputs": [],
   "source": [
    "kubectl run --rm -it etcdclient --image quay.io/coreos/etcd --restart=Never -- etcdctl --peers http://etcd-cluster-client:2379 member list"
   ]
  },
  {
   "cell_type": "markdown",
   "metadata": {},
   "source": [
    "example)\n",
    "```\n",
    "477d8981f585fdf3: name=etcd-cluster-xds88qqcjx peerURLs=http://etcd-cluster-xds88qqcjx.etcd-cluster.default.svc:2380 clientURLs=http://etcd-cluster-xds88qqcjx.etcd-cluster.default.svc:2379 isLeader=false\n",
    "6fc6ea1e06f2b405: name=etcd-cluster-nl872jt7zs peerURLs=http://etcd-cluster-nl872jt7zs.etcd-cluster.default.svc:2380 clientURLs=http://etcd-cluster-nl872jt7zs.etcd-cluster.default.svc:2379 isLeader=true\n",
    "8b8708e453bef839: name=etcd-cluster-m5mk57c68n peerURLs=http://etcd-cluster-m5mk57c68n.etcd-cluster.default.svc:2380 clientURLs=http://etcd-cluster-m5mk57c68n.etcd-cluster.default.svc:2379 isLeader=false\n",
    "```"
   ]
  },
  {
   "cell_type": "markdown",
   "metadata": {},
   "source": [
    "## start vernemq cluster on AKS\n",
    "[vernemq](https://vernemq.com/)"
   ]
  },
  {
   "cell_type": "markdown",
   "metadata": {},
   "source": [
    "### create usernames & passwords of vernemq"
   ]
  },
  {
   "cell_type": "code",
   "execution_count": null,
   "metadata": {},
   "outputs": [],
   "source": [
    "mkdir -p secrets\n",
    "rm -f secrets/vmq.passwd\n",
    "touch secrets/vmq.passwd"
   ]
  },
  {
   "cell_type": "code",
   "execution_count": null,
   "metadata": {},
   "outputs": [],
   "source": [
    "for e in $(env); do\n",
    "  if [[ \"${e}\" =~ ^VERNEMQ__([[:alnum:]_-]+)=([[:alnum:]_-]+)$ ]]; then\n",
    "    username=${BASH_REMATCH[1]}\n",
    "    password=${BASH_REMATCH[2]}\n",
    "    \n",
    "    expect -c \"\n",
    "    spawn docker run --rm -v $(pwd)/secrets:/mnt -it erlio/docker-vernemq vmq-passwd /mnt/vmq.passwd ${username}\n",
    "    expect \\\"Password:\\\"\n",
    "    send -- \\\"${password}\\n\\\"\n",
    "    expect \\\"Reenter password:\\\"\n",
    "    send -- \\\"${password}\\n\\\"\n",
    "    expect \\\"\\\\\\$\\\"\n",
    "    exit 0\n",
    "    \"\n",
    "  fi\n",
    "done"
   ]
  },
  {
   "cell_type": "markdown",
   "metadata": {},
   "source": [
    "### register vmq.passwd to kubernetes secret"
   ]
  },
  {
   "cell_type": "code",
   "execution_count": null,
   "metadata": {},
   "outputs": [],
   "source": [
    "kubectl create secret generic vernemq-passwd --from-file=./secrets/vmq.passwd"
   ]
  },
  {
   "cell_type": "markdown",
   "metadata": {},
   "source": [
    "### create tls cert files using let's encrypt"
   ]
  },
  {
   "cell_type": "markdown",
   "metadata": {},
   "source": [
    "_Outside of this notebook_\n",
    "1. open a ternminal.\n",
    "1. run a command displayed below."
   ]
  },
  {
   "cell_type": "code",
   "execution_count": null,
   "metadata": {},
   "outputs": [],
   "source": [
    "echo \"docker run -it -v ${PJ_ROOT}/secrets:/etc/letsencrypt certbot/certbot certonly --manual --domain mqtt.${DOMAIN} --email ${EMAIL} --no-eff-email --agree-tos --manual-public-ip-logging-ok --preferred-challenges dns\""
   ]
  },
  {
   "cell_type": "markdown",
   "metadata": {},
   "source": [
    "_Outside of this notebook_\n",
    "1. wait until to add a DNS TXT Record like below."
   ]
  },
  {
   "cell_type": "markdown",
   "metadata": {},
   "source": [
    "notice) **replace XXXXXXXXXXXXXXXXXXXXXXXXXXXXXXXXXXXXXXXXXXX with the 'DNS TXT record' value displayed in opened terminal.**"
   ]
  },
  {
   "cell_type": "code",
   "execution_count": null,
   "metadata": {},
   "outputs": [],
   "source": [
    "az network dns record-set txt add-record --resource-group ${DNS_ZONE_RG} --zone-name \"${DOMAIN}\" --record-set-name \"_acme-challenge.mqtt\" --value \"XXXXXXXXXXXXXXXXXXXXXXXXXXXXXXXXXXXXXXXXXXX\""
   ]
  },
  {
   "cell_type": "markdown",
   "metadata": {},
   "source": [
    "_Outside of this notebook_\n",
    "1. in order to continue creating cert file process, press enter key in the opened terminal.\n",
    "1. confirm to be displayed the below message at the opened terminal.\n",
    "```\n",
    "Congratulations! Your certificate and chain have been saved at:\n",
    "```"
   ]
  },
  {
   "cell_type": "markdown",
   "metadata": {},
   "source": [
    "notice) **replace XXXXXXXXXXXXXXXXXXXXXXXXXXXXXXXXXXXXXXXXXXX with the 'DNS TXT record' value displayed in opened terminal.**"
   ]
  },
  {
   "cell_type": "code",
   "execution_count": null,
   "metadata": {},
   "outputs": [],
   "source": [
    "az network dns record-set txt remove-record --resource-group ${DNS_ZONE_RG} --zone-name \"${DOMAIN}\" --record-set-name \"_acme-challenge.mqtt\" --value \"XXXXXXXXXXXXXXXXXXXXXXXXXXXXXXXXXXXXXXXXXXX\""
   ]
  },
  {
   "cell_type": "code",
   "execution_count": null,
   "metadata": {},
   "outputs": [],
   "source": [
    "cat secrets/DST_Root_CA_X3.pem secrets/archive/mqtt.${DOMAIN}/chain1.pem > secrets/ca.crt\n",
    "cp secrets/archive/mqtt.${DOMAIN}/fullchain1.pem secrets/server.crt\n",
    "cp secrets/archive/mqtt.${DOMAIN}/privkey1.pem secrets/server.key"
   ]
  },
  {
   "cell_type": "markdown",
   "metadata": {},
   "source": [
    "### register cert files of vernemq to kubernetes secrets"
   ]
  },
  {
   "cell_type": "code",
   "execution_count": null,
   "metadata": {},
   "outputs": [],
   "source": [
    "kubectl create secret generic vernemq-certifications --from-file=./secrets/ca.crt --from-file=./secrets/server.crt --from-file=./secrets/server.key"
   ]
  },
  {
   "cell_type": "markdown",
   "metadata": {},
   "source": [
    "### start vernemq"
   ]
  },
  {
   "cell_type": "code",
   "execution_count": null,
   "metadata": {},
   "outputs": [],
   "source": [
    "kubectl apply -f vernemq/vernemq-cluster-azure.yaml"
   ]
  },
  {
   "cell_type": "code",
   "execution_count": null,
   "metadata": {},
   "outputs": [],
   "source": [
    "kubectl get pods -l app=vernemq"
   ]
  },
  {
   "cell_type": "markdown",
   "metadata": {},
   "source": [
    "example)\n",
    "```\n",
    "NAME        READY     STATUS    RESTARTS   AGE\n",
    "vernemq-0   1/1       Running   0          1m\n",
    "vernemq-1   1/1       Running   0          1m\n",
    "vernemq-2   1/1       Running   0          33s\n",
    "```"
   ]
  },
  {
   "cell_type": "code",
   "execution_count": null,
   "metadata": {},
   "outputs": [],
   "source": [
    "kubectl exec vernemq-0 -- vmq-admin cluster show"
   ]
  },
  {
   "cell_type": "markdown",
   "metadata": {},
   "source": [
    "expected)\n",
    "```\n",
    "+---------------------------------------------------+-------+\n",
    "|                       Node                        |Running|\n",
    "+---------------------------------------------------+-------+\n",
    "|VerneMQ@vernemq-0.vernemq.default.svc.cluster.local| true  |\n",
    "|VerneMQ@vernemq-1.vernemq.default.svc.cluster.local| true  |\n",
    "|VerneMQ@vernemq-2.vernemq.default.svc.cluster.local| true  |\n",
    "+---------------------------------------------------+-------+\n",
    "```"
   ]
  },
  {
   "cell_type": "markdown",
   "metadata": {},
   "source": [
    "**confirm that \"EXTERNAL-IP\" is assigned**"
   ]
  },
  {
   "cell_type": "code",
   "execution_count": null,
   "metadata": {},
   "outputs": [],
   "source": [
    "kubectl get services -l app=mqtts"
   ]
  },
  {
   "cell_type": "markdown",
   "metadata": {},
   "source": [
    "expected)\n",
    "```\n",
    "NAME      TYPE           CLUSTER-IP   EXTERNAL-IP   PORT(S)          AGE\n",
    "mqtts     LoadBalancer   10.0.43.26   XX.XX.XX.XX   8883:32301/TCP   5m\n",
    "```"
   ]
  },
  {
   "cell_type": "markdown",
   "metadata": {},
   "source": [
    "### register DNS A Record for VerneMQ"
   ]
  },
  {
   "cell_type": "code",
   "execution_count": null,
   "metadata": {},
   "outputs": [],
   "source": [
    "MQTTS_IPADDR=$(kubectl get services -l app=mqtts -o json | jq '.items[0].status.loadBalancer.ingress[0].ip' -r)\n",
    "az network dns record-set a add-record --resource-group ${DNS_ZONE_RG} --zone-name \"${DOMAIN}\" --record-set-name \"mqtt\" --ipv4-address \"${MQTTS_IPADDR}\""
   ]
  },
  {
   "cell_type": "code",
   "execution_count": null,
   "metadata": {},
   "outputs": [],
   "source": [
    "nslookup mqtt.${DOMAIN}"
   ]
  },
  {
   "cell_type": "code",
   "execution_count": null,
   "metadata": {},
   "outputs": [],
   "source": [
    "mosquitto_pub -h mqtt.${DOMAIN} -p 8883 --cafile ${PJ_ROOT}/secrets/ca.crt -d -u iotagent -P ${VERNEMQ__iotagent} -t /test -m \"test\""
   ]
  },
  {
   "cell_type": "markdown",
   "metadata": {},
   "source": [
    "example)\n",
    "```\n",
    "Client mosqpub|52150-Nobuyukin sending CONNECT\n",
    "Client mosqpub|52150-Nobuyukin received CONNACK\n",
    "Client mosqpub|52150-Nobuyukin sending PUBLISH (d0, q0, r0, m1, '/test', ... (4 bytes))\n",
    "Client mosqpub|52150-Nobuyukin sending DISCONNECT\n",
    "```"
   ]
  },
  {
   "cell_type": "markdown",
   "metadata": {},
   "source": [
    "## start mondodb cluster on AKS\n",
    "[mongodb](https://www.mongodb.com/)"
   ]
  },
  {
   "cell_type": "markdown",
   "metadata": {},
   "source": [
    "create 'mongodb' takes a few minutes."
   ]
  },
  {
   "cell_type": "code",
   "execution_count": null,
   "metadata": {},
   "outputs": [],
   "source": [
    "kubectl apply -f mongodb/mongodb-cluster-azure.yaml"
   ]
  },
  {
   "cell_type": "code",
   "execution_count": null,
   "metadata": {},
   "outputs": [],
   "source": [
    "kubectl get PersistentVolumeClaims -l app=mongodb"
   ]
  },
  {
   "cell_type": "markdown",
   "metadata": {},
   "source": [
    "example)\n",
    "```\n",
    "NAME                              STATUS    VOLUME                                     CAPACITY   ACCESS MODES   STORAGECLASS      AGE\n",
    "mongodb-storage-claim-mongodb-0   Bound     pvc-386ac3ba-856e-11e8-a3b4-026b849f8c40   30Gi       RWO            managed-premium   5m\n",
    "mongodb-storage-claim-mongodb-1   Bound     pvc-88455199-856e-11e8-a3b4-026b849f8c40   30Gi       RWO            managed-premium   3m\n",
    "mongodb-storage-claim-mongodb-2   Bound     pvc-b74ec32c-856e-11e8-a3b4-026b849f8c40   30Gi       RWO            managed-premium   2m\n",
    "```"
   ]
  },
  {
   "cell_type": "code",
   "execution_count": null,
   "metadata": {},
   "outputs": [],
   "source": [
    "kubectl get pods -l app=mongodb"
   ]
  },
  {
   "cell_type": "markdown",
   "metadata": {},
   "source": [
    "example)\n",
    "```\n",
    "NAME        READY     STATUS    RESTARTS   AGE\n",
    "mongodb-0   2/2       Running   0          6m\n",
    "mongodb-1   2/2       Running   0          4m\n",
    "mongodb-2   2/2       Running   0          2m\n",
    "```"
   ]
  },
  {
   "cell_type": "code",
   "execution_count": null,
   "metadata": {},
   "outputs": [],
   "source": [
    "kubectl get services -l app=mongodb"
   ]
  },
  {
   "cell_type": "markdown",
   "metadata": {},
   "source": [
    "example)\n",
    "```\n",
    "NAME      TYPE        CLUSTER-IP   EXTERNAL-IP   PORT(S)     AGE\n",
    "mongodb   ClusterIP   None         <none>        27017/TCP   6m\n",
    "```"
   ]
  },
  {
   "cell_type": "code",
   "execution_count": null,
   "metadata": {},
   "outputs": [],
   "source": [
    "kubectl exec mongodb-0 -c mongodb -- mongo --eval 'printjson(rs.status().members.map(function(e) {return {name: e.name, stateStr:e.stateStr};}))'"
   ]
  },
  {
   "cell_type": "markdown",
   "metadata": {},
   "source": [
    "expected)\n",
    "```\n",
    "MongoDB shell version v3.6.6\n",
    "connecting to: mongodb://127.0.0.1:27017\n",
    "MongoDB server version: 3.6.6\n",
    "[\n",
    "\t{\n",
    "\t\t\"name\" : \"mongodb-0.mongodb.default.svc.cluster.local:27017\",\n",
    "\t\t\"stateStr\" : \"PRIMARY\"\n",
    "\t},\n",
    "\t{\n",
    "\t\t\"name\" : \"mongodb-1.mongodb.default.svc.cluster.local:27017\",\n",
    "\t\t\"stateStr\" : \"SECONDARY\"\n",
    "\t},\n",
    "\t{\n",
    "\t\t\"name\" : \"mongodb-2.mongodb.default.svc.cluster.local:27017\",\n",
    "\t\t\"stateStr\" : \"SECONDARY\"\n",
    "\t}\n",
    "]\n",
    "```"
   ]
  },
  {
   "cell_type": "markdown",
   "metadata": {},
   "source": [
    "## start ambassador on AKS\n",
    "\n",
    "[ambassador](https://www.getambassador.io/)"
   ]
  },
  {
   "cell_type": "markdown",
   "metadata": {},
   "source": [
    "### create tls cert files using let's encrypt"
   ]
  },
  {
   "cell_type": "markdown",
   "metadata": {},
   "source": [
    "_Outside of this notebook_\n",
    "1. open a ternminal.\n",
    "1. run a command displayed below."
   ]
  },
  {
   "cell_type": "code",
   "execution_count": null,
   "metadata": {},
   "outputs": [],
   "source": [
    "echo \"docker run -it -v ${PJ_ROOT}/secrets:/etc/letsencrypt certbot/certbot certonly --manual --domain api.${DOMAIN} --email ${EMAIL} --no-eff-email --agree-tos --manual-public-ip-logging-ok --preferred-challenges dns\""
   ]
  },
  {
   "cell_type": "markdown",
   "metadata": {},
   "source": [
    "_Outside of this notebook_\n",
    "1. wait until to add a DNS TXT Record like below."
   ]
  },
  {
   "cell_type": "markdown",
   "metadata": {},
   "source": [
    "notice) **replace YYYYYYYYYYYYYYYYYYYYYYYYYYYYYYYYYYYYYYYYYYY with the 'DNS TXT record' value displayed in opened terminal.**"
   ]
  },
  {
   "cell_type": "code",
   "execution_count": null,
   "metadata": {},
   "outputs": [],
   "source": [
    "az network dns record-set txt add-record --resource-group ${DNS_ZONE_RG} --zone-name \"${DOMAIN}\" --record-set-name \"_acme-challenge.api\" --value \"YYYYYYYYYYYYYYYYYYYYYYYYYYYYYYYYYYYYYYYYYYY\""
   ]
  },
  {
   "cell_type": "markdown",
   "metadata": {},
   "source": [
    "_Outside of this notebook_\n",
    "1. in order to continue creating cert file process, press enter key in the opened terminal.\n",
    "1. confirm to be displayed the below message at the opened terminal.\n",
    "```\n",
    "Congratulations! Your certificate and chain have been saved at:\n",
    "```"
   ]
  },
  {
   "cell_type": "markdown",
   "metadata": {},
   "source": [
    "notice) **replace YYYYYYYYYYYYYYYYYYYYYYYYYYYYYYYYYYYYYYYYYYY with the 'DNS TXT record' value displayed in opened terminal.**"
   ]
  },
  {
   "cell_type": "code",
   "execution_count": null,
   "metadata": {},
   "outputs": [],
   "source": [
    "az network dns record-set txt remove-record --resource-group ${DNS_ZONE_RG} --zone-name \"${DOMAIN}\" --record-set-name \"_acme-challenge.api\" --value \"YYYYYYYYYYYYYYYYYYYYYYYYYYYYYYYYYYYYYYYYYYY\""
   ]
  },
  {
   "cell_type": "markdown",
   "metadata": {},
   "source": [
    "### register cert files of ambassador to kubernetes secrets"
   ]
  },
  {
   "cell_type": "code",
   "execution_count": null,
   "metadata": {},
   "outputs": [],
   "source": [
    "kubectl create secret tls ambassador-certs --cert=${PJ_ROOT}/secrets/live/api.${DOMAIN}/fullchain.pem --key=${PJ_ROOT}/secrets/live/api.${DOMAIN}/privkey.pem"
   ]
  },
  {
   "cell_type": "markdown",
   "metadata": {},
   "source": [
    "### start ambassador"
   ]
  },
  {
   "cell_type": "code",
   "execution_count": null,
   "metadata": {},
   "outputs": [],
   "source": [
    "kubectl apply -f ambassador/ambassador-azure.yaml"
   ]
  },
  {
   "cell_type": "code",
   "execution_count": null,
   "metadata": {},
   "outputs": [],
   "source": [
    "kubectl get pods -l service=ambassador"
   ]
  },
  {
   "cell_type": "markdown",
   "metadata": {},
   "source": [
    "example)\n",
    "```\n",
    "NAME                         READY     STATUS    RESTARTS   AGE\n",
    "ambassador-cf99ff6bb-45jpl   1/1       Running   0          39s\n",
    "ambassador-cf99ff6bb-8kht7   1/1       Running   0          39s\n",
    "ambassador-cf99ff6bb-lv2tk   1/1       Running   0          39s\n",
    "```"
   ]
  },
  {
   "cell_type": "markdown",
   "metadata": {},
   "source": [
    "**confirm that \"EXTERNAL-IP\" is assigned**"
   ]
  },
  {
   "cell_type": "code",
   "execution_count": null,
   "metadata": {},
   "outputs": [],
   "source": [
    "kubectl get services -l service=ambassador"
   ]
  },
  {
   "cell_type": "markdown",
   "metadata": {},
   "source": [
    "example)\n",
    "```\n",
    "NAME         TYPE           CLUSTER-IP    EXTERNAL-IP   PORT(S)                      AGE\n",
    "ambassador   LoadBalancer   10.0.191.59   YY.YY.YY.YY   443:30357/TCP,80:32755/TCP   4m\n",
    "```"
   ]
  },
  {
   "cell_type": "markdown",
   "metadata": {},
   "source": [
    "### register DNS A Record for ambassador"
   ]
  },
  {
   "cell_type": "code",
   "execution_count": null,
   "metadata": {},
   "outputs": [],
   "source": [
    "HTTPS_IPADDR=$(kubectl get services -l service=ambassador -o json | jq '.items[0].status.loadBalancer.ingress[0].ip' -r)\n",
    "az network dns record-set a add-record --resource-group ${DNS_ZONE_RG} --zone-name \"${DOMAIN}\" --record-set-name \"api\" --ipv4-address \"${HTTPS_IPADDR}\""
   ]
  },
  {
   "cell_type": "code",
   "execution_count": null,
   "metadata": {},
   "outputs": [],
   "source": [
    "nslookup api.${DOMAIN}"
   ]
  },
  {
   "cell_type": "code",
   "execution_count": null,
   "metadata": {},
   "outputs": [],
   "source": [
    "curl -i https://api.${DOMAIN}"
   ]
  },
  {
   "cell_type": "markdown",
   "metadata": {},
   "source": [
    "expected)\n",
    "```\n",
    "HTTP/1.1 404 Not Found\n",
    "date: Fri, 25 May 2018 00:47:41 GMT\n",
    "server: envoy\n",
    "content-length: 0\n",
    "```"
   ]
  },
  {
   "cell_type": "markdown",
   "metadata": {},
   "source": [
    "## start authorization & authentication service on AKS"
   ]
  },
  {
   "cell_type": "markdown",
   "metadata": {},
   "source": [
    "### create `secrets/auth-tokens.json`\n",
    "example)\n",
    "```json\n",
    "{\n",
    "  \"bearer_tokens\": [\n",
    "      {\n",
    "          \"token\": \"iRGTsKKHwgjf4rR2XMSN3oE9Dhm6ym3O\",\n",
    "          \"allowed_paths\": [\"^/orion/.*$\", \"^/idas/.*$\"]\n",
    "      }, {\n",
    "          \"token\": \"4Xc1GFa2D8zkZRbkdygm902oGYeUAJno\",\n",
    "          \"allowed_paths\": [\"^/idas/.*$\"]\n",
    "      }\n",
    "  ],\n",
    "  \"basic_auths\": [\n",
    "      {\n",
    "          \"username\": \"user1\",\n",
    "          \"password\": \"P@ssw0rd\",\n",
    "          \"allowed_paths\": [\"/controller/web/\"]\n",
    "      }, {\n",
    "          \"username\": \"user2\",\n",
    "          \"password\": \"P@ssw0rd\",\n",
    "          \"allowed_paths\": [\"/controller/web/\"]\n",
    "      }\n",
    "  ]\n",
    "}\n",
    "```"
   ]
  },
  {
   "cell_type": "code",
   "execution_count": null,
   "metadata": {},
   "outputs": [],
   "source": [
    "cat << __EOS__ > secrets/auth-tokens.json\n",
    "{\n",
    "  \"bearer_tokens\": [\n",
    "      {\n",
    "          \"token\": \"$(cat /dev/urandom | LC_CTYPE=C tr -dc 'a-zA-Z0-9' | head -c 32)\",\n",
    "          \"allowed_paths\": [\"^/orion/.*$\", \"^/idas/.*$\"]\n",
    "      }\n",
    "  ],\n",
    "  \"basic_auths\": [\n",
    "      {\n",
    "          \"username\": \"user1\",\n",
    "          \"password\": \"$(cat /dev/urandom | LC_CTYPE=C tr -dc 'a-zA-Z0-9' | head -c 16)\",\n",
    "          \"allowed_paths\": [\"/controller/web/\"]\n",
    "      }\n",
    "  ]\n",
    "}\n",
    "__EOS__"
   ]
  },
  {
   "cell_type": "markdown",
   "metadata": {},
   "source": [
    "### register auth-tokens to kubernetes secrets"
   ]
  },
  {
   "cell_type": "code",
   "execution_count": null,
   "metadata": {},
   "outputs": [],
   "source": [
    "kubectl create secret generic auth-tokens --from-file=./secrets/auth-tokens.json"
   ]
  },
  {
   "cell_type": "markdown",
   "metadata": {},
   "source": [
    "### start fiware-ambassador-auth"
   ]
  },
  {
   "cell_type": "code",
   "execution_count": null,
   "metadata": {},
   "outputs": [],
   "source": [
    "kubectl apply -f ambassador/fiware-ambassador-auth.yaml"
   ]
  },
  {
   "cell_type": "code",
   "execution_count": null,
   "metadata": {},
   "outputs": [],
   "source": [
    "kubectl get pods -l pod=ambassador-auth"
   ]
  },
  {
   "cell_type": "markdown",
   "metadata": {},
   "source": [
    "example)\n",
    "```\n",
    "NAME                           READY     STATUS    RESTARTS   AGE\n",
    "ambassador-auth-6fffdbd9c9-7kkpr   1/1       Running   0          56s\n",
    "ambassador-auth-6fffdbd9c9-qxw6m   1/1       Running   0          56s\n",
    "ambassador-auth-6fffdbd9c9-sdn5b   1/1       Running   0          56s\n",
    "```"
   ]
  },
  {
   "cell_type": "code",
   "execution_count": null,
   "metadata": {},
   "outputs": [],
   "source": [
    "kubectl get services -l service=ambassador-auth"
   ]
  },
  {
   "cell_type": "markdown",
   "metadata": {},
   "source": [
    "example)\n",
    "```\n",
    "NAME          TYPE        CLUSTER-IP     EXTERNAL-IP   PORT(S)    AGE\n",
    "ambassador-auth   ClusterIP   10.0.129.102   <none>        3000/TCP   2m\n",
    "```"
   ]
  },
  {
   "cell_type": "code",
   "execution_count": null,
   "metadata": {},
   "outputs": [],
   "source": [
    "curl -i https://api.${DOMAIN}/"
   ]
  },
  {
   "cell_type": "markdown",
   "metadata": {},
   "source": [
    "example)\n",
    "```\n",
    "HTTP/1.1 401 Unauthorized\n",
    "content-type: application/json; charset=utf-8\n",
    "www-authenticate: Bearer realm=\"token_required\"\n",
    "date: Thu, 12 Jul 2018 02:21:24 GMT\n",
    "content-length: 60\n",
    "x-envoy-upstream-service-time: 2\n",
    "server: envoy\n",
    "\n",
    "{\"authorized\":false,\"error\":\"missing Header: authorization\"}\n",
    "```"
   ]
  },
  {
   "cell_type": "markdown",
   "metadata": {},
   "source": [
    "## start fiware orion on AKS\n",
    "[fiware orion](https://catalogue-server.fiware.org/enablers/publishsubscribe-context-broker-orion-context-broker)"
   ]
  },
  {
   "cell_type": "code",
   "execution_count": null,
   "metadata": {},
   "outputs": [],
   "source": [
    "kubectl apply -f orion/orion.yaml"
   ]
  },
  {
   "cell_type": "code",
   "execution_count": null,
   "metadata": {},
   "outputs": [],
   "source": [
    "kubectl get pods -l app=orion"
   ]
  },
  {
   "cell_type": "markdown",
   "metadata": {},
   "source": [
    "example)\n",
    "```\n",
    "NAME                     READY     STATUS    RESTARTS   AGE\n",
    "orion-54f5cdcb5d-d2pt5   1/1       Running   0          56s\n",
    "orion-54f5cdcb5d-hv274   1/1       Running   0          56s\n",
    "orion-54f5cdcb5d-xbnx2   1/1       Running   0          56s\n",
    "```"
   ]
  },
  {
   "cell_type": "code",
   "execution_count": null,
   "metadata": {},
   "outputs": [],
   "source": [
    "kubectl get services -l app=orion"
   ]
  },
  {
   "cell_type": "markdown",
   "metadata": {},
   "source": [
    "example)\n",
    "```\n",
    "NAME      TYPE        CLUSTER-IP    EXTERNAL-IP   PORT(S)    AGE\n",
    "orion     ClusterIP   10.0.44.126   <none>        1026/TCP   1m\n",
    "```"
   ]
  },
  {
   "cell_type": "code",
   "execution_count": null,
   "metadata": {},
   "outputs": [],
   "source": [
    "TOKEN=$(cat ${PJ_ROOT}/secrets/auth-tokens.json | jq '.bearer_tokens[0].token' -r)\n",
    "curl -i -H \"Authorization: bearer ${TOKEN}\" https://api.${DOMAIN}/orion/v2/entities/"
   ]
  },
  {
   "cell_type": "markdown",
   "metadata": {},
   "source": [
    "example)\n",
    "```\n",
    "HTTP/1.1 200 OK\n",
    "content-length: 2\n",
    "content-type: application/json\n",
    "fiware-correlator: 4731eb48-4dc1-11e8-b1a2-0a580af4010a\n",
    "date: Wed, 02 May 2018 04:28:35 GMT\n",
    "x-envoy-upstream-service-time: 5\n",
    "server: envoy\n",
    "\n",
    "[]\n",
    "```"
   ]
  },
  {
   "cell_type": "markdown",
   "metadata": {},
   "source": [
    "## start duplicate message filter service for idas"
   ]
  },
  {
   "cell_type": "code",
   "execution_count": null,
   "metadata": {},
   "outputs": [],
   "source": [
    "kubectl apply -f idas/fiware-mqtt-msgfilter.yaml"
   ]
  },
  {
   "cell_type": "code",
   "execution_count": null,
   "metadata": {},
   "outputs": [],
   "source": [
    "kubectl get pods -l pod=mqtt-msgfilter"
   ]
  },
  {
   "cell_type": "markdown",
   "metadata": {},
   "source": [
    "example)\n",
    "```\n",
    "NAME                              READY     STATUS    RESTARTS   AGE\n",
    "mqtt-msgfilter-6f76445596-cmbqz   1/1       Running   0          26s\n",
    "mqtt-msgfilter-6f76445596-wrhzb   1/1       Running   0          26s\n",
    "mqtt-msgfilter-6f76445596-znnvg   1/1       Running   0          26s\n",
    "```"
   ]
  },
  {
   "cell_type": "code",
   "execution_count": null,
   "metadata": {},
   "outputs": [],
   "source": [
    "kubectl get services -l service=mqtt-msgfilter"
   ]
  },
  {
   "cell_type": "markdown",
   "metadata": {},
   "source": [
    "example)\n",
    "```\n",
    "NAME             TYPE        CLUSTER-IP    EXTERNAL-IP   PORT(S)    AGE\n",
    "mqtt-msgfilter   ClusterIP   10.0.133.42   <none>        5001/TCP   43s\n",
    "```"
   ]
  },
  {
   "cell_type": "markdown",
   "metadata": {},
   "source": [
    "## start fiware idas(iotagent-ul) on AKS\n",
    "[fiware IDAS(iotagent-ul)](https://catalogue-server.fiware.org/enablers/backend-device-management-idas)\n",
    "\n",
    "**In this demonstration, we use customized iotagent-ul in order to ignore duplicate MQTT messages.**"
   ]
  },
  {
   "cell_type": "markdown",
   "metadata": {},
   "source": [
    "### build and push the idas conatiner image"
   ]
  },
  {
   "cell_type": "code",
   "execution_count": null,
   "metadata": {},
   "outputs": [],
   "source": [
    "env IOTAGENT_PASSWORD=${VERNEMQ__iotagent} envsubst < idas/iotagent-ul/config.js.template > idas/iotagent-ul/config.js"
   ]
  },
  {
   "cell_type": "code",
   "execution_count": null,
   "metadata": {},
   "outputs": [],
   "source": [
    "docker build -t ${REPOSITORY}/tech-sketch/iotagent-ul:1.6.0 idas/iotagent-ul/"
   ]
  },
  {
   "cell_type": "code",
   "execution_count": null,
   "metadata": {},
   "outputs": [],
   "source": [
    "az acr login --name ${ACR_NAME}"
   ]
  },
  {
   "cell_type": "code",
   "execution_count": null,
   "metadata": {
    "scrolled": true
   },
   "outputs": [],
   "source": [
    "docker push ${REPOSITORY}/tech-sketch/iotagent-ul:1.6.0"
   ]
  },
  {
   "cell_type": "markdown",
   "metadata": {},
   "source": [
    "expected)\n",
    "```\n",
    "The push refers to repository [ccfdacr.azurecr.io/tech-sketch/iotagent-ul]\n",
    "\n",
    "0a577855: Preparing \n",
    "e42a42ab: Preparing \n",
    "e3e1d3a9: Preparing \n",
    "a102cc1f: Preparing \n",
    "1.6.0: digest: sha256:166a9aad44a8e052412da041a620544341f18b23e86fbc4fa5c9d4b839dc6ba5 size: 1372\n",
    "```"
   ]
  },
  {
   "cell_type": "code",
   "execution_count": null,
   "metadata": {},
   "outputs": [],
   "source": [
    "az acr repository list --name ${ACR_NAME} --output table"
   ]
  },
  {
   "cell_type": "markdown",
   "metadata": {},
   "source": [
    "example)\n",
    "```\n",
    "Result\n",
    "---------------------------------\n",
    "tech-sketch/iotagent-ul\n",
    "```"
   ]
  },
  {
   "cell_type": "markdown",
   "metadata": {},
   "source": [
    "### start idas"
   ]
  },
  {
   "cell_type": "code",
   "execution_count": null,
   "metadata": {},
   "outputs": [],
   "source": [
    "envsubst < idas/iotagent-ul.yaml | kubectl apply -f -"
   ]
  },
  {
   "cell_type": "code",
   "execution_count": null,
   "metadata": {},
   "outputs": [],
   "source": [
    "kubectl get pods -l app=iotagent-ul"
   ]
  },
  {
   "cell_type": "markdown",
   "metadata": {},
   "source": [
    "example)\n",
    "```\n",
    "NAME                           READY     STATUS    RESTARTS   AGE\n",
    "iotagent-ul-79685b64bf-8krps   1/1       Running   0          3m\n",
    "iotagent-ul-79685b64bf-m6nlg   1/1       Running   0          3m\n",
    "iotagent-ul-79685b64bf-mjpbl   1/1       Running   0          3m\n",
    "```"
   ]
  },
  {
   "cell_type": "code",
   "execution_count": null,
   "metadata": {},
   "outputs": [],
   "source": [
    "kubectl get services -l app=iotagent-ul"
   ]
  },
  {
   "cell_type": "markdown",
   "metadata": {},
   "source": [
    "example)\n",
    "```\n",
    "NAME          TYPE        CLUSTER-IP     EXTERNAL-IP   PORT(S)             AGE\n",
    "iotagent-ul   ClusterIP   10.0.180.155   <none>        4041/TCP,7896/TCP   43s\n",
    "```"
   ]
  },
  {
   "cell_type": "code",
   "execution_count": null,
   "metadata": {},
   "outputs": [],
   "source": [
    "TOKEN=$(cat secrets/auth-tokens.json | jq '.bearer_tokens[0].token' -r)\n",
    "curl -i -H \"Authorization: bearer ${TOKEN}\" -H \"Fiware-Service: ${FIWARE_SERVICE}\" -H \"Fiware-Servicepath: ${FIWARE_SERVICEPATH}*\" https://api.${DOMAIN}/idas/ul20/manage/iot/services/"
   ]
  },
  {
   "cell_type": "markdown",
   "metadata": {},
   "source": [
    "example)\n",
    "```\n",
    "HTTP/1.1 200 OK\n",
    "x-powered-by: Express\n",
    "fiware-correlator: c114fc5e-b4a2-40f6-b7fe-1d68369784e5\n",
    "content-type: application/json; charset=utf-8\n",
    "content-length: 25\n",
    "etag: W/\"19-WMYe0U6ocKhQjp+oaVnMHLdbylc\"\n",
    "date: Wed, 02 May 2018 06:16:18 GMT\n",
    "x-envoy-upstream-service-time: 9\n",
    "server: envoy\n",
    "\n",
    "{\"count\":0,\"services\":[]}\n",
    "```"
   ]
  },
  {
   "cell_type": "markdown",
   "metadata": {},
   "source": [
    "## start fiware cygnus on AKS\n",
    "[fiware cygnus](https://catalogue-server.fiware.org/enablers/cygnus)\n",
    "\n",
    "**In this demonstration, we use re-configured cygnus in order to revoke unnecessary sinks.**"
   ]
  },
  {
   "cell_type": "markdown",
   "metadata": {},
   "source": [
    "### build and push the idas conatiner image"
   ]
  },
  {
   "cell_type": "code",
   "execution_count": null,
   "metadata": {},
   "outputs": [],
   "source": [
    "docker build -t ${REPOSITORY}/tech-sketch/cygnus-ngsi:1.8.0 ./cygnus/fiware-cygnus/"
   ]
  },
  {
   "cell_type": "code",
   "execution_count": null,
   "metadata": {},
   "outputs": [],
   "source": [
    "az acr login --name ${ACR_NAME}"
   ]
  },
  {
   "cell_type": "code",
   "execution_count": null,
   "metadata": {},
   "outputs": [],
   "source": [
    "docker push ${REPOSITORY}/tech-sketch/cygnus-ngsi:1.8.0"
   ]
  },
  {
   "cell_type": "markdown",
   "metadata": {},
   "source": [
    "expected)\n",
    "```\n",
    "The push refers to repository [ccfdacr.azurecr.io/tech-sketch/cygnus-ngsi]\n",
    "\n",
    "c237fee1: Preparing \n",
    "422de19a: Preparing \n",
    "32a91a75: Preparing \n",
    "62ba0f28: Preparing \n",
    "1.8.0: digest: sha256:affdaed05cc1762c8dc24e75c1987fdb400320fa69c84dd3138019216fed954a size: 1367\n",
    "```"
   ]
  },
  {
   "cell_type": "code",
   "execution_count": null,
   "metadata": {},
   "outputs": [],
   "source": [
    "az acr repository list --name ${ACR_NAME} --output table"
   ]
  },
  {
   "cell_type": "markdown",
   "metadata": {},
   "source": [
    "example)\n",
    "```\n",
    "Result\n",
    "---------------------------------\n",
    "tech-sketch/cygnus-ngsi\n",
    "tech-sketch/iotagent-ul\n",
    "```"
   ]
  },
  {
   "cell_type": "markdown",
   "metadata": {},
   "source": [
    "### start cygnus"
   ]
  },
  {
   "cell_type": "code",
   "execution_count": null,
   "metadata": {},
   "outputs": [],
   "source": [
    "envsubst < cygnus/cygnus.yaml | kubectl apply -f -"
   ]
  },
  {
   "cell_type": "code",
   "execution_count": null,
   "metadata": {},
   "outputs": [],
   "source": [
    "kubectl get pods -l app=cygnus"
   ]
  },
  {
   "cell_type": "markdown",
   "metadata": {},
   "source": [
    "example)\n",
    "```\n",
    "NAME                      READY     STATUS    RESTARTS   AGE\n",
    "cygnus-5c68fb6578-fdmtg   1/1       Running   0          44s\n",
    "cygnus-5c68fb6578-stmds   1/1       Running   0          44s\n",
    "cygnus-5c68fb6578-z85lp   1/1       Running   0          44s\n",
    "```"
   ]
  },
  {
   "cell_type": "code",
   "execution_count": null,
   "metadata": {},
   "outputs": [],
   "source": [
    "kubectl get services -l app=cygnus"
   ]
  },
  {
   "cell_type": "markdown",
   "metadata": {},
   "source": [
    "example)\n",
    "```\n",
    "NAME      TYPE        CLUSTER-IP       EXTERNAL-IP   PORT(S)             AGE\n",
    "cygnus    ClusterIP   10.103.255.240   <none>        5050/TCP,8081/TCP   1m\n",
    "```"
   ]
  },
  {
   "cell_type": "markdown",
   "metadata": {},
   "source": [
    "## start command proxy service on AKS"
   ]
  },
  {
   "cell_type": "code",
   "execution_count": null,
   "metadata": {},
   "outputs": [],
   "source": [
    "envsubst < controller/fiware-cmd-proxy.yaml | kubectl apply -f -"
   ]
  },
  {
   "cell_type": "code",
   "execution_count": null,
   "metadata": {},
   "outputs": [],
   "source": [
    "kubectl get pods -l pod=cmd-proxy"
   ]
  },
  {
   "cell_type": "markdown",
   "metadata": {},
   "source": [
    "example)\n",
    "```\n",
    "NAME                        READY     STATUS    RESTARTS   AGE\n",
    "cmd-proxy-d7cbc6dfb-6hnsp   1/1       Running   0          46s\n",
    "cmd-proxy-d7cbc6dfb-v6rrx   1/1       Running   0          46s\n",
    "cmd-proxy-d7cbc6dfb-zf2fd   1/1       Running   0          46s\n",
    "```"
   ]
  },
  {
   "cell_type": "code",
   "execution_count": null,
   "metadata": {},
   "outputs": [],
   "source": [
    "kubectl get services -l service=cmd-proxy"
   ]
  },
  {
   "cell_type": "markdown",
   "metadata": {},
   "source": [
    "example)\n",
    "```\n",
    "NAME        TYPE        CLUSTER-IP    EXTERNAL-IP   PORT(S)    AGE\n",
    "cmd-proxy   ClusterIP   10.0.172.56   <none>        8888/TCP   1m\n",
    "```"
   ]
  },
  {
   "cell_type": "code",
   "execution_count": null,
   "metadata": {},
   "outputs": [],
   "source": []
  }
 ],
 "metadata": {
  "kernelspec": {
   "display_name": "Bash",
   "language": "bash",
   "name": "bash"
  },
  "language_info": {
   "codemirror_mode": "shell",
   "file_extension": ".sh",
   "mimetype": "text/x-sh",
   "name": "bash"
  }
 },
 "nbformat": 4,
 "nbformat_minor": 2
}
