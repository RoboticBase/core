{
 "cells": [
  {
   "cell_type": "markdown",
   "metadata": {},
   "source": [
    "# 2 start pods on Azure AKS"
   ]
  },
  {
   "cell_type": "markdown",
   "metadata": {},
   "source": [
    "change ${PJ_ROOT} to your directory."
   ]
  },
  {
   "cell_type": "code",
   "execution_count": null,
   "metadata": {},
   "outputs": [],
   "source": [
    "export PJ_ROOT=\"${HOME}/roboticbase-core\"\n",
    "cd ${PJ_ROOT};pwd"
   ]
  },
  {
   "cell_type": "markdown",
   "metadata": {},
   "source": [
    "example)\n",
    "```\n",
    "/Users/user/roboticbase-core\n",
    "```"
   ]
  },
  {
   "cell_type": "markdown",
   "metadata": {},
   "source": [
    "## load environment variables"
   ]
  },
  {
   "cell_type": "code",
   "execution_count": null,
   "metadata": {},
   "outputs": [],
   "source": [
    "source ${PJ_ROOT}/docs/azure_aks/env"
   ]
  },
  {
   "cell_type": "markdown",
   "metadata": {},
   "source": [
    "## login AKS"
   ]
  },
  {
   "cell_type": "code",
   "execution_count": null,
   "metadata": {},
   "outputs": [],
   "source": [
    "az login --tenant ${TENANT}"
   ]
  },
  {
   "cell_type": "markdown",
   "metadata": {},
   "source": [
    "## create wildcard TLS cert files using Let's Encrypt"
   ]
  },
  {
   "cell_type": "markdown",
   "metadata": {},
   "source": [
    "_Outside of this notebook_\n",
    "1. open a ternminal.\n",
    "1. run a command displayed below."
   ]
  },
  {
   "cell_type": "code",
   "execution_count": null,
   "metadata": {},
   "outputs": [],
   "source": [
    "echo \"docker run -it -v ${PJ_ROOT}/secrets:/etc/letsencrypt certbot/certbot certonly --manual --domain *.${DOMAIN} --email ${EMAIL} --no-eff-email --agree-tos --manual-public-ip-logging-ok --preferred-challenges dns-01 --server https://acme-v02.api.letsencrypt.org/directory\""
   ]
  },
  {
   "cell_type": "markdown",
   "metadata": {},
   "source": [
    "_Outside of this notebook_\n",
    "1. wait until to add a DNS TXT Record like below."
   ]
  },
  {
   "cell_type": "markdown",
   "metadata": {},
   "source": [
    "notice) **replace XXXXXXXXXXXXXXXXXXXXXXXXXXXXXXXXXXXXXXXXXXX with the 'DNS TXT record' value displayed in opened terminal.**"
   ]
  },
  {
   "cell_type": "code",
   "execution_count": null,
   "metadata": {},
   "outputs": [],
   "source": [
    "az network dns record-set txt add-record --resource-group ${DNS_ZONE_RG} --zone-name \"${DOMAIN}\" --record-set-name \"_acme-challenge\" --value \"XXXXXXXXXXXXXXXXXXXXXXXXXXXXXXXXXXXXXXXXXXX\""
   ]
  },
  {
   "cell_type": "markdown",
   "metadata": {},
   "source": [
    "_Outside of this notebook_\n",
    "1. in order to continue creating cert file process, press enter key in the opened terminal.\n",
    "1. confirm to be displayed the below message at the opened terminal.\n",
    "```\n",
    "Congratulations! Your certificate and chain have been saved at:\n",
    "```"
   ]
  },
  {
   "cell_type": "markdown",
   "metadata": {},
   "source": [
    "notice) **replace XXXXXXXXXXXXXXXXXXXXXXXXXXXXXXXXXXXXXXXXXXX with the 'DNS TXT record' value displayed in opened terminal.**"
   ]
  },
  {
   "cell_type": "code",
   "execution_count": null,
   "metadata": {},
   "outputs": [],
   "source": [
    "az network dns record-set txt remove-record --resource-group ${DNS_ZONE_RG} --zone-name \"${DOMAIN}\" --record-set-name \"_acme-challenge\" --value \"XXXXXXXXXXXXXXXXXXXXXXXXXXXXXXXXXXXXXXXXXXX\""
   ]
  },
  {
   "cell_type": "markdown",
   "metadata": {},
   "source": [
    "## start RabbitMQ cluster on AKS\n",
    "[rabbitmq](https://www.rabbitmq.com/)"
   ]
  },
  {
   "cell_type": "markdown",
   "metadata": {},
   "source": [
    "### register cert files to kubernetes secrets"
   ]
  },
  {
   "cell_type": "code",
   "execution_count": null,
   "metadata": {},
   "outputs": [],
   "source": [
    "kubectl create secret generic rabbitmq-certifications --from-file=${PJ_ROOT}/secrets/live/${DOMAIN}/fullchain.pem --from-file=${PJ_ROOT}/secrets/live/${DOMAIN}/cert.pem --from-file=${PJ_ROOT}/secrets/live/${DOMAIN}/privkey.pem"
   ]
  },
  {
   "cell_type": "markdown",
   "metadata": {},
   "source": [
    "### start RabbitMQ"
   ]
  },
  {
   "cell_type": "code",
   "execution_count": null,
   "metadata": {},
   "outputs": [],
   "source": [
    "kubectl apply -f rabbitmq/rabbitmq-rbac.yaml"
   ]
  },
  {
   "cell_type": "code",
   "execution_count": null,
   "metadata": {},
   "outputs": [],
   "source": [
    "kubectl apply -f rabbitmq/rabbitmq-azure-services.yaml"
   ]
  },
  {
   "cell_type": "code",
   "execution_count": null,
   "metadata": {},
   "outputs": [],
   "source": [
    "kubectl apply -f rabbitmq/rabbitmq-azure-statefulset.yaml"
   ]
  },
  {
   "cell_type": "code",
   "execution_count": null,
   "metadata": {},
   "outputs": [],
   "source": [
    "kubectl get pods -l app=rabbitmq"
   ]
  },
  {
   "cell_type": "markdown",
   "metadata": {},
   "source": [
    "example)\n",
    "\n",
    "```\n",
    "NAME         READY     STATUS    RESTARTS   AGE\n",
    "rabbitmq-0   1/1       Running   0          6m\n",
    "rabbitmq-1   1/1       Running   0          5m\n",
    "rabbitmq-2   1/1       Running   0          4m\n",
    "```"
   ]
  },
  {
   "cell_type": "code",
   "execution_count": null,
   "metadata": {},
   "outputs": [],
   "source": [
    "kubectl exec rabbitmq-0 -- rabbitmqctl cluster_status"
   ]
  },
  {
   "cell_type": "markdown",
   "metadata": {},
   "source": [
    "example)\n",
    "```\n",
    "Cluster status of node rabbit@rabbitmq-0.rabbitmq.default.svc.cluster.local ...\n",
    "[{nodes,[{disc,['rabbit@rabbitmq-0.rabbitmq.default.svc.cluster.local',\n",
    "                'rabbit@rabbitmq-1.rabbitmq.default.svc.cluster.local',\n",
    "                'rabbit@rabbitmq-2.rabbitmq.default.svc.cluster.local']}]},\n",
    " {running_nodes,['rabbit@rabbitmq-2.rabbitmq.default.svc.cluster.local',\n",
    "                 'rabbit@rabbitmq-1.rabbitmq.default.svc.cluster.local',\n",
    "                 'rabbit@rabbitmq-0.rabbitmq.default.svc.cluster.local']},\n",
    " {cluster_name,<<\"rabbit@rabbitmq-0.rabbitmq.default.svc.cluster.local\">>},\n",
    " {partitions,[]},\n",
    " {alarms,[{'rabbit@rabbitmq-2.rabbitmq.default.svc.cluster.local',[]},\n",
    "          {'rabbit@rabbitmq-1.rabbitmq.default.svc.cluster.local',[]},\n",
    "          {'rabbit@rabbitmq-0.rabbitmq.default.svc.cluster.local',[]}]}]\n",
    "```"
   ]
  },
  {
   "cell_type": "markdown",
   "metadata": {},
   "source": [
    "### change password of `guest`"
   ]
  },
  {
   "cell_type": "code",
   "execution_count": null,
   "metadata": {},
   "outputs": [],
   "source": [
    "kubectl exec rabbitmq-0 -- rabbitmqctl change_password guest $(cat /dev/urandom | LC_CTYPE=C tr -dc 'a-zA-Z0-9' | head -c 32)"
   ]
  },
  {
   "cell_type": "markdown",
   "metadata": {},
   "source": [
    "### register users to RabbitMQ"
   ]
  },
  {
   "cell_type": "code",
   "execution_count": null,
   "metadata": {},
   "outputs": [],
   "source": [
    "for e in $(env); do\n",
    "  if [[ \"${e}\" =~ ^MQTT__([[:alnum:]_-]+)=([[:alnum:]_-]+)$ ]]; then\n",
    "    username=${BASH_REMATCH[1]}\n",
    "    password=${BASH_REMATCH[2]}\n",
    "    \n",
    "    kubectl exec rabbitmq-0 -- rabbitmqctl add_user ${username} ${password}\n",
    "    kubectl exec rabbitmq-0 -- rabbitmqctl set_permissions -p / ${username} \".*\" \".*\" \".*\"\n",
    "  fi\n",
    "done"
   ]
  },
  {
   "cell_type": "code",
   "execution_count": null,
   "metadata": {},
   "outputs": [],
   "source": [
    "kubectl exec rabbitmq-0 -- rabbitmqctl list_users"
   ]
  },
  {
   "cell_type": "markdown",
   "metadata": {},
   "source": [
    "example)\n",
    "```\n",
    "Listing users ...\n",
    "ros\t[]\n",
    "raspberrypi\t[]\n",
    "guest\t[administrator]\n",
    "iotagent\t[]\n",
    "```"
   ]
  },
  {
   "cell_type": "markdown",
   "metadata": {},
   "source": [
    "### register DNS A Record for RabbitMQ"
   ]
  },
  {
   "cell_type": "markdown",
   "metadata": {},
   "source": [
    "**confirm that \"EXTERNAL-IP\" is assigned**"
   ]
  },
  {
   "cell_type": "code",
   "execution_count": null,
   "metadata": {},
   "outputs": [],
   "source": [
    "kubectl get services -l app=rabbitmq -l service=mqtts"
   ]
  },
  {
   "cell_type": "markdown",
   "metadata": {},
   "source": [
    "expected)\n",
    "```\n",
    "NAME             TYPE           CLUSTER-IP   EXTERNAL-IP   PORT(S)          AGE\n",
    "rabbitmq-mqtts   LoadBalancer   10.0.96.7    XX.XX.XX.XX   8883:30299/TCP   21m\n",
    "```"
   ]
  },
  {
   "cell_type": "code",
   "execution_count": null,
   "metadata": {},
   "outputs": [],
   "source": [
    "MQTTS_IPADDR=$(kubectl get services -l app=rabbitmq -l service=mqtts -o jsonpath='{.items[0].status.loadBalancer.ingress[0].ip}')\n",
    "az network dns record-set a add-record --resource-group ${DNS_ZONE_RG} --zone-name \"${DOMAIN}\" --record-set-name \"mqtt\" --ipv4-address \"${MQTTS_IPADDR}\""
   ]
  },
  {
   "cell_type": "code",
   "execution_count": null,
   "metadata": {},
   "outputs": [],
   "source": [
    "nslookup mqtt.${DOMAIN}"
   ]
  },
  {
   "cell_type": "code",
   "execution_count": null,
   "metadata": {},
   "outputs": [],
   "source": [
    "mosquitto_pub -h mqtt.${DOMAIN} -p 8883 --cafile ${PJ_ROOT}/secrets/DST_Root_CA_X3.pem -d -u iotagent -P ${MQTT__iotagent} -t /test -m \"test\""
   ]
  },
  {
   "cell_type": "markdown",
   "metadata": {},
   "source": [
    "example)\n",
    "```\n",
    "Client mosqpub|52150-Nobuyukin sending CONNECT\n",
    "Client mosqpub|52150-Nobuyukin received CONNACK\n",
    "Client mosqpub|52150-Nobuyukin sending PUBLISH (d0, q0, r0, m1, '/test', ... (4 bytes))\n",
    "Client mosqpub|52150-Nobuyukin sending DISCONNECT\n",
    "```"
   ]
  },
  {
   "cell_type": "markdown",
   "metadata": {},
   "source": [
    "## start mondodb cluster on AKS\n",
    "[mongodb](https://www.mongodb.com/)"
   ]
  },
  {
   "cell_type": "markdown",
   "metadata": {},
   "source": [
    "create 'mongodb' takes a few minutes."
   ]
  },
  {
   "cell_type": "code",
   "execution_count": null,
   "metadata": {},
   "outputs": [],
   "source": [
    "kubectl apply -f mongodb/mongodb-cluster-azure.yaml"
   ]
  },
  {
   "cell_type": "code",
   "execution_count": null,
   "metadata": {},
   "outputs": [],
   "source": [
    "kubectl get PersistentVolumeClaims -l app=mongodb"
   ]
  },
  {
   "cell_type": "markdown",
   "metadata": {},
   "source": [
    "example)\n",
    "```\n",
    "NAME                              STATUS    VOLUME                                     CAPACITY   ACCESS MODES   STORAGECLASS      AGE\n",
    "mongodb-storage-claim-mongodb-0   Bound     pvc-386ac3ba-856e-11e8-a3b4-026b849f8c40   30Gi       RWO            managed-premium   5m\n",
    "mongodb-storage-claim-mongodb-1   Bound     pvc-88455199-856e-11e8-a3b4-026b849f8c40   30Gi       RWO            managed-premium   3m\n",
    "mongodb-storage-claim-mongodb-2   Bound     pvc-b74ec32c-856e-11e8-a3b4-026b849f8c40   30Gi       RWO            managed-premium   2m\n",
    "```"
   ]
  },
  {
   "cell_type": "code",
   "execution_count": null,
   "metadata": {
    "scrolled": false
   },
   "outputs": [],
   "source": [
    "kubectl get pods -l app=mongodb"
   ]
  },
  {
   "cell_type": "markdown",
   "metadata": {},
   "source": [
    "example)\n",
    "```\n",
    "NAME        READY     STATUS    RESTARTS   AGE\n",
    "mongodb-0   2/2       Running   0          6m\n",
    "mongodb-1   2/2       Running   0          4m\n",
    "mongodb-2   2/2       Running   0          2m\n",
    "```"
   ]
  },
  {
   "cell_type": "code",
   "execution_count": null,
   "metadata": {},
   "outputs": [],
   "source": [
    "kubectl get services -l app=mongodb"
   ]
  },
  {
   "cell_type": "markdown",
   "metadata": {},
   "source": [
    "example)\n",
    "```\n",
    "NAME      TYPE        CLUSTER-IP   EXTERNAL-IP   PORT(S)     AGE\n",
    "mongodb   ClusterIP   None         <none>        27017/TCP   6m\n",
    "```"
   ]
  },
  {
   "cell_type": "code",
   "execution_count": null,
   "metadata": {},
   "outputs": [],
   "source": [
    "kubectl exec mongodb-0 -c mongodb -- mongo --eval 'printjson(rs.status().members.map(function(e) {return {name: e.name, stateStr:e.stateStr};}))'"
   ]
  },
  {
   "cell_type": "markdown",
   "metadata": {},
   "source": [
    "expected)\n",
    "```\n",
    "MongoDB shell version v3.6.6\n",
    "connecting to: mongodb://127.0.0.1:27017\n",
    "MongoDB server version: 3.6.6\n",
    "[\n",
    "\t{\n",
    "\t\t\"name\" : \"mongodb-0.mongodb.default.svc.cluster.local:27017\",\n",
    "\t\t\"stateStr\" : \"PRIMARY\"\n",
    "\t},\n",
    "\t{\n",
    "\t\t\"name\" : \"mongodb-1.mongodb.default.svc.cluster.local:27017\",\n",
    "\t\t\"stateStr\" : \"SECONDARY\"\n",
    "\t},\n",
    "\t{\n",
    "\t\t\"name\" : \"mongodb-2.mongodb.default.svc.cluster.local:27017\",\n",
    "\t\t\"stateStr\" : \"SECONDARY\"\n",
    "\t}\n",
    "]\n",
    "```"
   ]
  },
  {
   "cell_type": "markdown",
   "metadata": {},
   "source": [
    "## start ambassador on AKS\n",
    "\n",
    "[ambassador](https://www.getambassador.io/)"
   ]
  },
  {
   "cell_type": "markdown",
   "metadata": {},
   "source": [
    "### register cert files of ambassador to kubernetes secrets"
   ]
  },
  {
   "cell_type": "code",
   "execution_count": null,
   "metadata": {},
   "outputs": [],
   "source": [
    "kubectl create secret tls ambassador-certs --cert=${PJ_ROOT}/secrets/live/${DOMAIN}/fullchain.pem --key=${PJ_ROOT}/secrets/live/${DOMAIN}/privkey.pem"
   ]
  },
  {
   "cell_type": "markdown",
   "metadata": {},
   "source": [
    "### start ambassador"
   ]
  },
  {
   "cell_type": "code",
   "execution_count": null,
   "metadata": {},
   "outputs": [],
   "source": [
    "kubectl apply -f ambassador/ambassador-azure-services.yaml"
   ]
  },
  {
   "cell_type": "code",
   "execution_count": null,
   "metadata": {},
   "outputs": [],
   "source": [
    "kubectl apply -f ambassador/ambassador-deployment.yaml"
   ]
  },
  {
   "cell_type": "code",
   "execution_count": null,
   "metadata": {},
   "outputs": [],
   "source": [
    "kubectl get pods -l service=ambassador"
   ]
  },
  {
   "cell_type": "markdown",
   "metadata": {},
   "source": [
    "example)\n",
    "```\n",
    "NAME                         READY     STATUS    RESTARTS   AGE\n",
    "ambassador-cf99ff6bb-45jpl   1/1       Running   0          39s\n",
    "ambassador-cf99ff6bb-8kht7   1/1       Running   0          39s\n",
    "ambassador-cf99ff6bb-lv2tk   1/1       Running   0          39s\n",
    "```"
   ]
  },
  {
   "cell_type": "markdown",
   "metadata": {},
   "source": [
    "**confirm that \"EXTERNAL-IP\" is assigned**"
   ]
  },
  {
   "cell_type": "code",
   "execution_count": null,
   "metadata": {},
   "outputs": [],
   "source": [
    "kubectl get services -l service=ambassador"
   ]
  },
  {
   "cell_type": "markdown",
   "metadata": {},
   "source": [
    "example)\n",
    "```\n",
    "NAME         TYPE           CLUSTER-IP    EXTERNAL-IP   PORT(S)                      AGE\n",
    "ambassador   LoadBalancer   10.0.191.59   YY.YY.YY.YY   443:30357/TCP,80:32755/TCP   4m\n",
    "```"
   ]
  },
  {
   "cell_type": "markdown",
   "metadata": {},
   "source": [
    "### register DNS A Record for ambassador"
   ]
  },
  {
   "cell_type": "code",
   "execution_count": null,
   "metadata": {},
   "outputs": [],
   "source": [
    "HTTPS_IPADDR=$(kubectl get services -l service=ambassador -o json | jq '.items[0].status.loadBalancer.ingress[0].ip' -r)\n",
    "az network dns record-set a add-record --resource-group ${DNS_ZONE_RG} --zone-name \"${DOMAIN}\" --record-set-name \"api\" --ipv4-address \"${HTTPS_IPADDR}\""
   ]
  },
  {
   "cell_type": "code",
   "execution_count": null,
   "metadata": {},
   "outputs": [],
   "source": [
    "nslookup api.${DOMAIN}"
   ]
  },
  {
   "cell_type": "code",
   "execution_count": null,
   "metadata": {},
   "outputs": [],
   "source": [
    "curl -i https://api.${DOMAIN}"
   ]
  },
  {
   "cell_type": "markdown",
   "metadata": {},
   "source": [
    "expected)\n",
    "```\n",
    "HTTP/1.1 404 Not Found\n",
    "date: Fri, 25 May 2018 00:47:41 GMT\n",
    "server: envoy\n",
    "content-length: 0\n",
    "```"
   ]
  },
  {
   "cell_type": "markdown",
   "metadata": {},
   "source": [
    "## start authorization & authentication service on AKS"
   ]
  },
  {
   "cell_type": "markdown",
   "metadata": {},
   "source": [
    "### create `secrets/auth-tokens.json`\n",
    "example)\n",
    "```json\n",
    "[\n",
    "  {\n",
    "    \"host\": \"api\\\\..+$\",\n",
    "    \"settings\": {\n",
    "      \"bearer_tokens\": [\n",
    "        {\n",
    "          \"token\": \"chsNJIuPM9JJamcfEPHwvYVaPWxVBuHB\",\n",
    "          \"allowed_paths\": [\n",
    "            \"^/orion/.*$\",\n",
    "            \"^/idas/.*$\",\n",
    "            \"^/sth/.*$\"\n",
    "          ]\n",
    "        },\n",
    "        {\n",
    "          \"token\": \"IfFT40fIGviZxZQmGwA5JxGwRHAIqsv7\",\n",
    "          \"allowed_paths\": [\n",
    "            \"^/visualizer/positions/$\"\n",
    "          ]\n",
    "        }\n",
    "      ],\n",
    "      \"basic_auths\": [\n",
    "        {\n",
    "          \"username\": \"user1\",\n",
    "          \"password\": \"q71UiXsmtWNtciPg\",\n",
    "          \"allowed_paths\": [\n",
    "            \"/controller/web/\"\n",
    "          ]\n",
    "        },\n",
    "        {\n",
    "          \"username\": \"visualizer\",\n",
    "          \"password\": \"1Fz9WzheDYf7fpxh\",\n",
    "          \"allowed_paths\": [\n",
    "            \"/visualizer/locus/\"\n",
    "          ]\n",
    "        }\n",
    "      ],\n",
    "      \"no_auths\": {\n",
    "        \"allowed_paths\": [\n",
    "          \"^.*/static/.*$\"\n",
    "        ]\n",
    "      }\n",
    "    }\n",
    "  },\n",
    "  {\n",
    "    \"host\": \"wirecloud\\\\..+$\",\n",
    "    \"settings\": {\n",
    "      \"bearer_tokens\": [],\n",
    "      \"basic_auths\": [],\n",
    "      \"no_auths\": {\n",
    "        \"allowed_paths\": [\n",
    "          \"^/.*$\"\n",
    "        ]\n",
    "      }\n",
    "    }\n",
    "  },\n",
    "  {\n",
    "    \"host\": \"proxy\\\\..+$\",\n",
    "    \"settings\": {\n",
    "      \"bearer_tokens\": [\n",
    "        {\n",
    "          \"token\": \"8fG2ZJGArqFXKnZm1Cv6NjyJp5uvGRA2\",\n",
    "          \"allowed_paths\": [\n",
    "            \"^/events/$\"\n",
    "          ]\n",
    "        }\n",
    "      ],\n",
    "      \"basic_auths\": [],\n",
    "      \"no_auths\": {\n",
    "        \"allowed_paths\": []\n",
    "      }\n",
    "    }\n",
    "  }\n",
    "]\n",
    "```"
   ]
  },
  {
   "cell_type": "code",
   "execution_count": null,
   "metadata": {},
   "outputs": [],
   "source": [
    "cat << __EOS__ > secrets/auth-tokens.json\n",
    "[\n",
    "    {\n",
    "        \"host\": \"api\\\\\\\\..+$\",\n",
    "        \"settings\": {\n",
    "            \"bearer_tokens\": [\n",
    "                {\n",
    "                    \"token\": \"$(cat /dev/urandom | LC_CTYPE=C tr -dc 'a-zA-Z0-9' | head -c 32)\",\n",
    "                    \"allowed_paths\": [\"^/orion/.*$\", \"^/idas/.*$\", \"^/sth/.*$\"]\n",
    "                }, {\n",
    "                    \"token\": \"$(cat /dev/urandom | LC_CTYPE=C tr -dc 'a-zA-Z0-9' | head -c 32)\",\n",
    "                    \"allowed_paths\": [\"^/visualizer/positions/$\"]\n",
    "                }\n",
    "            ],\n",
    "            \"basic_auths\": [\n",
    "                {\n",
    "                    \"username\": \"user1\",\n",
    "                    \"password\": \"$(cat /dev/urandom | LC_CTYPE=C tr -dc 'a-zA-Z0-9' | head -c 16)\",\n",
    "                    \"allowed_paths\": [\"/controller/web/\"]\n",
    "                }, {\n",
    "                    \"username\": \"visualizer\",\n",
    "                    \"password\": \"$(cat /dev/urandom | LC_CTYPE=C tr -dc 'a-zA-Z0-9' | head -c 16)\",\n",
    "                    \"allowed_paths\": [\"/visualizer/locus/\"]\n",
    "                }\n",
    "            ],\n",
    "            \"no_auths\": {\n",
    "                \"allowed_paths\": [\"^.*/static/.*$\"]\n",
    "            }\n",
    "        }\n",
    "    },\n",
    "    {\n",
    "        \"host\": \"wirecloud\\\\\\\\..+$\",\n",
    "        \"settings\": {\n",
    "            \"bearer_tokens\": [],\n",
    "            \"basic_auths\": [],\n",
    "            \"no_auths\": {\n",
    "                \"allowed_paths\": [\"^/.*$\"]\n",
    "            }\n",
    "        }\n",
    "    },\n",
    "    {\n",
    "        \"host\": \"proxy\\\\\\\\..+$\",\n",
    "        \"settings\": {\n",
    "            \"bearer_tokens\": [\n",
    "                {\n",
    "                    \"token\": \"$(cat /dev/urandom | LC_CTYPE=C tr -dc 'a-zA-Z0-9' | head -c 32)\",\n",
    "                    \"allowed_paths\": [\"^/events/$\"]\n",
    "                }\n",
    "            ],\n",
    "            \"basic_auths\": [],\n",
    "            \"no_auths\": {\n",
    "                \"allowed_paths\": []\n",
    "            }\n",
    "        }\n",
    "    }\n",
    "]\n",
    "__EOS__"
   ]
  },
  {
   "cell_type": "markdown",
   "metadata": {},
   "source": [
    "### register auth-tokens to kubernetes secrets"
   ]
  },
  {
   "cell_type": "code",
   "execution_count": null,
   "metadata": {},
   "outputs": [],
   "source": [
    "kubectl create secret generic auth-tokens --from-file=./secrets/auth-tokens.json"
   ]
  },
  {
   "cell_type": "markdown",
   "metadata": {},
   "source": [
    "### start fiware-ambassador-auth"
   ]
  },
  {
   "cell_type": "code",
   "execution_count": null,
   "metadata": {},
   "outputs": [],
   "source": [
    "kubectl apply -f ambassador/fiware-ambassador-auth.yaml"
   ]
  },
  {
   "cell_type": "code",
   "execution_count": null,
   "metadata": {
    "scrolled": true
   },
   "outputs": [],
   "source": [
    "kubectl get pods -l pod=ambassador-auth"
   ]
  },
  {
   "cell_type": "markdown",
   "metadata": {},
   "source": [
    "example)\n",
    "```\n",
    "NAME                           READY     STATUS    RESTARTS   AGE\n",
    "ambassador-auth-6fffdbd9c9-7kkpr   1/1       Running   0          56s\n",
    "ambassador-auth-6fffdbd9c9-qxw6m   1/1       Running   0          56s\n",
    "ambassador-auth-6fffdbd9c9-sdn5b   1/1       Running   0          56s\n",
    "```"
   ]
  },
  {
   "cell_type": "code",
   "execution_count": null,
   "metadata": {},
   "outputs": [],
   "source": [
    "kubectl get services -l service=ambassador-auth"
   ]
  },
  {
   "cell_type": "markdown",
   "metadata": {},
   "source": [
    "example)\n",
    "```\n",
    "NAME          TYPE        CLUSTER-IP     EXTERNAL-IP   PORT(S)    AGE\n",
    "ambassador-auth   ClusterIP   10.0.129.102   <none>        3000/TCP   2m\n",
    "```"
   ]
  },
  {
   "cell_type": "code",
   "execution_count": null,
   "metadata": {},
   "outputs": [],
   "source": [
    "curl -i https://api.${DOMAIN}/"
   ]
  },
  {
   "cell_type": "markdown",
   "metadata": {},
   "source": [
    "example)\n",
    "```\n",
    "HTTP/1.1 401 Unauthorized\n",
    "content-type: application/json; charset=utf-8\n",
    "www-authenticate: Bearer realm=\"token_required\"\n",
    "date: Thu, 12 Jul 2018 02:21:24 GMT\n",
    "content-length: 60\n",
    "x-envoy-upstream-service-time: 2\n",
    "server: envoy\n",
    "\n",
    "{\"authorized\":false,\"error\":\"missing Header: authorization\"}\n",
    "```"
   ]
  },
  {
   "cell_type": "markdown",
   "metadata": {},
   "source": [
    "## start fiware orion on AKS\n",
    "[fiware orion](https://catalogue-server.fiware.org/enablers/publishsubscribe-context-broker-orion-context-broker)"
   ]
  },
  {
   "cell_type": "code",
   "execution_count": null,
   "metadata": {},
   "outputs": [],
   "source": [
    "kubectl apply -f orion/orion.yaml"
   ]
  },
  {
   "cell_type": "code",
   "execution_count": null,
   "metadata": {},
   "outputs": [],
   "source": [
    "kubectl get pods -l app=orion"
   ]
  },
  {
   "cell_type": "markdown",
   "metadata": {},
   "source": [
    "example)\n",
    "```\n",
    "NAME                     READY     STATUS    RESTARTS   AGE\n",
    "orion-54f5cdcb5d-d2pt5   1/1       Running   0          56s\n",
    "orion-54f5cdcb5d-hv274   1/1       Running   0          56s\n",
    "orion-54f5cdcb5d-xbnx2   1/1       Running   0          56s\n",
    "```"
   ]
  },
  {
   "cell_type": "code",
   "execution_count": null,
   "metadata": {},
   "outputs": [],
   "source": [
    "kubectl get services -l app=orion"
   ]
  },
  {
   "cell_type": "markdown",
   "metadata": {},
   "source": [
    "example)\n",
    "```\n",
    "NAME      TYPE        CLUSTER-IP    EXTERNAL-IP   PORT(S)    AGE\n",
    "orion     ClusterIP   10.0.44.126   <none>        1026/TCP   1m\n",
    "```"
   ]
  },
  {
   "cell_type": "code",
   "execution_count": null,
   "metadata": {},
   "outputs": [],
   "source": [
    "TOKEN=$(cat ${PJ_ROOT}/secrets/auth-tokens.json | jq '.[0].settings.bearer_tokens[0].token' -r)\n",
    "curl -i -H \"Authorization: bearer ${TOKEN}\" https://api.${DOMAIN}/orion/v2/entities/"
   ]
  },
  {
   "cell_type": "markdown",
   "metadata": {},
   "source": [
    "example)\n",
    "```\n",
    "HTTP/1.1 200 OK\n",
    "content-length: 2\n",
    "content-type: application/json\n",
    "fiware-correlator: 4731eb48-4dc1-11e8-b1a2-0a580af4010a\n",
    "date: Wed, 02 May 2018 04:28:35 GMT\n",
    "x-envoy-upstream-service-time: 5\n",
    "server: envoy\n",
    "\n",
    "[]\n",
    "```\n",
    "\n",
    "**If you can't get 200 OK, please restart all ambassador's pods like \"ambassador-cf99ff6bb-45jpl\", \"ambassador-cf99ff6bb-8kht7\" and \"ambassador-cf99ff6bb-lv2tk\"**"
   ]
  },
  {
   "cell_type": "markdown",
   "metadata": {},
   "source": [
    "## start fiware idas(iotagent-ul) on AKS\n",
    "[fiware IDAS(iotagent-ul)](https://catalogue-server.fiware.org/enablers/backend-device-management-idas)"
   ]
  },
  {
   "cell_type": "markdown",
   "metadata": {},
   "source": [
    "### build and push the idas conatiner image"
   ]
  },
  {
   "cell_type": "code",
   "execution_count": null,
   "metadata": {
    "scrolled": false
   },
   "outputs": [],
   "source": [
    "docker build -t ${REPOSITORY}/tech-sketch/iotagent-ul:290a1fa idas/iotagent-ul/"
   ]
  },
  {
   "cell_type": "code",
   "execution_count": null,
   "metadata": {
    "scrolled": true
   },
   "outputs": [],
   "source": [
    "az acr login --name ${ACR_NAME}"
   ]
  },
  {
   "cell_type": "code",
   "execution_count": null,
   "metadata": {
    "scrolled": true
   },
   "outputs": [],
   "source": [
    "docker push ${REPOSITORY}/tech-sketch/iotagent-ul:290a1fa"
   ]
  },
  {
   "cell_type": "markdown",
   "metadata": {},
   "source": [
    "expected)\n",
    "```\n",
    "The push refers to repository [ccfdacr.azurecr.io/tech-sketch/iotagent-ul]\n",
    "\n",
    "1f141107: Preparing \n",
    "e3e1d3a9: Preparing \n",
    "a102cc1f: Preparing \n",
    "290a1fa: digest: sha256:468a6c2e9aaf6d47a4e21d95bbdb9f8c2df088e876e0846ceaba09cca5fc2d13 size: 1163\n",
    "```"
   ]
  },
  {
   "cell_type": "code",
   "execution_count": null,
   "metadata": {},
   "outputs": [],
   "source": [
    "az acr repository list --name ${ACR_NAME} --output table"
   ]
  },
  {
   "cell_type": "markdown",
   "metadata": {},
   "source": [
    "example)\n",
    "```\n",
    "Result\n",
    "---------------------------------\n",
    "tech-sketch/iotagent-ul\n",
    "```"
   ]
  },
  {
   "cell_type": "markdown",
   "metadata": {},
   "source": [
    "### start idas"
   ]
  },
  {
   "cell_type": "code",
   "execution_count": null,
   "metadata": {},
   "outputs": [],
   "source": [
    "env IOTA_PASSWORD=${MQTT__iotagent} envsubst < idas/config.js > /tmp/config.js\n",
    "kubectl create secret generic iotagent-config --from-file /tmp/config.js\n",
    "rm /tmp/config.js"
   ]
  },
  {
   "cell_type": "code",
   "execution_count": null,
   "metadata": {},
   "outputs": [],
   "source": [
    "envsubst < idas/iotagent-ul.yaml | kubectl apply -f -"
   ]
  },
  {
   "cell_type": "code",
   "execution_count": null,
   "metadata": {},
   "outputs": [],
   "source": [
    "kubectl get pods -l app=iotagent-ul"
   ]
  },
  {
   "cell_type": "markdown",
   "metadata": {},
   "source": [
    "example)\n",
    "```\n",
    "NAME                           READY     STATUS    RESTARTS   AGE\n",
    "iotagent-ul-79685b64bf-8krps   1/1       Running   0          3m\n",
    "iotagent-ul-79685b64bf-m6nlg   1/1       Running   0          3m\n",
    "iotagent-ul-79685b64bf-mjpbl   1/1       Running   0          3m\n",
    "```"
   ]
  },
  {
   "cell_type": "code",
   "execution_count": null,
   "metadata": {},
   "outputs": [],
   "source": [
    "kubectl get services -l app=iotagent-ul"
   ]
  },
  {
   "cell_type": "markdown",
   "metadata": {},
   "source": [
    "example)\n",
    "```\n",
    "NAME          TYPE        CLUSTER-IP     EXTERNAL-IP   PORT(S)             AGE\n",
    "iotagent-ul   ClusterIP   10.0.180.155   <none>        4041/TCP,7896/TCP   43s\n",
    "```"
   ]
  },
  {
   "cell_type": "code",
   "execution_count": null,
   "metadata": {},
   "outputs": [],
   "source": [
    "TOKEN=$(cat ${PJ_ROOT}/secrets/auth-tokens.json | jq '.[0].settings.bearer_tokens[0].token' -r)\n",
    "curl -i -H \"Authorization: bearer ${TOKEN}\" -H \"Fiware-Service: ${FIWARE_SERVICE}\" -H \"Fiware-Servicepath: /*\" https://api.${DOMAIN}/idas/ul20/manage/iot/services/"
   ]
  },
  {
   "cell_type": "markdown",
   "metadata": {},
   "source": [
    "example)\n",
    "```\n",
    "HTTP/1.1 200 OK\n",
    "x-powered-by: Express\n",
    "fiware-correlator: c114fc5e-b4a2-40f6-b7fe-1d68369784e5\n",
    "content-type: application/json; charset=utf-8\n",
    "content-length: 25\n",
    "etag: W/\"19-WMYe0U6ocKhQjp+oaVnMHLdbylc\"\n",
    "date: Wed, 02 May 2018 06:16:18 GMT\n",
    "x-envoy-upstream-service-time: 9\n",
    "server: envoy\n",
    "\n",
    "{\"count\":0,\"services\":[]}\n",
    "```\n",
    "\n",
    "**If you can't get 200 OK, please restart all ambassador's pods like \"ambassador-cf99ff6bb-45jpl\", \"ambassador-cf99ff6bb-8kht7\" and \"ambassador-cf99ff6bb-lv2tk\"**"
   ]
  },
  {
   "cell_type": "markdown",
   "metadata": {},
   "source": [
    "## start fiware cygnus (mongodb sink & sth sink) on AKS\n",
    "[fiware cygnus](https://catalogue-server.fiware.org/enablers/cygnus)"
   ]
  },
  {
   "cell_type": "markdown",
   "metadata": {},
   "source": [
    "* build fiware-cygnus for RoboticBase\n",
    "\n",
    "```bash\n",
    "fiware-cygnus/docker/cygnus-ngsi$ docker build --build-arg GIT_URL_CYGNUS=https://github.com/tech-sketch/fiware-cygnus.git --build-arg GIT_REV_CYGNUS=feature/1516_create_elasticsearchsink -t techsketch/fiware-cygnus:1.9.0.elasticsearch .\n",
    "fiware-cygnus/docker/cygnus-ngsi$ docker push techsketch/fiware-cygnus:1.9.0.elasticsearch\n",
    "```"
   ]
  },
  {
   "cell_type": "markdown",
   "metadata": {},
   "source": [
    "### start cygnus-mongo"
   ]
  },
  {
   "cell_type": "code",
   "execution_count": null,
   "metadata": {},
   "outputs": [],
   "source": [
    "kubectl apply -f cygnus/cygnus-mongo.yaml"
   ]
  },
  {
   "cell_type": "code",
   "execution_count": null,
   "metadata": {},
   "outputs": [],
   "source": [
    "kubectl get pods -l app=cygnus-mongo"
   ]
  },
  {
   "cell_type": "markdown",
   "metadata": {},
   "source": [
    "example)\n",
    "```\n",
    "NAME                            READY     STATUS    RESTARTS   AGE\n",
    "cygnus-mongo-588cb8cb46-42bcn   1/1       Running   0          1m\n",
    "cygnus-mongo-588cb8cb46-k9cr2   1/1       Running   0          1m\n",
    "cygnus-mongo-588cb8cb46-phvst   1/1       Running   0          1m\n",
    "```"
   ]
  },
  {
   "cell_type": "code",
   "execution_count": null,
   "metadata": {},
   "outputs": [],
   "source": [
    "kubectl get services -l app=cygnus-mongo"
   ]
  },
  {
   "cell_type": "markdown",
   "metadata": {},
   "source": [
    "example)\n",
    "```\n",
    "NAME           TYPE        CLUSTER-IP   EXTERNAL-IP   PORT(S)             AGE\n",
    "cygnus-mongo   ClusterIP   10.0.10.63   <none>        5050/TCP,8081/TCP   1m\n",
    "```"
   ]
  },
  {
   "cell_type": "markdown",
   "metadata": {},
   "source": [
    "## start fiware STH-Comet on AKS"
   ]
  },
  {
   "cell_type": "code",
   "execution_count": null,
   "metadata": {},
   "outputs": [],
   "source": [
    "kubectl apply -f sth-comet/sth-service.yaml"
   ]
  },
  {
   "cell_type": "code",
   "execution_count": null,
   "metadata": {},
   "outputs": [],
   "source": [
    "kubectl apply -f sth-comet/sth-deployment.yaml"
   ]
  },
  {
   "cell_type": "code",
   "execution_count": null,
   "metadata": {},
   "outputs": [],
   "source": [
    "kubectl get services -l app=sth"
   ]
  },
  {
   "cell_type": "markdown",
   "metadata": {},
   "source": [
    "example)\n",
    "```\n",
    "NAME   TYPE        CLUSTER-IP   EXTERNAL-IP   PORT(S)    AGE\n",
    "sth    ClusterIP   10.0.49.77   <none>        8666/TCP   30s\n",
    "```"
   ]
  },
  {
   "cell_type": "code",
   "execution_count": null,
   "metadata": {},
   "outputs": [],
   "source": [
    "kubectl get pods -l app=sth"
   ]
  },
  {
   "cell_type": "markdown",
   "metadata": {},
   "source": [
    "example)\n",
    "```\n",
    "NAME                   READY   STATUS    RESTARTS   AGE\n",
    "sth-859bd88557-6rxdq   1/1     Running   0          46s\n",
    "sth-859bd88557-jpsds   1/1     Running   0          46s\n",
    "sth-859bd88557-pk7tm   1/1     Running   0          46s\n",
    "```"
   ]
  },
  {
   "cell_type": "code",
   "execution_count": null,
   "metadata": {},
   "outputs": [],
   "source": [
    "TOKEN=$(cat ${PJ_ROOT}/secrets/auth-tokens.json | jq '.[0].settings.bearer_tokens[0].token' -r)\n",
    "curl -i -H \"Authorization: bearer ${TOKEN}\" -H \"Fiware-Service: test\" -H \"Fiware-ServicePath: test\" https://api.${DOMAIN}/sth/STH/v1/contextEntities/type/t/id/i/attributes/a?lastN=1"
   ]
  },
  {
   "cell_type": "markdown",
   "metadata": {},
   "source": [
    "example)\n",
    "```\n",
    "HTTP/1.1 200 OK\n",
    "fiware-correlator: b5f27bd3-293f-449d-9467-f5eb23dd1fca\n",
    "content-type: application/json; charset=utf-8\n",
    "cache-control: no-cache\n",
    "content-length: 169\n",
    "vary: accept-encoding\n",
    "accept-ranges: bytes\n",
    "date: Thu, 24 Jan 2019 07:05:19 GMT\n",
    "x-envoy-upstream-service-time: 4\n",
    "server: envoy\n",
    "\n",
    "{\"contextResponses\":[{\"contextElement\":{\"attributes\":[{\"name\":\"a\",\"values\":[]}],\"id\":\"i\",\"isPattern\":false,\"type\":\"t\"},\"statusCode\":{\"code\":\"200\",\"reasonPhrase\":\"OK\"}}]}\n",
    "```"
   ]
  },
  {
   "cell_type": "markdown",
   "metadata": {},
   "source": [
    "## start mcrouter (memcached cluster + mcrouter)"
   ]
  },
  {
   "cell_type": "code",
   "execution_count": null,
   "metadata": {
    "scrolled": false
   },
   "outputs": [],
   "source": [
    "helm install stable/mcrouter --name=mcrouter -f mcrouter/values.yaml"
   ]
  },
  {
   "cell_type": "code",
   "execution_count": null,
   "metadata": {},
   "outputs": [],
   "source": [
    "kubectl expose service mcrouter-mcrouter --port 5000 --target-port 5000 --name mcrouter --type ClusterIP"
   ]
  },
  {
   "cell_type": "code",
   "execution_count": null,
   "metadata": {},
   "outputs": [],
   "source": [
    "kubectl get configmap -l release=mcrouter"
   ]
  },
  {
   "cell_type": "markdown",
   "metadata": {},
   "source": [
    "example)\n",
    "```\n",
    "NAME                DATA   AGE\n",
    "mcrouter-mcrouter   1      12m\n",
    "```"
   ]
  },
  {
   "cell_type": "code",
   "execution_count": null,
   "metadata": {},
   "outputs": [],
   "source": [
    "kubectl get statefulsets -l release=mcrouter"
   ]
  },
  {
   "cell_type": "markdown",
   "metadata": {},
   "source": [
    "example)\n",
    "```\n",
    "NAME                 DESIRED   CURRENT   AGE\n",
    "mcrouter-mcrouter    3         3         12m\n",
    "mcrouter-memcached   3         3         12m\n",
    "```"
   ]
  },
  {
   "cell_type": "code",
   "execution_count": null,
   "metadata": {},
   "outputs": [],
   "source": [
    "kubectl get pods -l release=mcrouter"
   ]
  },
  {
   "cell_type": "markdown",
   "metadata": {},
   "source": [
    "example)\n",
    "```\n",
    "NAME                   READY   STATUS    RESTARTS   AGE\n",
    "mcrouter-mcrouter-0    1/1     Running   0          13m\n",
    "mcrouter-mcrouter-1    1/1     Running   0          13m\n",
    "mcrouter-mcrouter-2    1/1     Running   0          13m\n",
    "mcrouter-memcached-0   1/1     Running   0          13m\n",
    "mcrouter-memcached-1   1/1     Running   0          13m\n",
    "mcrouter-memcached-2   1/1     Running   0          13m\n",
    "```"
   ]
  },
  {
   "cell_type": "code",
   "execution_count": null,
   "metadata": {},
   "outputs": [],
   "source": [
    "kubectl get services -l release=mcrouter"
   ]
  },
  {
   "cell_type": "markdown",
   "metadata": {},
   "source": [
    "example)\n",
    "```\n",
    "NAME                 TYPE        CLUSTER-IP    EXTERNAL-IP   PORT(S)     AGE\n",
    "mcrouter             ClusterIP   10.0.95.191   <none>        5000/TCP    8m\n",
    "mcrouter-mcrouter    ClusterIP   None          <none>        5000/TCP    14m\n",
    "mcrouter-memcached   ClusterIP   None          <none>        11211/TCP   14m\n",
    "```"
   ]
  },
  {
   "cell_type": "markdown",
   "metadata": {},
   "source": [
    "## start stolon (postgreSQL cluster) on AKS"
   ]
  },
  {
   "cell_type": "markdown",
   "metadata": {},
   "source": [
    "1. edit superuser password & replication password of `stolon/values.yaml`"
   ]
  },
  {
   "cell_type": "markdown",
   "metadata": {},
   "source": [
    "### start stolon (postgreSQL cluster) using Helm"
   ]
  },
  {
   "cell_type": "code",
   "execution_count": null,
   "metadata": {},
   "outputs": [],
   "source": [
    "helm install --name stolon -f stolon/values.yaml stable/stolon"
   ]
  },
  {
   "cell_type": "code",
   "execution_count": null,
   "metadata": {},
   "outputs": [],
   "source": [
    "kubectl get services -l app=stolon"
   ]
  },
  {
   "cell_type": "markdown",
   "metadata": {},
   "source": [
    "example)\n",
    "```\n",
    "NAME                     TYPE        CLUSTER-IP     EXTERNAL-IP   PORT(S)    AGE\n",
    "stolon-keeper-headless   ClusterIP   None           <none>        5432/TCP   51m\n",
    "stolon-proxy             ClusterIP   10.0.172.206   <none>        5432/TCP   51m\n",
    "```"
   ]
  },
  {
   "cell_type": "code",
   "execution_count": null,
   "metadata": {},
   "outputs": [],
   "source": [
    "kubectl get deployments -l app=stolon"
   ]
  },
  {
   "cell_type": "markdown",
   "metadata": {},
   "source": [
    "example)\n",
    "```\n",
    "NAME              DESIRED   CURRENT   UP-TO-DATE   AVAILABLE   AGE\n",
    "stolon-proxy      2         2         2            2           52m\n",
    "stolon-sentinel   2         2         2            2           52m\n",
    "```"
   ]
  },
  {
   "cell_type": "code",
   "execution_count": null,
   "metadata": {},
   "outputs": [],
   "source": [
    "kubectl get statefulsets -l app=stolon"
   ]
  },
  {
   "cell_type": "markdown",
   "metadata": {},
   "source": [
    "example)\n",
    "```\n",
    "NAME            DESIRED   CURRENT   AGE\n",
    "stolon-keeper   2         2         53m\n",
    "```"
   ]
  },
  {
   "cell_type": "code",
   "execution_count": null,
   "metadata": {},
   "outputs": [],
   "source": [
    "kubectl get jobs -l app=stolon"
   ]
  },
  {
   "cell_type": "markdown",
   "metadata": {},
   "source": [
    "example)\n",
    "```\n",
    "NAME                    DESIRED   SUCCESSFUL   AGE\n",
    "stolon-create-cluster   1         1            54m\n",
    "```"
   ]
  },
  {
   "cell_type": "code",
   "execution_count": null,
   "metadata": {},
   "outputs": [],
   "source": [
    "kubectl get pvc -l app=stolon"
   ]
  },
  {
   "cell_type": "markdown",
   "metadata": {},
   "source": [
    "example)\n",
    "```\n",
    "NAME                   STATUS   VOLUME                                     CAPACITY   ACCESS MODES   STORAGECLASS      AGE\n",
    "data-stolon-keeper-0   Bound    pvc-78e58e79-1f76-11e9-a070-32bf9bf468a2   10Gi       RWO            managed-premium   54m\n",
    "data-stolon-keeper-1   Bound    pvc-8e02ca72-1f76-11e9-a070-32bf9bf468a2   10Gi       RWO            managed-premium   54m\n",
    "```"
   ]
  },
  {
   "cell_type": "code",
   "execution_count": null,
   "metadata": {},
   "outputs": [],
   "source": [
    "kubectl get pods -l app=stolon"
   ]
  },
  {
   "cell_type": "markdown",
   "metadata": {},
   "source": [
    "example)\n",
    "```\n",
    "NAME                               READY   STATUS      RESTARTS   AGE\n",
    "stolon-create-cluster-tw7jl        0/1     Completed   0          55m\n",
    "stolon-keeper-0                    1/1     Running     0          55m\n",
    "stolon-keeper-1                    1/1     Running     0          54m\n",
    "stolon-proxy-8645999c59-bqkjr      1/1     Running     0          55m\n",
    "stolon-proxy-8645999c59-fb9mw      1/1     Running     0          55m\n",
    "stolon-sentinel-58dfdf649c-565gd   1/1     Running     0          55m\n",
    "stolon-sentinel-58dfdf649c-msg9r   1/1     Running     0          55m\n",
    "```"
   ]
  },
  {
   "cell_type": "markdown",
   "metadata": {},
   "source": [
    "### create user and database on PostgreSQL for WireCloud"
   ]
  },
  {
   "cell_type": "code",
   "execution_count": null,
   "metadata": {},
   "outputs": [],
   "source": [
    "PGPASSWORD=$(grep 'superuserPassword:' ${PJ_ROOT}/stolon/values.yaml | awk '{print $2}')\n",
    "kubectl exec -it stolon-keeper-0 -- /bin/bash -c \"PGPASSWORD=${PGPASSWORD} psql --host stolon-proxy --port 5432 postgres -U stolon -c \\\"DROP DATABASE IF EXISTS wirecloud;\\\"\"\n",
    "kubectl exec -it stolon-keeper-0 -- /bin/bash -c \"PGPASSWORD=${PGPASSWORD} psql --host stolon-proxy --port 5432 postgres -U stolon -c \\\"DROP USER IF EXISTS wirecloud;\\\"\"\n",
    "kubectl exec -it stolon-keeper-0 -- /bin/bash -c \"PGPASSWORD=${PGPASSWORD} psql --host stolon-proxy --port 5432 postgres -U stolon -c \\\"CREATE DATABASE wirecloud;\\\"\"\n",
    "kubectl exec -it stolon-keeper-0 -- /bin/bash -c \"PGPASSWORD=${PGPASSWORD} psql --host stolon-proxy --port 5432 postgres -U stolon -c \\\"CREATE USER wirecloud WITH PASSWORD '${PGPASSWORD}'\\\"\"\n",
    "kubectl exec -it stolon-keeper-0 -- /bin/bash -c \"PGPASSWORD=${PGPASSWORD} psql --host stolon-proxy --port 5432 postgres -U stolon -c \\\"GRANT ALL PRIVILEGES ON DATABASE wirecloud TO wirecloud;\\\"\""
   ]
  },
  {
   "cell_type": "markdown",
   "metadata": {},
   "source": [
    "### confirm wirecloud database"
   ]
  },
  {
   "cell_type": "code",
   "execution_count": null,
   "metadata": {},
   "outputs": [],
   "source": [
    "PGPASSWORD=$(grep 'superuserPassword:' ${PJ_ROOT}/stolon/values.yaml | awk '{print $2}')\n",
    "kubectl exec -it stolon-keeper-0 -- bin/bash -c \"PGPASSWORD=${PGPASSWORD} psql --host stolon-proxy --port 5432 wirecloud -U wirecloud -c 'select now()'\""
   ]
  },
  {
   "cell_type": "markdown",
   "metadata": {},
   "source": [
    "example)\n",
    "```\n",
    "              now              \n",
    "-------------------------------\n",
    " 2019-01-24 03:15:39.513721+00\n",
    "(1 row)\n",
    "```"
   ]
  },
  {
   "cell_type": "markdown",
   "metadata": {},
   "source": [
    "## start fiware wirecloud"
   ]
  },
  {
   "cell_type": "markdown",
   "metadata": {},
   "source": [
    "### create shared persistent volume"
   ]
  },
  {
   "cell_type": "code",
   "execution_count": null,
   "metadata": {},
   "outputs": [],
   "source": [
    "NODERG=$(az aks show --resource-group ${AKS_RG} --name ${AKS_NAME} --query nodeResourceGroup -o tsv)\n",
    "az storage account create --resource-group ${NODERG} --name ${AKS_NAME}storageaccount --sku Standard_LRS"
   ]
  },
  {
   "cell_type": "code",
   "execution_count": null,
   "metadata": {},
   "outputs": [],
   "source": [
    "envsubst < ${PJ_ROOT}/wirecloud/shared-volume-azure.yaml | kubectl apply -f -"
   ]
  },
  {
   "cell_type": "code",
   "execution_count": null,
   "metadata": {},
   "outputs": [],
   "source": [
    "kubectl get pvc -l app=wirecloud"
   ]
  },
  {
   "cell_type": "markdown",
   "metadata": {},
   "source": [
    "example)\n",
    "```\n",
    "NAME                      STATUS   VOLUME                                     CAPACITY   ACCESS MODES   STORAGECLASS   AGE\n",
    "wirecloud-shared-data     Bound    pvc-a24a26b9-1fb6-11e9-a070-32bf9bf468a2   10Gi       RWX            azurefile      13s\n",
    "wirecloud-shared-static   Bound    pvc-a252c2fe-1fb6-11e9-a070-32bf9bf468a2   10Gi       RWX            azurefile      13s\n",
    "```"
   ]
  },
  {
   "cell_type": "markdown",
   "metadata": {},
   "source": [
    "### start wirecloud"
   ]
  },
  {
   "cell_type": "code",
   "execution_count": null,
   "metadata": {},
   "outputs": [],
   "source": [
    "kubectl apply -f wirecloud/wirecloud-service.yaml"
   ]
  },
  {
   "cell_type": "code",
   "execution_count": null,
   "metadata": {},
   "outputs": [],
   "source": [
    "kubectl apply -f wirecloud/wirecloud-nginx-conf.yaml"
   ]
  },
  {
   "cell_type": "code",
   "execution_count": null,
   "metadata": {},
   "outputs": [],
   "source": [
    "export PGPASSWORD=$(grep 'superuserPassword:' ${PJ_ROOT}/stolon/values.yaml | awk '{print $2}')\n",
    "envsubst < wirecloud/wirecloud-deployment.yaml | kubectl apply -f -"
   ]
  },
  {
   "cell_type": "code",
   "execution_count": null,
   "metadata": {},
   "outputs": [],
   "source": [
    "kubectl get services -l app=wirecloud"
   ]
  },
  {
   "cell_type": "markdown",
   "metadata": {},
   "source": [
    "example)\n",
    "```\n",
    "NAME        TYPE        CLUSTER-IP    EXTERNAL-IP   PORT(S)    AGE\n",
    "wirecloud   ClusterIP   10.0.130.72   <none>        8888/TCP   25m\n",
    "```"
   ]
  },
  {
   "cell_type": "code",
   "execution_count": null,
   "metadata": {},
   "outputs": [],
   "source": [
    "kubectl get pods -l app=wirecloud"
   ]
  },
  {
   "cell_type": "markdown",
   "metadata": {},
   "source": [
    "example)\n",
    "```\n",
    "NAME                         READY   STATUS    RESTARTS   AGE\n",
    "wirecloud-679cb9dffb-6q5bt   2/2     Running   0          7m\n",
    "wirecloud-679cb9dffb-8ncqk   2/2     Running   0          7m\n",
    "wirecloud-679cb9dffb-cqmqh   2/2     Running   0          7m\n",
    "```"
   ]
  },
  {
   "cell_type": "markdown",
   "metadata": {},
   "source": [
    "### create user of WireCloud"
   ]
  },
  {
   "cell_type": "code",
   "execution_count": null,
   "metadata": {},
   "outputs": [],
   "source": [
    "WIRECLOUD_USER=wirecloud-user1\n",
    "WIRECLOUD_PASSWORD=$(cat /dev/urandom | LC_CTYPE=C tr -dc 'a-zA-Z0-9' | head -c 16)\n",
    "echo $WIRECLOUD_USER:$WIRECLOUD_PASSWORD\n",
    "kubectl exec -it $(kubectl get pods -l app=wirecloud -o name | awk -F '/' '{print $2}' | awk 'NR==1') -c wirecloud-django -- python manage.py shell -c \"from django.contrib.auth import get_user_model; User = get_user_model(); User.objects.create_user('${WIRECLOUD_USER}', 'wirecloud.admin@${DOMAIN}', '${WIRECLOUD_PASSWORD}')\""
   ]
  },
  {
   "cell_type": "markdown",
   "metadata": {},
   "source": [
    "## start WireCloud-Proxy"
   ]
  },
  {
   "cell_type": "code",
   "execution_count": null,
   "metadata": {},
   "outputs": [],
   "source": [
    "kubectl apply -f proxy/proxy-service.yaml"
   ]
  },
  {
   "cell_type": "code",
   "execution_count": null,
   "metadata": {},
   "outputs": [],
   "source": [
    "kubectl apply -f proxy/proxy-deployment.yaml"
   ]
  },
  {
   "cell_type": "code",
   "execution_count": null,
   "metadata": {},
   "outputs": [],
   "source": [
    "kubectl get services -l app=proxy"
   ]
  },
  {
   "cell_type": "markdown",
   "metadata": {},
   "source": [
    "example)\n",
    "```\n",
    "NAME    TYPE        CLUSTER-IP     EXTERNAL-IP   PORT(S)    AGE\n",
    "proxy   ClusterIP   10.0.148.124   <none>        3000/TCP   33s\n",
    "```"
   ]
  },
  {
   "cell_type": "code",
   "execution_count": null,
   "metadata": {},
   "outputs": [],
   "source": [
    "kubectl get pods -l app=proxy"
   ]
  },
  {
   "cell_type": "markdown",
   "metadata": {},
   "source": [
    "example)\n",
    "```\n",
    "NAME                    READY   STATUS    RESTARTS   AGE\n",
    "proxy-cb789bcf8-9dkbd   1/1     Running   0          41s\n",
    "proxy-cb789bcf8-qwvwd   1/1     Running   0          41s\n",
    "proxy-cb789bcf8-xsrpw   1/1     Running   0          41s\n",
    "```"
   ]
  },
  {
   "cell_type": "code",
   "execution_count": null,
   "metadata": {},
   "outputs": [],
   "source": [
    "TOKEN=$(cat secrets/auth-tokens.json | jq '.[2].settings.bearer_tokens[0].token' -r)\n",
    "curl -i -H \"Authorization: bearer ${TOKEN}\" https://proxy.cloudconductor.jp/events/ -G --data-urlencode fiwareService=test --data-urlencode fiwareServicePath=/test --data-urlencode typePattern=t --data-urlencode idPattern=i --data-urlencode attrs=a"
   ]
  },
  {
   "cell_type": "markdown",
   "metadata": {},
   "source": [
    "example)\n",
    "```\n",
    "HTTP/1.1 200 OK\n",
    "x-powered-by: Express\n",
    "content-type: text/event-stream\n",
    "cache-control: no-cache\n",
    "date: Thu, 24 Jan 2019 07:41:37 GMT\n",
    "x-envoy-upstream-service-time: 22\n",
    "server: envoy\n",
    "transfer-encoding: chunked\n",
    "\n",
    "\n",
    ":\n",
    "```"
   ]
  },
  {
   "cell_type": "markdown",
   "metadata": {},
   "source": [
    "## start command proxy service on AKS"
   ]
  },
  {
   "cell_type": "code",
   "execution_count": null,
   "metadata": {},
   "outputs": [],
   "source": [
    "envsubst < controller/fiware-cmd-proxy.yaml | kubectl apply -f -"
   ]
  },
  {
   "cell_type": "code",
   "execution_count": null,
   "metadata": {},
   "outputs": [],
   "source": [
    "kubectl get pods -l pod=cmd-proxy"
   ]
  },
  {
   "cell_type": "markdown",
   "metadata": {},
   "source": [
    "example)\n",
    "```\n",
    "NAME                        READY     STATUS    RESTARTS   AGE\n",
    "cmd-proxy-d7cbc6dfb-6hnsp   1/1       Running   0          46s\n",
    "cmd-proxy-d7cbc6dfb-v6rrx   1/1       Running   0          46s\n",
    "cmd-proxy-d7cbc6dfb-zf2fd   1/1       Running   0          46s\n",
    "```"
   ]
  },
  {
   "cell_type": "code",
   "execution_count": null,
   "metadata": {},
   "outputs": [],
   "source": [
    "kubectl get services -l service=cmd-proxy"
   ]
  },
  {
   "cell_type": "markdown",
   "metadata": {},
   "source": [
    "example)\n",
    "```\n",
    "NAME        TYPE        CLUSTER-IP    EXTERNAL-IP   PORT(S)    AGE\n",
    "cmd-proxy   ClusterIP   10.0.172.56   <none>        8888/TCP   1m\n",
    "```"
   ]
  },
  {
   "cell_type": "markdown",
   "metadata": {},
   "source": [
    "## start robot visualization service on AKS"
   ]
  },
  {
   "cell_type": "code",
   "execution_count": null,
   "metadata": {},
   "outputs": [],
   "source": [
    "export MONGODB_DATABASE=\"sth_${FIWARE_SERVICE}\"\n",
    "export MONGODB_COLLECTION=\"sth_${ROBOT_SERVICEPATH}_${ROBOT_ID}_${ROBOT_TYPE}\"\n",
    "env BEARER_AUTH=$(cat ${PJ_ROOT}/secrets/auth-tokens.json | jq '.bearer_tokens | map(select(.allowed_paths[] | contains (\"^/visualizer/positions/$\"))) | .[0].token' -r) envsubst < controller/fiware-robot-visualization.yaml | kubectl apply -f -"
   ]
  },
  {
   "cell_type": "code",
   "execution_count": null,
   "metadata": {},
   "outputs": [],
   "source": [
    "kubectl get pods -l pod=robot-visualization"
   ]
  },
  {
   "cell_type": "markdown",
   "metadata": {},
   "source": [
    "example)\n",
    "```\n",
    "NAME                                   READY     STATUS    RESTARTS   AGE\n",
    "robot-visualization-7d69bcdff7-g7p98   1/1       Running   0          13m\n",
    "robot-visualization-7d69bcdff7-k6mb9   1/1       Running   0          13m\n",
    "robot-visualization-7d69bcdff7-txsqn   1/1       Running   0          13m\n",
    "```"
   ]
  },
  {
   "cell_type": "code",
   "execution_count": null,
   "metadata": {},
   "outputs": [],
   "source": [
    "kubectl get services -l service=robot-visualization"
   ]
  },
  {
   "cell_type": "markdown",
   "metadata": {},
   "source": [
    "example)\n",
    "```\n",
    "NAME                  TYPE        CLUSTER-IP    EXTERNAL-IP   PORT(S)    AGE\n",
    "robot-visualization   ClusterIP   10.0.112.72   <none>        8888/TCP   13m\n",
    "```"
   ]
  }
 ],
 "metadata": {
  "kernelspec": {
   "display_name": "Bash",
   "language": "bash",
   "name": "bash"
  },
  "language_info": {
   "codemirror_mode": "shell",
   "file_extension": ".sh",
   "mimetype": "text/x-sh",
   "name": "bash"
  }
 },
 "nbformat": 4,
 "nbformat_minor": 2
}
