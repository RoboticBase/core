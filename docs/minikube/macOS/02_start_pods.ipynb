{
 "cells": [
  {
   "cell_type": "markdown",
   "metadata": {},
   "source": [
    "# 2 start pods on minikube"
   ]
  },
  {
   "cell_type": "markdown",
   "metadata": {},
   "source": [
    "change ${PJ_ROOT} to your directory."
   ]
  },
  {
   "cell_type": "code",
   "execution_count": null,
   "metadata": {},
   "outputs": [],
   "source": [
    "export PJ_ROOT=\"${HOME}/core\"\n",
    "cd ${PJ_ROOT};pwd"
   ]
  },
  {
   "cell_type": "markdown",
   "metadata": {},
   "source": [
    "example)\n",
    "```\n",
    "/Users/user/core\n",
    "```"
   ]
  },
  {
   "cell_type": "markdown",
   "metadata": {},
   "source": [
    "## load environment variables"
   ]
  },
  {
   "cell_type": "code",
   "execution_count": null,
   "metadata": {},
   "outputs": [],
   "source": [
    "source ${PJ_ROOT}/docs/minikube/env"
   ]
  },
  {
   "cell_type": "markdown",
   "metadata": {},
   "source": [
    "## start RabbitMQ cluster on minikube\n",
    "[rabbitmq](https://www.rabbitmq.com/)"
   ]
  },
  {
   "cell_type": "markdown",
   "metadata": {},
   "source": [
    "### start RabbitMQ"
   ]
  },
  {
   "cell_type": "code",
   "execution_count": null,
   "metadata": {},
   "outputs": [],
   "source": [
    "kubectl apply -f rabbitmq/rabbitmq-rbac.yaml"
   ]
  },
  {
   "cell_type": "code",
   "execution_count": null,
   "metadata": {},
   "outputs": [],
   "source": [
    "kubectl apply -f rabbitmq/rabbitmq-minikube-services.yaml"
   ]
  },
  {
   "cell_type": "code",
   "execution_count": null,
   "metadata": {},
   "outputs": [],
   "source": [
    "kubectl apply -f rabbitmq/rabbitmq-minikube-statefulset.yaml"
   ]
  },
  {
   "cell_type": "code",
   "execution_count": null,
   "metadata": {},
   "outputs": [],
   "source": [
    "kubectl get pods -l app=rabbitmq"
   ]
  },
  {
   "cell_type": "markdown",
   "metadata": {},
   "source": [
    "example)\n",
    "\n",
    "```\n",
    "NAME         READY     STATUS    RESTARTS   AGE\n",
    "rabbitmq-0   1/1       Running   0          6m\n",
    "rabbitmq-1   1/1       Running   0          5m\n",
    "rabbitmq-2   1/1       Running   0          4m\n",
    "```"
   ]
  },
  {
   "cell_type": "code",
   "execution_count": null,
   "metadata": {},
   "outputs": [],
   "source": [
    "kubectl exec rabbitmq-0 -- rabbitmqctl cluster_status"
   ]
  },
  {
   "cell_type": "markdown",
   "metadata": {},
   "source": [
    "example)\n",
    "```\n",
    "Cluster status of node rabbit@rabbitmq-0.rabbitmq.default.svc.cluster.local ...\n",
    "[{nodes,[{disc,['rabbit@rabbitmq-0.rabbitmq.default.svc.cluster.local',\n",
    "                'rabbit@rabbitmq-1.rabbitmq.default.svc.cluster.local',\n",
    "                'rabbit@rabbitmq-2.rabbitmq.default.svc.cluster.local']}]},\n",
    " {running_nodes,['rabbit@rabbitmq-2.rabbitmq.default.svc.cluster.local',\n",
    "                 'rabbit@rabbitmq-1.rabbitmq.default.svc.cluster.local',\n",
    "                 'rabbit@rabbitmq-0.rabbitmq.default.svc.cluster.local']},\n",
    " {cluster_name,<<\"rabbit@rabbitmq-0.rabbitmq.default.svc.cluster.local\">>},\n",
    " {partitions,[]},\n",
    " {alarms,[{'rabbit@rabbitmq-2.rabbitmq.default.svc.cluster.local',[]},\n",
    "          {'rabbit@rabbitmq-1.rabbitmq.default.svc.cluster.local',[]},\n",
    "          {'rabbit@rabbitmq-0.rabbitmq.default.svc.cluster.local',[]}]}]\n",
    "```"
   ]
  },
  {
   "cell_type": "markdown",
   "metadata": {},
   "source": [
    "### change password of `guest`"
   ]
  },
  {
   "cell_type": "code",
   "execution_count": null,
   "metadata": {},
   "outputs": [],
   "source": [
    "kubectl exec rabbitmq-0 -- rabbitmqctl change_password guest $(cat /dev/urandom | LC_CTYPE=C tr -dc 'a-zA-Z0-9' | head -c 32)"
   ]
  },
  {
   "cell_type": "markdown",
   "metadata": {},
   "source": [
    "### register users to RabbitMQ"
   ]
  },
  {
   "cell_type": "code",
   "execution_count": null,
   "metadata": {},
   "outputs": [],
   "source": [
    "for e in $(env); do\n",
    "  if [[ \"${e}\" =~ ^MQTT__([[:alnum:]_-]+)=([[:alnum:]_-]+)$ ]]; then\n",
    "    username=${BASH_REMATCH[1]}\n",
    "    password=${BASH_REMATCH[2]}\n",
    "    \n",
    "    kubectl exec rabbitmq-0 -- rabbitmqctl add_user ${username} ${password}\n",
    "    kubectl exec rabbitmq-0 -- rabbitmqctl set_permissions -p / ${username} \".*\" \".*\" \".*\"\n",
    "  fi\n",
    "done"
   ]
  },
  {
   "cell_type": "code",
   "execution_count": null,
   "metadata": {},
   "outputs": [],
   "source": [
    "kubectl exec rabbitmq-0 -- rabbitmqctl list_users"
   ]
  },
  {
   "cell_type": "markdown",
   "metadata": {},
   "source": [
    "example)\n",
    "```\n",
    "Listing users ...\n",
    "guest\t[administrator]\n",
    "iotagent\t[]\n",
    "```"
   ]
  },
  {
   "cell_type": "code",
   "execution_count": null,
   "metadata": {
    "scrolled": true
   },
   "outputs": [],
   "source": [
    "kubectl get services -l app=rabbitmq"
   ]
  },
  {
   "cell_type": "markdown",
   "metadata": {},
   "source": [
    "expected)\n",
    "```\n",
    "NAME            TYPE        CLUSTER-IP       EXTERNAL-IP   PORT(S)              AGE\n",
    "rabbitmq        ClusterIP   None             <none>        5672/TCP             4m\n",
    "rabbitmq-amqp   ClusterIP   10.107.253.173   <none>        15672/TCP,5672/TCP   4m\n",
    "rabbitmq-mqtt   NodePort    10.102.140.44    <none>        1883:31186/TCP       4m\n",
    "```"
   ]
  },
  {
   "cell_type": "markdown",
   "metadata": {},
   "source": [
    "### nat MQTT port "
   ]
  },
  {
   "cell_type": "code",
   "execution_count": null,
   "metadata": {},
   "outputs": [],
   "source": [
    "export MQTT_PORT=$(kubectl describe service rabbitmq-mqtt | grep \"NodePort:\" | awk '{print $3}' | awk -F'/' '{print $1}');echo ${MQTT_PORT}"
   ]
  },
  {
   "cell_type": "code",
   "execution_count": null,
   "metadata": {},
   "outputs": [],
   "source": [
    "VBoxManage controlvm \"${MINIKUBE_NAME}\" natpf1 \"mqtt,tcp,0.0.0.0,1883,,${MQTT_PORT}\"\n",
    "VBoxManage showvminfo \"${MINIKUBE_NAME}\"| grep ${MQTT_PORT}"
   ]
  },
  {
   "cell_type": "markdown",
   "metadata": {},
   "source": [
    "example)\n",
    "```\n",
    "NIC 1 Rule(0):   name = mqtt, protocol = tcp, host ip = 0.0.0.0, host port = 1883, guest ip = , guest port = 30382\n",
    "```"
   ]
  },
  {
   "cell_type": "markdown",
   "metadata": {},
   "source": [
    "### confirm to connect MQTT broker"
   ]
  },
  {
   "cell_type": "code",
   "execution_count": null,
   "metadata": {},
   "outputs": [],
   "source": [
    "mosquitto_pub -h ${HOST_IPADDR} -p 1883  -d -u iotagent -P ${MQTT__iotagent} -t /test -m \"test\""
   ]
  },
  {
   "cell_type": "markdown",
   "metadata": {},
   "source": [
    "example)\n",
    "```\n",
    "Client mosqpub|52150-Nobuyukin sending CONNECT\n",
    "Client mosqpub|52150-Nobuyukin received CONNACK\n",
    "Client mosqpub|52150-Nobuyukin sending PUBLISH (d0, q0, r0, m1, '/test', ... (4 bytes))\n",
    "Client mosqpub|52150-Nobuyukin sending DISCONNECT\n",
    "```"
   ]
  },
  {
   "cell_type": "markdown",
   "metadata": {},
   "source": [
    "## start mondodb cluster on minikube\n",
    "[mongodb](https://www.mongodb.com/)"
   ]
  },
  {
   "cell_type": "code",
   "execution_count": null,
   "metadata": {},
   "outputs": [],
   "source": [
    "kubectl apply -f mongodb/mongodb-cluster-minikube.yaml"
   ]
  },
  {
   "cell_type": "code",
   "execution_count": null,
   "metadata": {},
   "outputs": [],
   "source": [
    "kubectl get pods -l app=mongodb"
   ]
  },
  {
   "cell_type": "markdown",
   "metadata": {},
   "source": [
    "example)\n",
    "```\n",
    "NAME        READY     STATUS    RESTARTS   AGE\n",
    "mongodb-0   2/2       Running   0          6m\n",
    "mongodb-1   2/2       Running   0          4m\n",
    "mongodb-2   2/2       Running   0          2m\n",
    "```"
   ]
  },
  {
   "cell_type": "code",
   "execution_count": null,
   "metadata": {},
   "outputs": [],
   "source": [
    "kubectl get services -l app=mongodb"
   ]
  },
  {
   "cell_type": "markdown",
   "metadata": {},
   "source": [
    "example)\n",
    "```\n",
    "NAME      TYPE        CLUSTER-IP   EXTERNAL-IP   PORT(S)     AGE\n",
    "mongodb   ClusterIP   None         <none>        27017/TCP   6m\n",
    "```"
   ]
  },
  {
   "cell_type": "code",
   "execution_count": null,
   "metadata": {},
   "outputs": [],
   "source": [
    "kubectl exec mongodb-0 -c mongodb -- mongo --eval 'printjson(rs.status().members.map(function(e) {return {name: e.name, stateStr:e.stateStr};}))'"
   ]
  },
  {
   "cell_type": "markdown",
   "metadata": {},
   "source": [
    "expected)\n",
    "```\n",
    "MongoDB shell version v3.6.6\n",
    "connecting to: mongodb://127.0.0.1:27017\n",
    "MongoDB server version: 3.6.6\n",
    "[\n",
    "\t{\n",
    "\t\t\"name\" : \"mongodb-0.mongodb.default.svc.cluster.local:27017\",\n",
    "\t\t\"stateStr\" : \"PRIMARY\"\n",
    "\t},\n",
    "\t{\n",
    "\t\t\"name\" : \"mongodb-1.mongodb.default.svc.cluster.local:27017\",\n",
    "\t\t\"stateStr\" : \"SECONDARY\"\n",
    "\t},\n",
    "\t{\n",
    "\t\t\"name\" : \"mongodb-2.mongodb.default.svc.cluster.local:27017\",\n",
    "\t\t\"stateStr\" : \"SECONDARY\"\n",
    "\t}\n",
    "]\n",
    "```"
   ]
  },
  {
   "cell_type": "markdown",
   "metadata": {},
   "source": [
    "## start ambassador on minikube\n",
    "\n",
    "[ambassador](https://www.getambassador.io/)"
   ]
  },
  {
   "cell_type": "markdown",
   "metadata": {},
   "source": [
    "### start ambassador"
   ]
  },
  {
   "cell_type": "code",
   "execution_count": null,
   "metadata": {},
   "outputs": [],
   "source": [
    "kubectl apply -f ambassador/ambassador-minikube-service.yaml"
   ]
  },
  {
   "cell_type": "code",
   "execution_count": null,
   "metadata": {},
   "outputs": [],
   "source": [
    "kubectl apply -f ambassador/ambassador-deployment.yaml"
   ]
  },
  {
   "cell_type": "code",
   "execution_count": null,
   "metadata": {},
   "outputs": [],
   "source": [
    "kubectl get pods -l service=ambassador"
   ]
  },
  {
   "cell_type": "markdown",
   "metadata": {},
   "source": [
    "example)\n",
    "```\n",
    "NAME                         READY     STATUS    RESTARTS   AGE\n",
    "ambassador-cf99ff6bb-45jpl   1/1       Running   0          39s\n",
    "ambassador-cf99ff6bb-8kht7   1/1       Running   0          39s\n",
    "ambassador-cf99ff6bb-lv2tk   1/1       Running   0          39s\n",
    "```"
   ]
  },
  {
   "cell_type": "code",
   "execution_count": null,
   "metadata": {},
   "outputs": [],
   "source": [
    "kubectl get services -l service=ambassador"
   ]
  },
  {
   "cell_type": "markdown",
   "metadata": {},
   "source": [
    "example)\n",
    "```\n",
    "NAME         TYPE       CLUSTER-IP      EXTERNAL-IP   PORT(S)        AGE\n",
    "ambassador   NodePort   10.98.181.146   <none>        80:31807/TCP   1m\n",
    "```"
   ]
  },
  {
   "cell_type": "markdown",
   "metadata": {},
   "source": [
    "### nat HTTP port"
   ]
  },
  {
   "cell_type": "code",
   "execution_count": null,
   "metadata": {},
   "outputs": [],
   "source": [
    "HTTP_PORT=$(kubectl describe service ambassador | grep \"NodePort:\" | awk '{print $3}' | awk -F'/' '{print $1}');echo ${HTTP_PORT}"
   ]
  },
  {
   "cell_type": "code",
   "execution_count": null,
   "metadata": {},
   "outputs": [],
   "source": [
    "VBoxManage controlvm \"${MINIKUBE_NAME}\" natpf1 \"http,tcp,0.0.0.0,8080,,${HTTP_PORT}\"\n",
    "VBoxManage showvminfo \"${MINIKUBE_NAME}\" | grep ${HTTP_PORT}"
   ]
  },
  {
   "cell_type": "code",
   "execution_count": null,
   "metadata": {},
   "outputs": [],
   "source": [
    "curl -i http://${HOST_IPADDR}:8080"
   ]
  },
  {
   "cell_type": "markdown",
   "metadata": {},
   "source": [
    "expected)\n",
    "```\n",
    "HTTP/1.1 404 Not Found\n",
    "date: Fri, 25 May 2018 00:47:41 GMT\n",
    "server: envoy\n",
    "content-length: 0\n",
    "```"
   ]
  },
  {
   "cell_type": "markdown",
   "metadata": {},
   "source": [
    "## start authorization & authentication service on minikube"
   ]
  },
  {
   "cell_type": "markdown",
   "metadata": {},
   "source": [
    "### create `secrets/auth-tokens.json`\n",
    "example)\n",
    "```json\n",
    "{\n",
    "  \"bearer_tokens\": [\n",
    "      {\n",
    "          \"token\": \"iRGTsKKHwgjf4rR2XMSN3oE9Dhm6ym3O\",\n",
    "          \"allowed_paths\": [\"^/orion/.*$\", \"^/idas/.*$\"]\n",
    "      }, {\n",
    "          \"token\": \"4Xc1GFa2D8zkZRbkdygm902oGYeUAJno\",\n",
    "          \"allowed_paths\": [\"^/visualizer/positions/$\"]\n",
    "      }\n",
    "  ],\n",
    "  \"basic_auths\": [\n",
    "      {\n",
    "          \"username\": \"user1\",\n",
    "          \"password\": \"P@ssw0rd\",\n",
    "          \"allowed_paths\": [\"/controller/web/\"]\n",
    "      }, {\n",
    "          \"username\": \"visualizer\",\n",
    "          \"password\": \"P@ssw0rd\",\n",
    "          \"allowed_paths\": [\"/visualizer/locus/\"]\n",
    "      }\n",
    "  ]\n",
    "}\n",
    "```"
   ]
  },
  {
   "cell_type": "code",
   "execution_count": null,
   "metadata": {},
   "outputs": [],
   "source": [
    "cat << __EOS__ > secrets/auth-tokens.json\n",
    "{\n",
    "  \"bearer_tokens\": [\n",
    "      {\n",
    "          \"token\": \"$(cat /dev/urandom | LC_CTYPE=C tr -dc 'a-zA-Z0-9' | head -c 32)\",\n",
    "          \"allowed_paths\": [\"^/orion/.*$\", \"^/idas/.*$\"]\n",
    "      }, {\n",
    "          \"token\": \"$(cat /dev/urandom | LC_CTYPE=C tr -dc 'a-zA-Z0-9' | head -c 32)\",\n",
    "          \"allowed_paths\": [\"^/visualizer/positions/$\"]\n",
    "      }\n",
    "  ],\n",
    "  \"basic_auths\": [\n",
    "      {\n",
    "          \"username\": \"user1\",\n",
    "          \"password\": \"$(cat /dev/urandom | LC_CTYPE=C tr -dc 'a-zA-Z0-9' | head -c 16)\",\n",
    "          \"allowed_paths\": [\"/controller/web/\"]\n",
    "      }, {\n",
    "          \"username\": \"visualizer\",\n",
    "          \"password\": \"$(cat /dev/urandom | LC_CTYPE=C tr -dc 'a-zA-Z0-9' | head -c 16)\",\n",
    "          \"allowed_paths\": [\"/visualizer/locus/\"]\n",
    "      }\n",
    "  ]\n",
    "}\n",
    "__EOS__"
   ]
  },
  {
   "cell_type": "markdown",
   "metadata": {},
   "source": [
    "### register auth-tokens to kubernetes secrets"
   ]
  },
  {
   "cell_type": "code",
   "execution_count": null,
   "metadata": {},
   "outputs": [],
   "source": [
    "kubectl create secret generic auth-tokens --from-file=./secrets/auth-tokens.json"
   ]
  },
  {
   "cell_type": "markdown",
   "metadata": {},
   "source": [
    "### start fiware-ambassador-auth"
   ]
  },
  {
   "cell_type": "code",
   "execution_count": null,
   "metadata": {},
   "outputs": [],
   "source": [
    "kubectl apply -f ambassador/fiware-ambassador-auth.yaml"
   ]
  },
  {
   "cell_type": "code",
   "execution_count": null,
   "metadata": {
    "scrolled": true
   },
   "outputs": [],
   "source": [
    "kubectl get pods -l pod=ambassador-auth"
   ]
  },
  {
   "cell_type": "markdown",
   "metadata": {},
   "source": [
    "example)\n",
    "```\n",
    "NAME                           READY     STATUS    RESTARTS   AGE\n",
    "ambassador-auth-6fffdbd9c9-7kkpr   1/1       Running   0          56s\n",
    "ambassador-auth-6fffdbd9c9-qxw6m   1/1       Running   0          56s\n",
    "ambassador-auth-6fffdbd9c9-sdn5b   1/1       Running   0          56s\n",
    "```"
   ]
  },
  {
   "cell_type": "code",
   "execution_count": null,
   "metadata": {},
   "outputs": [],
   "source": [
    "kubectl get services -l service=ambassador-auth"
   ]
  },
  {
   "cell_type": "markdown",
   "metadata": {},
   "source": [
    "example)\n",
    "```\n",
    "NAME          TYPE        CLUSTER-IP     EXTERNAL-IP   PORT(S)    AGE\n",
    "ambassador-auth   ClusterIP   10.0.129.102   <none>        3000/TCP   2m\n",
    "```"
   ]
  },
  {
   "cell_type": "code",
   "execution_count": null,
   "metadata": {},
   "outputs": [],
   "source": [
    "curl -i http://${HOST_IPADDR}:8080"
   ]
  },
  {
   "cell_type": "markdown",
   "metadata": {},
   "source": [
    "example)\n",
    "```\n",
    "HTTP/1.1 401 Unauthorized\n",
    "content-type: application/json; charset=utf-8\n",
    "www-authenticate: Bearer realm=\"token_required\"\n",
    "date: Thu, 12 Jul 2018 02:21:24 GMT\n",
    "content-length: 60\n",
    "x-envoy-upstream-service-time: 2\n",
    "server: envoy\n",
    "\n",
    "{\"authorized\":false,\"error\":\"missing Header: authorization\"}\n",
    "```"
   ]
  },
  {
   "cell_type": "markdown",
   "metadata": {},
   "source": [
    "## start fiware orion on minikube\n",
    "[fiware orion](https://catalogue-server.fiware.org/enablers/publishsubscribe-context-broker-orion-context-broker)"
   ]
  },
  {
   "cell_type": "code",
   "execution_count": null,
   "metadata": {},
   "outputs": [],
   "source": [
    "kubectl apply -f orion/orion.yaml"
   ]
  },
  {
   "cell_type": "code",
   "execution_count": null,
   "metadata": {},
   "outputs": [],
   "source": [
    "kubectl get pods -l app=orion"
   ]
  },
  {
   "cell_type": "markdown",
   "metadata": {},
   "source": [
    "example)\n",
    "```\n",
    "NAME                     READY     STATUS    RESTARTS   AGE\n",
    "orion-54f5cdcb5d-d2pt5   1/1       Running   0          56s\n",
    "orion-54f5cdcb5d-hv274   1/1       Running   0          56s\n",
    "orion-54f5cdcb5d-xbnx2   1/1       Running   0          56s\n",
    "```"
   ]
  },
  {
   "cell_type": "code",
   "execution_count": null,
   "metadata": {},
   "outputs": [],
   "source": [
    "kubectl get services -l app=orion"
   ]
  },
  {
   "cell_type": "markdown",
   "metadata": {},
   "source": [
    "example)\n",
    "```\n",
    "NAME      TYPE        CLUSTER-IP    EXTERNAL-IP   PORT(S)    AGE\n",
    "orion     ClusterIP   10.0.44.126   <none>        1026/TCP   1m\n",
    "```"
   ]
  },
  {
   "cell_type": "code",
   "execution_count": null,
   "metadata": {},
   "outputs": [],
   "source": [
    "TOKEN=$(cat ${PJ_ROOT}/secrets/auth-tokens.json | jq '.bearer_tokens[0].token' -r)\n",
    "curl -i -H \"Authorization: bearer ${TOKEN}\" http://${HOST_IPADDR}:8080/orion/v2/entities/"
   ]
  },
  {
   "cell_type": "markdown",
   "metadata": {},
   "source": [
    "example)\n",
    "```\n",
    "HTTP/1.1 200 OK\n",
    "content-length: 2\n",
    "content-type: application/json\n",
    "fiware-correlator: 4731eb48-4dc1-11e8-b1a2-0a580af4010a\n",
    "date: Wed, 02 May 2018 04:28:35 GMT\n",
    "x-envoy-upstream-service-time: 5\n",
    "server: envoy\n",
    "\n",
    "[]\n",
    "```\n",
    "**If you can't get 200 OK, please restart all ambassador's pods like \"ambassador-cf99ff6bb-45jpl\", \"ambassador-cf99ff6bb-8kht7\" and \"ambassador-cf99ff6bb-lv2tk\"**"
   ]
  },
  {
   "cell_type": "markdown",
   "metadata": {},
   "source": [
    "## start fiware idas(iotagent-ul) on minikube\n",
    "[fiware IDAS(iotagent-ul)](https://catalogue-server.fiware.org/enablers/backend-device-management-idas)\n",
    "\n",
    "**In this demonstration, we use customized iotagent-ul in order to ignore duplicate MQTT messages.**"
   ]
  },
  {
   "cell_type": "markdown",
   "metadata": {},
   "source": [
    "### build and push the idas conatiner image"
   ]
  },
  {
   "cell_type": "code",
   "execution_count": null,
   "metadata": {},
   "outputs": [],
   "source": [
    "docker build -t ${REPOSITORY}/tech-sketch/iotagent-ul:290a1fa idas/iotagent-ul/"
   ]
  },
  {
   "cell_type": "code",
   "execution_count": null,
   "metadata": {
    "scrolled": true
   },
   "outputs": [],
   "source": [
    "docker push ${REPOSITORY}/tech-sketch/iotagent-ul:290a1fa"
   ]
  },
  {
   "cell_type": "markdown",
   "metadata": {},
   "source": [
    "expected)\n",
    "```\n",
    "The push refers to repository [192.168.99.1:5000/tech-sketch/iotagent-ul]\n",
    "\n",
    "1f141107: Preparing \n",
    "e3e1d3a9: Preparing \n",
    "a102cc1f: Preparing \n",
    "290a1fa: digest: sha256:468a6c2e9aaf6d47a4e21d95bbdb9f8c2df088e876e0846ceaba09cca5fc2d13 size: 1163\n",
    "```"
   ]
  },
  {
   "cell_type": "code",
   "execution_count": null,
   "metadata": {},
   "outputs": [],
   "source": [
    "docker image ls | grep iotagent-ul | grep 290a1fa"
   ]
  },
  {
   "cell_type": "markdown",
   "metadata": {},
   "source": [
    "example)\n",
    "```\n",
    "192.168.99.1:5000/tech-sketch/iotagent-ul                         290a1fa                992c1909ec08        23 hours ago        112MB\n",
    "```"
   ]
  },
  {
   "cell_type": "markdown",
   "metadata": {},
   "source": [
    "### start idas"
   ]
  },
  {
   "cell_type": "code",
   "execution_count": null,
   "metadata": {},
   "outputs": [],
   "source": [
    "env IOTA_PASSWORD=${MQTT__iotagent} envsubst < idas/config.js > /tmp/config.js\n",
    "kubectl create secret generic iotagent-config --from-file /tmp/config.js\n",
    "rm /tmp/config.js"
   ]
  },
  {
   "cell_type": "code",
   "execution_count": null,
   "metadata": {},
   "outputs": [],
   "source": [
    "envsubst < idas/iotagent-ul.yaml | kubectl apply -f -"
   ]
  },
  {
   "cell_type": "code",
   "execution_count": null,
   "metadata": {},
   "outputs": [],
   "source": [
    "kubectl get pods -l app=iotagent-ul"
   ]
  },
  {
   "cell_type": "markdown",
   "metadata": {},
   "source": [
    "example)\n",
    "```\n",
    "NAME                           READY     STATUS    RESTARTS   AGE\n",
    "iotagent-ul-79685b64bf-8krps   1/1       Running   0          3m\n",
    "iotagent-ul-79685b64bf-m6nlg   1/1       Running   0          3m\n",
    "iotagent-ul-79685b64bf-mjpbl   1/1       Running   0          3m\n",
    "```"
   ]
  },
  {
   "cell_type": "code",
   "execution_count": null,
   "metadata": {},
   "outputs": [],
   "source": [
    "kubectl get services -l app=iotagent-ul"
   ]
  },
  {
   "cell_type": "markdown",
   "metadata": {},
   "source": [
    "example)\n",
    "```\n",
    "NAME          TYPE        CLUSTER-IP     EXTERNAL-IP   PORT(S)             AGE\n",
    "iotagent-ul   ClusterIP   10.0.180.155   <none>        4041/TCP,7896/TCP   43s\n",
    "```"
   ]
  },
  {
   "cell_type": "code",
   "execution_count": null,
   "metadata": {},
   "outputs": [],
   "source": [
    "TOKEN=$(cat secrets/auth-tokens.json | jq '.bearer_tokens[0].token' -r)\n",
    "curl -i -H \"Authorization: bearer ${TOKEN}\" -H \"Fiware-Service: test\" -H \"Fiware-Servicepath: /*\" http://${HOST_IPADDR}:8080/idas/ul20/manage/iot/services/"
   ]
  },
  {
   "cell_type": "markdown",
   "metadata": {},
   "source": [
    "example)\n",
    "```\n",
    "HTTP/1.1 200 OK\n",
    "x-powered-by: Express\n",
    "fiware-correlator: c114fc5e-b4a2-40f6-b7fe-1d68369784e5\n",
    "content-type: application/json; charset=utf-8\n",
    "content-length: 25\n",
    "etag: W/\"19-WMYe0U6ocKhQjp+oaVnMHLdbylc\"\n",
    "date: Wed, 02 May 2018 06:16:18 GMT\n",
    "x-envoy-upstream-service-time: 9\n",
    "server: envoy\n",
    "\n",
    "{\"count\":0,\"services\":[]}\n",
    "```"
   ]
  },
  {
   "cell_type": "markdown",
   "metadata": {},
   "source": [
    "## start fiware cygnus on minikube\n",
    "[fiware cygnus](https://catalogue-server.fiware.org/enablers/cygnus)"
   ]
  },
  {
   "cell_type": "markdown",
   "metadata": {},
   "source": [
    "### start cygnus"
   ]
  },
  {
   "cell_type": "code",
   "execution_count": null,
   "metadata": {},
   "outputs": [],
   "source": [
    "kubectl apply -f cygnus/cygnus-mongo.yaml"
   ]
  },
  {
   "cell_type": "code",
   "execution_count": null,
   "metadata": {},
   "outputs": [],
   "source": [
    "kubectl get pods -l app=cygnus-mongo"
   ]
  },
  {
   "cell_type": "markdown",
   "metadata": {},
   "source": [
    "example)\n",
    "```\n",
    "NAME                           READY     STATUS    RESTARTS   AGE\n",
    "cygnus-mongo-9fc8d65d5-288hj   1/1       Running   0          1m\n",
    "cygnus-mongo-9fc8d65d5-c6q5t   1/1       Running   0          1m\n",
    "cygnus-mongo-9fc8d65d5-gnfjh   1/1       Running   0          1m\n",
    "```"
   ]
  },
  {
   "cell_type": "code",
   "execution_count": null,
   "metadata": {},
   "outputs": [],
   "source": [
    "kubectl get services -l app=cygnus-mongo"
   ]
  },
  {
   "cell_type": "markdown",
   "metadata": {},
   "source": [
    "example)\n",
    "```\n",
    "NAME            TYPE        CLUSTER-IP       EXTERNAL-IP   PORT(S)             AGE\n",
    "cygnus-mongo    ClusterIP   10.103.255.240   <none>        5050/TCP,8081/TCP   1m\n",
    "```"
   ]
  },
  {
   "cell_type": "markdown",
   "metadata": {},
   "source": [
    "#### With monitoring & logging"
   ]
  },
  {
   "cell_type": "code",
   "execution_count": null,
   "metadata": {},
   "outputs": [],
   "source": [
    "kubectl apply -f cygnus/cygnus-elasticsearch.yaml"
   ]
  },
  {
   "cell_type": "code",
   "execution_count": null,
   "metadata": {},
   "outputs": [],
   "source": [
    "kubectl get pods -l app=cygnus-elasticsearch"
   ]
  },
  {
   "cell_type": "markdown",
   "metadata": {},
   "source": [
    "example)\n",
    "```\n",
    "NAME                                   READY     STATUS    RESTARTS   AGE\n",
    "cygnus-elasticsearch-9fc8d65d5-288hj   1/1       Running   0          1m\n",
    "cygnus-elasticsearch-9fc8d65d5-c6q5t   1/1       Running   0          1m\n",
    "cygnus-elasticsearch-9fc8d65d5-gnfjh   1/1       Running   0          1m\n",
    "```"
   ]
  },
  {
   "cell_type": "code",
   "execution_count": null,
   "metadata": {},
   "outputs": [],
   "source": [
    "kubectl get services -l app=cygnus-elasticsearch"
   ]
  },
  {
   "cell_type": "markdown",
   "metadata": {},
   "source": [
    "example)\n",
    "```\n",
    "NAME                    TYPE        CLUSTER-IP       EXTERNAL-IP   PORT(S)             AGE\n",
    "cygnus-elasticsearch    ClusterIP   10.103.255.240   <none>        5050/TCP,8081/TCP   1m\n",
    "```"
   ]
  }
 ],
 "metadata": {
  "kernelspec": {
   "display_name": "Bash",
   "language": "bash",
   "name": "bash"
  },
  "language_info": {
   "codemirror_mode": "shell",
   "file_extension": ".sh",
   "mimetype": "text/x-sh",
   "name": "bash"
  }
 },
 "nbformat": 4,
 "nbformat_minor": 2
}
