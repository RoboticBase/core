{
 "cells": [
  {
   "cell_type": "markdown",
   "metadata": {},
   "source": [
    "# 4 register business logic to fiware on minikube"
   ]
  },
  {
   "cell_type": "markdown",
   "metadata": {},
   "source": [
    "change ${PJ_ROOT} to your directory."
   ]
  },
  {
   "cell_type": "code",
   "execution_count": null,
   "metadata": {},
   "outputs": [],
   "source": [
    "export PJ_ROOT=\"${HOME}/roboticbase-core\"\n",
    "cd ${PJ_ROOT};pwd"
   ]
  },
  {
   "cell_type": "markdown",
   "metadata": {},
   "source": [
    "example)\n",
    "```\n",
    "/Users/user/roboticbase-core\n",
    "```"
   ]
  },
  {
   "cell_type": "markdown",
   "metadata": {},
   "source": [
    "## load environment variables"
   ]
  },
  {
   "cell_type": "code",
   "execution_count": null,
   "metadata": {},
   "outputs": [],
   "source": [
    "source ${PJ_ROOT}/docs/minikube/env"
   ]
  },
  {
   "cell_type": "markdown",
   "metadata": {},
   "source": [
    "## register `cmd-proxy` as a subscriber of gamepad  device"
   ]
  },
  {
   "cell_type": "code",
   "execution_count": null,
   "metadata": {},
   "outputs": [],
   "source": [
    "TOKEN=$(cat ${PJ_ROOT}/secrets/auth-tokens.json | jq '.bearer_tokens[0].token' -r)\n",
    "curl -i -H \"Authorization: bearer ${TOKEN}\" -H \"Fiware-Service: ${FIWARE_SERVICE}\" -H \"Fiware-ServicePath: ${GAMEPAD_SERVICEPATH}\" -H \"Content-Type: application/json\" http://${HOST_IPADDR}:8080/orion/v2/subscriptions/ -X POST -d @- <<__EOS__\n",
    "{\n",
    "  \"subject\": {\n",
    "    \"entities\": [{\n",
    "      \"idPattern\": \"${GAMEPAD_ID}.*\",\n",
    "      \"type\": \"${GAMEPAD_TYPE}\"\n",
    "    }],\n",
    "    \"condition\": {\n",
    "      \"attrs\": [\"button\"]\n",
    "    }\n",
    "  },\n",
    "  \"notification\": {\n",
    "    \"http\": {\n",
    "      \"url\": \"http://cmd-proxy:8888/gamepad/\"\n",
    "    },\n",
    "    \"attrs\": [\"button\"]\n",
    "  }\n",
    "}\n",
    "__EOS__"
   ]
  },
  {
   "cell_type": "markdown",
   "metadata": {},
   "source": [
    "example)\n",
    "```\n",
    "HTTP/1.1 201 Created\n",
    "content-length: 0\n",
    "location: /v2/subscriptions/5b4f0bce4d2c226e03a34f7d\n",
    "fiware-correlator: 0ecc000a-8a6f-11e8-8b4a-ae8577baef60\n",
    "date: Wed, 18 Jul 2018 09:43:42 GMT\n",
    "x-envoy-upstream-service-time: 3\n",
    "server: envoy\n",
    "```"
   ]
  },
  {
   "cell_type": "code",
   "execution_count": null,
   "metadata": {},
   "outputs": [],
   "source": [
    "TOKEN=$(cat ${PJ_ROOT}/secrets/auth-tokens.json | jq '.bearer_tokens[0].token' -r)\n",
    "curl -sS -H \"Authorization: bearer ${TOKEN}\" -H \"Fiware-Service: ${FIWARE_SERVICE}\" -H \"Fiware-ServicePath: ${GAMEPAD_SERVICEPATH}\" http://${HOST_IPADDR}:8080/orion/v2/subscriptions/ | jq ."
   ]
  },
  {
   "cell_type": "markdown",
   "metadata": {},
   "source": [
    "example)\n",
    "```json\n",
    "[\n",
    "  {\n",
    "    \"id\": \"5b557aaa4520a8be4c383feb\",\n",
    "    \"status\": \"active\",\n",
    "    \"subject\": {\n",
    "      \"entities\": [\n",
    "        {\n",
    "          \"idPattern\": \"gamepad.*\",\n",
    "          \"type\": \"gamepad\"\n",
    "        }\n",
    "      ],\n",
    "      \"condition\": {\n",
    "        \"attrs\": []\n",
    "      }\n",
    "    },\n",
    "    \"notification\": {\n",
    "      \"timesSent\": 2,\n",
    "      \"lastNotification\": \"2018-07-23T06:52:32.00Z\",\n",
    "      \"attrs\": [\n",
    "        \"button\"\n",
    "      ],\n",
    "      \"attrsFormat\": \"legacy\",\n",
    "      \"http\": {\n",
    "        \"url\": \"http://cygnus:5050/notify\"\n",
    "      },\n",
    "      \"lastSuccess\": \"2018-07-23T06:52:32.00Z\"\n",
    "    }\n",
    "  },\n",
    "  {\n",
    "    \"id\": \"5b557e456beb6f7908e15a2c\",\n",
    "    \"status\": \"active\",\n",
    "    \"subject\": {\n",
    "      \"entities\": [\n",
    "        {\n",
    "          \"idPattern\": \"gamepad.*\",\n",
    "          \"type\": \"gamepad\"\n",
    "        }\n",
    "      ],\n",
    "      \"condition\": {\n",
    "        \"attrs\": [\n",
    "          \"button\"\n",
    "        ]\n",
    "      }\n",
    "    },\n",
    "    \"notification\": {\n",
    "      \"timesSent\": 1,\n",
    "      \"lastNotification\": \"2018-07-23T07:05:41.00Z\",\n",
    "      \"attrs\": [\n",
    "        \"button\"\n",
    "      ],\n",
    "      \"attrsFormat\": \"normalized\",\n",
    "      \"http\": {\n",
    "        \"url\": \"http://cmd-proxy:8888/gamepad/\"\n",
    "      }\n",
    "    }\n",
    "  }\n",
    "]\n",
    "```"
   ]
  },
  {
   "cell_type": "markdown",
   "metadata": {},
   "source": [
    "## confirm the sent command to robot when pressed the button of gamepad"
   ]
  },
  {
   "cell_type": "markdown",
   "metadata": {},
   "source": [
    "### prepare a command to emulate gamepad action"
   ]
  },
  {
   "cell_type": "code",
   "execution_count": null,
   "metadata": {},
   "outputs": [],
   "source": [
    "d=$(date '+%Y-%m-%dT%H:%M:%S.%s+0900')\n",
    "echo \"mosquitto_pub -h ${HOST_IPADDR} -p 1883 -d -u iotagent -P ${MQTT__iotagent} -t /${GAMEPAD_TYPE}/${GAMEPAD_ID}/attrs -m \\\"${d}|button|triangle\\\"\""
   ]
  },
  {
   "cell_type": "markdown",
   "metadata": {},
   "source": [
    "### subscribe all topics"
   ]
  },
  {
   "cell_type": "code",
   "execution_count": null,
   "metadata": {},
   "outputs": [],
   "source": [
    "mosquitto_sub -h ${HOST_IPADDR} -p 1883 -d -u iotagent -P ${MQTT__iotagent} -t /#"
   ]
  },
  {
   "cell_type": "markdown",
   "metadata": {},
   "source": [
    "### emulate to press a gamepad button"
   ]
  },
  {
   "cell_type": "markdown",
   "metadata": {},
   "source": [
    "_Outside of this notebook_\n",
    "1. open a ternminal.\n",
    "1. run a command displayed `prepare a command to emulate gamepad action`.\n",
    "1. stop the `subscribe all topics` cell.\n",
    "\n",
    "when executing the command, show below message on subscriber cell.\n",
    "\n",
    "example)\n",
    "```\n",
    "Client mosqsub|39601-Nobuyukin received PUBLISH (d0, q0, r0, m0, '/gamepad/gamepad/attrs', ... (51 bytes))\n",
    "2018-07-18T18:52:23.1531907543+0900|button|triangle\n",
    "Client mosqsub|39601-Nobuyukin received PUBLISH (d0, q0, r0, m0, '/robot/turtlebot3/cmd', ... (24 bytes))\n",
    "turtlebot3@move|triangle\n",
    "```\n",
    "\n",
    "**`turtlebot3@move|triangle` was sent from cmd-proxy.**"
   ]
  },
  {
   "cell_type": "markdown",
   "metadata": {},
   "source": [
    "### confirm gamepad entity"
   ]
  },
  {
   "cell_type": "code",
   "execution_count": null,
   "metadata": {},
   "outputs": [],
   "source": [
    "TOKEN=$(cat ${PJ_ROOT}/secrets/auth-tokens.json | jq '.bearer_tokens[0].token' -r)\n",
    "curl -sS -H \"Authorization: bearer ${TOKEN}\" -H \"Fiware-Service: ${FIWARE_SERVICE}\" -H \"Fiware-ServicePath: ${GAMEPAD_SERVICEPATH}\" http://${HOST_IPADDR}:8080/orion/v2/entities/${GAMEPAD_ID}/ | jq ."
   ]
  },
  {
   "cell_type": "markdown",
   "metadata": {},
   "source": [
    "example)\n",
    "```json\n",
    "{\n",
    "  \"id\": \"gamepad\",\n",
    "  \"type\": \"gamepad\",\n",
    "  \"TimeInstant\": {\n",
    "    \"type\": \"ISO8601\",\n",
    "    \"value\": \"2018-07-18T18:52:23.1531907543+0900\",\n",
    "    \"metadata\": {}\n",
    "  },\n",
    "  \"button\": {\n",
    "    \"type\": \"string\",\n",
    "    \"value\": \"triangle\",\n",
    "    \"metadata\": {\n",
    "      \"TimeInstant\": {\n",
    "        \"type\": \"ISO8601\",\n",
    "        \"value\": \"2018-07-18T18:52:23.1531907543+0900\"\n",
    "      }\n",
    "    }\n",
    "  }\n",
    "}\n",
    "```"
   ]
  },
  {
   "cell_type": "markdown",
   "metadata": {},
   "source": [
    "### confirm robot entity"
   ]
  },
  {
   "cell_type": "code",
   "execution_count": null,
   "metadata": {},
   "outputs": [],
   "source": [
    "TOKEN=$(cat ${PJ_ROOT}/secrets/auth-tokens.json | jq '.bearer_tokens[0].token' -r)\n",
    "curl -sS -H \"Authorization: bearer ${TOKEN}\" -H \"Fiware-Service: ${FIWARE_SERVICE}\" -H \"Fiware-ServicePath: ${ROBOT_SERVICEPATH}\" http://${HOST_IPADDR}:8080/orion/v2/entities/${ROBOT_ID}/ | jq ."
   ]
  },
  {
   "cell_type": "markdown",
   "metadata": {},
   "source": [
    "`move_status` is `PENDING`\n",
    "\n",
    "example)\n",
    "```json\n",
    "{\n",
    "  \"id\": \"turtlebot3\",\n",
    "  \"type\": \"robot\",\n",
    "  \"TimeInstant\": {\n",
    "    \"type\": \"ISO8601\",\n",
    "    \"value\": \"2018-07-18T09:53:47.00Z\",\n",
    "    \"metadata\": {}\n",
    "  },\n",
    "  \"move_info\": {\n",
    "    \"type\": \"commandResult\",\n",
    "    \"value\": \"executed square command\",\n",
    "    \"metadata\": {\n",
    "      \"TimeInstant\": {\n",
    "        \"type\": \"ISO8601\",\n",
    "        \"value\": \"2018-07-18T09:15:26.616Z\"\n",
    "      }\n",
    "    }\n",
    "  },\n",
    "  \"move_status\": {\n",
    "    \"type\": \"commandStatus\",\n",
    "    \"value\": \"PENDING\",\n",
    "    \"metadata\": {\n",
    "      \"TimeInstant\": {\n",
    "        \"type\": \"ISO8601\",\n",
    "        \"value\": \"2018-07-18T09:53:47.817Z\"\n",
    "      }\n",
    "    }\n",
    "  },\n",
    "  \"theta\": {\n",
    "    \"type\": \"float32\",\n",
    "    \"value\": \"0.4\",\n",
    "    \"metadata\": {\n",
    "      \"TimeInstant\": {\n",
    "        \"type\": \"ISO8601\",\n",
    "        \"value\": \"2018-07-18T17:41:15.1531903275+0900\"\n",
    "      }\n",
    "    }\n",
    "  },\n",
    "  \"x\": {\n",
    "    \"type\": \"float32\",\n",
    "    \"value\": \"0.1\",\n",
    "    \"metadata\": {\n",
    "      \"TimeInstant\": {\n",
    "        \"type\": \"ISO8601\",\n",
    "        \"value\": \"2018-07-18T17:41:15.1531903275+0900\"\n",
    "      }\n",
    "    }\n",
    "  },\n",
    "  \"y\": {\n",
    "    \"type\": \"float32\",\n",
    "    \"value\": \"0.2\",\n",
    "    \"metadata\": {\n",
    "      \"TimeInstant\": {\n",
    "        \"type\": \"ISO8601\",\n",
    "        \"value\": \"2018-07-18T17:41:15.1531903275+0900\"\n",
    "      }\n",
    "    }\n",
    "  },\n",
    "  \"z\": {\n",
    "    \"type\": \"float32\",\n",
    "    \"value\": \"0.3\",\n",
    "    \"metadata\": {\n",
    "      \"TimeInstant\": {\n",
    "        \"type\": \"ISO8601\",\n",
    "        \"value\": \"2018-07-18T17:41:15.1531903275+0900\"\n",
    "      }\n",
    "    }\n",
    "  },\n",
    "  \"move\": {\n",
    "    \"type\": \"string\",\n",
    "    \"value\": \"\",\n",
    "    \"metadata\": {}\n",
    "  }\n",
    "}\n",
    "```"
   ]
  },
  {
   "cell_type": "markdown",
   "metadata": {},
   "source": [
    "### prepare a command to emulate receiving command result"
   ]
  },
  {
   "cell_type": "code",
   "execution_count": null,
   "metadata": {},
   "outputs": [],
   "source": [
    "echo \"mosquitto_pub -h ${HOST_IPADDR} -p 1883 -d -u iotagent -P ${MQTT__iotagent} -t /${ROBOT_TYPE}/${ROBOT_ID}/cmdexe -m \\\"${ROBOT_ID}@move|executed triangle command\\\"\""
   ]
  },
  {
   "cell_type": "markdown",
   "metadata": {},
   "source": [
    "### subscribe all topics"
   ]
  },
  {
   "cell_type": "code",
   "execution_count": null,
   "metadata": {},
   "outputs": [],
   "source": [
    "mosquitto_sub -h ${HOST_IPADDR} -p 1883 -d -u iotagent -P ${MQTT__iotagent} -t /#"
   ]
  },
  {
   "cell_type": "markdown",
   "metadata": {},
   "source": [
    "### send message to robot cmdexe topic"
   ]
  },
  {
   "cell_type": "markdown",
   "metadata": {},
   "source": [
    "_Outside of this notebook_\n",
    "1. open a ternminal.\n",
    "1. run a command displayed `prepare a command to emulate receiving command result`.\n",
    "1. stop the `subscribe all topics` cell.\n",
    "\n",
    "when executing the command, show below message on subscriber cell.\n",
    "example)\n",
    "```\n",
    "Client mosqsub|39703-Nobuyukin received PUBLISH (d0, q0, r0, m0, '/robot/turtlebot3/cmdexe', ... (41 bytes))\n",
    "turtlebot3@move|executed triangle command\n",
    "```"
   ]
  },
  {
   "cell_type": "markdown",
   "metadata": {},
   "source": [
    "### confirm robot entity"
   ]
  },
  {
   "cell_type": "code",
   "execution_count": null,
   "metadata": {},
   "outputs": [],
   "source": [
    "TOKEN=$(cat ${PJ_ROOT}/secrets/auth-tokens.json | jq '.bearer_tokens[0].token' -r)\n",
    "curl -sS -H \"Authorization: bearer ${TOKEN}\" -H \"Fiware-Service: ${FIWARE_SERVICE}\" -H \"Fiware-ServicePath: ${ROBOT_SERVICEPATH}\" http://${HOST_IPADDR}:8080/orion/v2/entities/${ROBOT_ID}/ | jq ."
   ]
  },
  {
   "cell_type": "markdown",
   "metadata": {},
   "source": [
    "`move_status` turns to `OK` and move_info has the result message\n",
    "\n",
    "example)\n",
    "```json\n",
    "{\n",
    "  \"id\": \"turtlebot3\",\n",
    "  \"type\": \"robot\",\n",
    "  \"TimeInstant\": {\n",
    "    \"type\": \"ISO8601\",\n",
    "    \"value\": \"2018-07-18T10:00:14.00Z\",\n",
    "    \"metadata\": {}\n",
    "  },\n",
    "  \"move_info\": {\n",
    "    \"type\": \"commandResult\",\n",
    "    \"value\": \"executed triangle command\",\n",
    "    \"metadata\": {\n",
    "      \"TimeInstant\": {\n",
    "        \"type\": \"ISO8601\",\n",
    "        \"value\": \"2018-07-18T10:00:14.978Z\"\n",
    "      }\n",
    "    }\n",
    "  },\n",
    "  \"move_status\": {\n",
    "    \"type\": \"commandStatus\",\n",
    "    \"value\": \"OK\",\n",
    "    \"metadata\": {\n",
    "      \"TimeInstant\": {\n",
    "        \"type\": \"ISO8601\",\n",
    "        \"value\": \"2018-07-18T10:00:14.978Z\"\n",
    "      }\n",
    "    }\n",
    "  },\n",
    "  \"theta\": {\n",
    "    \"type\": \"float32\",\n",
    "    \"value\": \"0.4\",\n",
    "    \"metadata\": {\n",
    "      \"TimeInstant\": {\n",
    "        \"type\": \"ISO8601\",\n",
    "        \"value\": \"2018-07-18T17:41:15.1531903275+0900\"\n",
    "      }\n",
    "    }\n",
    "  },\n",
    "  \"x\": {\n",
    "    \"type\": \"float32\",\n",
    "    \"value\": \"0.1\",\n",
    "    \"metadata\": {\n",
    "      \"TimeInstant\": {\n",
    "        \"type\": \"ISO8601\",\n",
    "        \"value\": \"2018-07-18T17:41:15.1531903275+0900\"\n",
    "      }\n",
    "    }\n",
    "  },\n",
    "  \"y\": {\n",
    "    \"type\": \"float32\",\n",
    "    \"value\": \"0.2\",\n",
    "    \"metadata\": {\n",
    "      \"TimeInstant\": {\n",
    "        \"type\": \"ISO8601\",\n",
    "        \"value\": \"2018-07-18T17:41:15.1531903275+0900\"\n",
    "      }\n",
    "    }\n",
    "  },\n",
    "  \"z\": {\n",
    "    \"type\": \"float32\",\n",
    "    \"value\": \"0.3\",\n",
    "    \"metadata\": {\n",
    "      \"TimeInstant\": {\n",
    "        \"type\": \"ISO8601\",\n",
    "        \"value\": \"2018-07-18T17:41:15.1531903275+0900\"\n",
    "      }\n",
    "    }\n",
    "  },\n",
    "  \"move\": {\n",
    "    \"type\": \"string\",\n",
    "    \"value\": \"\",\n",
    "    \"metadata\": {}\n",
    "  }\n",
    "}\n",
    "```"
   ]
  }
 ],
 "metadata": {
  "kernelspec": {
   "display_name": "Bash",
   "language": "bash",
   "name": "bash"
  },
  "language_info": {
   "codemirror_mode": "shell",
   "file_extension": ".sh",
   "mimetype": "text/x-sh",
   "name": "bash"
  }
 },
 "nbformat": 4,
 "nbformat_minor": 2
}
