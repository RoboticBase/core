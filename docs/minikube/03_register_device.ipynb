{
 "cells": [
  {
   "cell_type": "markdown",
   "metadata": {},
   "source": [
    "# 3 register device to fiware on minikube"
   ]
  },
  {
   "cell_type": "markdown",
   "metadata": {},
   "source": [
    "change ${PJ_ROOT} to your directory."
   ]
  },
  {
   "cell_type": "code",
   "execution_count": null,
   "metadata": {},
   "outputs": [],
   "source": [
    "export PJ_ROOT=\"${HOME}/roboticbase-core\"\n",
    "cd ${PJ_ROOT};pwd"
   ]
  },
  {
   "cell_type": "markdown",
   "metadata": {},
   "source": [
    "example)\n",
    "```\n",
    "/Users/user/roboticbase-core\n",
    "```"
   ]
  },
  {
   "cell_type": "markdown",
   "metadata": {},
   "source": [
    "## load environment variables"
   ]
  },
  {
   "cell_type": "code",
   "execution_count": null,
   "metadata": {},
   "outputs": [],
   "source": [
    "source ${PJ_ROOT}/docs/minikube/env"
   ]
  },
  {
   "cell_type": "markdown",
   "metadata": {},
   "source": [
    "## register gamepad service"
   ]
  },
  {
   "cell_type": "code",
   "execution_count": null,
   "metadata": {
    "scrolled": true
   },
   "outputs": [],
   "source": [
    "TOKEN=$(cat ${PJ_ROOT}/secrets/auth-tokens.json | jq '.bearer_tokens[0].token' -r)\n",
    "curl -H \"Authorization: bearer ${TOKEN}\" -H \"Fiware-Service: ${FIWARE_SERVICE}\" -H \"Fiware-ServicePath: ${GAMEPAD_SERVICEPATH}\" -H \"Content-Type: application/json\" http://${HOST_IPADDR}:8080/idas/ul20/manage/iot/services/ -X POST -d @- <<__EOS__\n",
    "{\n",
    "  \"services\": [\n",
    "    {\n",
    "      \"apikey\": \"${GAMEPAD_TYPE}\",\n",
    "      \"cbroker\": \"http://orion:1026\",\n",
    "      \"resource\": \"/iot/d\",\n",
    "      \"entity_type\": \"${GAMEPAD_TYPE}\"\n",
    "    }\n",
    "  ]\n",
    "}\n",
    "__EOS__"
   ]
  },
  {
   "cell_type": "markdown",
   "metadata": {},
   "source": [
    "expected)\n",
    "```json\n",
    "{}\n",
    "```"
   ]
  },
  {
   "cell_type": "markdown",
   "metadata": {},
   "source": [
    "### confirm registered service"
   ]
  },
  {
   "cell_type": "code",
   "execution_count": null,
   "metadata": {
    "scrolled": true
   },
   "outputs": [],
   "source": [
    "TOKEN=$(cat ${PJ_ROOT}/secrets/auth-tokens.json | jq '.bearer_tokens[0].token' -r)\n",
    "curl -sS -H \"Authorization: bearer ${TOKEN}\" -H \"Fiware-Service: ${FIWARE_SERVICE}\" -H \"Fiware-Servicepath: ${GAMEPAD_SERVICEPATH}\" http://${HOST_IPADDR}:8080/idas/ul20/manage/iot/services/ | jq ."
   ]
  },
  {
   "cell_type": "markdown",
   "metadata": {},
   "source": [
    "example)\n",
    "```json\n",
    "{\n",
    "  \"_id\": \"5b557a594fe5ae0001ffb5a5\",\n",
    "  \"subservice\": \"/gamepad\",\n",
    "  \"service\": \"fiwaredemo\",\n",
    "  \"apikey\": \"gamepad\",\n",
    "  \"resource\": \"/iot/d\",\n",
    "  \"attributes\": [],\n",
    "  \"lazy\": [],\n",
    "  \"commands\": [],\n",
    "  \"entity_type\": \"gamepad\",\n",
    "  \"internal_attributes\": [],\n",
    "  \"static_attributes\": []\n",
    "}\n",
    "```"
   ]
  },
  {
   "cell_type": "markdown",
   "metadata": {},
   "source": [
    "## register gamepad device"
   ]
  },
  {
   "cell_type": "code",
   "execution_count": null,
   "metadata": {},
   "outputs": [],
   "source": [
    "TOKEN=$(cat ${PJ_ROOT}/secrets/auth-tokens.json | jq '.bearer_tokens[0].token' -r)\n",
    "curl -H \"Authorization: bearer ${TOKEN}\" -H \"Fiware-Service: ${FIWARE_SERVICE}\" -H \"Fiware-ServicePath: ${GAMEPAD_SERVICEPATH}\" -H \"Content-Type: application/json\" http://${HOST_IPADDR}:8080/idas/ul20/manage/iot/devices/ -X POST -d @- <<__EOS__\n",
    "{\n",
    "  \"devices\": [\n",
    "    {\n",
    "      \"device_id\": \"${GAMEPAD_ID}\",\n",
    "      \"entity_name\": \"${GAMEPAD_ID}\",\n",
    "      \"entity_type\": \"${GAMEPAD_TYPE}\",\n",
    "      \"timezone\": \"Asia/Tokyo\",\n",
    "      \"protocol\": \"UL20\",\n",
    "      \"attributes\": [\n",
    "        {\n",
    "          \"name\": \"button\",\n",
    "          \"type\": \"string\"\n",
    "        }\n",
    "      ],\n",
    "      \"transport\": \"AMQP\"\n",
    "    }\n",
    "  ]\n",
    "}\n",
    "__EOS__"
   ]
  },
  {
   "cell_type": "markdown",
   "metadata": {},
   "source": [
    "expected)\n",
    "```json\n",
    "{}\n",
    "```"
   ]
  },
  {
   "cell_type": "markdown",
   "metadata": {},
   "source": [
    "### confirm registered device"
   ]
  },
  {
   "cell_type": "code",
   "execution_count": null,
   "metadata": {
    "scrolled": false
   },
   "outputs": [],
   "source": [
    "TOKEN=$(cat ${PJ_ROOT}/secrets/auth-tokens.json | jq '.bearer_tokens[0].token' -r)\n",
    "curl -sS -H \"Authorization: bearer ${TOKEN}\" -H \"Fiware-Service: ${FIWARE_SERVICE}\" -H \"Fiware-Servicepath: ${GAMEPAD_SERVICEPATH}\" http://${HOST_IPADDR}:8080/idas/ul20/manage/iot/devices/${GAMEPAD_ID}/ | jq ."
   ]
  },
  {
   "cell_type": "markdown",
   "metadata": {},
   "source": [
    "example)\n",
    "```json\n",
    "{\n",
    "  \"device_id\": \"gamepad\",\n",
    "  \"service\": \"fiwaredemo\",\n",
    "  \"service_path\": \"/gamepad\",\n",
    "  \"entity_name\": \"gamepad\",\n",
    "  \"entity_type\": \"gamepad\",\n",
    "  \"transport\": \"AMQP\",\n",
    "  \"attributes\": [\n",
    "    {\n",
    "      \"object_id\": \"button\",\n",
    "      \"name\": \"button\",\n",
    "      \"type\": \"string\"\n",
    "    }\n",
    "  ],\n",
    "  \"lazy\": [],\n",
    "  \"commands\": [],\n",
    "  \"static_attributes\": [],\n",
    "  \"protocol\": \"UL20\"\n",
    "}\n",
    "```"
   ]
  },
  {
   "cell_type": "code",
   "execution_count": null,
   "metadata": {},
   "outputs": [],
   "source": [
    "TOKEN=$(cat ${PJ_ROOT}/secrets/auth-tokens.json | jq '.bearer_tokens[0].token' -r)\n",
    "curl -sS -H \"Authorization: bearer ${TOKEN}\" -H \"Fiware-Service: ${FIWARE_SERVICE}\" -H \"Fiware-Servicepath: ${GAMEPAD_SERVICEPATH}\" http://${HOST_IPADDR}:8080/orion/v2/entities/${GAMEPAD_ID}/ | jq ."
   ]
  },
  {
   "cell_type": "markdown",
   "metadata": {},
   "source": [
    "example)\n",
    "```json\n",
    "{\n",
    "  \"id\": \"gamepad\",\n",
    "  \"type\": \"gamepad\",\n",
    "  \"TimeInstant\": {\n",
    "    \"type\": \"ISO8601\",\n",
    "    \"value\": \" \",\n",
    "    \"metadata\": {}\n",
    "  },\n",
    "  \"button\": {\n",
    "    \"type\": \"string\",\n",
    "    \"value\": \" \",\n",
    "    \"metadata\": {}\n",
    "  }\n",
    "}\n",
    "```"
   ]
  },
  {
   "cell_type": "markdown",
   "metadata": {},
   "source": [
    "### register `cygnus` as a subscriber of gamepad device"
   ]
  },
  {
   "cell_type": "code",
   "execution_count": null,
   "metadata": {},
   "outputs": [],
   "source": [
    "TOKEN=$(cat ${PJ_ROOT}/secrets/auth-tokens.json | jq '.bearer_tokens[0].token' -r)\n",
    "curl -i -H \"Authorization: bearer ${TOKEN}\" -H \"Fiware-Service: ${FIWARE_SERVICE}\" -H \"Fiware-ServicePath: ${GAMEPAD_SERVICEPATH}\" -H \"Content-Type: application/json\" http://${HOST_IPADDR}:8080/orion/v2/subscriptions/ -X POST -d @- <<__EOS__\n",
    "{\n",
    "  \"subject\": {\n",
    "    \"entities\": [{\n",
    "      \"idPattern\": \"${GAMEPAD_ID}.*\",\n",
    "      \"type\": \"${GAMEPAD_TYPE}\"\n",
    "    }]\n",
    "  },\n",
    "  \"notification\": {\n",
    "    \"http\": {\n",
    "      \"url\": \"http://cygnus:5050/notify\"\n",
    "    },\n",
    "    \"attrs\": [\"button\"],\n",
    "    \"attrsFormat\": \"legacy\"\n",
    "  }\n",
    "}\n",
    "__EOS__"
   ]
  },
  {
   "cell_type": "markdown",
   "metadata": {},
   "source": [
    "example)\n",
    "```\n",
    "HTTP/1.1 201 Created\n",
    "content-length: 0\n",
    "location: /v2/subscriptions/5b4ef3b44d2c226e03a34f7b\n",
    "fiware-correlator: b13811e4-8a60-11e8-8b4a-ae8577baef60\n",
    "date: Wed, 18 Jul 2018 08:00:52 GMT\n",
    "x-envoy-upstream-service-time: 3\n",
    "server: envoy\n",
    "```"
   ]
  },
  {
   "cell_type": "code",
   "execution_count": null,
   "metadata": {
    "scrolled": false
   },
   "outputs": [],
   "source": [
    "TOKEN=$(cat ${PJ_ROOT}/secrets/auth-tokens.json | jq '.bearer_tokens[0].token' -r)\n",
    "curl -sS -H \"Authorization: bearer ${TOKEN}\" -H \"Fiware-Service: ${FIWARE_SERVICE}\" -H \"Fiware-ServicePath: ${GAMEPAD_SERVICEPATH}\" http://${HOST_IPADDR}:8080/orion/v2/subscriptions/ | jq ."
   ]
  },
  {
   "cell_type": "markdown",
   "metadata": {},
   "source": [
    "example)\n",
    "```json\n",
    "[\n",
    "  {\n",
    "    \"id\": \"5b4ef5104d2c226e03a34f7c\",\n",
    "    \"status\": \"active\",\n",
    "    \"subject\": {\n",
    "      \"entities\": [\n",
    "        {\n",
    "          \"idPattern\": \"gamepad.*\",\n",
    "          \"type\": \"gamepad\"\n",
    "        }\n",
    "      ],\n",
    "      \"condition\": {\n",
    "        \"attrs\": []\n",
    "      }\n",
    "    },\n",
    "    \"notification\": {\n",
    "      \"timesSent\": 1,\n",
    "      \"lastNotification\": \"2018-07-18T08:06:40.00Z\",\n",
    "      \"attrs\": [\n",
    "        \"button\"\n",
    "      ],\n",
    "      \"attrsFormat\": \"legacy\",\n",
    "      \"http\": {\n",
    "        \"url\": \"http://cygnus:5050/notify\"\n",
    "      },\n",
    "      \"lastSuccess\": \"2018-07-18T08:06:40.00Z\"\n",
    "    }\n",
    "  }\n",
    "]\n",
    "```"
   ]
  },
  {
   "cell_type": "markdown",
   "metadata": {},
   "source": [
    "## register robot service"
   ]
  },
  {
   "cell_type": "code",
   "execution_count": null,
   "metadata": {},
   "outputs": [],
   "source": [
    "TOKEN=$(cat ${PJ_ROOT}/secrets/auth-tokens.json | jq '.bearer_tokens[0].token' -r)\n",
    "curl -H \"Authorization: bearer ${TOKEN}\" -H \"Fiware-Service: ${FIWARE_SERVICE}\" -H \"Fiware-ServicePath: ${ROBOT_SERVICEPATH}\" -H \"Content-Type: application/json\" http://${HOST_IPADDR}:8080/idas/ul20/manage/iot/services/ -X POST -d @- <<__EOS__\n",
    "{\n",
    "  \"services\": [\n",
    "    {\n",
    "      \"apikey\": \"${ROBOT_TYPE}\",\n",
    "      \"cbroker\": \"http://orion:1026\",\n",
    "      \"resource\": \"/iot/d\",\n",
    "      \"entity_type\": \"${ROBOT_TYPE}\"\n",
    "    }\n",
    "  ]\n",
    "}\n",
    "__EOS__"
   ]
  },
  {
   "cell_type": "markdown",
   "metadata": {},
   "source": [
    "expected)\n",
    "```json\n",
    "{}\n",
    "```"
   ]
  },
  {
   "cell_type": "markdown",
   "metadata": {},
   "source": [
    "### confirm registered service"
   ]
  },
  {
   "cell_type": "code",
   "execution_count": null,
   "metadata": {},
   "outputs": [],
   "source": [
    "TOKEN=$(cat ${PJ_ROOT}/secrets/auth-tokens.json | jq '.bearer_tokens[0].token' -r)\n",
    "curl -sS -H \"Authorization: bearer ${TOKEN}\" -H \"Fiware-Service: ${FIWARE_SERVICE}\" -H \"Fiware-Servicepath: ${ROBOT_SERVICEPATH}\" http://${HOST_IPADDR}:8080/idas/ul20/manage/iot/services/ | jq ."
   ]
  },
  {
   "cell_type": "markdown",
   "metadata": {},
   "source": [
    "example)\n",
    "```json\n",
    "{\n",
    "  \"_id\": \"5b557ac573d0e800012f2b86\",\n",
    "  \"subservice\": \"/robot\",\n",
    "  \"service\": \"fiwaredemo\",\n",
    "  \"apikey\": \"robot\",\n",
    "  \"resource\": \"/iot/d\",\n",
    "  \"attributes\": [],\n",
    "  \"lazy\": [],\n",
    "  \"commands\": [],\n",
    "  \"entity_type\": \"robot\",\n",
    "  \"internal_attributes\": [],\n",
    "  \"static_attributes\": []\n",
    "}\n",
    "```"
   ]
  },
  {
   "cell_type": "markdown",
   "metadata": {},
   "source": [
    "## register robot device"
   ]
  },
  {
   "cell_type": "code",
   "execution_count": null,
   "metadata": {},
   "outputs": [],
   "source": [
    "TOKEN=$(cat ${PJ_ROOT}/secrets/auth-tokens.json | jq '.bearer_tokens[0].token' -r)\n",
    "curl -H \"Authorization: bearer ${TOKEN}\" -H \"Fiware-Service: ${FIWARE_SERVICE}\" -H \"Fiware-ServicePath: ${ROBOT_SERVICEPATH}\" -H \"Content-Type: application/json\" http://${HOST_IPADDR}:8080/idas/ul20/manage/iot/devices/ -X POST -d @- <<__EOS__\n",
    "{\n",
    "  \"devices\": [\n",
    "    {\n",
    "      \"device_id\": \"${ROBOT_ID}\",\n",
    "      \"entity_name\": \"${ROBOT_ID}\",\n",
    "      \"entity_type\": \"${ROBOT_TYPE}\",\n",
    "      \"timezone\": \"Asia/Tokyo\",\n",
    "      \"protocol\": \"UL20\",\n",
    "      \"attributes\": [\n",
    "        {\n",
    "          \"name\": \"x\",\n",
    "          \"type\": \"float32\"\n",
    "        },\n",
    "        {\n",
    "          \"name\": \"y\",\n",
    "          \"type\": \"float32\"\n",
    "        },\n",
    "        {\n",
    "          \"name\": \"z\",\n",
    "          \"type\": \"float32\"\n",
    "        },\n",
    "        {\n",
    "          \"name\": \"theta\",\n",
    "          \"type\": \"float32\"\n",
    "        }\n",
    "      ],\n",
    "      \"commands\": [\n",
    "        {\n",
    "          \"name\": \"move\",\n",
    "          \"type\": \"string\"\n",
    "        }\n",
    "      ],\n",
    "      \"transport\": \"AMQP\"\n",
    "    }\n",
    "  ]\n",
    "}\n",
    "__EOS__"
   ]
  },
  {
   "cell_type": "markdown",
   "metadata": {},
   "source": [
    "expected)\n",
    "```json\n",
    "{}\n",
    "```"
   ]
  },
  {
   "cell_type": "markdown",
   "metadata": {},
   "source": [
    "### confirm registered device"
   ]
  },
  {
   "cell_type": "code",
   "execution_count": null,
   "metadata": {},
   "outputs": [],
   "source": [
    "TOKEN=$(cat ${PJ_ROOT}/secrets/auth-tokens.json | jq '.bearer_tokens[0].token' -r)\n",
    "curl -sS -H \"Authorization: bearer ${TOKEN}\" -H \"Fiware-Service: ${FIWARE_SERVICE}\" -H \"Fiware-Servicepath: ${ROBOT_SERVICEPATH}\" http://${HOST_IPADDR}:8080/idas/ul20/manage/iot/devices/${ROBOT_ID}/ | jq ."
   ]
  },
  {
   "cell_type": "markdown",
   "metadata": {},
   "source": [
    "example)\n",
    "```json\n",
    "{\n",
    "  \"device_id\": \"turtlebot3\",\n",
    "  \"service\": \"fiwaredemo\",\n",
    "  \"service_path\": \"/robot\",\n",
    "  \"entity_name\": \"turtlebot3\",\n",
    "  \"entity_type\": \"robot\",\n",
    "  \"transport\": \"AMQP\",\n",
    "  \"attributes\": [\n",
    "    {\n",
    "      \"object_id\": \"x\",\n",
    "      \"name\": \"x\",\n",
    "      \"type\": \"float32\"\n",
    "    },\n",
    "    {\n",
    "      \"object_id\": \"y\",\n",
    "      \"name\": \"y\",\n",
    "      \"type\": \"float32\"\n",
    "    },\n",
    "    {\n",
    "      \"object_id\": \"z\",\n",
    "      \"name\": \"z\",\n",
    "      \"type\": \"float32\"\n",
    "    },\n",
    "    {\n",
    "      \"object_id\": \"theta\",\n",
    "      \"name\": \"theta\",\n",
    "      \"type\": \"float32\"\n",
    "    }\n",
    "  ],\n",
    "  \"lazy\": [],\n",
    "  \"commands\": [\n",
    "    {\n",
    "      \"object_id\": \"move\",\n",
    "      \"name\": \"move\",\n",
    "      \"type\": \"string\"\n",
    "    }\n",
    "  ],\n",
    "  \"static_attributes\": [],\n",
    "  \"protocol\": \"UL20\"\n",
    "}\n",
    "```"
   ]
  },
  {
   "cell_type": "code",
   "execution_count": null,
   "metadata": {},
   "outputs": [],
   "source": [
    "TOKEN=$(cat ${PJ_ROOT}/secrets/auth-tokens.json | jq '.bearer_tokens[0].token' -r)\n",
    "curl -sS -H \"Authorization: bearer ${TOKEN}\" -H \"Fiware-Service: ${FIWARE_SERVICE}\" -H \"Fiware-Servicepath: ${ROBOT_SERVICEPATH}\" http://${HOST_IPADDR}:8080/orion/v2/entities/${ROBOT_ID}/ | jq ."
   ]
  },
  {
   "cell_type": "markdown",
   "metadata": {},
   "source": [
    "example)\n",
    "```json\n",
    "{\n",
    "  \"id\": \"turtlebot3\",\n",
    "  \"type\": \"robot\",\n",
    "  \"TimeInstant\": {\n",
    "    \"type\": \"ISO8601\",\n",
    "    \"value\": \" \",\n",
    "    \"metadata\": {}\n",
    "  },\n",
    "  \"move_info\": {\n",
    "    \"type\": \"commandResult\",\n",
    "    \"value\": \" \",\n",
    "    \"metadata\": {}\n",
    "  },\n",
    "  \"move_status\": {\n",
    "    \"type\": \"commandStatus\",\n",
    "    \"value\": \"UNKNOWN\",\n",
    "    \"metadata\": {}\n",
    "  },\n",
    "  \"theta\": {\n",
    "    \"type\": \"float32\",\n",
    "    \"value\": \" \",\n",
    "    \"metadata\": {}\n",
    "  },\n",
    "  \"x\": {\n",
    "    \"type\": \"float32\",\n",
    "    \"value\": \" \",\n",
    "    \"metadata\": {}\n",
    "  },\n",
    "  \"y\": {\n",
    "    \"type\": \"float32\",\n",
    "    \"value\": \" \",\n",
    "    \"metadata\": {}\n",
    "  },\n",
    "  \"z\": {\n",
    "    \"type\": \"float32\",\n",
    "    \"value\": \" \",\n",
    "    \"metadata\": {}\n",
    "  },\n",
    "  \"move\": {\n",
    "    \"type\": \"string\",\n",
    "    \"value\": \"\",\n",
    "    \"metadata\": {}\n",
    "  }\n",
    "}\n",
    "```"
   ]
  },
  {
   "cell_type": "markdown",
   "metadata": {},
   "source": [
    "### register `cygnus` as a subscriber of robot device"
   ]
  },
  {
   "cell_type": "code",
   "execution_count": null,
   "metadata": {},
   "outputs": [],
   "source": [
    "TOKEN=$(cat ${PJ_ROOT}/secrets/auth-tokens.json | jq '.bearer_tokens[0].token' -r)\n",
    "curl -i -H \"Authorization: bearer ${TOKEN}\" -H \"Fiware-Service: ${FIWARE_SERVICE}\" -H \"Fiware-ServicePath: ${ROBOT_SERVICEPATH}\" -H \"Content-Type: application/json\" http://${HOST_IPADDR}:8080/orion/v2/subscriptions/ -X POST -d @- <<__EOS__\n",
    "{\n",
    "  \"subject\": {\n",
    "    \"entities\": [{\n",
    "      \"idPattern\": \"${ROBOT_ID}.*\",\n",
    "      \"type\": \"${ROBOT_TYPE}\"\n",
    "    }]\n",
    "  },\n",
    "  \"notification\": {\n",
    "    \"http\": {\n",
    "      \"url\": \"http://cygnus:5050/notify\"\n",
    "    },\n",
    "    \"attrs\": [\"x\", \"y\", \"z\", \"theta\", \"move_status\", \"move_info\"],\n",
    "    \"attrsFormat\": \"legacy\"\n",
    "  }\n",
    "}\n",
    "__EOS__"
   ]
  },
  {
   "cell_type": "markdown",
   "metadata": {},
   "source": [
    "example)\n",
    "```\n",
    "HTTP/1.1 201 Created\n",
    "content-length: 0\n",
    "location: /v2/subscriptions/5b4ef3b44d2c226e03a34f7b\n",
    "fiware-correlator: b13811e4-8a60-11e8-8b4a-ae8577baef60\n",
    "date: Wed, 18 Jul 2018 08:00:52 GMT\n",
    "x-envoy-upstream-service-time: 3\n",
    "server: envoy\n",
    "```"
   ]
  },
  {
   "cell_type": "code",
   "execution_count": null,
   "metadata": {},
   "outputs": [],
   "source": [
    "TOKEN=$(cat ${PJ_ROOT}/secrets/auth-tokens.json | jq '.bearer_tokens[0].token' -r)\n",
    "curl -sS -H \"Authorization: bearer ${TOKEN}\" -H \"Fiware-Service: ${FIWARE_SERVICE}\" -H \"Fiware-ServicePath: ${ROBOT_SERVICEPATH}\" http://${HOST_IPADDR}:8080/orion/v2/subscriptions/ | jq ."
   ]
  },
  {
   "cell_type": "markdown",
   "metadata": {},
   "source": [
    "example)\n",
    "```json\n",
    "[\n",
    "  {\n",
    "    \"id\": \"5b4ef49847ebc6b99fae67dc\",\n",
    "    \"status\": \"active\",\n",
    "    \"subject\": {\n",
    "      \"entities\": [\n",
    "        {\n",
    "          \"idPattern\": \"turtlebot3.*\",\n",
    "          \"type\": \"robot\"\n",
    "        }\n",
    "      ],\n",
    "      \"condition\": {\n",
    "        \"attrs\": []\n",
    "      }\n",
    "    },\n",
    "    \"notification\": {\n",
    "      \"timesSent\": 1,\n",
    "      \"lastNotification\": \"2018-07-18T08:04:40.00Z\",\n",
    "      \"attrs\": [\n",
    "        \"x\",\n",
    "        \"y\",\n",
    "        \"z\",\n",
    "        \"theta\",\n",
    "        \"move_status\",\n",
    "        \"move_info\"\n",
    "      ],\n",
    "      \"attrsFormat\": \"legacy\",\n",
    "      \"http\": {\n",
    "        \"url\": \"http://cygnus:5050/notify\"\n",
    "      }\n",
    "    }\n",
    "  }\n",
    "]\n",
    "```"
   ]
  },
  {
   "cell_type": "markdown",
   "metadata": {},
   "source": [
    "## test subscribing the `button` attribute of `gamepad`"
   ]
  },
  {
   "cell_type": "markdown",
   "metadata": {},
   "source": [
    "### prepare a command to emulate gamepad action"
   ]
  },
  {
   "cell_type": "code",
   "execution_count": null,
   "metadata": {},
   "outputs": [],
   "source": [
    "d=$(date '+%Y-%m-%dT%H:%M:%S.%s+0900')\n",
    "echo \"mosquitto_pub -h ${HOST_IPADDR} -p 1883 -d -u iotagent -P ${MQTT__iotagent} -t /${GAMEPAD_TYPE}/${GAMEPAD_ID}/attrs -m \\\"${d}|button|circle\\\"\""
   ]
  },
  {
   "cell_type": "markdown",
   "metadata": {},
   "source": [
    "### subscribe all topics"
   ]
  },
  {
   "cell_type": "code",
   "execution_count": null,
   "metadata": {
    "scrolled": false
   },
   "outputs": [],
   "source": [
    "mosquitto_sub -h ${HOST_IPADDR} -p 1883 -d -u iotagent -P ${MQTT__iotagent} -t /#"
   ]
  },
  {
   "cell_type": "markdown",
   "metadata": {},
   "source": [
    "### send message to gamepad attribute topic"
   ]
  },
  {
   "cell_type": "markdown",
   "metadata": {},
   "source": [
    "_Outside of this notebook_\n",
    "1. open a ternminal.\n",
    "1. run a command displayed `prepare a command to emulate gamepad action`.\n",
    "1. stop the `subscribe all topics` cell.\n",
    "\n",
    "when executing the command, show below message on subscriber cell.\n",
    "example)\n",
    "```\n",
    "Client mosqsub|37715-Nobuyukin received PUBLISH (d0, q0, r0, m0, '/gamepad/gamepad/atrs', ... (49 bytes))\n",
    "2018-07-18T17:18:12.1531901892+0900|button|circle\n",
    "```"
   ]
  },
  {
   "cell_type": "markdown",
   "metadata": {},
   "source": [
    "### confirm gamepad entity"
   ]
  },
  {
   "cell_type": "code",
   "execution_count": null,
   "metadata": {},
   "outputs": [],
   "source": [
    "TOKEN=$(cat ${PJ_ROOT}/secrets/auth-tokens.json | jq '.bearer_tokens[0].token' -r)\n",
    "curl -sS -H \"Authorization: bearer ${TOKEN}\" -H \"Fiware-Service: ${FIWARE_SERVICE}\" -H \"Fiware-ServicePath: ${GAMEPAD_SERVICEPATH}\" http://${HOST_IPADDR}:8080/orion/v2/entities/${GAMEPAD_ID}/ | jq ."
   ]
  },
  {
   "cell_type": "markdown",
   "metadata": {},
   "source": [
    "example)\n",
    "```json\n",
    "{\n",
    "  \"id\": \"gamepad\",\n",
    "  \"type\": \"gamepad\",\n",
    "  \"TimeInstant\": {\n",
    "    \"type\": \"ISO8601\",\n",
    "    \"value\": \"2018-07-18T17:24:09.1531902249+0900\",\n",
    "    \"metadata\": {}\n",
    "  },\n",
    "  \"button\": {\n",
    "    \"type\": \"string\",\n",
    "    \"value\": \"circle\",\n",
    "    \"metadata\": {\n",
    "      \"TimeInstant\": {\n",
    "        \"type\": \"ISO8601\",\n",
    "        \"value\": \"2018-07-18T17:24:09.1531902249+0900\"\n",
    "      }\n",
    "    }\n",
    "  }\n",
    "}\n",
    "```"
   ]
  },
  {
   "cell_type": "markdown",
   "metadata": {},
   "source": [
    "### confirm cygnus"
   ]
  },
  {
   "cell_type": "code",
   "execution_count": null,
   "metadata": {
    "scrolled": true
   },
   "outputs": [],
   "source": [
    "kubectl exec mongodb-0 -c mongodb -- mongo sth_${FIWARE_SERVICE} --eval \"db.getCollection(\\\"sth_${GAMEPAD_SERVICEPATH}_${GAMEPAD_ID}_${GAMEPAD_TYPE}\\\").find()\""
   ]
  },
  {
   "cell_type": "markdown",
   "metadata": {},
   "source": [
    "example)\n",
    "```\n",
    "MongoDB shell version v3.6.6\n",
    "connecting to: mongodb://127.0.0.1:27017/sth_fiwaredemo\n",
    "MongoDB server version: 3.6.6\n",
    "{ \"_id\" : ObjectId(\"5b4ef9353e9f0f000a6271e1\"), \"recvTime\" : ISODate(\"2018-07-18T08:24:20.954Z\"), \"attrName\" : \"button\", \"attrType\" : \"string\", \"attrValue\" : \"circle\" }\n",
    "```"
   ]
  },
  {
   "cell_type": "markdown",
   "metadata": {},
   "source": [
    "## test subscribing the `x, y, z, theta` attributes of `robot`"
   ]
  },
  {
   "cell_type": "markdown",
   "metadata": {},
   "source": [
    "### prepare a command to emulate robot action"
   ]
  },
  {
   "cell_type": "code",
   "execution_count": null,
   "metadata": {},
   "outputs": [],
   "source": [
    "d=$(date '+%Y-%m-%dT%H:%M:%S.%s+0900')\n",
    "echo \"mosquitto_pub -h ${HOST_IPADDR} -p 1883 -d -u iotagent -P ${MQTT__iotagent} -t /${ROBOT_TYPE}/${ROBOT_ID}/attrs -m \\\"${d}|x|0.1|y|0.2|z|0.3|theta|0.4\\\"\""
   ]
  },
  {
   "cell_type": "markdown",
   "metadata": {},
   "source": [
    "### subscribe all topics"
   ]
  },
  {
   "cell_type": "code",
   "execution_count": null,
   "metadata": {
    "scrolled": false
   },
   "outputs": [],
   "source": [
    "mosquitto_sub -h ${HOST_IPADDR} -p 1883 -d -u iotagent -P ${MQTT__iotagent} -t /#"
   ]
  },
  {
   "cell_type": "markdown",
   "metadata": {},
   "source": [
    "### send message to robot attribute topic"
   ]
  },
  {
   "cell_type": "markdown",
   "metadata": {},
   "source": [
    "_Outside of this notebook_\n",
    "1. open a ternminal.\n",
    "1. run a command displayed `prepare a command to emulate gamepad action`.\n",
    "1. stop the `subscribe all topics` cell.\n",
    "\n",
    "when executing the command, show below message on subscriber cell.\n",
    "example)\n",
    "```\n",
    "Client mosqsub|37876-Nobuyukin received PUBLISH (d0, q0, r0, m0, '/robot/turtlebot3/attrs', ... (63 bytes))\n",
    "2018-07-18T17:41:15.1531903275+0900|x|0.1|y|0.2|z|0.3|theta|0.4\n",
    "```"
   ]
  },
  {
   "cell_type": "markdown",
   "metadata": {},
   "source": [
    "### confirm robot entity"
   ]
  },
  {
   "cell_type": "code",
   "execution_count": null,
   "metadata": {},
   "outputs": [],
   "source": [
    "TOKEN=$(cat ${PJ_ROOT}/secrets/auth-tokens.json | jq '.bearer_tokens[0].token' -r)\n",
    "curl -sS -H \"Authorization: bearer ${TOKEN}\" -H \"Fiware-Service: ${FIWARE_SERVICE}\" -H \"Fiware-ServicePath: ${ROBOT_SERVICEPATH}\" http://${HOST_IPADDR}:8080/orion/v2/entities/${ROBOT_ID}/ | jq ."
   ]
  },
  {
   "cell_type": "markdown",
   "metadata": {},
   "source": [
    "example)\n",
    "```json\n",
    "{\n",
    "  \"id\": \"turtlebot3\",\n",
    "  \"type\": \"robot\",\n",
    "  \"TimeInstant\": {\n",
    "    \"type\": \"ISO8601\",\n",
    "    \"value\": \"2018-07-18T17:41:15.1531903275+0900\",\n",
    "    \"metadata\": {}\n",
    "  },\n",
    "  \"move_info\": {\n",
    "    \"type\": \"commandResult\",\n",
    "    \"value\": \" \",\n",
    "    \"metadata\": {}\n",
    "  },\n",
    "  \"move_status\": {\n",
    "    \"type\": \"commandStatus\",\n",
    "    \"value\": \"UNKNOWN\",\n",
    "    \"metadata\": {}\n",
    "  },\n",
    "  \"theta\": {\n",
    "    \"type\": \"float32\",\n",
    "    \"value\": \"0.4\",\n",
    "    \"metadata\": {\n",
    "      \"TimeInstant\": {\n",
    "        \"type\": \"ISO8601\",\n",
    "        \"value\": \"2018-07-18T17:41:15.1531903275+0900\"\n",
    "      }\n",
    "    }\n",
    "  },\n",
    "  \"x\": {\n",
    "    \"type\": \"float32\",\n",
    "    \"value\": \"0.1\",\n",
    "    \"metadata\": {\n",
    "      \"TimeInstant\": {\n",
    "        \"type\": \"ISO8601\",\n",
    "        \"value\": \"2018-07-18T17:41:15.1531903275+0900\"\n",
    "      }\n",
    "    }\n",
    "  },\n",
    "  \"y\": {\n",
    "    \"type\": \"float32\",\n",
    "    \"value\": \"0.2\",\n",
    "    \"metadata\": {\n",
    "      \"TimeInstant\": {\n",
    "        \"type\": \"ISO8601\",\n",
    "        \"value\": \"2018-07-18T17:41:15.1531903275+0900\"\n",
    "      }\n",
    "    }\n",
    "  },\n",
    "  \"z\": {\n",
    "    \"type\": \"float32\",\n",
    "    \"value\": \"0.3\",\n",
    "    \"metadata\": {\n",
    "      \"TimeInstant\": {\n",
    "        \"type\": \"ISO8601\",\n",
    "        \"value\": \"2018-07-18T17:41:15.1531903275+0900\"\n",
    "      }\n",
    "    }\n",
    "  },\n",
    "  \"move\": {\n",
    "    \"type\": \"string\",\n",
    "    \"value\": \"\",\n",
    "    \"metadata\": {}\n",
    "  }\n",
    "}\n",
    "```"
   ]
  },
  {
   "cell_type": "markdown",
   "metadata": {},
   "source": [
    "### confirm cygnus"
   ]
  },
  {
   "cell_type": "code",
   "execution_count": null,
   "metadata": {
    "scrolled": true
   },
   "outputs": [],
   "source": [
    "OP_IN='$in'\n",
    "kubectl exec mongodb-0 -c mongodb -- mongo sth_${FIWARE_SERVICE} --eval \"db.getCollection(\\\"sth_${ROBOT_SERVICEPATH}_${ROBOT_ID}_${ROBOT_TYPE}\\\").find({attrName: {${OP_IN}:[\\\"x\\\", \\\"y\\\", \\\"z\\\", \\\"theta\\\"]}})\""
   ]
  },
  {
   "cell_type": "markdown",
   "metadata": {},
   "source": [
    "example)\n",
    "```\n",
    "MongoDB shell version v3.6.6\n",
    "connecting to: mongodb://127.0.0.1:27017/sth_fiwaredemo\n",
    "MongoDB server version: 3.6.6\n",
    "{ \"_id\" : ObjectId(\"5b4efd473e9f0f000a6271e3\"), \"recvTime\" : ISODate(\"2018-07-18T08:41:39.782Z\"), \"attrName\" : \"theta\", \"attrType\" : \"float32\", \"attrValue\" : \"0.4\" }\n",
    "{ \"_id\" : ObjectId(\"5b4efd473e9f0f000a6271e4\"), \"recvTime\" : ISODate(\"2018-07-18T08:41:39.782Z\"), \"attrName\" : \"x\", \"attrType\" : \"float32\", \"attrValue\" : \"0.1\" }\n",
    "{ \"_id\" : ObjectId(\"5b4efd473e9f0f000a6271e5\"), \"recvTime\" : ISODate(\"2018-07-18T08:41:39.782Z\"), \"attrName\" : \"y\", \"attrType\" : \"float32\", \"attrValue\" : \"0.2\" }\n",
    "{ \"_id\" : ObjectId(\"5b4efd473e9f0f000a6271e6\"), \"recvTime\" : ISODate(\"2018-07-18T08:41:39.782Z\"), \"attrName\" : \"z\", \"attrType\" : \"float32\", \"attrValue\" : \"0.3\" }\n",
    "```"
   ]
  },
  {
   "cell_type": "markdown",
   "metadata": {},
   "source": [
    "## test publishing the `move` command of `robot`"
   ]
  },
  {
   "cell_type": "markdown",
   "metadata": {},
   "source": [
    "### prepare a command to emulate sending command"
   ]
  },
  {
   "cell_type": "code",
   "execution_count": null,
   "metadata": {},
   "outputs": [],
   "source": [
    "TOKEN=$(cat ${PJ_ROOT}/secrets/auth-tokens.json | jq '.bearer_tokens[0].token' -r)\n",
    "echo -e \"curl -i -H \\\"Authorization: bearer ${TOKEN}\\\" -H \\\"Fiware-Service: ${FIWARE_SERVICE}\\\" -H \\\"Fiware-Servicepath: ${ROBOT_SERVICEPATH}\\\" -H \\\"Content-Type: application/json\\\" http://${HOST_IPADDR}:8080/orion/v1/updateContext -d @-<<__EOS__\n",
    "{\n",
    "  \\\"contextElements\\\": [\n",
    "    {\n",
    "      \\\"id\\\": \\\"${ROBOT_ID}\\\",\n",
    "      \\\"isPattern\\\": \\\"false\\\",\n",
    "      \\\"type\\\": \\\"${ROBOT_TYPE}\\\",\n",
    "      \\\"attributes\\\": [\n",
    "        {\n",
    "          \\\"name\\\": \\\"move\\\",\n",
    "          \\\"value\\\": \\\"square\\\"\n",
    "        }\n",
    "      ]\n",
    "    }\n",
    "  ],\n",
    "  \\\"updateAction\\\": \\\"UPDATE\\\"\n",
    "}\n",
    "__EOS__\""
   ]
  },
  {
   "cell_type": "markdown",
   "metadata": {},
   "source": [
    "### subscribe all topics"
   ]
  },
  {
   "cell_type": "code",
   "execution_count": null,
   "metadata": {
    "scrolled": true
   },
   "outputs": [],
   "source": [
    "mosquitto_sub -h ${HOST_IPADDR} -p 1883 -d -u iotagent -P ${MQTT__iotagent} -t /#"
   ]
  },
  {
   "cell_type": "markdown",
   "metadata": {},
   "source": [
    "### send message to robot endpoint"
   ]
  },
  {
   "cell_type": "markdown",
   "metadata": {},
   "source": [
    "_Outside of this notebook_\n",
    "1. open a ternminal.\n",
    "1. run a command displayed `prepare a command to emulate sending command`.\n",
    "1. stop the `subscribe all topics` cell.\n",
    "\n",
    "when executing the command, show below message on subscriber cell.\n",
    "example)\n",
    "```\n",
    "Client mosqsub|38414-Nobuyukin received PUBLISH (d0, q0, r0, m0, '/robot/turtlebot3/cmd', ... (22 bytes))\n",
    "turtlebot3@move|square\n",
    "```"
   ]
  },
  {
   "cell_type": "markdown",
   "metadata": {},
   "source": [
    "### confirm robot entity"
   ]
  },
  {
   "cell_type": "code",
   "execution_count": null,
   "metadata": {},
   "outputs": [],
   "source": [
    "TOKEN=$(cat ${PJ_ROOT}/secrets/auth-tokens.json | jq '.bearer_tokens[0].token' -r)\n",
    "curl -sS -H \"Authorization: bearer ${TOKEN}\" -H \"Fiware-Service: ${FIWARE_SERVICE}\" -H \"Fiware-ServicePath: ${ROBOT_SERVICEPATH}\" http://${HOST_IPADDR}:8080/orion/v2/entities/${ROBOT_ID}/ | jq ."
   ]
  },
  {
   "cell_type": "markdown",
   "metadata": {},
   "source": [
    "`move_status` is `PENDING`\n",
    "\n",
    "example)\n",
    "```json\n",
    "{\n",
    "  \"id\": \"turtlebot3\",\n",
    "  \"type\": \"robot\",\n",
    "  \"TimeInstant\": {\n",
    "    \"type\": \"ISO8601\",\n",
    "    \"value\": \"2018-07-18T09:07:28.00Z\",\n",
    "    \"metadata\": {}\n",
    "  },\n",
    "  \"move_info\": {\n",
    "    \"type\": \"commandResult\",\n",
    "    \"value\": \" \",\n",
    "    \"metadata\": {}\n",
    "  },\n",
    "  \"move_status\": {\n",
    "    \"type\": \"commandStatus\",\n",
    "    \"value\": \"PENDING\",\n",
    "    \"metadata\": {\n",
    "      \"TimeInstant\": {\n",
    "        \"type\": \"ISO8601\",\n",
    "        \"value\": \"2018-07-18T09:07:28.402Z\"\n",
    "      }\n",
    "    }\n",
    "  },\n",
    "  \"theta\": {\n",
    "    \"type\": \"float32\",\n",
    "    \"value\": \"0.4\",\n",
    "    \"metadata\": {\n",
    "      \"TimeInstant\": {\n",
    "        \"type\": \"ISO8601\",\n",
    "        \"value\": \"2018-07-18T17:41:15.1531903275+0900\"\n",
    "      }\n",
    "    }\n",
    "  },\n",
    "  \"x\": {\n",
    "    \"type\": \"float32\",\n",
    "    \"value\": \"0.1\",\n",
    "    \"metadata\": {\n",
    "      \"TimeInstant\": {\n",
    "        \"type\": \"ISO8601\",\n",
    "        \"value\": \"2018-07-18T17:41:15.1531903275+0900\"\n",
    "      }\n",
    "    }\n",
    "  },\n",
    "  \"y\": {\n",
    "    \"type\": \"float32\",\n",
    "    \"value\": \"0.2\",\n",
    "    \"metadata\": {\n",
    "      \"TimeInstant\": {\n",
    "        \"type\": \"ISO8601\",\n",
    "        \"value\": \"2018-07-18T17:41:15.1531903275+0900\"\n",
    "      }\n",
    "    }\n",
    "  },\n",
    "  \"z\": {\n",
    "    \"type\": \"float32\",\n",
    "    \"value\": \"0.3\",\n",
    "    \"metadata\": {\n",
    "      \"TimeInstant\": {\n",
    "        \"type\": \"ISO8601\",\n",
    "        \"value\": \"2018-07-18T17:41:15.1531903275+0900\"\n",
    "      }\n",
    "    }\n",
    "  },\n",
    "  \"move\": {\n",
    "    \"type\": \"string\",\n",
    "    \"value\": \"\",\n",
    "    \"metadata\": {}\n",
    "  }\n",
    "}\n",
    "```"
   ]
  },
  {
   "cell_type": "markdown",
   "metadata": {},
   "source": [
    "### prepare a command to emulate receiving command result"
   ]
  },
  {
   "cell_type": "code",
   "execution_count": null,
   "metadata": {},
   "outputs": [],
   "source": [
    "echo \"mosquitto_pub -h ${HOST_IPADDR} -p 1883 -d -u iotagent -P ${MQTT__iotagent} -t /${ROBOT_TYPE}/${ROBOT_ID}/cmdexe -m \\\"${ROBOT_ID}@move|executed square command\\\"\""
   ]
  },
  {
   "cell_type": "markdown",
   "metadata": {},
   "source": [
    "### subscribe all topics"
   ]
  },
  {
   "cell_type": "code",
   "execution_count": null,
   "metadata": {
    "scrolled": true
   },
   "outputs": [],
   "source": [
    "mosquitto_sub -h ${HOST_IPADDR} -p 1883 -d -u iotagent -P ${MQTT__iotagent} -t /#"
   ]
  },
  {
   "cell_type": "markdown",
   "metadata": {},
   "source": [
    "### send message to robot cmdexe topic"
   ]
  },
  {
   "cell_type": "markdown",
   "metadata": {},
   "source": [
    "_Outside of this notebook_\n",
    "1. open a ternminal.\n",
    "1. run a command displayed `prepare a command to emulate receiving command result`.\n",
    "1. stop the `subscribe all topics` cell.\n",
    "\n",
    "when executing the command, show below message on subscriber cell.\n",
    "example)\n",
    "```\n",
    "Client mosqsub|38486-Nobuyukin received PUBLISH (d0, q0, r0, m0, '/robot/turtlebot3/cmdexe', ... (39 bytes))\n",
    "turtlebot3@move|executed square command\n",
    "```"
   ]
  },
  {
   "cell_type": "markdown",
   "metadata": {},
   "source": [
    "### confirm robot entity"
   ]
  },
  {
   "cell_type": "code",
   "execution_count": null,
   "metadata": {},
   "outputs": [],
   "source": [
    "TOKEN=$(cat ${PJ_ROOT}/secrets/auth-tokens.json | jq '.bearer_tokens[0].token' -r)\n",
    "curl -sS -H \"Authorization: bearer ${TOKEN}\" -H \"Fiware-Service: ${FIWARE_SERVICE}\" -H \"Fiware-ServicePath: ${ROBOT_SERVICEPATH}\" http://${HOST_IPADDR}:8080/orion/v2/entities/${ROBOT_ID}/ | jq ."
   ]
  },
  {
   "cell_type": "markdown",
   "metadata": {},
   "source": [
    "`move_status` turns to `OK` and `move_info` has the result message\n",
    "\n",
    "example)\n",
    "```json\n",
    "{\n",
    "  \"id\": \"turtlebot3\",\n",
    "  \"type\": \"robot\",\n",
    "  \"TimeInstant\": {\n",
    "    \"type\": \"ISO8601\",\n",
    "    \"value\": \"2018-07-18T09:15:26.00Z\",\n",
    "    \"metadata\": {}\n",
    "  },\n",
    "  \"move_info\": {\n",
    "    \"type\": \"commandResult\",\n",
    "    \"value\": \"executed square command\",\n",
    "    \"metadata\": {\n",
    "      \"TimeInstant\": {\n",
    "        \"type\": \"ISO8601\",\n",
    "        \"value\": \"2018-07-18T09:15:26.616Z\"\n",
    "      }\n",
    "    }\n",
    "  },\n",
    "  \"move_status\": {\n",
    "    \"type\": \"commandStatus\",\n",
    "    \"value\": \"OK\",\n",
    "    \"metadata\": {\n",
    "      \"TimeInstant\": {\n",
    "        \"type\": \"ISO8601\",\n",
    "        \"value\": \"2018-07-18T09:15:26.616Z\"\n",
    "      }\n",
    "    }\n",
    "  },\n",
    "  \"theta\": {\n",
    "    \"type\": \"float32\",\n",
    "    \"value\": \"0.4\",\n",
    "    \"metadata\": {\n",
    "      \"TimeInstant\": {\n",
    "        \"type\": \"ISO8601\",\n",
    "        \"value\": \"2018-07-18T17:41:15.1531903275+0900\"\n",
    "      }\n",
    "    }\n",
    "  },\n",
    "  \"x\": {\n",
    "    \"type\": \"float32\",\n",
    "    \"value\": \"0.1\",\n",
    "    \"metadata\": {\n",
    "      \"TimeInstant\": {\n",
    "        \"type\": \"ISO8601\",\n",
    "        \"value\": \"2018-07-18T17:41:15.1531903275+0900\"\n",
    "      }\n",
    "    }\n",
    "  },\n",
    "  \"y\": {\n",
    "    \"type\": \"float32\",\n",
    "    \"value\": \"0.2\",\n",
    "    \"metadata\": {\n",
    "      \"TimeInstant\": {\n",
    "        \"type\": \"ISO8601\",\n",
    "        \"value\": \"2018-07-18T17:41:15.1531903275+0900\"\n",
    "      }\n",
    "    }\n",
    "  },\n",
    "  \"z\": {\n",
    "    \"type\": \"float32\",\n",
    "    \"value\": \"0.3\",\n",
    "    \"metadata\": {\n",
    "      \"TimeInstant\": {\n",
    "        \"type\": \"ISO8601\",\n",
    "        \"value\": \"2018-07-18T17:41:15.1531903275+0900\"\n",
    "      }\n",
    "    }\n",
    "  },\n",
    "  \"move\": {\n",
    "    \"type\": \"string\",\n",
    "    \"value\": \"\",\n",
    "    \"metadata\": {}\n",
    "  }\n",
    "}\n",
    "```"
   ]
  },
  {
   "cell_type": "markdown",
   "metadata": {},
   "source": [
    "### confirm cygnus"
   ]
  },
  {
   "cell_type": "code",
   "execution_count": null,
   "metadata": {
    "scrolled": true
   },
   "outputs": [],
   "source": [
    "OP_IN='$in'\n",
    "OP_AND='$and'\n",
    "OP_NE='$ne'\n",
    "kubectl exec mongodb-0 -c mongodb -- mongo sth_${FIWARE_SERVICE} --eval \"db.getCollection(\\\"sth_${ROBOT_SERVICEPATH}_${ROBOT_ID}_${ROBOT_TYPE}\\\").find({${OP_AND}: [{attrName: {${OP_IN}:[\\\"move_status\\\", \\\"move_info\\\"]}}, {attrValue:{${OP_NE}:\\\"UNKNOWN\\\"}}]})\""
   ]
  },
  {
   "cell_type": "markdown",
   "metadata": {},
   "source": [
    "example)\n",
    "```\n",
    "MongoDB shell version v3.6.6\n",
    "connecting to: mongodb://127.0.0.1:27017/sth_fiwaredemo\n",
    "MongoDB server version: 3.6.6\n",
    "{ \"_id\" : ObjectId(\"5b4f0350871cc3000a65cafe\"), \"recvTime\" : ISODate(\"2018-07-18T09:07:28.402Z\"), \"attrName\" : \"move_status\", \"attrType\" : \"commandStatus\", \"attrValue\" : \"PENDING\" }\n",
    "{ \"_id\" : ObjectId(\"5b4f05303e9f0f000a6271e7\"), \"recvTime\" : ISODate(\"2018-07-18T09:15:26.616Z\"), \"attrName\" : \"move_info\", \"attrType\" : \"commandResult\", \"attrValue\" : \"executed square command\" }\n",
    "{ \"_id\" : ObjectId(\"5b4f05303e9f0f000a6271e8\"), \"recvTime\" : ISODate(\"2018-07-18T09:15:26.616Z\"), \"attrName\" : \"move_status\", \"attrType\" : \"commandStatus\", \"attrValue\" : \"OK\" }\n",
    "```"
   ]
  }
 ],
 "metadata": {
  "kernelspec": {
   "display_name": "Bash",
   "language": "bash",
   "name": "bash"
  },
  "language_info": {
   "codemirror_mode": "shell",
   "file_extension": ".sh",
   "mimetype": "text/x-sh",
   "name": "bash"
  }
 },
 "nbformat": 4,
 "nbformat_minor": 2
}
